{
 "cells": [
  {
   "cell_type": "markdown",
   "id": "49a2929b",
   "metadata": {
    "papermill": {
     "duration": 0.022368,
     "end_time": "2024-05-05T20:16:30.708285",
     "exception": false,
     "start_time": "2024-05-05T20:16:30.685917",
     "status": "completed"
    },
    "tags": []
   },
   "source": [
    "# ***Text Analytics of Azerbaijani blogs***"
   ]
  },
  {
   "cell_type": "markdown",
   "id": "b1096ff7",
   "metadata": {
    "papermill": {
     "duration": 0.021299,
     "end_time": "2024-05-05T20:16:30.750956",
     "exception": false,
     "start_time": "2024-05-05T20:16:30.729657",
     "status": "completed"
    },
    "tags": []
   },
   "source": [
    "In this notebook, we explore the text corpus containing 50 documents. The documents contains azerbaijani blogs and are scrached from webstie kayzen.az by aznlp.\n",
    "\n",
    "*Dataset can be found at:\n",
    "Reference [https://huggingface.co/datasets/aznlp/azerbaijani-blogs?library=true]*"
   ]
  },
  {
   "cell_type": "markdown",
   "id": "564a265a",
   "metadata": {
    "papermill": {
     "duration": 0.021981,
     "end_time": "2024-05-05T20:16:30.795155",
     "exception": false,
     "start_time": "2024-05-05T20:16:30.773174",
     "status": "completed"
    },
    "tags": []
   },
   "source": [
    "# Loading data and required libraries"
   ]
  },
  {
   "cell_type": "markdown",
   "id": "515d6353",
   "metadata": {
    "papermill": {
     "duration": 0.022006,
     "end_time": "2024-05-05T20:16:30.839110",
     "exception": false,
     "start_time": "2024-05-05T20:16:30.817104",
     "status": "completed"
    },
    "tags": []
   },
   "source": [
    "Let's start by suppressing the wranings"
   ]
  },
  {
   "cell_type": "code",
   "execution_count": 1,
   "id": "412c879f",
   "metadata": {
    "execution": {
     "iopub.execute_input": "2024-05-05T20:16:30.887427Z",
     "iopub.status.busy": "2024-05-05T20:16:30.884748Z",
     "iopub.status.idle": "2024-05-05T20:16:32.220220Z",
     "shell.execute_reply": "2024-05-05T20:16:32.218340Z"
    },
    "papermill": {
     "duration": 1.362378,
     "end_time": "2024-05-05T20:16:32.223028",
     "exception": false,
     "start_time": "2024-05-05T20:16:30.860650",
     "status": "completed"
    },
    "tags": []
   },
   "outputs": [],
   "source": [
    "\n",
    "suppressPackageStartupMessages({\n",
    "  library(tm)\n",
    "  library(tidyverse)\n",
    "  library(wordcloud)\n",
    "  library(RColorBrewer)\n",
    "  library(syuzhet)\n",
    "\n",
    "})\n"
   ]
  },
  {
   "cell_type": "code",
   "execution_count": 2,
   "id": "0e890cf2",
   "metadata": {
    "execution": {
     "iopub.execute_input": "2024-05-05T20:16:32.300173Z",
     "iopub.status.busy": "2024-05-05T20:16:32.267729Z",
     "iopub.status.idle": "2024-05-05T20:16:32.351128Z",
     "shell.execute_reply": "2024-05-05T20:16:32.349326Z"
    },
    "papermill": {
     "duration": 0.109199,
     "end_time": "2024-05-05T20:16:32.353645",
     "exception": false,
     "start_time": "2024-05-05T20:16:32.244446",
     "status": "completed"
    },
    "tags": []
   },
   "outputs": [
    {
     "data": {
      "text/html": [
       "<style>\n",
       ".list-inline {list-style: none; margin:0; padding: 0}\n",
       ".list-inline>li {display: inline-block}\n",
       ".list-inline>li:not(:last-child)::after {content: \"\\00b7\"; padding: 0 .5ex}\n",
       "</style>\n",
       "<ol class=list-inline><li>'azerbaijani_blogs.csv'</li><li>'stopwords-az.txt'</li></ol>\n"
      ],
      "text/latex": [
       "\\begin{enumerate*}\n",
       "\\item 'azerbaijani\\_blogs.csv'\n",
       "\\item 'stopwords-az.txt'\n",
       "\\end{enumerate*}\n"
      ],
      "text/markdown": [
       "1. 'azerbaijani_blogs.csv'\n",
       "2. 'stopwords-az.txt'\n",
       "\n",
       "\n"
      ],
      "text/plain": [
       "[1] \"azerbaijani_blogs.csv\" \"stopwords-az.txt\"     "
      ]
     },
     "metadata": {},
     "output_type": "display_data"
    }
   ],
   "source": [
    "# metapackage of all tidyverse packages\n",
    "library(tidyverse)\n",
    "\n",
    "list.files(path = \"../input/azerbaijani-blogs\")"
   ]
  },
  {
   "cell_type": "code",
   "execution_count": 3,
   "id": "91fd4b6d",
   "metadata": {
    "execution": {
     "iopub.execute_input": "2024-05-05T20:16:32.400855Z",
     "iopub.status.busy": "2024-05-05T20:16:32.399207Z",
     "iopub.status.idle": "2024-05-05T20:16:33.698003Z",
     "shell.execute_reply": "2024-05-05T20:16:33.694889Z"
    },
    "papermill": {
     "duration": 1.330709,
     "end_time": "2024-05-05T20:16:33.706081",
     "exception": false,
     "start_time": "2024-05-05T20:16:32.375372",
     "status": "completed"
    },
    "tags": []
   },
   "outputs": [
    {
     "data": {
      "text/html": [
       "<table class=\"dataframe\">\n",
       "<caption>A data.frame: 1 × 8</caption>\n",
       "<thead>\n",
       "\t<tr><th></th><th scope=col>Unnamed..0</th><th scope=col>url</th><th scope=col>title</th><th scope=col>author</th><th scope=col>category</th><th scope=col>date</th><th scope=col>content</th><th scope=col>tags</th></tr>\n",
       "\t<tr><th></th><th scope=col>&lt;int&gt;</th><th scope=col>&lt;chr&gt;</th><th scope=col>&lt;chr&gt;</th><th scope=col>&lt;chr&gt;</th><th scope=col>&lt;chr&gt;</th><th scope=col>&lt;chr&gt;</th><th scope=col>&lt;chr&gt;</th><th scope=col>&lt;chr&gt;</th></tr>\n",
       "</thead>\n",
       "<tbody>\n",
       "\t<tr><th scope=row>50</th><td>49</td><td>https://kayzen.az/blog/politologiya/27776/ssri-1960-c%C4%B1-ill%C9%99rin-ikinci-yarisi-1980-ci-ill%C9%99rin-ortalarinda.html</td><td> SSRİ 1960-cı İLLƏRİN İKİNCİ YARISI -1980-ci İLLƏRİN ORTALARINDA</td><td>gunelb</td><td>Tarix və politologiya</td><td>28 fevral 2023, 00:10</td><td>\n",
       "İctimai-siyasi həyat\n",
       "N.S.Xruşşovun istefası ilə onun başladığı ictimai-siyasi həyatın liberallaşması prosesinin dəyişiklikləri dayandı. N.S.Xruşşovun istefasının təşəbbüskarı və təşkilatçılardan biri olan L.İ.Brejnev Sov.İKP MK-nın birinci katibi (1966-cı ildən Baş katibi) seçildi. Brejnev Leonid İliç (1906-1982) Yekaterinoslav quberniyasının Kamensk qəsəbəsində fəhlə ailəsində doğulmuşdur. 1935-ci ildə Metallurgiya İnstitutunu bitirmiş, 1939-cu ildən partiya işinə keçmişdir. Böyük Vətən müharibəsində siyasi işçi kimi iştirak edərək general-mayor rütbəsində 4-cü Ukrayna cəbhəsinin siyasi idarəsinin rəisi olmuşdur.  Qazaxıstan KP MK-nın birinci katibi kimi xam torpaqların mənimsənilməsində iştirak etmiş, 1960-cı ildən SSRİ Ali Soveti Rəyasət Heyətinin sədri seçilmişdir. N.S.Xruşşovun istefasının təşkilatçılarından biri olan L.İ.Brejnev 1964-cü ilin oktyabrın 14-də Sov.İKP MK-nın birinci katibi seçildi. Yeni birinci katib yumşaq, təvazökar, protokol qaydalarına ciddi əməl edən partiya rəhbəri kimi tarixə düşmüşdür. Xüsusilə ömrünün son illərində təntənəyə, təltiflərə, tərifə aludə olan L.Brejnevin dörd dəfə Sovet İttifaqı Qəhrəmanı, Sovet İttifaqı Marşalı, SSRİ Ali Soveti Rəyasət Heyətinin sədri, Müdafiə Şurasının sədri adları və vəzifələrinə sahib olmuşdur. Hakimiyyətdə olduğu müddətdə L.Brej-nev 114 dəfə SSRİ-nin Ali dövlət mükafatı ilə təltif edilmişdir. Onun ünvanına yağan tərif və təltiflər uzun müddət sovet cəmiyyətində istehza və rişxəndlə qarşılanmışdır. Eyni zamanda çox ehtiyatlı və mühafizəkar bir şəxs olan L.İ.Brejnev cəmiyyətdə sabitliyin təmin edilməsinə xüsusi önəm verirdi.\n",
       "SSRİ Nazirlər Sovetinin sədri təyin edilən A.Kosıgin, Xarkov vilayət partiya komitəsinin sabiq katibi, Mərkəzi Komitənin kadr məsələsi üzrə katibi olan N.Podqornı, Rəyasət Heyətinin tərkibinə daxil edilən P.Şelest, MK-nın katibi, Partiya Nəzarət Komitəsinin sədri, Nazirlər Sovetinin sədr müavini N.Şelepin və Rəyasət Heyətinin üzvü, ideologiya sahəsində məsul şəxs M.Sus-lov yeni hakimiyyətin nüvəsini təşkil edirdilər. 1964-cü ildəki noyabr Plenumu N.S.Xruşşovun dövründə sənaye və kənd partiya təşkilatlarına bölünən orqanları bütün səviyyələrdə, o cümlədən sovet, həmkarlar, komsomol təşkilatlarının vahid təşkilatlarda birləşmələrini qərara aldı. 1964-cü ilin dekabrından başlayaraq diyar, vilayət və rayon komitələri bərpa edildi. 1965-ci ildə xalq təsərrüfatı şuraları ləğv olundu və iqtisadiyyatın sahələr üzrə idarə edilmə prinsipi bərpa edildi. 1966-cı ildə Sov.İKP-nin XXIII qurultayında N.S.Xruş-şovun şəxsi təşəbbüsü ilə partiyanın Nizamnaməsinə daxil edilən seçkili partiya orqanları rəhbərlərinin vaxtaşırı məcburi dəyişdirilməsi qaydası Nizamnamədən çıxarıldı. İ.Stalin dövrünün qorxusu və N.Xruşşov dövrünün saysız-hesabsız yenilikləri ilə ümidsizliyə qapılan partiya aparatı yeni hakimiyyətin partnomenkla-turanı şəriksiz hakimiyyətə qovuşdurmasını sevinclə qarşıladı. L.İ.Brejnev XXIII qurultayda Baş katib seçildi, Mərkəzi Komitənin Rəyasət Heyəti yenidən Siyasi Büro adlandırıldı. Mərkəzi Komitənin üzvlərinin sayı 1966-cı ildəki 300 nəfərdən 10 il ərzində 40% artaraq 420 nəfərə çatdı. Şəxsi sədaqətin və başda duran rəhbərə danışıqsız tabe olmaq vərdişlərinin işçinin qabiliyyətindən ön plana keçdiyi 70-ci illərdə özünəməxsus «sovet feodalizmi»n xatırladan partiya ailəçiliyi yüksək həddə çatmışdı. Buna qarşı İ.Stalin dövlət terroru, N.S.Xruşşov isə qanuni vasitələrlə uzun müddət mübarizə aparmışdır.\n",
       "\n",
       "Ölkənin yeni rəhbərləri Sov.İKP MK-nın birinci katibi L.Brejnev ilə SSRİ Nazirlər Sovetinin sədri A.Kosıgin arasında iqtisadi strategiyanın müəyyən edilməsində fikir ayrılığı mövcud idi. L.Brejnev ilk olaraq kənd təsərrüfatı, ağır sənaye, müdafiənin, 1972-ci ildən isə «Sibirin mənimsənilməsinin» tərəfdarı idi. Hökumətin başçısı A.Kosıgin vətəndaşların həyat səviyyəsinin yüksəldilməsinin əsası olan yüngül sənayeni ön plana çəkirdi. Kosıgin Aleksey Nikolayeviç (1904-1980) Peterburqda fəhlə ailəsində doğulmuşdur. Vətəndaş müharibəsi illərində Qızıl Ordu sıralarında xidmət etmiş, Leninqrad Toxuculuq İnstitutunu bitirmişdir. 1940-1946-cı illərdə SSRİ XKS sədrinin müavini kimi müəssisələrin şərqə köçürülməsi və orada ölkənin sənaye bazasının yaradılması işinə rəhbərlik etmişdir. Maliyyə, yüngül və ərzaq sənayesi nazirləri, SSRİ Dövlət Plan Komitəsinin sədri vəzifələrində çalışmışdır. 1964-1980-ci illərdə SSRİ Nazirlər Sovetinin sədri, Sov.İKP MK Siyasi Bürosunun üzvü olmuşdur.\n",
       "\n",
       "İqtisadi srategiyanın müəyyən edilməsində olduğu kimi, siyasi məsələlərin həlli yolunda da partiya rəhbərliyi arasında fikir ayrılığı və çəkişmələr qalırdı. Siyasi məsələlərin həllinə mühafizəkar münasibətin tərəfdarları L.Brejnev və özünü partiyalılıq prinsipinə söykənən təmiz sovet ideologiyasının qoruyucusu kimi təqdim edən M.Suslov idi. Onların belə mühafizəkar mövqeyi 70-ci illərin ikinci yarısında daha da güclənərək A.Kosıginin texnokrat istiqamətli tədbirlərinin məhdudlaşdırılmasına, bəzi partiya liderlərinin mövqelərinin zəiflədilməsinə yönəldi. Partiya və dövlətin üst qatlarında yerləşən rəhbər kadrların iddia və vəzifə çəkişmələri 1965-ci ilin sonuna doğru N.Xruşşovun istefaya göndərilməsinin təşkilatçılarından olan N.Podqornı və A.Şelepinin mövqeyinin xeyli zəifləməsi ilə müşayiət olundu. A.Şelepin Mərkəzi Həmkarlar Şurasının sədri təyin edilərək, əslində dövlət hakimiyyətindən uzaqlaşdırılmış oldu. N.Podqornı isə fəxri kürsü hesab edilən SSRİ Ali Sovetinin sədri seçildi. A.N.Şelepinin komsomol yoldaşı, onu DTK-nın başçısı vəzifəsində əvəz etmiş V.S.Semiçastnı 1967-ci ilin martında Stalinin qızı Svetlana Alliluyevanın daimi yaşamaq məqsədi ilə Qərbdə qaldığı səbəbi ilə vəzifəsini itirdi.\n",
       "\n",
       "1966-cı ilin aprelində Sov.İKP-nin XXIII qurultayında Baş katib seçildikdən sonra L.İ.Brejnev müharibəyə qədər siyasi fəaliyyətə başladığı Dnepropet-rovskidən olan kadrları öz ətrafına yığmağa başladı. 1966-cı ildə N.Podqornını Mərkəzi Komitənin katibi vəzifəsində «dnepropetrovsk qruplaşması»na daxil olan A.P.Kirilenko əvəz etdi. L.Brejnevə yaxın olan K.U.Çernenko, V.V.Şerbitski, D.A.Kunayev, N.A.Şelokov mühüm vəzifələrə təyin edildilər.\n",
       "Ağır sənaye, hərbi sənaye kompleksi və müdafiənin inkişafına üstünlük verən L.Brejnevin həyata keçirdiyi tədbirləri hərbçilər müdafiə edirdi. 1966-cı ilin əvvəllərində hərbçilər elan edilən azalan hərbi xərclərin yenidən baxılmasına nail oldular. Müdafiə sənayesinə rəhbərlik edən general D.F.Ustinov Mərkəzi Komitə Siyasi Bürosunun üzv namizədliyinə və Katibliyin tərkibinə daxil edildi. 1967-ci ilin martında Müdafiə Naziri P.Y.Malinovski vəfat etdikdən sonra bu vəzifəyə hərbçilərin təkidi ilə A.A.Qreçko təyin olundu. Yalnız onun ölümündən sonra 1976-cı ilin aprelində D. Ustinov müdafiə naziri təyin edildi. 1976-cı il mayın 7-də L.İ.Brejnev Sovet İttifaqı Marşalı oldu. Əslində bu partiya liderinin hərbçilərin rəhbəri ilə işbirliyinin nəticəsi idi. İki gün keçdikdən sonra Dnepropetrovsk əhalisi öz həmyerlisinin əzəmətli heykəlinin açılışında iştirak etdi.\n",
       "70-ci illərdə tamamilə aydın oldu ki, 1961-ci ildə Sov.İKP Proqramında elan edilən kommunizm quruculuğu konsepsiyası, həqiqətdən, çox uzaq olub, daha çox mifə bənzəyir. Odur ki, sovet rəhbərliyi kommunizm quruculuğu və dövlətin ölüb getməsi yerinə hətta marksizm-leninizm klassiklərinin əsərlərində olmayan inkişaf etmiş sosializm konsepsiyası irəli sürdü. 1966-cı ilin dekabrın 21-də F.M.Burlatski «Pravda» qəzetində «İnkişaf etmiş sosializm cəmiyyəti quruculuğuna dair» məqalə çap etdirmişdir. 1967-ci ildə Oktyabr inqilabının 50 illyi ilə əlaqədar nitqində L.İ.Brejnev elan etdi ki, SSRİ-də artıq inkişaf etmiş sosializm cəmiyyəti qurulmuşdur. Bu yeni anlayış nəzəriyyə ilə həyat arasındakı uçurumu xeyli azaldaraq uzun bir tarixi mərhələni əhatə etməklə kommunizm quruculuğunu, dövlətin ölüb getməsini sonu bəlli olmayan uzaq gələcəyə istiqamətləndirirdi. 1977-ci il oktyabrın 7-də qəbul edilən Sovet Sosialist Respublikalar İttifaqının Konstitusiyası (Əsas Qanun) SSRİ-də inkişaf etmiş sosializmin qurulduğunu təsbit etdi. 1977-ci il L.İ.Brejnev Konstitusiyası girişdən, 9 bölmədən, 21 fəsildən, 174 maddədən ibarətdir. Müqayisə üçün qeyd edək ki, 1936-cı il Konstitusiyasının yalnız 13 fəsli, 146 maddəsi var idi.\n",
       "\n",
       "Yeni Sovet Konstitusiyası elan etdi ki, SSRİ artıq proletariat diktaturası dövləti olmayıb «fəhlələrin, kəndlilərin və ziyalıların, ölkənin bütün millət və xalqlarının zəhmətkeşlərinin iradəsini və mənafeyini ifadə edən ümumxalq sosialist dövlətidir». Sovet dövlətinin ümumxalq xarakteri sovetlərin yeni xalq deputatları sovetləri adında öz əksini tapmışdır. Bütün hakimiyyətin SSRİ-nin siyasi əsasını təşkil edən xalq deputatları sovetlərinə məxsus olması təsbit edilsə də, real olaraq bütün səviyyələrdə sovetlərin əslində heç bir hakimiyyəti yox idi, onlar yalnız partiya orqanlarının göstəriş və qərarlarını yerinə yetirirdilər. Konstitusiyanın 6-cı maddəsində inkişaf etmiş sosializm cəmiyyətinin siyasi sisteminin özəyi olan Kommunist Partiyasının rəhbər və istiqamətverici rolu rəsmi olaraq qanunvericilik yolu ilə təsbit edilmişdi. Bu rəsmi təsbit əslində ictimai həyatın bütün sahələrində hakim rol oynayan partiya aparatının mövqeyinin formal olaraq möhkəmlənməsi idi.\n",
       "Konstitusiyada qeyd olunan əsas yenilik inkişaf etmiş sosializmin qurulmasının təsbit edilməsi və «ümumxalq dövləti»nin yaradılmasının elan edilməsidir. Beləliklə, dövlətin ölüb-getməsi qeyri-müəyyən vaxta təxirə salınaraq əsas diqqət qanunçuluğun və hüquq qaydalarının hərtərəfli möhkəmləndirilməsinə yönəldilmişdir. Dövlətin əsas vəzifəsi «sinifsiz kommunist cəmiyyəti» qurmaq idi. SSRİ-nin iqtisadi sisteminin əsasını istehsal vasitələri üzərində sosialist mülkiyyəti, siyasi sisteminin əsasını sovetlər, sosial əsasını fəhlə, kəndli və ziyalıların ittifaqı təşkil edirdi.\n",
       "İnkişaf etmiş sosializmin Konstitusiyasında 1918, 1924 və 1936-cı illərdəki Konstitusiyalarda olmayan yeni xarici siyasət məsələlərindən bəhs edən bölmə yer almışdır. Xarici siyasətin əsas istiqamətinin «SSRİ-də kommunizm qurmaq» üçün əlverişli beynəlxalq şəraitin təmin edilməsinə, «dünya sosializm sisteminin mövqeyinin möhkəmləndirilməsinə, xalqların milli azadlıq və sosial tərəqqi uğrunda mübarizəsinin» müdafiəsinə yönəldilməsi nəzərdə tutulmuşdur. SSRİ-nin sosialist ölkələrinə və müstəmləkəçilikdən azad olmuş dövlətlərə münasibətdə sosialist beynəlmiləlçiliyi prinsipi təsbit edilmişdir. Praktik olaraq bu vəziyyət çox zaman xalqların suveren bərabərlik prinsipi öhdəliyinə, onların öz müqəddəratını təyin etməsi hüququnun pozulması, sosialist dövlətlərinə xarici siyasət müdaxilənin əsaslandırılması ilə müşayiət olunurdu.\n",
       "İnkişaf etmiş sosializmin Kosntitusiyasına görə dövlət hakimiyyətinin ali orqanı olan ikipalatalı SSRİ Ali Soveti İttifaq Soveti və Millətlər Sovetindən ibarət idi. Ali Sovet mühüm dövlət məsələlərini, o cümlədən Ümumittifaq Konstitusiyasının dəyişdirilməsi, İttifaqın tərkibinə yeni respublikaların qəbulu, dövlət büdcəsinin, sosial və iqtisadi inkişaf planının qəbul edilməsini həll etmək hüququna malik idi. SSRİ Ali Sovetinin sessiyaları arasında onun vəzifəsini Rəyasət Heyəti yerinə yetirirdi. SSRİ Nazirlər Soveti dövlət idarəçiliyi sistemi vasitəsilə cari idarəçilik işlərinə rəhbərlik edirdi.\n",
       "Yeni Brejnev Konstitusiyasında milli-dövlət quruluşu məsələsi 1936-cı il Konstitusiyasında olduğu kimi qalmışdır. 69-cu maddəyə əsasən, SSR İttifaqı «vahid çoxmillətli ittifaq dövləti» kimi təsbit edilmişdir ki, bu da mərkəzi fede-ralizmin möhkəmləndirilməsi demək idi. Bu maddə ilə ziddiyyət təşkil edən Konstitusiyanın 71-ci maddəsi hər bir respublikanın «SSRİ-dən azad çıxmaq hüququnu», 75 və 80-ci maddələr isə onların suverenliyini elan etmişdir.\n",
       "1977-ci il SSRİ Kosntitusiyası Brejnev daxili və xarici siyasət istiqamətinin mühafizəkar xüsusiyyətini qəti olaraq müəyyən edib, partiyanın cəmiyyət üzərində sərt nəzarətini qanuniləşdirərək, milli məsələlərdəki təhlükəli ziddiyyətləri müəyyən müddətə dondurmuş oldu.\n",
       "N.S.Xruşşovun istefasından sonra şəxsiyyətə pərəstiş siyasətinin tənqidi, demək olar ki, başa çatdı. Həbs düşərgələri və repressiyaya məruz qalan şəxslər haqqında dərc edilən məqalələr mətbuat səhifələrindən yoxa çıxdı. Rəsmi tənqid sovet tarixinə qara ləkə yaxanlara qarşı sipər aldı. Eyni zamanda mətbuatda İ.V.Stalinin Böyük Vətən müharibəsi dövründə Ali Baş Komandan kimi xidmətlərindən bəhs edən məqalələr dərc edilirdi. Hətta Sov.İKP-nin XXIII qurultayı ərəfəsində İ.Stalinə rəsmi olaraq bəraət verilməsi nəzərdə tutulduğu halda rəhbərlik açıq olaraq XX qurultayın qərarlarına yenidən baxılmasına yol verməyərək, bu məsələnin tədricən səs-küysüz həll etməyi qərara aldı. Çox güman ki, İ.V.Stalinin bəraəti ilə bağlı görkəmli elm və mədəniyyət xadimlərinin Mərkəzi Komitəyə yazdıqları etiraz məktubları və ziyalıların bu məsələyə mənfi münasibəti partiya və dövlət rəhbərliyini belə bir addım atmağa sövq etmişdir. 1969-cu ildə İ.V.Stalinin anadan olmasının 90 illiyi ilə əlaqədar olaraq XX qurultayın kursunun dəyişdirilməsinə Sov.İKP-nin ali hakimiyyət nümayəndələrindən Q.İ.Voronov, K.T.Mazurov, P.M.Maşerov, D.S.Polyanski, A.N.Şelepin yenidən cəhd etsə də, ziyalıların və xarici kommunist partiyaları liderlərinin kəskin etirazı buna mane oldu. Sovet rəhbərliyi «Pravda» qəzetində İ.Stalinin fəaliyyəti haqqında ehtiyatla, ölçülü bir məlumat dərc etdirməklə kifayətləndi. Rəsmi senzura G.K.Jukovun xatirələrindən ibarət olan kitabından İ.Stalin haqqındakı tənqidi fikirləri çıxardı. Tədricən İ.Stalinin obrazı kino ekranlarında, xüsusilə Böyük Vətən müharibəsindən bəhs edən filmlərdə göründü.\n",
       "L.İ.Brejnevin başçılıq etdiyi partiya elitasının İ.V.Stalinin bəraitinə cəhd etməsi A.T.Tvardovskinin başında durduğu «Yeni dünya» («Новый мир») jurnalının təmsil etdiyi cəmiyyətin liberal əhvali-ruhiyyəli hissəsinin müqaviməti ilə üzləşdi. «Yeni dünya» jurnalının tənqidçi yazarları V.Y.Lakşin, İ.T.Vinoqradov, A.İ.Kondratoviç ədəbiyyatda Stalin ənənələrinə qarşı barışmaz mübarizə aparırdılar. «Yeni dünya» jurnalının əsas opponentləri ehkamçı stalinçi mövqeyi müdafiə edən «Oktyabr» və «Molodaya qvardiya» jurnalları idi. 1969-cu ildə «Oktyabr» jurnalının baş redaktoru V.A.Koçetov «Sən nə istəyirsən» («Чего же ты хочешь») romanını çap etdirdi və bu, cəmiyyətdə ziyalılara həcv kimi qəbul edildi. Romanda partiya qurultaylarında keçmişin tənqidinin qəbul edilməz olduğundan, ölkəyə Qərbin təsirinin zərərindən bəhs edilirdi. Yazıçı liberal ziyalılarla yanaşı, «millətçi slavyanpərəstləri» də tənqid etmişdir. «Pravda» qəzeti «Yeni dünya» jurnalın düzgün olmayan ideya mövqeyinə, «Oktyabr» jurnalın çap olunan əsərləri keyfiyyətin aşağı tələbkarlığa görə tənqid etdi. «Molodaya qvardiya» jurnalı 60-cı illərin ortalarından milli əsaslara söykənən mövqedən çıxış edirdi. Onun müəllifləri M.Lobanov, S.Semanov, V.Çalmayev Rusiyanın özünəməxsus inkişafını önə çəkərək mədəniyyətin amerikalılaşdırılmasına etiraz edir, Rusiyanı qəti olaraq Qərbə, ziyalıları isə xalqa qarşı qoyaraq açıq millətçiliyə meyil edirdilər.\n",
       "\n",
       "\n",
       "\n",
       "\n",
       "\n",
       "60-cı illərin axırlarında A.T.Tvardovskinin «Gizli Nəşr»də, sonra Qərbdə çap etdirdiyi «Yaddaş haqlılığı» («По право памяти») şəxsiyyətə pərəstişin dirçəldilməsinə qarşı yönəldilmiş antistalinçi poeması «Yeni dünya» jurnalı üzərinə hücumları gücləndirdi. Jurnalı kosmopolitizmdə təqsirləndirən Yazıçılar İttifaqının katibliyi A.Tvardovskinin bir sıra əməkdaşın redaksiya heyətindən uzaqlaşdırdı və baş redaktor da istefa verməyə məcbur oldu. Artıq əvvəlki «Yeni dünya» mövcud deyildi. Bu bir daha təsdiq etdi ki, inzibati vasitələrlə öz qələbəsini təmin edən partiya aparatı və onun rəhbərləri cəmiyyətdə açıq müzakirə aparmaq qabiliyyətindən çox uzaqdırlar. Odur ki, ictimai problemlərin həllinin müzakirələri rəsmi orqanlardan fərqli olaraq «gizli nəşr»lərə keçdi.\n",
       "SSRİ-də partiya və dövlətin müəyyən etdiyi rəsmi mədəniyyətin mühafizəkar xarakteri artdıqca rəsmi olmayan, alternativ mədəniyyət geniş miqyas aldı. Daha çox əhəmiyyət kəsb edən bədii ədəbiyyat əsərləri «gizli nəşr»lər vasitəsilə çap olunurdu. A.Q.Bitovun, F.A.İskəndərin, V.Yerofeyevin əsərləri yalnız Qərbdə çap edilirdi. V.P.Aksenov, A.D.Sinyavski, V.N.Voynoviç, S.D.Dovlatov və b. yazıçılar xarici ölkələrə mühacirət etməyə məcbur oldular.\n",
       "\n",
       "Yenistalinizm və «durğunluq» ideologiyasına qarşı duran qüvvələrdən biri də «kəndli» yazıçılar olmuşdur. F.Abramov, B.Belov, B.Mojayev, V.Ras-putin, V.Tendryakov kimi yazıçılar kollektivləşmənin rus kəndinin həyatındakı mənfi nəticələrindən ətraflı bəhs etmişlər. Bu xətti, eyni zamanda S.V.Viku-lovun baş redaktoru olduğu «Bizim müasirimiz» («Наш современник») və M.N.Alekseyevin baş redaktorluğu altında «Moskva» jurnalları davam etdirmişdir.\n",
       "1970-ci il noyabrın 5-də partiyanın MK-nın Katibliyinin iclası olmuşdur. «Gənc qvardiya» («Молодая гвардия») jurnalının redaktoru, keçmiş qırıcı-təyyarəçi A.V.Nikonov, V.Çalmayev və S.Semanovun məqaləsini çap etdirdiyi üçün vəzifələrindən azad edilmişdir. Onun yerinə MK-nın təlimatçısı F.Y.Ov-çarenko təyin olundu. 1972-ci ildə onun ölümündən sonra jurnalın redaktoru vəzifəsinə keçmiş redaktorun ideya silahdaşı, «Kölgələr günorta itir» («Тени изчезают в полдень») romanının və «Əbədi çağırış» («Вечный зов». 19701976) trilogoyiasının müəllifi görkəmli yazıçı A.S.İvanov təyin edilmişdir.\n",
       "Brejnev hakimiyyətinə qarşı obyektiv müxalifət mövqeyindən çıxış edən mərkəzlərdən biri 1966-cı ildə yaradılan Tarix və Mədəniyyət Abidələrini Qoruyan Ümumrusiya Cəmiyyəti olmuşdur. Hərəkatın rəhbərləri görkəmli vətənpərvərlər, arxeoloq və tarixçi B.A.Rıbakov, kimyaçı-fizik İ.V.Petryanov-Sokolov, rəssamlar P.Korin və İ.Qlazunov, yazıçılar L.Leonov, V.Solouxin, V.D.İvanov, Moskva Kreml muzeyinin rəhbəri V.N.İvanov olmuşdur. 1968-1969-cu illərdə mərkəzdə rus tarixi və mədəniyyətini kompleks şəkildə öyrənən «Rus klubu» fəaliyyətə başlamışdı ki, bu da qeyri-leqal rus ziyalılarının birliyi idi. İlk dəfə olaraq birlik rus mədəniyyəti və mənəviyyatının təşəkkülü məsələlərini müzakirə etməyə başlamışdı. Yazıçılar A.İ.Bayquşev, V.A.Çivilixin, şairlər İ.İ.Kobzev, S.Y.Kunyayev, Q.V.Serebryakov, V.V.Sorokin, tənqidçi və ədəbiyyatşünas V.A.Çalmayev, Y.L. Prokuşev, jurnalistlər İ.D.Zaxarçenko, A.V.Nikonov, QULAQ məhkum həyatı yaşamış publisist O.V.Volkov və d. klubun fəal üzvlərindən idi.\n",
       "B.Ş.Okucava, Y.İ.Vizbor, Y.Ç.Kim və V.S.Vısotskinin müəllif mahnıları milyonları coşduraraq əsl şəhər folkloruna çevrilmişdi. Onların sovet reallığını tənqid edən mahnılar maqnitofon yazılışı ilə əhali arasında yayılaraq «maq-nitofon inqilabının» əsasını qoymuşdur. V.Vısotskinin azadolmayan hissləri tərənnüm edən mahnıları cəmiyyətin müxtəlif təbəqələri arasında eyni dərəcədə şöhrət qazanmışdı. Ziyalıların arasında təqibi nəticəsində Yazıçılar İttifaqı və Kinematoqrafçılar İttifaqının üzvlüyündən azad edilən və xaricə mühacirətə getməyə məcbur olan A.A.Qaliçin bədii yaradıcılığı geniş şöhrət qazanmışdır. Liberal ziyalıların hakimiyyətlə olan əlaqələrinin gündən-günə pisləşməsi onların fərqli düşünənlər hərəkatını müdafiə etməsinə səbəb oldu.\n",
       "Hakimiyyətin yeritdiyi rəsmi siyasətə qarşı öz etirazlarını açıq və mərdliklə bildirən dissident hərəkatı meydana gəldi. 1968-ci il avqustun 25-də Qızıl meydanda sovet qoşunlarının Çexoslovakiyaya müdaxiləsinə etiraz əlaməti olaraq səkkiz nəfər, o cümlədən tələbə T.Bayeva, filoloqlar K.Ba-bitski, L.Boqoraz-Bruxman, şair V.Delone, fəhlə V.Dremlyuq, fizik P.Lit-vinov, sənətşünas V.Faynberq və şairə N.Qorbanevskaya aksiya təşkil etdilər. Onların hamısı həbs edilərək həbs düşərgələrinə, sürgün və ya məcburi psixi müalicəxanaya göndərildi.\n",
       "\n",
       "Yeni hakimiyyətin baş ideoloqu rolunu icra edən M.A.Suslov ilk gündən N.S.Xruşşov dövrünün mədəni mülayimləşmə mərhələsinə qarşı olduğunu açıq bildirdi. 1965-ci ildə yazıçılar A.D.Sinyavski «Məhkəmə gedir» («Суд идет»), «Lyubimov», Y.M.Daniel «Danışır Moskva» («Говорит Москва»), «Bağışlanma» («Искупление») adlı totalitarizmin sosial və psixoloji mahiyyətindən bəhs edən əsərlərin xaricdə və şair V.Y.Tarsisin «Sfinks» «Gizli Nəşr» jurnalında çap etdirdikləri üçün həbs edildilər. «Sovet dövlətini və ictimai quruluşunu ləkələdikləri» üçün A.Sinyavski yeddi, Y.Daniel beş il müddətinə azadlıqdan məhrum edildilər. Bu, XX qurultaydan sonra SSRİ-də keçirilən birinci açıq siyasi məhkəmə prosessi kimi tarixdə öz yerini tutdu. 1966-cı ildə Sov.İKP-nin XXIII qurultayının ünvanına görkəmli mədəniyyət xadimləri K.İ.Çukovski, İ.Q.Erenburq, V.B.Şklovski, P.Q.Antokolski, V.A.Kaverin və b. imzası ilə yazıçılar A.Sinyavski və Y.Danielin müdafiəsi məqsədilə məktubla müraciət etdilər. Eyni zamanda yaradıcı ziyalıların bir çoxu hakim partiyanın kursunu müdafiə edirdi. Onlar arasında L.S.Sobolev, S.P.Antonov, K.A.Fedin, N.S.Tixonov, K.M.Simonov, A.A.Surkov, S.V.Mixalkov və b. var idi. 1968-ci ilin aprelindən dissident hərəkatı iki-üç aydan bir gizli surətdə çap etdirdiyi «Cari hadisələrin xronikası» («Хроника текущих событий») nəşrini buraxdı ki, burada da hakimiyyətin azadlıq üzərinə hücumları öz əksini tapırdı. 1968-ci ilin aprelindən 1983-cü ilə kimi onu tərtib edən N.Y.Qorbanevskaya və b. «gizli nəşr» vasitəsilə «hüquq müdafiəçiləri bülleteni»nin 64 nömrəsini buraxmışdır.\n",
       "1960-cı illərin axırlarından dissident cərəyanları «Demokratik hərəkatda» birləşərək üç ideologiya istiqaməti müəyyən etdi. Bunlar öz hərəkat proqramlarına uyğun olaraq Roe və Jores Medvedevin təmsil etdikləri «əsl marksizm-leni-nizm», A.Saxarovun liberalizm və A.Soljenitsının müdafiə etdiyi «xristian ideologiyası» istiqamətləridir. Birinci proqramın ideyası ondan ibarətdir ki, İ.Stalin marksizm-leninizm ideologiyasını təhrif etdiyi üçün onun köklərinə qayıtmaqla cəmiyyəti sağlamlaşdırmaq mümkündür. İkinci proqram tədricən Qərb tipli demokratiyaya ictimai mülkiyyəti qorumaq şərtilə keçməyi nəzərdə tuturdu. A.Soljenitsının müdafiə etdiyi üçüncü proqram xristian əxlaqı dəyərini cəmiyyətin həyatının əsası kimi irəli sürərək slavyanofillər kimi Rusiyanın özünəməxsus ənənəsini önə çəkirdi. Xüsusilə iki görkəmli tarixi şəxsiyyət A.Soljenitsın və A.Saxarov dissident hərəkatının simvolları kimi öz ölkələrində təcrid edilməklərinə baxmayaraq bütün dünyada şöhrət qazanırdılar. 1968-ci ildə Qərbdə A.İ.Soljenitsının «Dairədə birinci» («В круге первом») romanı dərc edildi ki, müəllif öz həbsinin son illərini keçirdiyi Moskva altındakı Baş Düşərgə İdarəsi sisteminə daxil olan elmi institut və konstruktor bürolarında çalışan məhbusların həyatının bir hissəsindən bəhs edir. Buna cavab olaraq hakimiyyəti təmsil edənlər onu Yazıçılar İttifaqının sıralarından xaric etdilər. 1970-ci ildə A.İ.Soljenitsın ədəbiyyat üzrə Nobel mükafatına layiq görüldü. 1973-cü ildə yazıçının Qərbdə «QULAQ Arxipelaqı» romanının birinci cildi çapdan çıxdı. 1974-cü ilin fevralında A.Soljenitsın dövlətə xəyanət maddəsilə sovet vətəndaşlığından məhrum edilərək SSRİ-dən sürgün edildi.\n",
       "1970-ci ildə Sovet İttifaqında görkəmli fizik və riyaziyyatçı alim, hidrogen bombasının yaradıcılarından biri A.D.Saxarov və məhşur riyaziyyatçı İ.R.Şa-fareviçin iştirakı ilə İnsan Hüquqlarının Müdafiə Komitəsi yaradıldı. 1973-cü ildə «Beynəlxalq əfv» təşkilatının rus bölməsi meydana gəldi. Onun üzvləri hakimiyyət orqanlarının təqibinə məruz qalan fərqli düşünənlər haqqında məlumat toplayır, onlara hüquqi və maddi yardım edir, onların fəaliyyətinə dair məlumatları beynəlxalq mərkəzlərə ötürürdülər. Xüsusilə hakimiyyəti orduya da sirayət edən fərqli düşünənlərin fəaliyyəti bərk narahat etdi. 1969-cu ildə Baltik donanması zabitlərinin yaratdığı «Demokratik hüquqlar uğrunda mübarizə ittifaqı» darmadağın edildi. 1975-ci ildə Baltik donanmasının «Storo-jevoy» gəmisində üsyan başladı, heyət xalqı mövcud rejimə qarşı çıxış etməyə çağırdı. Gəmi havadan hücuma məruz qaldı, üçüncü həmlədən sonra «sto-rojevoy» böyük qayıq əleyhinə gəminin komandirinin siyasi hissə üzrə müavini V.M.Sablinin başçılığı altındakı üsyan yatırıldı və ondan başqa heç kim cəzalandırılmadı. Təqib, təzyiq və həbslərə baxmayaraq, hüquq müdafiəçiləri hərəkatı artmaqda davam edirdi. Onun önəmli liderlərindən biri məhz akademik A.D.Saxarov idi. 1975-ci ildə ona hüquq müdafiəsi fəaliyyətinə görə Nobel sülh mükafatı təqdim edildi. Buna cavab kimi sovet hakimiyyəti mətbuat səhifələrində akademikə qarşı ittiham dolu məqalələr çap edilməsini təşkil etdi. 1980-ci ildə isə A.Saxarov əcnəbilər buraxılmayan Qorki şəhərinə sürgün edildi.\n",
       "1975-ci ildə SSRİ Helsinki Yekun Aktına qol çəkdi ki, bu bir tərəfdən Avropanın müharibədən sonrakı sərhədlərini təsdiq etdiyi üçün sovet diplomatiyasının uğuru idi, digər bir tərəfdən isə Sovet İttifaqı insan hüququna hörmət etməyi öz öhdəsinə götürdüyünə görə açıq repressiyalar artıq mümkün deyildi. Yekun aktının humanitar maddələrinin pozulmasına dair məlumat toplamaq məqsədilə Y.F.Orlovun rəhbərliyi altında sovet hüquq müdafiəçiləri Moskva Helsinki Qrupunu yaratdılar. MHQ dissident hərəkatının başqa qrupları ilə sıx əməkdaşlıq edərək 1982-ci ilə kimi fəaliyyət göstərdi. Hüquq müdafiəçiləri hərəkatının fəal üzvlərinin sayı çox deyildi. 1975-ci ildə «siyasi ziyankar əməlinə» görə 20 min nəfərə yaxın adam DTK-nın «profilaktik təd-birləri»nə məruz qalmışdır. Ancaq «gizli nəşr» və xarici verilişlər nəticəsində onların fəaliyyəti ölkədə geniş əks-səda doğururdu. Hüquq müdafiəçiləri mənəvi azadlıq axtaran intellektual elita ilə qarşılıqlı əlaqə saxlayırdılar. 1966-1988-ci illərdə «SSRİ vətəndaşı» yüksək adını ləkələdiyi, SSRİ dövlətinin nüfuzu və təhlükəsizliyinə zərər verdiyi üçün 100 nəfərə kimi adam, o cümlədən M.S.Voslenski (1976), P.Q.Qriqorenko (1978), V.P.Aksenov (1980), V.N.Voynoviç (1986) vətəndaşlıqdan məhrum edilmişdir. Q.Vins, A.Ginzburq, V.Morov, M.Dımşits, E.Kuznetsov kimi həbsdə olan müxalifətçilər xaricdə həbs edilən iki sovet kəşfiyyatçısı ilə, V.K.Bukovski isə Çili kommunistlərinin həbsə atılan lideri L.Korvalanla dəyişdirilmişdir.\n",
       "Hakimiyyət orqanları dissidentlərlə mübarizə vasitələri kimi müvafiq qanunvericilikdən və kütləvi informasiyanın qaralama kampaniyalarından istifadə edirdilər. DTK cəza tədbirlərinin başlıca təşkilatçısı idi. Dissidentlər bir qayda olaraq, sovet ümumxalq dövlətinin zəiflədilməsi və nüfuzdan salınmasına yönəldilmiş təhlükəli ictimai fəaliyyətdə, dövlət və quruluşu, SSRİ-nin xarici təhlükəsizliyini dağıtmaq məqsədilə çalışmaqda ittiham olunurdular. SSRİ Ali Məhkəməsi və Prokurorluğun rəsmi məlumatına əsasən, ölkədə 1956-1987-ci illərdə 8145 adam oxşar maddə ilə məhkum edilmişdir. 1956-1960-cı illərdə hər il orta hesabla 935, 1961-1965-ci illərdə 214, 1966-1970-ci illərdə 136, 1971-1975-ci illərdə 161, 1976-1980-ci illərdə 69, 1981-1985-ci illərdə 108 nəfər adam mühakimə olunmuşdur.\n",
       "Həyat göstərdi ki, bir neçə yüz nəfər mövcud rejimə qarşı fərqli düşünən insan Qərbin də mənəvi və maddi köməyi sayəsində ölkə vətəndaşlarının böyük bir hissəsinin rəğbətini qazanaraq rejimə qarşı müxtəlif vasitələrlə mübarizə aparmışdır. Qarşıdurma hər şeydən əvvəl, cəmiyyətdəki ziddiyyətin nəticəsində baş vermişdir. Dissidentlik ideyasını dünyanın kütləvi informasiya vasitələri daha da populyarlaşdırmışdır. Təkcə akademik A.D.Saxarov 1972-1979-cu illərdə 150 mətbuat konfransı təşkil etmiş, xarici radiolar üçün 1200 veriliş hazırlamışdır.\n",
       "1980-ci illərin ikinci yarısından SSRİ-də dissident hərəkatı dayandırılmışdı, həbsdə olan dissidentlər azad edilmişdir. 1986-cı ildən dissident qruplarının yerini siyasi klublar, sonra isə xalq cəbhələri tutmuşdur.\n",
       "L.İ.Brejnev və onun yaxın ətrafı sovet cəmiyyətində, hətta hakimiyyət aparatında müxalifətin meydana gəlməsini görməzlikdən gələrək ölkədəki vəziyyət və onun perspektivləri haqqında açıq müzakirə açmağa cəsarət etmədilər.\n",
       "\n",
       "\n",
       "Müəllif: Tahir Baxşəliyev   \n",
       "Mənbə: RUSİYA TARİXİ ƏN QƏDİM ZAMANLARDAN GÜNÜMÜZƏDƏK\n",
       "</td><td>['Rusiya tarixi', 'SSRİ dövləti', 'SSRİ', 'yenistalinizm', 'Brejnev']</td></tr>\n",
       "</tbody>\n",
       "</table>\n"
      ],
      "text/latex": [
       "A data.frame: 1 × 8\n",
       "\\begin{tabular}{r|llllllll}\n",
       "  & Unnamed..0 & url & title & author & category & date & content & tags\\\\\n",
       "  & <int> & <chr> & <chr> & <chr> & <chr> & <chr> & <chr> & <chr>\\\\\n",
       "\\hline\n",
       "\t50 & 49 & https://kayzen.az/blog/politologiya/27776/ssri-1960-c\\%C4\\%B1-ill\\%C9\\%99rin-ikinci-yarisi-1980-ci-ill\\%C9\\%99rin-ortalarinda.html &  SSRİ 1960-cı İLLƏRİN İKİNCİ YARISI -1980-ci İLLƏRİN ORTALARINDA & gunelb & Tarix və politologiya & 28 fevral 2023, 00:10 & \n",
       "İctimai-siyasi həyat\n",
       "N.S.Xruşşovun istefası ilə onun başladığı ictimai-siyasi həyatın liberallaşması prosesinin dəyişiklikləri dayandı. N.S.Xruşşovun istefasının təşəbbüskarı və təşkilatçılardan biri olan L.İ.Brejnev Sov.İKP MK-nın birinci katibi (1966-cı ildən Baş katibi) seçildi. Brejnev Leonid İliç (1906-1982) Yekaterinoslav quberniyasının Kamensk qəsəbəsində fəhlə ailəsində doğulmuşdur. 1935-ci ildə Metallurgiya İnstitutunu bitirmiş, 1939-cu ildən partiya işinə keçmişdir. Böyük Vətən müharibəsində siyasi işçi kimi iştirak edərək general-mayor rütbəsində 4-cü Ukrayna cəbhəsinin siyasi idarəsinin rəisi olmuşdur.  Qazaxıstan KP MK-nın birinci katibi kimi xam torpaqların mənimsənilməsində iştirak etmiş, 1960-cı ildən SSRİ Ali Soveti Rəyasət Heyətinin sədri seçilmişdir. N.S.Xruşşovun istefasının təşkilatçılarından biri olan L.İ.Brejnev 1964-cü ilin oktyabrın 14-də Sov.İKP MK-nın birinci katibi seçildi. Yeni birinci katib yumşaq, təvazökar, protokol qaydalarına ciddi əməl edən partiya rəhbəri kimi tarixə düşmüşdür. Xüsusilə ömrünün son illərində təntənəyə, təltiflərə, tərifə aludə olan L.Brejnevin dörd dəfə Sovet İttifaqı Qəhrəmanı, Sovet İttifaqı Marşalı, SSRİ Ali Soveti Rəyasət Heyətinin sədri, Müdafiə Şurasının sədri adları və vəzifələrinə sahib olmuşdur. Hakimiyyətdə olduğu müddətdə L.Brej-nev 114 dəfə SSRİ-nin Ali dövlət mükafatı ilə təltif edilmişdir. Onun ünvanına yağan tərif və təltiflər uzun müddət sovet cəmiyyətində istehza və rişxəndlə qarşılanmışdır. Eyni zamanda çox ehtiyatlı və mühafizəkar bir şəxs olan L.İ.Brejnev cəmiyyətdə sabitliyin təmin edilməsinə xüsusi önəm verirdi.\n",
       "SSRİ Nazirlər Sovetinin sədri təyin edilən A.Kosıgin, Xarkov vilayət partiya komitəsinin sabiq katibi, Mərkəzi Komitənin kadr məsələsi üzrə katibi olan N.Podqornı, Rəyasət Heyətinin tərkibinə daxil edilən P.Şelest, MK-nın katibi, Partiya Nəzarət Komitəsinin sədri, Nazirlər Sovetinin sədr müavini N.Şelepin və Rəyasət Heyətinin üzvü, ideologiya sahəsində məsul şəxs M.Sus-lov yeni hakimiyyətin nüvəsini təşkil edirdilər. 1964-cü ildəki noyabr Plenumu N.S.Xruşşovun dövründə sənaye və kənd partiya təşkilatlarına bölünən orqanları bütün səviyyələrdə, o cümlədən sovet, həmkarlar, komsomol təşkilatlarının vahid təşkilatlarda birləşmələrini qərara aldı. 1964-cü ilin dekabrından başlayaraq diyar, vilayət və rayon komitələri bərpa edildi. 1965-ci ildə xalq təsərrüfatı şuraları ləğv olundu və iqtisadiyyatın sahələr üzrə idarə edilmə prinsipi bərpa edildi. 1966-cı ildə Sov.İKP-nin XXIII qurultayında N.S.Xruş-şovun şəxsi təşəbbüsü ilə partiyanın Nizamnaməsinə daxil edilən seçkili partiya orqanları rəhbərlərinin vaxtaşırı məcburi dəyişdirilməsi qaydası Nizamnamədən çıxarıldı. İ.Stalin dövrünün qorxusu və N.Xruşşov dövrünün saysız-hesabsız yenilikləri ilə ümidsizliyə qapılan partiya aparatı yeni hakimiyyətin partnomenkla-turanı şəriksiz hakimiyyətə qovuşdurmasını sevinclə qarşıladı. L.İ.Brejnev XXIII qurultayda Baş katib seçildi, Mərkəzi Komitənin Rəyasət Heyəti yenidən Siyasi Büro adlandırıldı. Mərkəzi Komitənin üzvlərinin sayı 1966-cı ildəki 300 nəfərdən 10 il ərzində 40\\% artaraq 420 nəfərə çatdı. Şəxsi sədaqətin və başda duran rəhbərə danışıqsız tabe olmaq vərdişlərinin işçinin qabiliyyətindən ön plana keçdiyi 70-ci illərdə özünəməxsus «sovet feodalizmi»n xatırladan partiya ailəçiliyi yüksək həddə çatmışdı. Buna qarşı İ.Stalin dövlət terroru, N.S.Xruşşov isə qanuni vasitələrlə uzun müddət mübarizə aparmışdır.\n",
       "\n",
       "Ölkənin yeni rəhbərləri Sov.İKP MK-nın birinci katibi L.Brejnev ilə SSRİ Nazirlər Sovetinin sədri A.Kosıgin arasında iqtisadi strategiyanın müəyyən edilməsində fikir ayrılığı mövcud idi. L.Brejnev ilk olaraq kənd təsərrüfatı, ağır sənaye, müdafiənin, 1972-ci ildən isə «Sibirin mənimsənilməsinin» tərəfdarı idi. Hökumətin başçısı A.Kosıgin vətəndaşların həyat səviyyəsinin yüksəldilməsinin əsası olan yüngül sənayeni ön plana çəkirdi. Kosıgin Aleksey Nikolayeviç (1904-1980) Peterburqda fəhlə ailəsində doğulmuşdur. Vətəndaş müharibəsi illərində Qızıl Ordu sıralarında xidmət etmiş, Leninqrad Toxuculuq İnstitutunu bitirmişdir. 1940-1946-cı illərdə SSRİ XKS sədrinin müavini kimi müəssisələrin şərqə köçürülməsi və orada ölkənin sənaye bazasının yaradılması işinə rəhbərlik etmişdir. Maliyyə, yüngül və ərzaq sənayesi nazirləri, SSRİ Dövlət Plan Komitəsinin sədri vəzifələrində çalışmışdır. 1964-1980-ci illərdə SSRİ Nazirlər Sovetinin sədri, Sov.İKP MK Siyasi Bürosunun üzvü olmuşdur.\n",
       "\n",
       "İqtisadi srategiyanın müəyyən edilməsində olduğu kimi, siyasi məsələlərin həlli yolunda da partiya rəhbərliyi arasında fikir ayrılığı və çəkişmələr qalırdı. Siyasi məsələlərin həllinə mühafizəkar münasibətin tərəfdarları L.Brejnev və özünü partiyalılıq prinsipinə söykənən təmiz sovet ideologiyasının qoruyucusu kimi təqdim edən M.Suslov idi. Onların belə mühafizəkar mövqeyi 70-ci illərin ikinci yarısında daha da güclənərək A.Kosıginin texnokrat istiqamətli tədbirlərinin məhdudlaşdırılmasına, bəzi partiya liderlərinin mövqelərinin zəiflədilməsinə yönəldi. Partiya və dövlətin üst qatlarında yerləşən rəhbər kadrların iddia və vəzifə çəkişmələri 1965-ci ilin sonuna doğru N.Xruşşovun istefaya göndərilməsinin təşkilatçılarından olan N.Podqornı və A.Şelepinin mövqeyinin xeyli zəifləməsi ilə müşayiət olundu. A.Şelepin Mərkəzi Həmkarlar Şurasının sədri təyin edilərək, əslində dövlət hakimiyyətindən uzaqlaşdırılmış oldu. N.Podqornı isə fəxri kürsü hesab edilən SSRİ Ali Sovetinin sədri seçildi. A.N.Şelepinin komsomol yoldaşı, onu DTK-nın başçısı vəzifəsində əvəz etmiş V.S.Semiçastnı 1967-ci ilin martında Stalinin qızı Svetlana Alliluyevanın daimi yaşamaq məqsədi ilə Qərbdə qaldığı səbəbi ilə vəzifəsini itirdi.\n",
       "\n",
       "1966-cı ilin aprelində Sov.İKP-nin XXIII qurultayında Baş katib seçildikdən sonra L.İ.Brejnev müharibəyə qədər siyasi fəaliyyətə başladığı Dnepropet-rovskidən olan kadrları öz ətrafına yığmağa başladı. 1966-cı ildə N.Podqornını Mərkəzi Komitənin katibi vəzifəsində «dnepropetrovsk qruplaşması»na daxil olan A.P.Kirilenko əvəz etdi. L.Brejnevə yaxın olan K.U.Çernenko, V.V.Şerbitski, D.A.Kunayev, N.A.Şelokov mühüm vəzifələrə təyin edildilər.\n",
       "Ağır sənaye, hərbi sənaye kompleksi və müdafiənin inkişafına üstünlük verən L.Brejnevin həyata keçirdiyi tədbirləri hərbçilər müdafiə edirdi. 1966-cı ilin əvvəllərində hərbçilər elan edilən azalan hərbi xərclərin yenidən baxılmasına nail oldular. Müdafiə sənayesinə rəhbərlik edən general D.F.Ustinov Mərkəzi Komitə Siyasi Bürosunun üzv namizədliyinə və Katibliyin tərkibinə daxil edildi. 1967-ci ilin martında Müdafiə Naziri P.Y.Malinovski vəfat etdikdən sonra bu vəzifəyə hərbçilərin təkidi ilə A.A.Qreçko təyin olundu. Yalnız onun ölümündən sonra 1976-cı ilin aprelində D. Ustinov müdafiə naziri təyin edildi. 1976-cı il mayın 7-də L.İ.Brejnev Sovet İttifaqı Marşalı oldu. Əslində bu partiya liderinin hərbçilərin rəhbəri ilə işbirliyinin nəticəsi idi. İki gün keçdikdən sonra Dnepropetrovsk əhalisi öz həmyerlisinin əzəmətli heykəlinin açılışında iştirak etdi.\n",
       "70-ci illərdə tamamilə aydın oldu ki, 1961-ci ildə Sov.İKP Proqramında elan edilən kommunizm quruculuğu konsepsiyası, həqiqətdən, çox uzaq olub, daha çox mifə bənzəyir. Odur ki, sovet rəhbərliyi kommunizm quruculuğu və dövlətin ölüb getməsi yerinə hətta marksizm-leninizm klassiklərinin əsərlərində olmayan inkişaf etmiş sosializm konsepsiyası irəli sürdü. 1966-cı ilin dekabrın 21-də F.M.Burlatski «Pravda» qəzetində «İnkişaf etmiş sosializm cəmiyyəti quruculuğuna dair» məqalə çap etdirmişdir. 1967-ci ildə Oktyabr inqilabının 50 illyi ilə əlaqədar nitqində L.İ.Brejnev elan etdi ki, SSRİ-də artıq inkişaf etmiş sosializm cəmiyyəti qurulmuşdur. Bu yeni anlayış nəzəriyyə ilə həyat arasındakı uçurumu xeyli azaldaraq uzun bir tarixi mərhələni əhatə etməklə kommunizm quruculuğunu, dövlətin ölüb getməsini sonu bəlli olmayan uzaq gələcəyə istiqamətləndirirdi. 1977-ci il oktyabrın 7-də qəbul edilən Sovet Sosialist Respublikalar İttifaqının Konstitusiyası (Əsas Qanun) SSRİ-də inkişaf etmiş sosializmin qurulduğunu təsbit etdi. 1977-ci il L.İ.Brejnev Konstitusiyası girişdən, 9 bölmədən, 21 fəsildən, 174 maddədən ibarətdir. Müqayisə üçün qeyd edək ki, 1936-cı il Konstitusiyasının yalnız 13 fəsli, 146 maddəsi var idi.\n",
       "\n",
       "Yeni Sovet Konstitusiyası elan etdi ki, SSRİ artıq proletariat diktaturası dövləti olmayıb «fəhlələrin, kəndlilərin və ziyalıların, ölkənin bütün millət və xalqlarının zəhmətkeşlərinin iradəsini və mənafeyini ifadə edən ümumxalq sosialist dövlətidir». Sovet dövlətinin ümumxalq xarakteri sovetlərin yeni xalq deputatları sovetləri adında öz əksini tapmışdır. Bütün hakimiyyətin SSRİ-nin siyasi əsasını təşkil edən xalq deputatları sovetlərinə məxsus olması təsbit edilsə də, real olaraq bütün səviyyələrdə sovetlərin əslində heç bir hakimiyyəti yox idi, onlar yalnız partiya orqanlarının göstəriş və qərarlarını yerinə yetirirdilər. Konstitusiyanın 6-cı maddəsində inkişaf etmiş sosializm cəmiyyətinin siyasi sisteminin özəyi olan Kommunist Partiyasının rəhbər və istiqamətverici rolu rəsmi olaraq qanunvericilik yolu ilə təsbit edilmişdi. Bu rəsmi təsbit əslində ictimai həyatın bütün sahələrində hakim rol oynayan partiya aparatının mövqeyinin formal olaraq möhkəmlənməsi idi.\n",
       "Konstitusiyada qeyd olunan əsas yenilik inkişaf etmiş sosializmin qurulmasının təsbit edilməsi və «ümumxalq dövləti»nin yaradılmasının elan edilməsidir. Beləliklə, dövlətin ölüb-getməsi qeyri-müəyyən vaxta təxirə salınaraq əsas diqqət qanunçuluğun və hüquq qaydalarının hərtərəfli möhkəmləndirilməsinə yönəldilmişdir. Dövlətin əsas vəzifəsi «sinifsiz kommunist cəmiyyəti» qurmaq idi. SSRİ-nin iqtisadi sisteminin əsasını istehsal vasitələri üzərində sosialist mülkiyyəti, siyasi sisteminin əsasını sovetlər, sosial əsasını fəhlə, kəndli və ziyalıların ittifaqı təşkil edirdi.\n",
       "İnkişaf etmiş sosializmin Konstitusiyasında 1918, 1924 və 1936-cı illərdəki Konstitusiyalarda olmayan yeni xarici siyasət məsələlərindən bəhs edən bölmə yer almışdır. Xarici siyasətin əsas istiqamətinin «SSRİ-də kommunizm qurmaq» üçün əlverişli beynəlxalq şəraitin təmin edilməsinə, «dünya sosializm sisteminin mövqeyinin möhkəmləndirilməsinə, xalqların milli azadlıq və sosial tərəqqi uğrunda mübarizəsinin» müdafiəsinə yönəldilməsi nəzərdə tutulmuşdur. SSRİ-nin sosialist ölkələrinə və müstəmləkəçilikdən azad olmuş dövlətlərə münasibətdə sosialist beynəlmiləlçiliyi prinsipi təsbit edilmişdir. Praktik olaraq bu vəziyyət çox zaman xalqların suveren bərabərlik prinsipi öhdəliyinə, onların öz müqəddəratını təyin etməsi hüququnun pozulması, sosialist dövlətlərinə xarici siyasət müdaxilənin əsaslandırılması ilə müşayiət olunurdu.\n",
       "İnkişaf etmiş sosializmin Kosntitusiyasına görə dövlət hakimiyyətinin ali orqanı olan ikipalatalı SSRİ Ali Soveti İttifaq Soveti və Millətlər Sovetindən ibarət idi. Ali Sovet mühüm dövlət məsələlərini, o cümlədən Ümumittifaq Konstitusiyasının dəyişdirilməsi, İttifaqın tərkibinə yeni respublikaların qəbulu, dövlət büdcəsinin, sosial və iqtisadi inkişaf planının qəbul edilməsini həll etmək hüququna malik idi. SSRİ Ali Sovetinin sessiyaları arasında onun vəzifəsini Rəyasət Heyəti yerinə yetirirdi. SSRİ Nazirlər Soveti dövlət idarəçiliyi sistemi vasitəsilə cari idarəçilik işlərinə rəhbərlik edirdi.\n",
       "Yeni Brejnev Konstitusiyasında milli-dövlət quruluşu məsələsi 1936-cı il Konstitusiyasında olduğu kimi qalmışdır. 69-cu maddəyə əsasən, SSR İttifaqı «vahid çoxmillətli ittifaq dövləti» kimi təsbit edilmişdir ki, bu da mərkəzi fede-ralizmin möhkəmləndirilməsi demək idi. Bu maddə ilə ziddiyyət təşkil edən Konstitusiyanın 71-ci maddəsi hər bir respublikanın «SSRİ-dən azad çıxmaq hüququnu», 75 və 80-ci maddələr isə onların suverenliyini elan etmişdir.\n",
       "1977-ci il SSRİ Kosntitusiyası Brejnev daxili və xarici siyasət istiqamətinin mühafizəkar xüsusiyyətini qəti olaraq müəyyən edib, partiyanın cəmiyyət üzərində sərt nəzarətini qanuniləşdirərək, milli məsələlərdəki təhlükəli ziddiyyətləri müəyyən müddətə dondurmuş oldu.\n",
       "N.S.Xruşşovun istefasından sonra şəxsiyyətə pərəstiş siyasətinin tənqidi, demək olar ki, başa çatdı. Həbs düşərgələri və repressiyaya məruz qalan şəxslər haqqında dərc edilən məqalələr mətbuat səhifələrindən yoxa çıxdı. Rəsmi tənqid sovet tarixinə qara ləkə yaxanlara qarşı sipər aldı. Eyni zamanda mətbuatda İ.V.Stalinin Böyük Vətən müharibəsi dövründə Ali Baş Komandan kimi xidmətlərindən bəhs edən məqalələr dərc edilirdi. Hətta Sov.İKP-nin XXIII qurultayı ərəfəsində İ.Stalinə rəsmi olaraq bəraət verilməsi nəzərdə tutulduğu halda rəhbərlik açıq olaraq XX qurultayın qərarlarına yenidən baxılmasına yol verməyərək, bu məsələnin tədricən səs-küysüz həll etməyi qərara aldı. Çox güman ki, İ.V.Stalinin bəraəti ilə bağlı görkəmli elm və mədəniyyət xadimlərinin Mərkəzi Komitəyə yazdıqları etiraz məktubları və ziyalıların bu məsələyə mənfi münasibəti partiya və dövlət rəhbərliyini belə bir addım atmağa sövq etmişdir. 1969-cu ildə İ.V.Stalinin anadan olmasının 90 illiyi ilə əlaqədar olaraq XX qurultayın kursunun dəyişdirilməsinə Sov.İKP-nin ali hakimiyyət nümayəndələrindən Q.İ.Voronov, K.T.Mazurov, P.M.Maşerov, D.S.Polyanski, A.N.Şelepin yenidən cəhd etsə də, ziyalıların və xarici kommunist partiyaları liderlərinin kəskin etirazı buna mane oldu. Sovet rəhbərliyi «Pravda» qəzetində İ.Stalinin fəaliyyəti haqqında ehtiyatla, ölçülü bir məlumat dərc etdirməklə kifayətləndi. Rəsmi senzura G.K.Jukovun xatirələrindən ibarət olan kitabından İ.Stalin haqqındakı tənqidi fikirləri çıxardı. Tədricən İ.Stalinin obrazı kino ekranlarında, xüsusilə Böyük Vətən müharibəsindən bəhs edən filmlərdə göründü.\n",
       "L.İ.Brejnevin başçılıq etdiyi partiya elitasının İ.V.Stalinin bəraitinə cəhd etməsi A.T.Tvardovskinin başında durduğu «Yeni dünya» («Новый мир») jurnalının təmsil etdiyi cəmiyyətin liberal əhvali-ruhiyyəli hissəsinin müqaviməti ilə üzləşdi. «Yeni dünya» jurnalının tənqidçi yazarları V.Y.Lakşin, İ.T.Vinoqradov, A.İ.Kondratoviç ədəbiyyatda Stalin ənənələrinə qarşı barışmaz mübarizə aparırdılar. «Yeni dünya» jurnalının əsas opponentləri ehkamçı stalinçi mövqeyi müdafiə edən «Oktyabr» və «Molodaya qvardiya» jurnalları idi. 1969-cu ildə «Oktyabr» jurnalının baş redaktoru V.A.Koçetov «Sən nə istəyirsən» («Чего же ты хочешь») romanını çap etdirdi və bu, cəmiyyətdə ziyalılara həcv kimi qəbul edildi. Romanda partiya qurultaylarında keçmişin tənqidinin qəbul edilməz olduğundan, ölkəyə Qərbin təsirinin zərərindən bəhs edilirdi. Yazıçı liberal ziyalılarla yanaşı, «millətçi slavyanpərəstləri» də tənqid etmişdir. «Pravda» qəzeti «Yeni dünya» jurnalın düzgün olmayan ideya mövqeyinə, «Oktyabr» jurnalın çap olunan əsərləri keyfiyyətin aşağı tələbkarlığa görə tənqid etdi. «Molodaya qvardiya» jurnalı 60-cı illərin ortalarından milli əsaslara söykənən mövqedən çıxış edirdi. Onun müəllifləri M.Lobanov, S.Semanov, V.Çalmayev Rusiyanın özünəməxsus inkişafını önə çəkərək mədəniyyətin amerikalılaşdırılmasına etiraz edir, Rusiyanı qəti olaraq Qərbə, ziyalıları isə xalqa qarşı qoyaraq açıq millətçiliyə meyil edirdilər.\n",
       "\n",
       "\n",
       "\n",
       "\n",
       "\n",
       "60-cı illərin axırlarında A.T.Tvardovskinin «Gizli Nəşr»də, sonra Qərbdə çap etdirdiyi «Yaddaş haqlılığı» («По право памяти») şəxsiyyətə pərəstişin dirçəldilməsinə qarşı yönəldilmiş antistalinçi poeması «Yeni dünya» jurnalı üzərinə hücumları gücləndirdi. Jurnalı kosmopolitizmdə təqsirləndirən Yazıçılar İttifaqının katibliyi A.Tvardovskinin bir sıra əməkdaşın redaksiya heyətindən uzaqlaşdırdı və baş redaktor da istefa verməyə məcbur oldu. Artıq əvvəlki «Yeni dünya» mövcud deyildi. Bu bir daha təsdiq etdi ki, inzibati vasitələrlə öz qələbəsini təmin edən partiya aparatı və onun rəhbərləri cəmiyyətdə açıq müzakirə aparmaq qabiliyyətindən çox uzaqdırlar. Odur ki, ictimai problemlərin həllinin müzakirələri rəsmi orqanlardan fərqli olaraq «gizli nəşr»lərə keçdi.\n",
       "SSRİ-də partiya və dövlətin müəyyən etdiyi rəsmi mədəniyyətin mühafizəkar xarakteri artdıqca rəsmi olmayan, alternativ mədəniyyət geniş miqyas aldı. Daha çox əhəmiyyət kəsb edən bədii ədəbiyyat əsərləri «gizli nəşr»lər vasitəsilə çap olunurdu. A.Q.Bitovun, F.A.İskəndərin, V.Yerofeyevin əsərləri yalnız Qərbdə çap edilirdi. V.P.Aksenov, A.D.Sinyavski, V.N.Voynoviç, S.D.Dovlatov və b. yazıçılar xarici ölkələrə mühacirət etməyə məcbur oldular.\n",
       "\n",
       "Yenistalinizm və «durğunluq» ideologiyasına qarşı duran qüvvələrdən biri də «kəndli» yazıçılar olmuşdur. F.Abramov, B.Belov, B.Mojayev, V.Ras-putin, V.Tendryakov kimi yazıçılar kollektivləşmənin rus kəndinin həyatındakı mənfi nəticələrindən ətraflı bəhs etmişlər. Bu xətti, eyni zamanda S.V.Viku-lovun baş redaktoru olduğu «Bizim müasirimiz» («Наш современник») və M.N.Alekseyevin baş redaktorluğu altında «Moskva» jurnalları davam etdirmişdir.\n",
       "1970-ci il noyabrın 5-də partiyanın MK-nın Katibliyinin iclası olmuşdur. «Gənc qvardiya» («Молодая гвардия») jurnalının redaktoru, keçmiş qırıcı-təyyarəçi A.V.Nikonov, V.Çalmayev və S.Semanovun məqaləsini çap etdirdiyi üçün vəzifələrindən azad edilmişdir. Onun yerinə MK-nın təlimatçısı F.Y.Ov-çarenko təyin olundu. 1972-ci ildə onun ölümündən sonra jurnalın redaktoru vəzifəsinə keçmiş redaktorun ideya silahdaşı, «Kölgələr günorta itir» («Тени изчезают в полдень») romanının və «Əbədi çağırış» («Вечный зов». 19701976) trilogoyiasının müəllifi görkəmli yazıçı A.S.İvanov təyin edilmişdir.\n",
       "Brejnev hakimiyyətinə qarşı obyektiv müxalifət mövqeyindən çıxış edən mərkəzlərdən biri 1966-cı ildə yaradılan Tarix və Mədəniyyət Abidələrini Qoruyan Ümumrusiya Cəmiyyəti olmuşdur. Hərəkatın rəhbərləri görkəmli vətənpərvərlər, arxeoloq və tarixçi B.A.Rıbakov, kimyaçı-fizik İ.V.Petryanov-Sokolov, rəssamlar P.Korin və İ.Qlazunov, yazıçılar L.Leonov, V.Solouxin, V.D.İvanov, Moskva Kreml muzeyinin rəhbəri V.N.İvanov olmuşdur. 1968-1969-cu illərdə mərkəzdə rus tarixi və mədəniyyətini kompleks şəkildə öyrənən «Rus klubu» fəaliyyətə başlamışdı ki, bu da qeyri-leqal rus ziyalılarının birliyi idi. İlk dəfə olaraq birlik rus mədəniyyəti və mənəviyyatının təşəkkülü məsələlərini müzakirə etməyə başlamışdı. Yazıçılar A.İ.Bayquşev, V.A.Çivilixin, şairlər İ.İ.Kobzev, S.Y.Kunyayev, Q.V.Serebryakov, V.V.Sorokin, tənqidçi və ədəbiyyatşünas V.A.Çalmayev, Y.L. Prokuşev, jurnalistlər İ.D.Zaxarçenko, A.V.Nikonov, QULAQ məhkum həyatı yaşamış publisist O.V.Volkov və d. klubun fəal üzvlərindən idi.\n",
       "B.Ş.Okucava, Y.İ.Vizbor, Y.Ç.Kim və V.S.Vısotskinin müəllif mahnıları milyonları coşduraraq əsl şəhər folkloruna çevrilmişdi. Onların sovet reallığını tənqid edən mahnılar maqnitofon yazılışı ilə əhali arasında yayılaraq «maq-nitofon inqilabının» əsasını qoymuşdur. V.Vısotskinin azadolmayan hissləri tərənnüm edən mahnıları cəmiyyətin müxtəlif təbəqələri arasında eyni dərəcədə şöhrət qazanmışdı. Ziyalıların arasında təqibi nəticəsində Yazıçılar İttifaqı və Kinematoqrafçılar İttifaqının üzvlüyündən azad edilən və xaricə mühacirətə getməyə məcbur olan A.A.Qaliçin bədii yaradıcılığı geniş şöhrət qazanmışdır. Liberal ziyalıların hakimiyyətlə olan əlaqələrinin gündən-günə pisləşməsi onların fərqli düşünənlər hərəkatını müdafiə etməsinə səbəb oldu.\n",
       "Hakimiyyətin yeritdiyi rəsmi siyasətə qarşı öz etirazlarını açıq və mərdliklə bildirən dissident hərəkatı meydana gəldi. 1968-ci il avqustun 25-də Qızıl meydanda sovet qoşunlarının Çexoslovakiyaya müdaxiləsinə etiraz əlaməti olaraq səkkiz nəfər, o cümlədən tələbə T.Bayeva, filoloqlar K.Ba-bitski, L.Boqoraz-Bruxman, şair V.Delone, fəhlə V.Dremlyuq, fizik P.Lit-vinov, sənətşünas V.Faynberq və şairə N.Qorbanevskaya aksiya təşkil etdilər. Onların hamısı həbs edilərək həbs düşərgələrinə, sürgün və ya məcburi psixi müalicəxanaya göndərildi.\n",
       "\n",
       "Yeni hakimiyyətin baş ideoloqu rolunu icra edən M.A.Suslov ilk gündən N.S.Xruşşov dövrünün mədəni mülayimləşmə mərhələsinə qarşı olduğunu açıq bildirdi. 1965-ci ildə yazıçılar A.D.Sinyavski «Məhkəmə gedir» («Суд идет»), «Lyubimov», Y.M.Daniel «Danışır Moskva» («Говорит Москва»), «Bağışlanma» («Искупление») adlı totalitarizmin sosial və psixoloji mahiyyətindən bəhs edən əsərlərin xaricdə və şair V.Y.Tarsisin «Sfinks» «Gizli Nəşr» jurnalında çap etdirdikləri üçün həbs edildilər. «Sovet dövlətini və ictimai quruluşunu ləkələdikləri» üçün A.Sinyavski yeddi, Y.Daniel beş il müddətinə azadlıqdan məhrum edildilər. Bu, XX qurultaydan sonra SSRİ-də keçirilən birinci açıq siyasi məhkəmə prosessi kimi tarixdə öz yerini tutdu. 1966-cı ildə Sov.İKP-nin XXIII qurultayının ünvanına görkəmli mədəniyyət xadimləri K.İ.Çukovski, İ.Q.Erenburq, V.B.Şklovski, P.Q.Antokolski, V.A.Kaverin və b. imzası ilə yazıçılar A.Sinyavski və Y.Danielin müdafiəsi məqsədilə məktubla müraciət etdilər. Eyni zamanda yaradıcı ziyalıların bir çoxu hakim partiyanın kursunu müdafiə edirdi. Onlar arasında L.S.Sobolev, S.P.Antonov, K.A.Fedin, N.S.Tixonov, K.M.Simonov, A.A.Surkov, S.V.Mixalkov və b. var idi. 1968-ci ilin aprelindən dissident hərəkatı iki-üç aydan bir gizli surətdə çap etdirdiyi «Cari hadisələrin xronikası» («Хроника текущих событий») nəşrini buraxdı ki, burada da hakimiyyətin azadlıq üzərinə hücumları öz əksini tapırdı. 1968-ci ilin aprelindən 1983-cü ilə kimi onu tərtib edən N.Y.Qorbanevskaya və b. «gizli nəşr» vasitəsilə «hüquq müdafiəçiləri bülleteni»nin 64 nömrəsini buraxmışdır.\n",
       "1960-cı illərin axırlarından dissident cərəyanları «Demokratik hərəkatda» birləşərək üç ideologiya istiqaməti müəyyən etdi. Bunlar öz hərəkat proqramlarına uyğun olaraq Roe və Jores Medvedevin təmsil etdikləri «əsl marksizm-leni-nizm», A.Saxarovun liberalizm və A.Soljenitsının müdafiə etdiyi «xristian ideologiyası» istiqamətləridir. Birinci proqramın ideyası ondan ibarətdir ki, İ.Stalin marksizm-leninizm ideologiyasını təhrif etdiyi üçün onun köklərinə qayıtmaqla cəmiyyəti sağlamlaşdırmaq mümkündür. İkinci proqram tədricən Qərb tipli demokratiyaya ictimai mülkiyyəti qorumaq şərtilə keçməyi nəzərdə tuturdu. A.Soljenitsının müdafiə etdiyi üçüncü proqram xristian əxlaqı dəyərini cəmiyyətin həyatının əsası kimi irəli sürərək slavyanofillər kimi Rusiyanın özünəməxsus ənənəsini önə çəkirdi. Xüsusilə iki görkəmli tarixi şəxsiyyət A.Soljenitsın və A.Saxarov dissident hərəkatının simvolları kimi öz ölkələrində təcrid edilməklərinə baxmayaraq bütün dünyada şöhrət qazanırdılar. 1968-ci ildə Qərbdə A.İ.Soljenitsının «Dairədə birinci» («В круге первом») romanı dərc edildi ki, müəllif öz həbsinin son illərini keçirdiyi Moskva altındakı Baş Düşərgə İdarəsi sisteminə daxil olan elmi institut və konstruktor bürolarında çalışan məhbusların həyatının bir hissəsindən bəhs edir. Buna cavab olaraq hakimiyyəti təmsil edənlər onu Yazıçılar İttifaqının sıralarından xaric etdilər. 1970-ci ildə A.İ.Soljenitsın ədəbiyyat üzrə Nobel mükafatına layiq görüldü. 1973-cü ildə yazıçının Qərbdə «QULAQ Arxipelaqı» romanının birinci cildi çapdan çıxdı. 1974-cü ilin fevralında A.Soljenitsın dövlətə xəyanət maddəsilə sovet vətəndaşlığından məhrum edilərək SSRİ-dən sürgün edildi.\n",
       "1970-ci ildə Sovet İttifaqında görkəmli fizik və riyaziyyatçı alim, hidrogen bombasının yaradıcılarından biri A.D.Saxarov və məhşur riyaziyyatçı İ.R.Şa-fareviçin iştirakı ilə İnsan Hüquqlarının Müdafiə Komitəsi yaradıldı. 1973-cü ildə «Beynəlxalq əfv» təşkilatının rus bölməsi meydana gəldi. Onun üzvləri hakimiyyət orqanlarının təqibinə məruz qalan fərqli düşünənlər haqqında məlumat toplayır, onlara hüquqi və maddi yardım edir, onların fəaliyyətinə dair məlumatları beynəlxalq mərkəzlərə ötürürdülər. Xüsusilə hakimiyyəti orduya da sirayət edən fərqli düşünənlərin fəaliyyəti bərk narahat etdi. 1969-cu ildə Baltik donanması zabitlərinin yaratdığı «Demokratik hüquqlar uğrunda mübarizə ittifaqı» darmadağın edildi. 1975-ci ildə Baltik donanmasının «Storo-jevoy» gəmisində üsyan başladı, heyət xalqı mövcud rejimə qarşı çıxış etməyə çağırdı. Gəmi havadan hücuma məruz qaldı, üçüncü həmlədən sonra «sto-rojevoy» böyük qayıq əleyhinə gəminin komandirinin siyasi hissə üzrə müavini V.M.Sablinin başçılığı altındakı üsyan yatırıldı və ondan başqa heç kim cəzalandırılmadı. Təqib, təzyiq və həbslərə baxmayaraq, hüquq müdafiəçiləri hərəkatı artmaqda davam edirdi. Onun önəmli liderlərindən biri məhz akademik A.D.Saxarov idi. 1975-ci ildə ona hüquq müdafiəsi fəaliyyətinə görə Nobel sülh mükafatı təqdim edildi. Buna cavab kimi sovet hakimiyyəti mətbuat səhifələrində akademikə qarşı ittiham dolu məqalələr çap edilməsini təşkil etdi. 1980-ci ildə isə A.Saxarov əcnəbilər buraxılmayan Qorki şəhərinə sürgün edildi.\n",
       "1975-ci ildə SSRİ Helsinki Yekun Aktına qol çəkdi ki, bu bir tərəfdən Avropanın müharibədən sonrakı sərhədlərini təsdiq etdiyi üçün sovet diplomatiyasının uğuru idi, digər bir tərəfdən isə Sovet İttifaqı insan hüququna hörmət etməyi öz öhdəsinə götürdüyünə görə açıq repressiyalar artıq mümkün deyildi. Yekun aktının humanitar maddələrinin pozulmasına dair məlumat toplamaq məqsədilə Y.F.Orlovun rəhbərliyi altında sovet hüquq müdafiəçiləri Moskva Helsinki Qrupunu yaratdılar. MHQ dissident hərəkatının başqa qrupları ilə sıx əməkdaşlıq edərək 1982-ci ilə kimi fəaliyyət göstərdi. Hüquq müdafiəçiləri hərəkatının fəal üzvlərinin sayı çox deyildi. 1975-ci ildə «siyasi ziyankar əməlinə» görə 20 min nəfərə yaxın adam DTK-nın «profilaktik təd-birləri»nə məruz qalmışdır. Ancaq «gizli nəşr» və xarici verilişlər nəticəsində onların fəaliyyəti ölkədə geniş əks-səda doğururdu. Hüquq müdafiəçiləri mənəvi azadlıq axtaran intellektual elita ilə qarşılıqlı əlaqə saxlayırdılar. 1966-1988-ci illərdə «SSRİ vətəndaşı» yüksək adını ləkələdiyi, SSRİ dövlətinin nüfuzu və təhlükəsizliyinə zərər verdiyi üçün 100 nəfərə kimi adam, o cümlədən M.S.Voslenski (1976), P.Q.Qriqorenko (1978), V.P.Aksenov (1980), V.N.Voynoviç (1986) vətəndaşlıqdan məhrum edilmişdir. Q.Vins, A.Ginzburq, V.Morov, M.Dımşits, E.Kuznetsov kimi həbsdə olan müxalifətçilər xaricdə həbs edilən iki sovet kəşfiyyatçısı ilə, V.K.Bukovski isə Çili kommunistlərinin həbsə atılan lideri L.Korvalanla dəyişdirilmişdir.\n",
       "Hakimiyyət orqanları dissidentlərlə mübarizə vasitələri kimi müvafiq qanunvericilikdən və kütləvi informasiyanın qaralama kampaniyalarından istifadə edirdilər. DTK cəza tədbirlərinin başlıca təşkilatçısı idi. Dissidentlər bir qayda olaraq, sovet ümumxalq dövlətinin zəiflədilməsi və nüfuzdan salınmasına yönəldilmiş təhlükəli ictimai fəaliyyətdə, dövlət və quruluşu, SSRİ-nin xarici təhlükəsizliyini dağıtmaq məqsədilə çalışmaqda ittiham olunurdular. SSRİ Ali Məhkəməsi və Prokurorluğun rəsmi məlumatına əsasən, ölkədə 1956-1987-ci illərdə 8145 adam oxşar maddə ilə məhkum edilmişdir. 1956-1960-cı illərdə hər il orta hesabla 935, 1961-1965-ci illərdə 214, 1966-1970-ci illərdə 136, 1971-1975-ci illərdə 161, 1976-1980-ci illərdə 69, 1981-1985-ci illərdə 108 nəfər adam mühakimə olunmuşdur.\n",
       "Həyat göstərdi ki, bir neçə yüz nəfər mövcud rejimə qarşı fərqli düşünən insan Qərbin də mənəvi və maddi köməyi sayəsində ölkə vətəndaşlarının böyük bir hissəsinin rəğbətini qazanaraq rejimə qarşı müxtəlif vasitələrlə mübarizə aparmışdır. Qarşıdurma hər şeydən əvvəl, cəmiyyətdəki ziddiyyətin nəticəsində baş vermişdir. Dissidentlik ideyasını dünyanın kütləvi informasiya vasitələri daha da populyarlaşdırmışdır. Təkcə akademik A.D.Saxarov 1972-1979-cu illərdə 150 mətbuat konfransı təşkil etmiş, xarici radiolar üçün 1200 veriliş hazırlamışdır.\n",
       "1980-ci illərin ikinci yarısından SSRİ-də dissident hərəkatı dayandırılmışdı, həbsdə olan dissidentlər azad edilmişdir. 1986-cı ildən dissident qruplarının yerini siyasi klublar, sonra isə xalq cəbhələri tutmuşdur.\n",
       "L.İ.Brejnev və onun yaxın ətrafı sovet cəmiyyətində, hətta hakimiyyət aparatında müxalifətin meydana gəlməsini görməzlikdən gələrək ölkədəki vəziyyət və onun perspektivləri haqqında açıq müzakirə açmağa cəsarət etmədilər.\n",
       "\n",
       "\n",
       "Müəllif: Tahir Baxşəliyev   \n",
       "Mənbə: RUSİYA TARİXİ ƏN QƏDİM ZAMANLARDAN GÜNÜMÜZƏDƏK\n",
       " & {[}'Rusiya tarixi', 'SSRİ dövləti', 'SSRİ', 'yenistalinizm', 'Brejnev'{]}\\\\\n",
       "\\end{tabular}\n"
      ],
      "text/markdown": [
       "\n",
       "A data.frame: 1 × 8\n",
       "\n",
       "| <!--/--> | Unnamed..0 &lt;int&gt; | url &lt;chr&gt; | title &lt;chr&gt; | author &lt;chr&gt; | category &lt;chr&gt; | date &lt;chr&gt; | content &lt;chr&gt; | tags &lt;chr&gt; |\n",
       "|---|---|---|---|---|---|---|---|---|\n",
       "| 50 | 49 | https://kayzen.az/blog/politologiya/27776/ssri-1960-c%C4%B1-ill%C9%99rin-ikinci-yarisi-1980-ci-ill%C9%99rin-ortalarinda.html |  SSRİ 1960-cı İLLƏRİN İKİNCİ YARISI -1980-ci İLLƏRİN ORTALARINDA | gunelb | Tarix və politologiya | 28 fevral 2023, 00:10 | \n",
       "İctimai-siyasi həyat\n",
       "N.S.Xruşşovun istefası ilə onun başladığı ictimai-siyasi həyatın liberallaşması prosesinin dəyişiklikləri dayandı. N.S.Xruşşovun istefasının təşəbbüskarı və təşkilatçılardan biri olan L.İ.Brejnev Sov.İKP MK-nın birinci katibi (1966-cı ildən Baş katibi) seçildi. Brejnev Leonid İliç (1906-1982) Yekaterinoslav quberniyasının Kamensk qəsəbəsində fəhlə ailəsində doğulmuşdur. 1935-ci ildə Metallurgiya İnstitutunu bitirmiş, 1939-cu ildən partiya işinə keçmişdir. Böyük Vətən müharibəsində siyasi işçi kimi iştirak edərək general-mayor rütbəsində 4-cü Ukrayna cəbhəsinin siyasi idarəsinin rəisi olmuşdur.  Qazaxıstan KP MK-nın birinci katibi kimi xam torpaqların mənimsənilməsində iştirak etmiş, 1960-cı ildən SSRİ Ali Soveti Rəyasət Heyətinin sədri seçilmişdir. N.S.Xruşşovun istefasının təşkilatçılarından biri olan L.İ.Brejnev 1964-cü ilin oktyabrın 14-də Sov.İKP MK-nın birinci katibi seçildi. Yeni birinci katib yumşaq, təvazökar, protokol qaydalarına ciddi əməl edən partiya rəhbəri kimi tarixə düşmüşdür. Xüsusilə ömrünün son illərində təntənəyə, təltiflərə, tərifə aludə olan L.Brejnevin dörd dəfə Sovet İttifaqı Qəhrəmanı, Sovet İttifaqı Marşalı, SSRİ Ali Soveti Rəyasət Heyətinin sədri, Müdafiə Şurasının sədri adları və vəzifələrinə sahib olmuşdur. Hakimiyyətdə olduğu müddətdə L.Brej-nev 114 dəfə SSRİ-nin Ali dövlət mükafatı ilə təltif edilmişdir. Onun ünvanına yağan tərif və təltiflər uzun müddət sovet cəmiyyətində istehza və rişxəndlə qarşılanmışdır. Eyni zamanda çox ehtiyatlı və mühafizəkar bir şəxs olan L.İ.Brejnev cəmiyyətdə sabitliyin təmin edilməsinə xüsusi önəm verirdi.\n",
       "SSRİ Nazirlər Sovetinin sədri təyin edilən A.Kosıgin, Xarkov vilayət partiya komitəsinin sabiq katibi, Mərkəzi Komitənin kadr məsələsi üzrə katibi olan N.Podqornı, Rəyasət Heyətinin tərkibinə daxil edilən P.Şelest, MK-nın katibi, Partiya Nəzarət Komitəsinin sədri, Nazirlər Sovetinin sədr müavini N.Şelepin və Rəyasət Heyətinin üzvü, ideologiya sahəsində məsul şəxs M.Sus-lov yeni hakimiyyətin nüvəsini təşkil edirdilər. 1964-cü ildəki noyabr Plenumu N.S.Xruşşovun dövründə sənaye və kənd partiya təşkilatlarına bölünən orqanları bütün səviyyələrdə, o cümlədən sovet, həmkarlar, komsomol təşkilatlarının vahid təşkilatlarda birləşmələrini qərara aldı. 1964-cü ilin dekabrından başlayaraq diyar, vilayət və rayon komitələri bərpa edildi. 1965-ci ildə xalq təsərrüfatı şuraları ləğv olundu və iqtisadiyyatın sahələr üzrə idarə edilmə prinsipi bərpa edildi. 1966-cı ildə Sov.İKP-nin XXIII qurultayında N.S.Xruş-şovun şəxsi təşəbbüsü ilə partiyanın Nizamnaməsinə daxil edilən seçkili partiya orqanları rəhbərlərinin vaxtaşırı məcburi dəyişdirilməsi qaydası Nizamnamədən çıxarıldı. İ.Stalin dövrünün qorxusu və N.Xruşşov dövrünün saysız-hesabsız yenilikləri ilə ümidsizliyə qapılan partiya aparatı yeni hakimiyyətin partnomenkla-turanı şəriksiz hakimiyyətə qovuşdurmasını sevinclə qarşıladı. L.İ.Brejnev XXIII qurultayda Baş katib seçildi, Mərkəzi Komitənin Rəyasət Heyəti yenidən Siyasi Büro adlandırıldı. Mərkəzi Komitənin üzvlərinin sayı 1966-cı ildəki 300 nəfərdən 10 il ərzində 40% artaraq 420 nəfərə çatdı. Şəxsi sədaqətin və başda duran rəhbərə danışıqsız tabe olmaq vərdişlərinin işçinin qabiliyyətindən ön plana keçdiyi 70-ci illərdə özünəməxsus «sovet feodalizmi»n xatırladan partiya ailəçiliyi yüksək həddə çatmışdı. Buna qarşı İ.Stalin dövlət terroru, N.S.Xruşşov isə qanuni vasitələrlə uzun müddət mübarizə aparmışdır.\n",
       "\n",
       "Ölkənin yeni rəhbərləri Sov.İKP MK-nın birinci katibi L.Brejnev ilə SSRİ Nazirlər Sovetinin sədri A.Kosıgin arasında iqtisadi strategiyanın müəyyən edilməsində fikir ayrılığı mövcud idi. L.Brejnev ilk olaraq kənd təsərrüfatı, ağır sənaye, müdafiənin, 1972-ci ildən isə «Sibirin mənimsənilməsinin» tərəfdarı idi. Hökumətin başçısı A.Kosıgin vətəndaşların həyat səviyyəsinin yüksəldilməsinin əsası olan yüngül sənayeni ön plana çəkirdi. Kosıgin Aleksey Nikolayeviç (1904-1980) Peterburqda fəhlə ailəsində doğulmuşdur. Vətəndaş müharibəsi illərində Qızıl Ordu sıralarında xidmət etmiş, Leninqrad Toxuculuq İnstitutunu bitirmişdir. 1940-1946-cı illərdə SSRİ XKS sədrinin müavini kimi müəssisələrin şərqə köçürülməsi və orada ölkənin sənaye bazasının yaradılması işinə rəhbərlik etmişdir. Maliyyə, yüngül və ərzaq sənayesi nazirləri, SSRİ Dövlət Plan Komitəsinin sədri vəzifələrində çalışmışdır. 1964-1980-ci illərdə SSRİ Nazirlər Sovetinin sədri, Sov.İKP MK Siyasi Bürosunun üzvü olmuşdur.\n",
       "\n",
       "İqtisadi srategiyanın müəyyən edilməsində olduğu kimi, siyasi məsələlərin həlli yolunda da partiya rəhbərliyi arasında fikir ayrılığı və çəkişmələr qalırdı. Siyasi məsələlərin həllinə mühafizəkar münasibətin tərəfdarları L.Brejnev və özünü partiyalılıq prinsipinə söykənən təmiz sovet ideologiyasının qoruyucusu kimi təqdim edən M.Suslov idi. Onların belə mühafizəkar mövqeyi 70-ci illərin ikinci yarısında daha da güclənərək A.Kosıginin texnokrat istiqamətli tədbirlərinin məhdudlaşdırılmasına, bəzi partiya liderlərinin mövqelərinin zəiflədilməsinə yönəldi. Partiya və dövlətin üst qatlarında yerləşən rəhbər kadrların iddia və vəzifə çəkişmələri 1965-ci ilin sonuna doğru N.Xruşşovun istefaya göndərilməsinin təşkilatçılarından olan N.Podqornı və A.Şelepinin mövqeyinin xeyli zəifləməsi ilə müşayiət olundu. A.Şelepin Mərkəzi Həmkarlar Şurasının sədri təyin edilərək, əslində dövlət hakimiyyətindən uzaqlaşdırılmış oldu. N.Podqornı isə fəxri kürsü hesab edilən SSRİ Ali Sovetinin sədri seçildi. A.N.Şelepinin komsomol yoldaşı, onu DTK-nın başçısı vəzifəsində əvəz etmiş V.S.Semiçastnı 1967-ci ilin martında Stalinin qızı Svetlana Alliluyevanın daimi yaşamaq məqsədi ilə Qərbdə qaldığı səbəbi ilə vəzifəsini itirdi.\n",
       "\n",
       "1966-cı ilin aprelində Sov.İKP-nin XXIII qurultayında Baş katib seçildikdən sonra L.İ.Brejnev müharibəyə qədər siyasi fəaliyyətə başladığı Dnepropet-rovskidən olan kadrları öz ətrafına yığmağa başladı. 1966-cı ildə N.Podqornını Mərkəzi Komitənin katibi vəzifəsində «dnepropetrovsk qruplaşması»na daxil olan A.P.Kirilenko əvəz etdi. L.Brejnevə yaxın olan K.U.Çernenko, V.V.Şerbitski, D.A.Kunayev, N.A.Şelokov mühüm vəzifələrə təyin edildilər.\n",
       "Ağır sənaye, hərbi sənaye kompleksi və müdafiənin inkişafına üstünlük verən L.Brejnevin həyata keçirdiyi tədbirləri hərbçilər müdafiə edirdi. 1966-cı ilin əvvəllərində hərbçilər elan edilən azalan hərbi xərclərin yenidən baxılmasına nail oldular. Müdafiə sənayesinə rəhbərlik edən general D.F.Ustinov Mərkəzi Komitə Siyasi Bürosunun üzv namizədliyinə və Katibliyin tərkibinə daxil edildi. 1967-ci ilin martında Müdafiə Naziri P.Y.Malinovski vəfat etdikdən sonra bu vəzifəyə hərbçilərin təkidi ilə A.A.Qreçko təyin olundu. Yalnız onun ölümündən sonra 1976-cı ilin aprelində D. Ustinov müdafiə naziri təyin edildi. 1976-cı il mayın 7-də L.İ.Brejnev Sovet İttifaqı Marşalı oldu. Əslində bu partiya liderinin hərbçilərin rəhbəri ilə işbirliyinin nəticəsi idi. İki gün keçdikdən sonra Dnepropetrovsk əhalisi öz həmyerlisinin əzəmətli heykəlinin açılışında iştirak etdi.\n",
       "70-ci illərdə tamamilə aydın oldu ki, 1961-ci ildə Sov.İKP Proqramında elan edilən kommunizm quruculuğu konsepsiyası, həqiqətdən, çox uzaq olub, daha çox mifə bənzəyir. Odur ki, sovet rəhbərliyi kommunizm quruculuğu və dövlətin ölüb getməsi yerinə hətta marksizm-leninizm klassiklərinin əsərlərində olmayan inkişaf etmiş sosializm konsepsiyası irəli sürdü. 1966-cı ilin dekabrın 21-də F.M.Burlatski «Pravda» qəzetində «İnkişaf etmiş sosializm cəmiyyəti quruculuğuna dair» məqalə çap etdirmişdir. 1967-ci ildə Oktyabr inqilabının 50 illyi ilə əlaqədar nitqində L.İ.Brejnev elan etdi ki, SSRİ-də artıq inkişaf etmiş sosializm cəmiyyəti qurulmuşdur. Bu yeni anlayış nəzəriyyə ilə həyat arasındakı uçurumu xeyli azaldaraq uzun bir tarixi mərhələni əhatə etməklə kommunizm quruculuğunu, dövlətin ölüb getməsini sonu bəlli olmayan uzaq gələcəyə istiqamətləndirirdi. 1977-ci il oktyabrın 7-də qəbul edilən Sovet Sosialist Respublikalar İttifaqının Konstitusiyası (Əsas Qanun) SSRİ-də inkişaf etmiş sosializmin qurulduğunu təsbit etdi. 1977-ci il L.İ.Brejnev Konstitusiyası girişdən, 9 bölmədən, 21 fəsildən, 174 maddədən ibarətdir. Müqayisə üçün qeyd edək ki, 1936-cı il Konstitusiyasının yalnız 13 fəsli, 146 maddəsi var idi.\n",
       "\n",
       "Yeni Sovet Konstitusiyası elan etdi ki, SSRİ artıq proletariat diktaturası dövləti olmayıb «fəhlələrin, kəndlilərin və ziyalıların, ölkənin bütün millət və xalqlarının zəhmətkeşlərinin iradəsini və mənafeyini ifadə edən ümumxalq sosialist dövlətidir». Sovet dövlətinin ümumxalq xarakteri sovetlərin yeni xalq deputatları sovetləri adında öz əksini tapmışdır. Bütün hakimiyyətin SSRİ-nin siyasi əsasını təşkil edən xalq deputatları sovetlərinə məxsus olması təsbit edilsə də, real olaraq bütün səviyyələrdə sovetlərin əslində heç bir hakimiyyəti yox idi, onlar yalnız partiya orqanlarının göstəriş və qərarlarını yerinə yetirirdilər. Konstitusiyanın 6-cı maddəsində inkişaf etmiş sosializm cəmiyyətinin siyasi sisteminin özəyi olan Kommunist Partiyasının rəhbər və istiqamətverici rolu rəsmi olaraq qanunvericilik yolu ilə təsbit edilmişdi. Bu rəsmi təsbit əslində ictimai həyatın bütün sahələrində hakim rol oynayan partiya aparatının mövqeyinin formal olaraq möhkəmlənməsi idi.\n",
       "Konstitusiyada qeyd olunan əsas yenilik inkişaf etmiş sosializmin qurulmasının təsbit edilməsi və «ümumxalq dövləti»nin yaradılmasının elan edilməsidir. Beləliklə, dövlətin ölüb-getməsi qeyri-müəyyən vaxta təxirə salınaraq əsas diqqət qanunçuluğun və hüquq qaydalarının hərtərəfli möhkəmləndirilməsinə yönəldilmişdir. Dövlətin əsas vəzifəsi «sinifsiz kommunist cəmiyyəti» qurmaq idi. SSRİ-nin iqtisadi sisteminin əsasını istehsal vasitələri üzərində sosialist mülkiyyəti, siyasi sisteminin əsasını sovetlər, sosial əsasını fəhlə, kəndli və ziyalıların ittifaqı təşkil edirdi.\n",
       "İnkişaf etmiş sosializmin Konstitusiyasında 1918, 1924 və 1936-cı illərdəki Konstitusiyalarda olmayan yeni xarici siyasət məsələlərindən bəhs edən bölmə yer almışdır. Xarici siyasətin əsas istiqamətinin «SSRİ-də kommunizm qurmaq» üçün əlverişli beynəlxalq şəraitin təmin edilməsinə, «dünya sosializm sisteminin mövqeyinin möhkəmləndirilməsinə, xalqların milli azadlıq və sosial tərəqqi uğrunda mübarizəsinin» müdafiəsinə yönəldilməsi nəzərdə tutulmuşdur. SSRİ-nin sosialist ölkələrinə və müstəmləkəçilikdən azad olmuş dövlətlərə münasibətdə sosialist beynəlmiləlçiliyi prinsipi təsbit edilmişdir. Praktik olaraq bu vəziyyət çox zaman xalqların suveren bərabərlik prinsipi öhdəliyinə, onların öz müqəddəratını təyin etməsi hüququnun pozulması, sosialist dövlətlərinə xarici siyasət müdaxilənin əsaslandırılması ilə müşayiət olunurdu.\n",
       "İnkişaf etmiş sosializmin Kosntitusiyasına görə dövlət hakimiyyətinin ali orqanı olan ikipalatalı SSRİ Ali Soveti İttifaq Soveti və Millətlər Sovetindən ibarət idi. Ali Sovet mühüm dövlət məsələlərini, o cümlədən Ümumittifaq Konstitusiyasının dəyişdirilməsi, İttifaqın tərkibinə yeni respublikaların qəbulu, dövlət büdcəsinin, sosial və iqtisadi inkişaf planının qəbul edilməsini həll etmək hüququna malik idi. SSRİ Ali Sovetinin sessiyaları arasında onun vəzifəsini Rəyasət Heyəti yerinə yetirirdi. SSRİ Nazirlər Soveti dövlət idarəçiliyi sistemi vasitəsilə cari idarəçilik işlərinə rəhbərlik edirdi.\n",
       "Yeni Brejnev Konstitusiyasında milli-dövlət quruluşu məsələsi 1936-cı il Konstitusiyasında olduğu kimi qalmışdır. 69-cu maddəyə əsasən, SSR İttifaqı «vahid çoxmillətli ittifaq dövləti» kimi təsbit edilmişdir ki, bu da mərkəzi fede-ralizmin möhkəmləndirilməsi demək idi. Bu maddə ilə ziddiyyət təşkil edən Konstitusiyanın 71-ci maddəsi hər bir respublikanın «SSRİ-dən azad çıxmaq hüququnu», 75 və 80-ci maddələr isə onların suverenliyini elan etmişdir.\n",
       "1977-ci il SSRİ Kosntitusiyası Brejnev daxili və xarici siyasət istiqamətinin mühafizəkar xüsusiyyətini qəti olaraq müəyyən edib, partiyanın cəmiyyət üzərində sərt nəzarətini qanuniləşdirərək, milli məsələlərdəki təhlükəli ziddiyyətləri müəyyən müddətə dondurmuş oldu.\n",
       "N.S.Xruşşovun istefasından sonra şəxsiyyətə pərəstiş siyasətinin tənqidi, demək olar ki, başa çatdı. Həbs düşərgələri və repressiyaya məruz qalan şəxslər haqqında dərc edilən məqalələr mətbuat səhifələrindən yoxa çıxdı. Rəsmi tənqid sovet tarixinə qara ləkə yaxanlara qarşı sipər aldı. Eyni zamanda mətbuatda İ.V.Stalinin Böyük Vətən müharibəsi dövründə Ali Baş Komandan kimi xidmətlərindən bəhs edən məqalələr dərc edilirdi. Hətta Sov.İKP-nin XXIII qurultayı ərəfəsində İ.Stalinə rəsmi olaraq bəraət verilməsi nəzərdə tutulduğu halda rəhbərlik açıq olaraq XX qurultayın qərarlarına yenidən baxılmasına yol verməyərək, bu məsələnin tədricən səs-küysüz həll etməyi qərara aldı. Çox güman ki, İ.V.Stalinin bəraəti ilə bağlı görkəmli elm və mədəniyyət xadimlərinin Mərkəzi Komitəyə yazdıqları etiraz məktubları və ziyalıların bu məsələyə mənfi münasibəti partiya və dövlət rəhbərliyini belə bir addım atmağa sövq etmişdir. 1969-cu ildə İ.V.Stalinin anadan olmasının 90 illiyi ilə əlaqədar olaraq XX qurultayın kursunun dəyişdirilməsinə Sov.İKP-nin ali hakimiyyət nümayəndələrindən Q.İ.Voronov, K.T.Mazurov, P.M.Maşerov, D.S.Polyanski, A.N.Şelepin yenidən cəhd etsə də, ziyalıların və xarici kommunist partiyaları liderlərinin kəskin etirazı buna mane oldu. Sovet rəhbərliyi «Pravda» qəzetində İ.Stalinin fəaliyyəti haqqında ehtiyatla, ölçülü bir məlumat dərc etdirməklə kifayətləndi. Rəsmi senzura G.K.Jukovun xatirələrindən ibarət olan kitabından İ.Stalin haqqındakı tənqidi fikirləri çıxardı. Tədricən İ.Stalinin obrazı kino ekranlarında, xüsusilə Böyük Vətən müharibəsindən bəhs edən filmlərdə göründü.\n",
       "L.İ.Brejnevin başçılıq etdiyi partiya elitasının İ.V.Stalinin bəraitinə cəhd etməsi A.T.Tvardovskinin başında durduğu «Yeni dünya» («Новый мир») jurnalının təmsil etdiyi cəmiyyətin liberal əhvali-ruhiyyəli hissəsinin müqaviməti ilə üzləşdi. «Yeni dünya» jurnalının tənqidçi yazarları V.Y.Lakşin, İ.T.Vinoqradov, A.İ.Kondratoviç ədəbiyyatda Stalin ənənələrinə qarşı barışmaz mübarizə aparırdılar. «Yeni dünya» jurnalının əsas opponentləri ehkamçı stalinçi mövqeyi müdafiə edən «Oktyabr» və «Molodaya qvardiya» jurnalları idi. 1969-cu ildə «Oktyabr» jurnalının baş redaktoru V.A.Koçetov «Sən nə istəyirsən» («Чего же ты хочешь») romanını çap etdirdi və bu, cəmiyyətdə ziyalılara həcv kimi qəbul edildi. Romanda partiya qurultaylarında keçmişin tənqidinin qəbul edilməz olduğundan, ölkəyə Qərbin təsirinin zərərindən bəhs edilirdi. Yazıçı liberal ziyalılarla yanaşı, «millətçi slavyanpərəstləri» də tənqid etmişdir. «Pravda» qəzeti «Yeni dünya» jurnalın düzgün olmayan ideya mövqeyinə, «Oktyabr» jurnalın çap olunan əsərləri keyfiyyətin aşağı tələbkarlığa görə tənqid etdi. «Molodaya qvardiya» jurnalı 60-cı illərin ortalarından milli əsaslara söykənən mövqedən çıxış edirdi. Onun müəllifləri M.Lobanov, S.Semanov, V.Çalmayev Rusiyanın özünəməxsus inkişafını önə çəkərək mədəniyyətin amerikalılaşdırılmasına etiraz edir, Rusiyanı qəti olaraq Qərbə, ziyalıları isə xalqa qarşı qoyaraq açıq millətçiliyə meyil edirdilər.\n",
       "\n",
       "\n",
       "\n",
       "\n",
       "\n",
       "60-cı illərin axırlarında A.T.Tvardovskinin «Gizli Nəşr»də, sonra Qərbdə çap etdirdiyi «Yaddaş haqlılığı» («По право памяти») şəxsiyyətə pərəstişin dirçəldilməsinə qarşı yönəldilmiş antistalinçi poeması «Yeni dünya» jurnalı üzərinə hücumları gücləndirdi. Jurnalı kosmopolitizmdə təqsirləndirən Yazıçılar İttifaqının katibliyi A.Tvardovskinin bir sıra əməkdaşın redaksiya heyətindən uzaqlaşdırdı və baş redaktor da istefa verməyə məcbur oldu. Artıq əvvəlki «Yeni dünya» mövcud deyildi. Bu bir daha təsdiq etdi ki, inzibati vasitələrlə öz qələbəsini təmin edən partiya aparatı və onun rəhbərləri cəmiyyətdə açıq müzakirə aparmaq qabiliyyətindən çox uzaqdırlar. Odur ki, ictimai problemlərin həllinin müzakirələri rəsmi orqanlardan fərqli olaraq «gizli nəşr»lərə keçdi.\n",
       "SSRİ-də partiya və dövlətin müəyyən etdiyi rəsmi mədəniyyətin mühafizəkar xarakteri artdıqca rəsmi olmayan, alternativ mədəniyyət geniş miqyas aldı. Daha çox əhəmiyyət kəsb edən bədii ədəbiyyat əsərləri «gizli nəşr»lər vasitəsilə çap olunurdu. A.Q.Bitovun, F.A.İskəndərin, V.Yerofeyevin əsərləri yalnız Qərbdə çap edilirdi. V.P.Aksenov, A.D.Sinyavski, V.N.Voynoviç, S.D.Dovlatov və b. yazıçılar xarici ölkələrə mühacirət etməyə məcbur oldular.\n",
       "\n",
       "Yenistalinizm və «durğunluq» ideologiyasına qarşı duran qüvvələrdən biri də «kəndli» yazıçılar olmuşdur. F.Abramov, B.Belov, B.Mojayev, V.Ras-putin, V.Tendryakov kimi yazıçılar kollektivləşmənin rus kəndinin həyatındakı mənfi nəticələrindən ətraflı bəhs etmişlər. Bu xətti, eyni zamanda S.V.Viku-lovun baş redaktoru olduğu «Bizim müasirimiz» («Наш современник») və M.N.Alekseyevin baş redaktorluğu altında «Moskva» jurnalları davam etdirmişdir.\n",
       "1970-ci il noyabrın 5-də partiyanın MK-nın Katibliyinin iclası olmuşdur. «Gənc qvardiya» («Молодая гвардия») jurnalının redaktoru, keçmiş qırıcı-təyyarəçi A.V.Nikonov, V.Çalmayev və S.Semanovun məqaləsini çap etdirdiyi üçün vəzifələrindən azad edilmişdir. Onun yerinə MK-nın təlimatçısı F.Y.Ov-çarenko təyin olundu. 1972-ci ildə onun ölümündən sonra jurnalın redaktoru vəzifəsinə keçmiş redaktorun ideya silahdaşı, «Kölgələr günorta itir» («Тени изчезают в полдень») romanının və «Əbədi çağırış» («Вечный зов». 19701976) trilogoyiasının müəllifi görkəmli yazıçı A.S.İvanov təyin edilmişdir.\n",
       "Brejnev hakimiyyətinə qarşı obyektiv müxalifət mövqeyindən çıxış edən mərkəzlərdən biri 1966-cı ildə yaradılan Tarix və Mədəniyyət Abidələrini Qoruyan Ümumrusiya Cəmiyyəti olmuşdur. Hərəkatın rəhbərləri görkəmli vətənpərvərlər, arxeoloq və tarixçi B.A.Rıbakov, kimyaçı-fizik İ.V.Petryanov-Sokolov, rəssamlar P.Korin və İ.Qlazunov, yazıçılar L.Leonov, V.Solouxin, V.D.İvanov, Moskva Kreml muzeyinin rəhbəri V.N.İvanov olmuşdur. 1968-1969-cu illərdə mərkəzdə rus tarixi və mədəniyyətini kompleks şəkildə öyrənən «Rus klubu» fəaliyyətə başlamışdı ki, bu da qeyri-leqal rus ziyalılarının birliyi idi. İlk dəfə olaraq birlik rus mədəniyyəti və mənəviyyatının təşəkkülü məsələlərini müzakirə etməyə başlamışdı. Yazıçılar A.İ.Bayquşev, V.A.Çivilixin, şairlər İ.İ.Kobzev, S.Y.Kunyayev, Q.V.Serebryakov, V.V.Sorokin, tənqidçi və ədəbiyyatşünas V.A.Çalmayev, Y.L. Prokuşev, jurnalistlər İ.D.Zaxarçenko, A.V.Nikonov, QULAQ məhkum həyatı yaşamış publisist O.V.Volkov və d. klubun fəal üzvlərindən idi.\n",
       "B.Ş.Okucava, Y.İ.Vizbor, Y.Ç.Kim və V.S.Vısotskinin müəllif mahnıları milyonları coşduraraq əsl şəhər folkloruna çevrilmişdi. Onların sovet reallığını tənqid edən mahnılar maqnitofon yazılışı ilə əhali arasında yayılaraq «maq-nitofon inqilabının» əsasını qoymuşdur. V.Vısotskinin azadolmayan hissləri tərənnüm edən mahnıları cəmiyyətin müxtəlif təbəqələri arasında eyni dərəcədə şöhrət qazanmışdı. Ziyalıların arasında təqibi nəticəsində Yazıçılar İttifaqı və Kinematoqrafçılar İttifaqının üzvlüyündən azad edilən və xaricə mühacirətə getməyə məcbur olan A.A.Qaliçin bədii yaradıcılığı geniş şöhrət qazanmışdır. Liberal ziyalıların hakimiyyətlə olan əlaqələrinin gündən-günə pisləşməsi onların fərqli düşünənlər hərəkatını müdafiə etməsinə səbəb oldu.\n",
       "Hakimiyyətin yeritdiyi rəsmi siyasətə qarşı öz etirazlarını açıq və mərdliklə bildirən dissident hərəkatı meydana gəldi. 1968-ci il avqustun 25-də Qızıl meydanda sovet qoşunlarının Çexoslovakiyaya müdaxiləsinə etiraz əlaməti olaraq səkkiz nəfər, o cümlədən tələbə T.Bayeva, filoloqlar K.Ba-bitski, L.Boqoraz-Bruxman, şair V.Delone, fəhlə V.Dremlyuq, fizik P.Lit-vinov, sənətşünas V.Faynberq və şairə N.Qorbanevskaya aksiya təşkil etdilər. Onların hamısı həbs edilərək həbs düşərgələrinə, sürgün və ya məcburi psixi müalicəxanaya göndərildi.\n",
       "\n",
       "Yeni hakimiyyətin baş ideoloqu rolunu icra edən M.A.Suslov ilk gündən N.S.Xruşşov dövrünün mədəni mülayimləşmə mərhələsinə qarşı olduğunu açıq bildirdi. 1965-ci ildə yazıçılar A.D.Sinyavski «Məhkəmə gedir» («Суд идет»), «Lyubimov», Y.M.Daniel «Danışır Moskva» («Говорит Москва»), «Bağışlanma» («Искупление») adlı totalitarizmin sosial və psixoloji mahiyyətindən bəhs edən əsərlərin xaricdə və şair V.Y.Tarsisin «Sfinks» «Gizli Nəşr» jurnalında çap etdirdikləri üçün həbs edildilər. «Sovet dövlətini və ictimai quruluşunu ləkələdikləri» üçün A.Sinyavski yeddi, Y.Daniel beş il müddətinə azadlıqdan məhrum edildilər. Bu, XX qurultaydan sonra SSRİ-də keçirilən birinci açıq siyasi məhkəmə prosessi kimi tarixdə öz yerini tutdu. 1966-cı ildə Sov.İKP-nin XXIII qurultayının ünvanına görkəmli mədəniyyət xadimləri K.İ.Çukovski, İ.Q.Erenburq, V.B.Şklovski, P.Q.Antokolski, V.A.Kaverin və b. imzası ilə yazıçılar A.Sinyavski və Y.Danielin müdafiəsi məqsədilə məktubla müraciət etdilər. Eyni zamanda yaradıcı ziyalıların bir çoxu hakim partiyanın kursunu müdafiə edirdi. Onlar arasında L.S.Sobolev, S.P.Antonov, K.A.Fedin, N.S.Tixonov, K.M.Simonov, A.A.Surkov, S.V.Mixalkov və b. var idi. 1968-ci ilin aprelindən dissident hərəkatı iki-üç aydan bir gizli surətdə çap etdirdiyi «Cari hadisələrin xronikası» («Хроника текущих событий») nəşrini buraxdı ki, burada da hakimiyyətin azadlıq üzərinə hücumları öz əksini tapırdı. 1968-ci ilin aprelindən 1983-cü ilə kimi onu tərtib edən N.Y.Qorbanevskaya və b. «gizli nəşr» vasitəsilə «hüquq müdafiəçiləri bülleteni»nin 64 nömrəsini buraxmışdır.\n",
       "1960-cı illərin axırlarından dissident cərəyanları «Demokratik hərəkatda» birləşərək üç ideologiya istiqaməti müəyyən etdi. Bunlar öz hərəkat proqramlarına uyğun olaraq Roe və Jores Medvedevin təmsil etdikləri «əsl marksizm-leni-nizm», A.Saxarovun liberalizm və A.Soljenitsının müdafiə etdiyi «xristian ideologiyası» istiqamətləridir. Birinci proqramın ideyası ondan ibarətdir ki, İ.Stalin marksizm-leninizm ideologiyasını təhrif etdiyi üçün onun köklərinə qayıtmaqla cəmiyyəti sağlamlaşdırmaq mümkündür. İkinci proqram tədricən Qərb tipli demokratiyaya ictimai mülkiyyəti qorumaq şərtilə keçməyi nəzərdə tuturdu. A.Soljenitsının müdafiə etdiyi üçüncü proqram xristian əxlaqı dəyərini cəmiyyətin həyatının əsası kimi irəli sürərək slavyanofillər kimi Rusiyanın özünəməxsus ənənəsini önə çəkirdi. Xüsusilə iki görkəmli tarixi şəxsiyyət A.Soljenitsın və A.Saxarov dissident hərəkatının simvolları kimi öz ölkələrində təcrid edilməklərinə baxmayaraq bütün dünyada şöhrət qazanırdılar. 1968-ci ildə Qərbdə A.İ.Soljenitsının «Dairədə birinci» («В круге первом») romanı dərc edildi ki, müəllif öz həbsinin son illərini keçirdiyi Moskva altındakı Baş Düşərgə İdarəsi sisteminə daxil olan elmi institut və konstruktor bürolarında çalışan məhbusların həyatının bir hissəsindən bəhs edir. Buna cavab olaraq hakimiyyəti təmsil edənlər onu Yazıçılar İttifaqının sıralarından xaric etdilər. 1970-ci ildə A.İ.Soljenitsın ədəbiyyat üzrə Nobel mükafatına layiq görüldü. 1973-cü ildə yazıçının Qərbdə «QULAQ Arxipelaqı» romanının birinci cildi çapdan çıxdı. 1974-cü ilin fevralında A.Soljenitsın dövlətə xəyanət maddəsilə sovet vətəndaşlığından məhrum edilərək SSRİ-dən sürgün edildi.\n",
       "1970-ci ildə Sovet İttifaqında görkəmli fizik və riyaziyyatçı alim, hidrogen bombasının yaradıcılarından biri A.D.Saxarov və məhşur riyaziyyatçı İ.R.Şa-fareviçin iştirakı ilə İnsan Hüquqlarının Müdafiə Komitəsi yaradıldı. 1973-cü ildə «Beynəlxalq əfv» təşkilatının rus bölməsi meydana gəldi. Onun üzvləri hakimiyyət orqanlarının təqibinə məruz qalan fərqli düşünənlər haqqında məlumat toplayır, onlara hüquqi və maddi yardım edir, onların fəaliyyətinə dair məlumatları beynəlxalq mərkəzlərə ötürürdülər. Xüsusilə hakimiyyəti orduya da sirayət edən fərqli düşünənlərin fəaliyyəti bərk narahat etdi. 1969-cu ildə Baltik donanması zabitlərinin yaratdığı «Demokratik hüquqlar uğrunda mübarizə ittifaqı» darmadağın edildi. 1975-ci ildə Baltik donanmasının «Storo-jevoy» gəmisində üsyan başladı, heyət xalqı mövcud rejimə qarşı çıxış etməyə çağırdı. Gəmi havadan hücuma məruz qaldı, üçüncü həmlədən sonra «sto-rojevoy» böyük qayıq əleyhinə gəminin komandirinin siyasi hissə üzrə müavini V.M.Sablinin başçılığı altındakı üsyan yatırıldı və ondan başqa heç kim cəzalandırılmadı. Təqib, təzyiq və həbslərə baxmayaraq, hüquq müdafiəçiləri hərəkatı artmaqda davam edirdi. Onun önəmli liderlərindən biri məhz akademik A.D.Saxarov idi. 1975-ci ildə ona hüquq müdafiəsi fəaliyyətinə görə Nobel sülh mükafatı təqdim edildi. Buna cavab kimi sovet hakimiyyəti mətbuat səhifələrində akademikə qarşı ittiham dolu məqalələr çap edilməsini təşkil etdi. 1980-ci ildə isə A.Saxarov əcnəbilər buraxılmayan Qorki şəhərinə sürgün edildi.\n",
       "1975-ci ildə SSRİ Helsinki Yekun Aktına qol çəkdi ki, bu bir tərəfdən Avropanın müharibədən sonrakı sərhədlərini təsdiq etdiyi üçün sovet diplomatiyasının uğuru idi, digər bir tərəfdən isə Sovet İttifaqı insan hüququna hörmət etməyi öz öhdəsinə götürdüyünə görə açıq repressiyalar artıq mümkün deyildi. Yekun aktının humanitar maddələrinin pozulmasına dair məlumat toplamaq məqsədilə Y.F.Orlovun rəhbərliyi altında sovet hüquq müdafiəçiləri Moskva Helsinki Qrupunu yaratdılar. MHQ dissident hərəkatının başqa qrupları ilə sıx əməkdaşlıq edərək 1982-ci ilə kimi fəaliyyət göstərdi. Hüquq müdafiəçiləri hərəkatının fəal üzvlərinin sayı çox deyildi. 1975-ci ildə «siyasi ziyankar əməlinə» görə 20 min nəfərə yaxın adam DTK-nın «profilaktik təd-birləri»nə məruz qalmışdır. Ancaq «gizli nəşr» və xarici verilişlər nəticəsində onların fəaliyyəti ölkədə geniş əks-səda doğururdu. Hüquq müdafiəçiləri mənəvi azadlıq axtaran intellektual elita ilə qarşılıqlı əlaqə saxlayırdılar. 1966-1988-ci illərdə «SSRİ vətəndaşı» yüksək adını ləkələdiyi, SSRİ dövlətinin nüfuzu və təhlükəsizliyinə zərər verdiyi üçün 100 nəfərə kimi adam, o cümlədən M.S.Voslenski (1976), P.Q.Qriqorenko (1978), V.P.Aksenov (1980), V.N.Voynoviç (1986) vətəndaşlıqdan məhrum edilmişdir. Q.Vins, A.Ginzburq, V.Morov, M.Dımşits, E.Kuznetsov kimi həbsdə olan müxalifətçilər xaricdə həbs edilən iki sovet kəşfiyyatçısı ilə, V.K.Bukovski isə Çili kommunistlərinin həbsə atılan lideri L.Korvalanla dəyişdirilmişdir.\n",
       "Hakimiyyət orqanları dissidentlərlə mübarizə vasitələri kimi müvafiq qanunvericilikdən və kütləvi informasiyanın qaralama kampaniyalarından istifadə edirdilər. DTK cəza tədbirlərinin başlıca təşkilatçısı idi. Dissidentlər bir qayda olaraq, sovet ümumxalq dövlətinin zəiflədilməsi və nüfuzdan salınmasına yönəldilmiş təhlükəli ictimai fəaliyyətdə, dövlət və quruluşu, SSRİ-nin xarici təhlükəsizliyini dağıtmaq məqsədilə çalışmaqda ittiham olunurdular. SSRİ Ali Məhkəməsi və Prokurorluğun rəsmi məlumatına əsasən, ölkədə 1956-1987-ci illərdə 8145 adam oxşar maddə ilə məhkum edilmişdir. 1956-1960-cı illərdə hər il orta hesabla 935, 1961-1965-ci illərdə 214, 1966-1970-ci illərdə 136, 1971-1975-ci illərdə 161, 1976-1980-ci illərdə 69, 1981-1985-ci illərdə 108 nəfər adam mühakimə olunmuşdur.\n",
       "Həyat göstərdi ki, bir neçə yüz nəfər mövcud rejimə qarşı fərqli düşünən insan Qərbin də mənəvi və maddi köməyi sayəsində ölkə vətəndaşlarının böyük bir hissəsinin rəğbətini qazanaraq rejimə qarşı müxtəlif vasitələrlə mübarizə aparmışdır. Qarşıdurma hər şeydən əvvəl, cəmiyyətdəki ziddiyyətin nəticəsində baş vermişdir. Dissidentlik ideyasını dünyanın kütləvi informasiya vasitələri daha da populyarlaşdırmışdır. Təkcə akademik A.D.Saxarov 1972-1979-cu illərdə 150 mətbuat konfransı təşkil etmiş, xarici radiolar üçün 1200 veriliş hazırlamışdır.\n",
       "1980-ci illərin ikinci yarısından SSRİ-də dissident hərəkatı dayandırılmışdı, həbsdə olan dissidentlər azad edilmişdir. 1986-cı ildən dissident qruplarının yerini siyasi klublar, sonra isə xalq cəbhələri tutmuşdur.\n",
       "L.İ.Brejnev və onun yaxın ətrafı sovet cəmiyyətində, hətta hakimiyyət aparatında müxalifətin meydana gəlməsini görməzlikdən gələrək ölkədəki vəziyyət və onun perspektivləri haqqında açıq müzakirə açmağa cəsarət etmədilər.\n",
       "\n",
       "\n",
       "Müəllif: Tahir Baxşəliyev   \n",
       "Mənbə: RUSİYA TARİXİ ƏN QƏDİM ZAMANLARDAN GÜNÜMÜZƏDƏK\n",
       " | ['Rusiya tarixi', 'SSRİ dövləti', 'SSRİ', 'yenistalinizm', 'Brejnev'] |\n",
       "\n"
      ],
      "text/plain": [
       "   Unnamed..0\n",
       "50 49        \n",
       "   url                                                                                                                         \n",
       "50 https://kayzen.az/blog/politologiya/27776/ssri-1960-c%C4%B1-ill%C9%99rin-ikinci-yarisi-1980-ci-ill%C9%99rin-ortalarinda.html\n",
       "   title                                                            author\n",
       "50  SSRİ 1960-cı İLLƏRİN İKİNCİ YARISI -1980-ci İLLƏRİN ORTALARINDA gunelb\n",
       "   category              date                 \n",
       "50 Tarix və politologiya 28 fevral 2023, 00:10\n",
       "   content                                                                                                                                                                                                                                                                                                                                                                                                                                                                                                                                                                                                                                                                                                                                                                                                                                                                                                                                                                                                                                                                                                                                                                                                                                                                                                                                                                                                                                                                                                                                                                                                                                                                                                                                                                                                                                                                                                                                                                                                                                                                                                                                                                                                                                                                                                                                                                                                                                                                                                                                                                                                                                                                                                                                                                                                                                                                                                                                                                                                                                                                                                                                                                                                                                                                                                                                                                                                                                                                                                                                                                                                                                                                                                                                                                                                                                                                                                                                                                                                                                                                                                                                                                                                                                                                                                                                                                                                                                                                                                                                                                                                                                                                                                                                                                                                                                                                                                                                                                                                                                                                                                                                                                                                                                                                                                                                                                                                                                                                                                                                                                                                                                                                                                                                                                                                                                                                                                                                                                                                                                                                                                                                                                                                                                                                                                                                                                                                                                                                                                                                                                                                                                                                                                                                                                                                                                                                                                                                                                                                                                                                                                                                                                                                                                                                                                                                                                                                                                                                                                                                                                                                                                                                                                                                                                                                                                                                                                                                                                                                                                                                                                                                                                                                                                                                                                                                                                                                                                                                                                                                                                                                                                                                                                                                                                                                                                                                                                                                                                                                                                                                                                                                                                                                                                                                                                                                                                                                                                                                                                                                                                                                                                                                                                                                                                                                                                                                                                                                                                                                                                                                                                                                                                                                                                                                                                                                                                                                                                                                                                                                                                                                                                                                                                                                                                                                                                                                                                                                                                                                                                                                                                                                                                                                                                                                                                                                                                                                                                                                                                                                                                                                                                                                                                                                                                                                                                                                                                                                                                                                                                                                                                                                                                                                                                                                                                                                                                                                                                                                                                                                                                                                                                                                                                                                                                                                                                                                                                                                                                                                                                                                                                                                                                                                                                                                                                                                                                                                                                                                                                                                                                                                                                                                                                                                                                                                                                                                                                                                                                                                                                                                                                                                                                                                                                                                                                                                                                                                                                                                                                                                                                                                                                                                                                                                                                                                                                                                                                                                                                                                                                                                                                                                                                                                                                                                                                                                                                                                                                                                                                                                                                                                                                                                                                                                                                                                                                                                                                                                                                                                                                                                                                                                                                                                                                                                                                                                                                                                                                                                                                                                                                                                                                                                                                                                                                                                                                                                                                                                                                                                                                                                                                                                                                                                                                                                                                                                                                                                                                                                                                                                                                                                                                                                                                                                                                                                                                                                                                                                                                                                                                                                                                                                                                                                                                                                                                                                                                                                                                                                                                                                                                                                                                                                                                                                                                                                                                                                                                                                                                                                                                                                                                                                                                                                                                                                                                                                                                                                                                                                                                                                                                                                                                                                                                                                                                                                                                                                                                                                                                                                                                                                                                                                                                                                                                                                                                                                                                                                                                                                                                                                                                                                                                                                                                                                                                                                                                                                                                                                                                                                                                                                                                                                                                                                                                                                                                                                                                                                                                                                                                                                                                                                                                                                                                                                                                                                                                                                                                                                                                                                                                                                                                                                                                                                                                                                                                                                                                                                                                                                                                                                                                                                                                                                                                                                                                                                                                                                                                                                                                                                                                                                                                                                                                                                                                                                                                                                                                                                                                                                                                                                                                                                                                                                                                                                                                                                                                                                                                                                                                                                                                                                                                                                                                                                                                                                                                                                                                                                                                                                                                                                                                                                                                                                                                                                                                                                                                                                                                                                                                                                                                                                                                                                                                                                                                                                                                                                                                                                                                                                                                                                                                                                                                                                                                                                                                                                                                                                                                                                                                                                                                                                                                                                                                                                                                                                                                                                                                                                                                                                                                                                                                                                                                                                                                                                                                                                                                                                                                                                                                                                                                                                                                                                                                                                                                                                                                                                                                                                                                                                                                                                                                                                                                                                                                                                                                                                                                                                                                                                                                                                                                                                                                                                                                                                                                                                                                                                                                                                                                                                                                                                                                                                                                                                                                                    \n",
       "50 \\nİctimai-siyasi həyat\\nN.S.Xruşşovun istefası ilə onun başladığı ictimai-siyasi həyatın liberallaşması prosesinin dəyişiklikləri dayandı. N.S.Xruşşovun istefasının təşəbbüskarı və təşkilatçılardan biri olan L.İ.Brejnev Sov.İKP MK-nın birinci katibi (1966-cı ildən Baş katibi) seçildi. Brejnev Leonid İliç (1906-1982) Yekaterinoslav quberniyasının Kamensk qəsəbəsində fəhlə ailəsində doğulmuşdur. 1935-ci ildə Metallurgiya İnstitutunu bitirmiş, 1939-cu ildən partiya işinə keçmişdir. Böyük Vətən müharibəsində siyasi işçi kimi iştirak edərək general-mayor rütbəsində 4-cü Ukrayna cəbhəsinin siyasi idarəsinin rəisi olmuşdur.  Qazaxıstan KP MK-nın birinci katibi kimi xam torpaqların mənimsənilməsində iştirak etmiş, 1960-cı ildən SSRİ Ali Soveti Rəyasət Heyətinin sədri seçilmişdir. N.S.Xruşşovun istefasının təşkilatçılarından biri olan L.İ.Brejnev 1964-cü ilin oktyabrın 14-də Sov.İKP MK-nın birinci katibi seçildi. Yeni birinci katib yumşaq, təvazökar, protokol qaydalarına ciddi əməl edən partiya rəhbəri kimi tarixə düşmüşdür. Xüsusilə ömrünün son illərində təntənəyə, təltiflərə, tərifə aludə olan L.Brejnevin dörd dəfə Sovet İttifaqı Qəhrəmanı, Sovet İttifaqı Marşalı, SSRİ Ali Soveti Rəyasət Heyətinin sədri, Müdafiə Şurasının sədri adları və vəzifələrinə sahib olmuşdur. Hakimiyyətdə olduğu müddətdə L.Brej-nev 114 dəfə SSRİ-nin Ali dövlət mükafatı ilə təltif edilmişdir. Onun ünvanına yağan tərif və təltiflər uzun müddət sovet cəmiyyətində istehza və rişxəndlə qarşılanmışdır. Eyni zamanda çox ehtiyatlı və mühafizəkar bir şəxs olan L.İ.Brejnev cəmiyyətdə sabitliyin təmin edilməsinə xüsusi önəm verirdi.\\nSSRİ Nazirlər Sovetinin sədri təyin edilən A.Kosıgin, Xarkov vilayət partiya komitəsinin sabiq katibi, Mərkəzi Komitənin kadr məsələsi üzrə katibi olan N.Podqornı, Rəyasət Heyətinin tərkibinə daxil edilən P.Şelest, MK-nın katibi, Partiya Nəzarət Komitəsinin sədri, Nazirlər Sovetinin sədr müavini N.Şelepin və Rəyasət Heyətinin üzvü, ideologiya sahəsində məsul şəxs M.Sus-lov yeni hakimiyyətin nüvəsini təşkil edirdilər. 1964-cü ildəki noyabr Plenumu N.S.Xruşşovun dövründə sənaye və kənd partiya təşkilatlarına bölünən orqanları bütün səviyyələrdə, o cümlədən sovet, həmkarlar, komsomol təşkilatlarının vahid təşkilatlarda birləşmələrini qərara aldı. 1964-cü ilin dekabrından başlayaraq diyar, vilayət və rayon komitələri bərpa edildi. 1965-ci ildə xalq təsərrüfatı şuraları ləğv olundu və iqtisadiyyatın sahələr üzrə idarə edilmə prinsipi bərpa edildi. 1966-cı ildə Sov.İKP-nin XXIII qurultayında N.S.Xruş-şovun şəxsi təşəbbüsü ilə partiyanın Nizamnaməsinə daxil edilən seçkili partiya orqanları rəhbərlərinin vaxtaşırı məcburi dəyişdirilməsi qaydası Nizamnamədən çıxarıldı. İ.Stalin dövrünün qorxusu və N.Xruşşov dövrünün saysız-hesabsız yenilikləri ilə ümidsizliyə qapılan partiya aparatı yeni hakimiyyətin partnomenkla-turanı şəriksiz hakimiyyətə qovuşdurmasını sevinclə qarşıladı. L.İ.Brejnev XXIII qurultayda Baş katib seçildi, Mərkəzi Komitənin Rəyasət Heyəti yenidən Siyasi Büro adlandırıldı. Mərkəzi Komitənin üzvlərinin sayı 1966-cı ildəki 300 nəfərdən 10 il ərzində 40% artaraq 420 nəfərə çatdı. Şəxsi sədaqətin və başda duran rəhbərə danışıqsız tabe olmaq vərdişlərinin işçinin qabiliyyətindən ön plana keçdiyi 70-ci illərdə özünəməxsus «sovet feodalizmi»n xatırladan partiya ailəçiliyi yüksək həddə çatmışdı. Buna qarşı İ.Stalin dövlət terroru, N.S.Xruşşov isə qanuni vasitələrlə uzun müddət mübarizə aparmışdır.\\n\\nÖlkənin yeni rəhbərləri Sov.İKP MK-nın birinci katibi L.Brejnev ilə SSRİ Nazirlər Sovetinin sədri A.Kosıgin arasında iqtisadi strategiyanın müəyyən edilməsində fikir ayrılığı mövcud idi. L.Brejnev ilk olaraq kənd təsərrüfatı, ağır sənaye, müdafiənin, 1972-ci ildən isə «Sibirin mənimsənilməsinin» tərəfdarı idi. Hökumətin başçısı A.Kosıgin vətəndaşların həyat səviyyəsinin yüksəldilməsinin əsası olan yüngül sənayeni ön plana çəkirdi. Kosıgin Aleksey Nikolayeviç (1904-1980) Peterburqda fəhlə ailəsində doğulmuşdur. Vətəndaş müharibəsi illərində Qızıl Ordu sıralarında xidmət etmiş, Leninqrad Toxuculuq İnstitutunu bitirmişdir. 1940-1946-cı illərdə SSRİ XKS sədrinin müavini kimi müəssisələrin şərqə köçürülməsi və orada ölkənin sənaye bazasının yaradılması işinə rəhbərlik etmişdir. Maliyyə, yüngül və ərzaq sənayesi nazirləri, SSRİ Dövlət Plan Komitəsinin sədri vəzifələrində çalışmışdır. 1964-1980-ci illərdə SSRİ Nazirlər Sovetinin sədri, Sov.İKP MK Siyasi Bürosunun üzvü olmuşdur.\\n\\nİqtisadi srategiyanın müəyyən edilməsində olduğu kimi, siyasi məsələlərin həlli yolunda da partiya rəhbərliyi arasında fikir ayrılığı və çəkişmələr qalırdı. Siyasi məsələlərin həllinə mühafizəkar münasibətin tərəfdarları L.Brejnev və özünü partiyalılıq prinsipinə söykənən təmiz sovet ideologiyasının qoruyucusu kimi təqdim edən M.Suslov idi. Onların belə mühafizəkar mövqeyi 70-ci illərin ikinci yarısında daha da güclənərək A.Kosıginin texnokrat istiqamətli tədbirlərinin məhdudlaşdırılmasına, bəzi partiya liderlərinin mövqelərinin zəiflədilməsinə yönəldi. Partiya və dövlətin üst qatlarında yerləşən rəhbər kadrların iddia və vəzifə çəkişmələri 1965-ci ilin sonuna doğru N.Xruşşovun istefaya göndərilməsinin təşkilatçılarından olan N.Podqornı və A.Şelepinin mövqeyinin xeyli zəifləməsi ilə müşayiət olundu. A.Şelepin Mərkəzi Həmkarlar Şurasının sədri təyin edilərək, əslində dövlət hakimiyyətindən uzaqlaşdırılmış oldu. N.Podqornı isə fəxri kürsü hesab edilən SSRİ Ali Sovetinin sədri seçildi. A.N.Şelepinin komsomol yoldaşı, onu DTK-nın başçısı vəzifəsində əvəz etmiş V.S.Semiçastnı 1967-ci ilin martında Stalinin qızı Svetlana Alliluyevanın daimi yaşamaq məqsədi ilə Qərbdə qaldığı səbəbi ilə vəzifəsini itirdi.\\n\\n1966-cı ilin aprelində Sov.İKP-nin XXIII qurultayında Baş katib seçildikdən sonra L.İ.Brejnev müharibəyə qədər siyasi fəaliyyətə başladığı Dnepropet-rovskidən olan kadrları öz ətrafına yığmağa başladı. 1966-cı ildə N.Podqornını Mərkəzi Komitənin katibi vəzifəsində «dnepropetrovsk qruplaşması»na daxil olan A.P.Kirilenko əvəz etdi. L.Brejnevə yaxın olan K.U.Çernenko, V.V.Şerbitski, D.A.Kunayev, N.A.Şelokov mühüm vəzifələrə təyin edildilər.\\nAğır sənaye, hərbi sənaye kompleksi və müdafiənin inkişafına üstünlük verən L.Brejnevin həyata keçirdiyi tədbirləri hərbçilər müdafiə edirdi. 1966-cı ilin əvvəllərində hərbçilər elan edilən azalan hərbi xərclərin yenidən baxılmasına nail oldular. Müdafiə sənayesinə rəhbərlik edən general D.F.Ustinov Mərkəzi Komitə Siyasi Bürosunun üzv namizədliyinə və Katibliyin tərkibinə daxil edildi. 1967-ci ilin martında Müdafiə Naziri P.Y.Malinovski vəfat etdikdən sonra bu vəzifəyə hərbçilərin təkidi ilə A.A.Qreçko təyin olundu. Yalnız onun ölümündən sonra 1976-cı ilin aprelində D. Ustinov müdafiə naziri təyin edildi. 1976-cı il mayın 7-də L.İ.Brejnev Sovet İttifaqı Marşalı oldu. Əslində bu partiya liderinin hərbçilərin rəhbəri ilə işbirliyinin nəticəsi idi. İki gün keçdikdən sonra Dnepropetrovsk əhalisi öz həmyerlisinin əzəmətli heykəlinin açılışında iştirak etdi.\\n70-ci illərdə tamamilə aydın oldu ki, 1961-ci ildə Sov.İKP Proqramında elan edilən kommunizm quruculuğu konsepsiyası, həqiqətdən, çox uzaq olub, daha çox mifə bənzəyir. Odur ki, sovet rəhbərliyi kommunizm quruculuğu və dövlətin ölüb getməsi yerinə hətta marksizm-leninizm klassiklərinin əsərlərində olmayan inkişaf etmiş sosializm konsepsiyası irəli sürdü. 1966-cı ilin dekabrın 21-də F.M.Burlatski «Pravda» qəzetində «İnkişaf etmiş sosializm cəmiyyəti quruculuğuna dair» məqalə çap etdirmişdir. 1967-ci ildə Oktyabr inqilabının 50 illyi ilə əlaqədar nitqində L.İ.Brejnev elan etdi ki, SSRİ-də artıq inkişaf etmiş sosializm cəmiyyəti qurulmuşdur. Bu yeni anlayış nəzəriyyə ilə həyat arasındakı uçurumu xeyli azaldaraq uzun bir tarixi mərhələni əhatə etməklə kommunizm quruculuğunu, dövlətin ölüb getməsini sonu bəlli olmayan uzaq gələcəyə istiqamətləndirirdi. 1977-ci il oktyabrın 7-də qəbul edilən Sovet Sosialist Respublikalar İttifaqının Konstitusiyası (Əsas Qanun) SSRİ-də inkişaf etmiş sosializmin qurulduğunu təsbit etdi. 1977-ci il L.İ.Brejnev Konstitusiyası girişdən, 9 bölmədən, 21 fəsildən, 174 maddədən ibarətdir. Müqayisə üçün qeyd edək ki, 1936-cı il Konstitusiyasının yalnız 13 fəsli, 146 maddəsi var idi.\\n\\nYeni Sovet Konstitusiyası elan etdi ki, SSRİ artıq proletariat diktaturası dövləti olmayıb «fəhlələrin, kəndlilərin və ziyalıların, ölkənin bütün millət və xalqlarının zəhmətkeşlərinin iradəsini və mənafeyini ifadə edən ümumxalq sosialist dövlətidir». Sovet dövlətinin ümumxalq xarakteri sovetlərin yeni xalq deputatları sovetləri adında öz əksini tapmışdır. Bütün hakimiyyətin SSRİ-nin siyasi əsasını təşkil edən xalq deputatları sovetlərinə məxsus olması təsbit edilsə də, real olaraq bütün səviyyələrdə sovetlərin əslində heç bir hakimiyyəti yox idi, onlar yalnız partiya orqanlarının göstəriş və qərarlarını yerinə yetirirdilər. Konstitusiyanın 6-cı maddəsində inkişaf etmiş sosializm cəmiyyətinin siyasi sisteminin özəyi olan Kommunist Partiyasının rəhbər və istiqamətverici rolu rəsmi olaraq qanunvericilik yolu ilə təsbit edilmişdi. Bu rəsmi təsbit əslində ictimai həyatın bütün sahələrində hakim rol oynayan partiya aparatının mövqeyinin formal olaraq möhkəmlənməsi idi.\\nKonstitusiyada qeyd olunan əsas yenilik inkişaf etmiş sosializmin qurulmasının təsbit edilməsi və «ümumxalq dövləti»nin yaradılmasının elan edilməsidir. Beləliklə, dövlətin ölüb-getməsi qeyri-müəyyən vaxta təxirə salınaraq əsas diqqət qanunçuluğun və hüquq qaydalarının hərtərəfli möhkəmləndirilməsinə yönəldilmişdir. Dövlətin əsas vəzifəsi «sinifsiz kommunist cəmiyyəti» qurmaq idi. SSRİ-nin iqtisadi sisteminin əsasını istehsal vasitələri üzərində sosialist mülkiyyəti, siyasi sisteminin əsasını sovetlər, sosial əsasını fəhlə, kəndli və ziyalıların ittifaqı təşkil edirdi.\\nİnkişaf etmiş sosializmin Konstitusiyasında 1918, 1924 və 1936-cı illərdəki Konstitusiyalarda olmayan yeni xarici siyasət məsələlərindən bəhs edən bölmə yer almışdır. Xarici siyasətin əsas istiqamətinin «SSRİ-də kommunizm qurmaq» üçün əlverişli beynəlxalq şəraitin təmin edilməsinə, «dünya sosializm sisteminin mövqeyinin möhkəmləndirilməsinə, xalqların milli azadlıq və sosial tərəqqi uğrunda mübarizəsinin» müdafiəsinə yönəldilməsi nəzərdə tutulmuşdur. SSRİ-nin sosialist ölkələrinə və müstəmləkəçilikdən azad olmuş dövlətlərə münasibətdə sosialist beynəlmiləlçiliyi prinsipi təsbit edilmişdir. Praktik olaraq bu vəziyyət çox zaman xalqların suveren bərabərlik prinsipi öhdəliyinə, onların öz müqəddəratını təyin etməsi hüququnun pozulması, sosialist dövlətlərinə xarici siyasət müdaxilənin əsaslandırılması ilə müşayiət olunurdu.\\nİnkişaf etmiş sosializmin Kosntitusiyasına görə dövlət hakimiyyətinin ali orqanı olan ikipalatalı SSRİ Ali Soveti İttifaq Soveti və Millətlər Sovetindən ibarət idi. Ali Sovet mühüm dövlət məsələlərini, o cümlədən Ümumittifaq Konstitusiyasının dəyişdirilməsi, İttifaqın tərkibinə yeni respublikaların qəbulu, dövlət büdcəsinin, sosial və iqtisadi inkişaf planının qəbul edilməsini həll etmək hüququna malik idi. SSRİ Ali Sovetinin sessiyaları arasında onun vəzifəsini Rəyasət Heyəti yerinə yetirirdi. SSRİ Nazirlər Soveti dövlət idarəçiliyi sistemi vasitəsilə cari idarəçilik işlərinə rəhbərlik edirdi.\\nYeni Brejnev Konstitusiyasında milli-dövlət quruluşu məsələsi 1936-cı il Konstitusiyasında olduğu kimi qalmışdır. 69-cu maddəyə əsasən, SSR İttifaqı «vahid çoxmillətli ittifaq dövləti» kimi təsbit edilmişdir ki, bu da mərkəzi fede-ralizmin möhkəmləndirilməsi demək idi. Bu maddə ilə ziddiyyət təşkil edən Konstitusiyanın 71-ci maddəsi hər bir respublikanın «SSRİ-dən azad çıxmaq hüququnu», 75 və 80-ci maddələr isə onların suverenliyini elan etmişdir.\\n1977-ci il SSRİ Kosntitusiyası Brejnev daxili və xarici siyasət istiqamətinin mühafizəkar xüsusiyyətini qəti olaraq müəyyən edib, partiyanın cəmiyyət üzərində sərt nəzarətini qanuniləşdirərək, milli məsələlərdəki təhlükəli ziddiyyətləri müəyyən müddətə dondurmuş oldu.\\nN.S.Xruşşovun istefasından sonra şəxsiyyətə pərəstiş siyasətinin tənqidi, demək olar ki, başa çatdı. Həbs düşərgələri və repressiyaya məruz qalan şəxslər haqqında dərc edilən məqalələr mətbuat səhifələrindən yoxa çıxdı. Rəsmi tənqid sovet tarixinə qara ləkə yaxanlara qarşı sipər aldı. Eyni zamanda mətbuatda İ.V.Stalinin Böyük Vətən müharibəsi dövründə Ali Baş Komandan kimi xidmətlərindən bəhs edən məqalələr dərc edilirdi. Hətta Sov.İKP-nin XXIII qurultayı ərəfəsində İ.Stalinə rəsmi olaraq bəraət verilməsi nəzərdə tutulduğu halda rəhbərlik açıq olaraq XX qurultayın qərarlarına yenidən baxılmasına yol verməyərək, bu məsələnin tədricən səs-küysüz həll etməyi qərara aldı. Çox güman ki, İ.V.Stalinin bəraəti ilə bağlı görkəmli elm və mədəniyyət xadimlərinin Mərkəzi Komitəyə yazdıqları etiraz məktubları və ziyalıların bu məsələyə mənfi münasibəti partiya və dövlət rəhbərliyini belə bir addım atmağa sövq etmişdir. 1969-cu ildə İ.V.Stalinin anadan olmasının 90 illiyi ilə əlaqədar olaraq XX qurultayın kursunun dəyişdirilməsinə Sov.İKP-nin ali hakimiyyət nümayəndələrindən Q.İ.Voronov, K.T.Mazurov, P.M.Maşerov, D.S.Polyanski, A.N.Şelepin yenidən cəhd etsə də, ziyalıların və xarici kommunist partiyaları liderlərinin kəskin etirazı buna mane oldu. Sovet rəhbərliyi «Pravda» qəzetində İ.Stalinin fəaliyyəti haqqında ehtiyatla, ölçülü bir məlumat dərc etdirməklə kifayətləndi. Rəsmi senzura G.K.Jukovun xatirələrindən ibarət olan kitabından İ.Stalin haqqındakı tənqidi fikirləri çıxardı. Tədricən İ.Stalinin obrazı kino ekranlarında, xüsusilə Böyük Vətən müharibəsindən bəhs edən filmlərdə göründü.\\nL.İ.Brejnevin başçılıq etdiyi partiya elitasının İ.V.Stalinin bəraitinə cəhd etməsi A.T.Tvardovskinin başında durduğu «Yeni dünya» («Новый мир») jurnalının təmsil etdiyi cəmiyyətin liberal əhvali-ruhiyyəli hissəsinin müqaviməti ilə üzləşdi. «Yeni dünya» jurnalının tənqidçi yazarları V.Y.Lakşin, İ.T.Vinoqradov, A.İ.Kondratoviç ədəbiyyatda Stalin ənənələrinə qarşı barışmaz mübarizə aparırdılar. «Yeni dünya» jurnalının əsas opponentləri ehkamçı stalinçi mövqeyi müdafiə edən «Oktyabr» və «Molodaya qvardiya» jurnalları idi. 1969-cu ildə «Oktyabr» jurnalının baş redaktoru V.A.Koçetov «Sən nə istəyirsən» («Чего же ты хочешь») romanını çap etdirdi və bu, cəmiyyətdə ziyalılara həcv kimi qəbul edildi. Romanda partiya qurultaylarında keçmişin tənqidinin qəbul edilməz olduğundan, ölkəyə Qərbin təsirinin zərərindən bəhs edilirdi. Yazıçı liberal ziyalılarla yanaşı, «millətçi slavyanpərəstləri» də tənqid etmişdir. «Pravda» qəzeti «Yeni dünya» jurnalın düzgün olmayan ideya mövqeyinə, «Oktyabr» jurnalın çap olunan əsərləri keyfiyyətin aşağı tələbkarlığa görə tənqid etdi. «Molodaya qvardiya» jurnalı 60-cı illərin ortalarından milli əsaslara söykənən mövqedən çıxış edirdi. Onun müəllifləri M.Lobanov, S.Semanov, V.Çalmayev Rusiyanın özünəməxsus inkişafını önə çəkərək mədəniyyətin amerikalılaşdırılmasına etiraz edir, Rusiyanı qəti olaraq Qərbə, ziyalıları isə xalqa qarşı qoyaraq açıq millətçiliyə meyil edirdilər.\\n\\n\\n\\n\\n\\n60-cı illərin axırlarında A.T.Tvardovskinin «Gizli Nəşr»də, sonra Qərbdə çap etdirdiyi «Yaddaş haqlılığı» («По право памяти») şəxsiyyətə pərəstişin dirçəldilməsinə qarşı yönəldilmiş antistalinçi poeması «Yeni dünya» jurnalı üzərinə hücumları gücləndirdi. Jurnalı kosmopolitizmdə təqsirləndirən Yazıçılar İttifaqının katibliyi A.Tvardovskinin bir sıra əməkdaşın redaksiya heyətindən uzaqlaşdırdı və baş redaktor da istefa verməyə məcbur oldu. Artıq əvvəlki «Yeni dünya» mövcud deyildi. Bu bir daha təsdiq etdi ki, inzibati vasitələrlə öz qələbəsini təmin edən partiya aparatı və onun rəhbərləri cəmiyyətdə açıq müzakirə aparmaq qabiliyyətindən çox uzaqdırlar. Odur ki, ictimai problemlərin həllinin müzakirələri rəsmi orqanlardan fərqli olaraq «gizli nəşr»lərə keçdi.\\nSSRİ-də partiya və dövlətin müəyyən etdiyi rəsmi mədəniyyətin mühafizəkar xarakteri artdıqca rəsmi olmayan, alternativ mədəniyyət geniş miqyas aldı. Daha çox əhəmiyyət kəsb edən bədii ədəbiyyat əsərləri «gizli nəşr»lər vasitəsilə çap olunurdu. A.Q.Bitovun, F.A.İskəndərin, V.Yerofeyevin əsərləri yalnız Qərbdə çap edilirdi. V.P.Aksenov, A.D.Sinyavski, V.N.Voynoviç, S.D.Dovlatov və b. yazıçılar xarici ölkələrə mühacirət etməyə məcbur oldular.\\n\\nYenistalinizm və «durğunluq» ideologiyasına qarşı duran qüvvələrdən biri də «kəndli» yazıçılar olmuşdur. F.Abramov, B.Belov, B.Mojayev, V.Ras-putin, V.Tendryakov kimi yazıçılar kollektivləşmənin rus kəndinin həyatındakı mənfi nəticələrindən ətraflı bəhs etmişlər. Bu xətti, eyni zamanda S.V.Viku-lovun baş redaktoru olduğu «Bizim müasirimiz» («Наш современник») və M.N.Alekseyevin baş redaktorluğu altında «Moskva» jurnalları davam etdirmişdir.\\n1970-ci il noyabrın 5-də partiyanın MK-nın Katibliyinin iclası olmuşdur. «Gənc qvardiya» («Молодая гвардия») jurnalının redaktoru, keçmiş qırıcı-təyyarəçi A.V.Nikonov, V.Çalmayev və S.Semanovun məqaləsini çap etdirdiyi üçün vəzifələrindən azad edilmişdir. Onun yerinə MK-nın təlimatçısı F.Y.Ov-çarenko təyin olundu. 1972-ci ildə onun ölümündən sonra jurnalın redaktoru vəzifəsinə keçmiş redaktorun ideya silahdaşı, «Kölgələr günorta itir» («Тени изчезают в полдень») romanının və «Əbədi çağırış» («Вечный зов». 19701976) trilogoyiasının müəllifi görkəmli yazıçı A.S.İvanov təyin edilmişdir.\\nBrejnev hakimiyyətinə qarşı obyektiv müxalifət mövqeyindən çıxış edən mərkəzlərdən biri 1966-cı ildə yaradılan Tarix və Mədəniyyət Abidələrini Qoruyan Ümumrusiya Cəmiyyəti olmuşdur. Hərəkatın rəhbərləri görkəmli vətənpərvərlər, arxeoloq və tarixçi B.A.Rıbakov, kimyaçı-fizik İ.V.Petryanov-Sokolov, rəssamlar P.Korin və İ.Qlazunov, yazıçılar L.Leonov, V.Solouxin, V.D.İvanov, Moskva Kreml muzeyinin rəhbəri V.N.İvanov olmuşdur. 1968-1969-cu illərdə mərkəzdə rus tarixi və mədəniyyətini kompleks şəkildə öyrənən «Rus klubu» fəaliyyətə başlamışdı ki, bu da qeyri-leqal rus ziyalılarının birliyi idi. İlk dəfə olaraq birlik rus mədəniyyəti və mənəviyyatının təşəkkülü məsələlərini müzakirə etməyə başlamışdı. Yazıçılar A.İ.Bayquşev, V.A.Çivilixin, şairlər İ.İ.Kobzev, S.Y.Kunyayev, Q.V.Serebryakov, V.V.Sorokin, tənqidçi və ədəbiyyatşünas V.A.Çalmayev, Y.L. Prokuşev, jurnalistlər İ.D.Zaxarçenko, A.V.Nikonov, QULAQ məhkum həyatı yaşamış publisist O.V.Volkov və d. klubun fəal üzvlərindən idi.\\nB.Ş.Okucava, Y.İ.Vizbor, Y.Ç.Kim və V.S.Vısotskinin müəllif mahnıları milyonları coşduraraq əsl şəhər folkloruna çevrilmişdi. Onların sovet reallığını tənqid edən mahnılar maqnitofon yazılışı ilə əhali arasında yayılaraq «maq-nitofon inqilabının» əsasını qoymuşdur. V.Vısotskinin azadolmayan hissləri tərənnüm edən mahnıları cəmiyyətin müxtəlif təbəqələri arasında eyni dərəcədə şöhrət qazanmışdı. Ziyalıların arasında təqibi nəticəsində Yazıçılar İttifaqı və Kinematoqrafçılar İttifaqının üzvlüyündən azad edilən və xaricə mühacirətə getməyə məcbur olan A.A.Qaliçin bədii yaradıcılığı geniş şöhrət qazanmışdır. Liberal ziyalıların hakimiyyətlə olan əlaqələrinin gündən-günə pisləşməsi onların fərqli düşünənlər hərəkatını müdafiə etməsinə səbəb oldu.\\nHakimiyyətin yeritdiyi rəsmi siyasətə qarşı öz etirazlarını açıq və mərdliklə bildirən dissident hərəkatı meydana gəldi. 1968-ci il avqustun 25-də Qızıl meydanda sovet qoşunlarının Çexoslovakiyaya müdaxiləsinə etiraz əlaməti olaraq səkkiz nəfər, o cümlədən tələbə T.Bayeva, filoloqlar K.Ba-bitski, L.Boqoraz-Bruxman, şair V.Delone, fəhlə V.Dremlyuq, fizik P.Lit-vinov, sənətşünas V.Faynberq və şairə N.Qorbanevskaya aksiya təşkil etdilər. Onların hamısı həbs edilərək həbs düşərgələrinə, sürgün və ya məcburi psixi müalicəxanaya göndərildi.\\n\\nYeni hakimiyyətin baş ideoloqu rolunu icra edən M.A.Suslov ilk gündən N.S.Xruşşov dövrünün mədəni mülayimləşmə mərhələsinə qarşı olduğunu açıq bildirdi. 1965-ci ildə yazıçılar A.D.Sinyavski «Məhkəmə gedir» («Суд идет»), «Lyubimov», Y.M.Daniel «Danışır Moskva» («Говорит Москва»), «Bağışlanma» («Искупление») adlı totalitarizmin sosial və psixoloji mahiyyətindən bəhs edən əsərlərin xaricdə və şair V.Y.Tarsisin «Sfinks» «Gizli Nəşr» jurnalında çap etdirdikləri üçün həbs edildilər. «Sovet dövlətini və ictimai quruluşunu ləkələdikləri» üçün A.Sinyavski yeddi, Y.Daniel beş il müddətinə azadlıqdan məhrum edildilər. Bu, XX qurultaydan sonra SSRİ-də keçirilən birinci açıq siyasi məhkəmə prosessi kimi tarixdə öz yerini tutdu. 1966-cı ildə Sov.İKP-nin XXIII qurultayının ünvanına görkəmli mədəniyyət xadimləri K.İ.Çukovski, İ.Q.Erenburq, V.B.Şklovski, P.Q.Antokolski, V.A.Kaverin və b. imzası ilə yazıçılar A.Sinyavski və Y.Danielin müdafiəsi məqsədilə məktubla müraciət etdilər. Eyni zamanda yaradıcı ziyalıların bir çoxu hakim partiyanın kursunu müdafiə edirdi. Onlar arasında L.S.Sobolev, S.P.Antonov, K.A.Fedin, N.S.Tixonov, K.M.Simonov, A.A.Surkov, S.V.Mixalkov və b. var idi. 1968-ci ilin aprelindən dissident hərəkatı iki-üç aydan bir gizli surətdə çap etdirdiyi «Cari hadisələrin xronikası» («Хроника текущих событий») nəşrini buraxdı ki, burada da hakimiyyətin azadlıq üzərinə hücumları öz əksini tapırdı. 1968-ci ilin aprelindən 1983-cü ilə kimi onu tərtib edən N.Y.Qorbanevskaya və b. «gizli nəşr» vasitəsilə «hüquq müdafiəçiləri bülleteni»nin 64 nömrəsini buraxmışdır.\\n1960-cı illərin axırlarından dissident cərəyanları «Demokratik hərəkatda» birləşərək üç ideologiya istiqaməti müəyyən etdi. Bunlar öz hərəkat proqramlarına uyğun olaraq Roe və Jores Medvedevin təmsil etdikləri «əsl marksizm-leni-nizm», A.Saxarovun liberalizm və A.Soljenitsının müdafiə etdiyi «xristian ideologiyası» istiqamətləridir. Birinci proqramın ideyası ondan ibarətdir ki, İ.Stalin marksizm-leninizm ideologiyasını təhrif etdiyi üçün onun köklərinə qayıtmaqla cəmiyyəti sağlamlaşdırmaq mümkündür. İkinci proqram tədricən Qərb tipli demokratiyaya ictimai mülkiyyəti qorumaq şərtilə keçməyi nəzərdə tuturdu. A.Soljenitsının müdafiə etdiyi üçüncü proqram xristian əxlaqı dəyərini cəmiyyətin həyatının əsası kimi irəli sürərək slavyanofillər kimi Rusiyanın özünəməxsus ənənəsini önə çəkirdi. Xüsusilə iki görkəmli tarixi şəxsiyyət A.Soljenitsın və A.Saxarov dissident hərəkatının simvolları kimi öz ölkələrində təcrid edilməklərinə baxmayaraq bütün dünyada şöhrət qazanırdılar. 1968-ci ildə Qərbdə A.İ.Soljenitsının «Dairədə birinci» («В круге первом») romanı dərc edildi ki, müəllif öz həbsinin son illərini keçirdiyi Moskva altındakı Baş Düşərgə İdarəsi sisteminə daxil olan elmi institut və konstruktor bürolarında çalışan məhbusların həyatının bir hissəsindən bəhs edir. Buna cavab olaraq hakimiyyəti təmsil edənlər onu Yazıçılar İttifaqının sıralarından xaric etdilər. 1970-ci ildə A.İ.Soljenitsın ədəbiyyat üzrə Nobel mükafatına layiq görüldü. 1973-cü ildə yazıçının Qərbdə «QULAQ Arxipelaqı» romanının birinci cildi çapdan çıxdı. 1974-cü ilin fevralında A.Soljenitsın dövlətə xəyanət maddəsilə sovet vətəndaşlığından məhrum edilərək SSRİ-dən sürgün edildi.\\n1970-ci ildə Sovet İttifaqında görkəmli fizik və riyaziyyatçı alim, hidrogen bombasının yaradıcılarından biri A.D.Saxarov və məhşur riyaziyyatçı İ.R.Şa-fareviçin iştirakı ilə İnsan Hüquqlarının Müdafiə Komitəsi yaradıldı. 1973-cü ildə «Beynəlxalq əfv» təşkilatının rus bölməsi meydana gəldi. Onun üzvləri hakimiyyət orqanlarının təqibinə məruz qalan fərqli düşünənlər haqqında məlumat toplayır, onlara hüquqi və maddi yardım edir, onların fəaliyyətinə dair məlumatları beynəlxalq mərkəzlərə ötürürdülər. Xüsusilə hakimiyyəti orduya da sirayət edən fərqli düşünənlərin fəaliyyəti bərk narahat etdi. 1969-cu ildə Baltik donanması zabitlərinin yaratdığı «Demokratik hüquqlar uğrunda mübarizə ittifaqı» darmadağın edildi. 1975-ci ildə Baltik donanmasının «Storo-jevoy» gəmisində üsyan başladı, heyət xalqı mövcud rejimə qarşı çıxış etməyə çağırdı. Gəmi havadan hücuma məruz qaldı, üçüncü həmlədən sonra «sto-rojevoy» böyük qayıq əleyhinə gəminin komandirinin siyasi hissə üzrə müavini V.M.Sablinin başçılığı altındakı üsyan yatırıldı və ondan başqa heç kim cəzalandırılmadı. Təqib, təzyiq və həbslərə baxmayaraq, hüquq müdafiəçiləri hərəkatı artmaqda davam edirdi. Onun önəmli liderlərindən biri məhz akademik A.D.Saxarov idi. 1975-ci ildə ona hüquq müdafiəsi fəaliyyətinə görə Nobel sülh mükafatı təqdim edildi. Buna cavab kimi sovet hakimiyyəti mətbuat səhifələrində akademikə qarşı ittiham dolu məqalələr çap edilməsini təşkil etdi. 1980-ci ildə isə A.Saxarov əcnəbilər buraxılmayan Qorki şəhərinə sürgün edildi.\\n1975-ci ildə SSRİ Helsinki Yekun Aktına qol çəkdi ki, bu bir tərəfdən Avropanın müharibədən sonrakı sərhədlərini təsdiq etdiyi üçün sovet diplomatiyasının uğuru idi, digər bir tərəfdən isə Sovet İttifaqı insan hüququna hörmət etməyi öz öhdəsinə götürdüyünə görə açıq repressiyalar artıq mümkün deyildi. Yekun aktının humanitar maddələrinin pozulmasına dair məlumat toplamaq məqsədilə Y.F.Orlovun rəhbərliyi altında sovet hüquq müdafiəçiləri Moskva Helsinki Qrupunu yaratdılar. MHQ dissident hərəkatının başqa qrupları ilə sıx əməkdaşlıq edərək 1982-ci ilə kimi fəaliyyət göstərdi. Hüquq müdafiəçiləri hərəkatının fəal üzvlərinin sayı çox deyildi. 1975-ci ildə «siyasi ziyankar əməlinə» görə 20 min nəfərə yaxın adam DTK-nın «profilaktik təd-birləri»nə məruz qalmışdır. Ancaq «gizli nəşr» və xarici verilişlər nəticəsində onların fəaliyyəti ölkədə geniş əks-səda doğururdu. Hüquq müdafiəçiləri mənəvi azadlıq axtaran intellektual elita ilə qarşılıqlı əlaqə saxlayırdılar. 1966-1988-ci illərdə «SSRİ vətəndaşı» yüksək adını ləkələdiyi, SSRİ dövlətinin nüfuzu və təhlükəsizliyinə zərər verdiyi üçün 100 nəfərə kimi adam, o cümlədən M.S.Voslenski (1976), P.Q.Qriqorenko (1978), V.P.Aksenov (1980), V.N.Voynoviç (1986) vətəndaşlıqdan məhrum edilmişdir. Q.Vins, A.Ginzburq, V.Morov, M.Dımşits, E.Kuznetsov kimi həbsdə olan müxalifətçilər xaricdə həbs edilən iki sovet kəşfiyyatçısı ilə, V.K.Bukovski isə Çili kommunistlərinin həbsə atılan lideri L.Korvalanla dəyişdirilmişdir.\\nHakimiyyət orqanları dissidentlərlə mübarizə vasitələri kimi müvafiq qanunvericilikdən və kütləvi informasiyanın qaralama kampaniyalarından istifadə edirdilər. DTK cəza tədbirlərinin başlıca təşkilatçısı idi. Dissidentlər bir qayda olaraq, sovet ümumxalq dövlətinin zəiflədilməsi və nüfuzdan salınmasına yönəldilmiş təhlükəli ictimai fəaliyyətdə, dövlət və quruluşu, SSRİ-nin xarici təhlükəsizliyini dağıtmaq məqsədilə çalışmaqda ittiham olunurdular. SSRİ Ali Məhkəməsi və Prokurorluğun rəsmi məlumatına əsasən, ölkədə 1956-1987-ci illərdə 8145 adam oxşar maddə ilə məhkum edilmişdir. 1956-1960-cı illərdə hər il orta hesabla 935, 1961-1965-ci illərdə 214, 1966-1970-ci illərdə 136, 1971-1975-ci illərdə 161, 1976-1980-ci illərdə 69, 1981-1985-ci illərdə 108 nəfər adam mühakimə olunmuşdur.\\nHəyat göstərdi ki, bir neçə yüz nəfər mövcud rejimə qarşı fərqli düşünən insan Qərbin də mənəvi və maddi köməyi sayəsində ölkə vətəndaşlarının böyük bir hissəsinin rəğbətini qazanaraq rejimə qarşı müxtəlif vasitələrlə mübarizə aparmışdır. Qarşıdurma hər şeydən əvvəl, cəmiyyətdəki ziddiyyətin nəticəsində baş vermişdir. Dissidentlik ideyasını dünyanın kütləvi informasiya vasitələri daha da populyarlaşdırmışdır. Təkcə akademik A.D.Saxarov 1972-1979-cu illərdə 150 mətbuat konfransı təşkil etmiş, xarici radiolar üçün 1200 veriliş hazırlamışdır.\\n1980-ci illərin ikinci yarısından SSRİ-də dissident hərəkatı dayandırılmışdı, həbsdə olan dissidentlər azad edilmişdir. 1986-cı ildən dissident qruplarının yerini siyasi klublar, sonra isə xalq cəbhələri tutmuşdur.\\nL.İ.Brejnev və onun yaxın ətrafı sovet cəmiyyətində, hətta hakimiyyət aparatında müxalifətin meydana gəlməsini görməzlikdən gələrək ölkədəki vəziyyət və onun perspektivləri haqqında açıq müzakirə açmağa cəsarət etmədilər.\\n\\n\\nMüəllif: Tahir Baxşəliyev   \\nMənbə: RUSİYA TARİXİ ƏN QƏDİM ZAMANLARDAN GÜNÜMÜZƏDƏK\\n\n",
       "   tags                                                                 \n",
       "50 ['Rusiya tarixi', 'SSRİ dövləti', 'SSRİ', 'yenistalinizm', 'Brejnev']"
      ]
     },
     "metadata": {},
     "output_type": "display_data"
    }
   ],
   "source": [
    "file_path <- '../input/azerbaijani-blogs/azerbaijani_blogs.csv'\n",
    "\n",
    "# Read the CSV file into a data frame\n",
    "df <- read.csv(file_path, header = TRUE, encoding = 'UTF-8')\n",
    "\n",
    "# Subset the dataframe to keep only the first half\n",
    "df_fifty <- df[1:50, ]\n",
    "\n",
    "# Showing the last row of the new dataframe\n",
    "tail(df_fifty, 1)\n"
   ]
  },
  {
   "cell_type": "markdown",
   "id": "22f03571",
   "metadata": {
    "papermill": {
     "duration": 0.025169,
     "end_time": "2024-05-05T20:16:33.757087",
     "exception": false,
     "start_time": "2024-05-05T20:16:33.731918",
     "status": "completed"
    },
    "tags": []
   },
   "source": [
    "#### Let's check the dataset length and make sure it fits the requirments in terms of size:"
   ]
  },
  {
   "cell_type": "code",
   "execution_count": 4,
   "id": "e0ea4d59",
   "metadata": {
    "execution": {
     "iopub.execute_input": "2024-05-05T20:16:33.810883Z",
     "iopub.status.busy": "2024-05-05T20:16:33.809124Z",
     "iopub.status.idle": "2024-05-05T20:16:33.950605Z",
     "shell.execute_reply": "2024-05-05T20:16:33.948674Z"
    },
    "papermill": {
     "duration": 0.17174,
     "end_time": "2024-05-05T20:16:33.953675",
     "exception": false,
     "start_time": "2024-05-05T20:16:33.781935",
     "status": "completed"
    },
    "tags": []
   },
   "outputs": [
    {
     "name": "stdout",
     "output_type": "stream",
     "text": [
      "Total Word Count: 58387 \n"
     ]
    }
   ],
   "source": [
    "# Split the text into words for each row in the 'content' column\n",
    "words_list <- lapply(df_fifty$content, function(text) {\n",
    "  unlist(strsplit(text, \"\\\\s+\"))  # Split text by whitespace\n",
    "})\n",
    "\n",
    "# Count the number of words in each row\n",
    "word_counts <- sapply(words_list, length)\n",
    "\n",
    "# Sum the word counts to get the total number of words in the 'content' column\n",
    "total_word_count <- sum(word_counts)\n",
    "\n",
    "# Display the total number of words\n",
    "cat(\"Total Word Count:\", total_word_count, \"\\n\")\n",
    "\n"
   ]
  },
  {
   "cell_type": "markdown",
   "id": "113a5b65",
   "metadata": {
    "papermill": {
     "duration": 0.025275,
     "end_time": "2024-05-05T20:16:34.004227",
     "exception": false,
     "start_time": "2024-05-05T20:16:33.978952",
     "status": "completed"
    },
    "tags": []
   },
   "source": [
    "# A. Prior to removing the punctuation, find the 10 longest words and 10 longest sentences in each document. Prepare a table of this data as well as showing these items.\n",
    " "
   ]
  },
  {
   "cell_type": "code",
   "execution_count": 5,
   "id": "3c242def",
   "metadata": {
    "execution": {
     "iopub.execute_input": "2024-05-05T20:16:34.059451Z",
     "iopub.status.busy": "2024-05-05T20:16:34.057769Z",
     "iopub.status.idle": "2024-05-05T20:16:34.081483Z",
     "shell.execute_reply": "2024-05-05T20:16:34.079589Z"
    },
    "papermill": {
     "duration": 0.054813,
     "end_time": "2024-05-05T20:16:34.084917",
     "exception": false,
     "start_time": "2024-05-05T20:16:34.030104",
     "status": "completed"
    },
    "tags": []
   },
   "outputs": [],
   "source": [
    "library(tm)\n",
    "\n",
    "# Create a VCorpus from the content column\n",
    "corpus <- VCorpus(VectorSource(df_fifty$content))\n"
   ]
  },
  {
   "cell_type": "code",
   "execution_count": 6,
   "id": "cac523d6",
   "metadata": {
    "execution": {
     "iopub.execute_input": "2024-05-05T20:16:34.140403Z",
     "iopub.status.busy": "2024-05-05T20:16:34.138752Z",
     "iopub.status.idle": "2024-05-05T20:16:34.528880Z",
     "shell.execute_reply": "2024-05-05T20:16:34.527105Z"
    },
    "papermill": {
     "duration": 0.420448,
     "end_time": "2024-05-05T20:16:34.531222",
     "exception": false,
     "start_time": "2024-05-05T20:16:34.110774",
     "status": "completed"
    },
    "tags": []
   },
   "outputs": [
    {
     "data": {
      "text/html": [
       "<table class=\"dataframe\">\n",
       "<caption>A data.frame: 6 × 3</caption>\n",
       "<thead>\n",
       "\t<tr><th></th><th scope=col>doc_id</th><th scope=col>longest_words</th><th scope=col>longest_sentences</th></tr>\n",
       "\t<tr><th></th><th scope=col>&lt;int&gt;</th><th scope=col>&lt;I&lt;list&gt;&gt;</th><th scope=col>&lt;I&lt;list&gt;&gt;</th></tr>\n",
       "</thead>\n",
       "<tbody>\n",
       "\t<tr><th scope=row>1</th><td>1</td><td>öyrənilm....</td><td>Özünüink....</td></tr>\n",
       "\t<tr><th scope=row>2</th><td>2</td><td>dəqiqləş....</td><td> Bunun ü....</td></tr>\n",
       "\t<tr><th scope=row>3</th><td>3</td><td>minnətda....</td><td> Psixolo....</td></tr>\n",
       "\t<tr><th scope=row>4</th><td>4</td><td>SİMVOLUB....</td><td> DÜNYADA....</td></tr>\n",
       "\t<tr><th scope=row>5</th><td>5</td><td>nümunələ....</td><td> Böyük M....</td></tr>\n",
       "\t<tr><th scope=row>6</th><td>6</td><td>mütəxəss....</td><td> Rəqəmsa....</td></tr>\n",
       "</tbody>\n",
       "</table>\n"
      ],
      "text/latex": [
       "A data.frame: 6 × 3\n",
       "\\begin{tabular}{r|lll}\n",
       "  & doc\\_id & longest\\_words & longest\\_sentences\\\\\n",
       "  & <int> & <I<list>> & <I<list>>\\\\\n",
       "\\hline\n",
       "\t1 & 1 & öyrənilm.... & Özünüink....\\\\\n",
       "\t2 & 2 & dəqiqləş.... &  Bunun ü....\\\\\n",
       "\t3 & 3 & minnətda.... &  Psixolo....\\\\\n",
       "\t4 & 4 & SİMVOLUB.... &  DÜNYADA....\\\\\n",
       "\t5 & 5 & nümunələ.... &  Böyük M....\\\\\n",
       "\t6 & 6 & mütəxəss.... &  Rəqəmsa....\\\\\n",
       "\\end{tabular}\n"
      ],
      "text/markdown": [
       "\n",
       "A data.frame: 6 × 3\n",
       "\n",
       "| <!--/--> | doc_id &lt;int&gt; | longest_words &lt;I&lt;list&gt;&gt; | longest_sentences &lt;I&lt;list&gt;&gt; |\n",
       "|---|---|---|---|\n",
       "| 1 | 1 | öyrənilm.... | Özünüink.... |\n",
       "| 2 | 2 | dəqiqləş.... |  Bunun ü.... |\n",
       "| 3 | 3 | minnətda.... |  Psixolo.... |\n",
       "| 4 | 4 | SİMVOLUB.... |  DÜNYADA.... |\n",
       "| 5 | 5 | nümunələ.... |  Böyük M.... |\n",
       "| 6 | 6 | mütəxəss.... |  Rəqəmsa.... |\n",
       "\n"
      ],
      "text/plain": [
       "  doc_id longest_words longest_sentences\n",
       "1 1      öyrənilm....  Özünüink....     \n",
       "2 2      dəqiqləş....   Bunun ü....     \n",
       "3 3      minnətda....   Psixolo....     \n",
       "4 4      SİMVOLUB....   DÜNYADA....     \n",
       "5 5      nümunələ....   Böyük M....     \n",
       "6 6      mütəxəss....   Rəqəmsa....     "
      ]
     },
     "metadata": {},
     "output_type": "display_data"
    }
   ],
   "source": [
    "library(tm)\n",
    "library(stringr)\n",
    "library(dplyr)\n",
    "\n",
    "# Assuming df_fifty$content contains the text data and is already loaded\n",
    "\n",
    "# Create the VCorpus\n",
    "corpus <- VCorpus(VectorSource(df_fifty$content))\n",
    "\n",
    "# Function to find the longest words and sentences\n",
    "analyze_text <- function(doc) {\n",
    "  # Convert to plain text\n",
    "  text <- as.character(content(doc))\n",
    "  \n",
    "  # Find words and sentences\n",
    "  words <- unlist(str_extract_all(text, \"\\\\b\\\\w+\\\\b\"))\n",
    "  sentences <- unlist(str_extract_all(text, \"[^.!?]+[.!?]\"))\n",
    "  \n",
    "  # Sort and find the longest\n",
    "  top_words <- words[order(nchar(words), decreasing = TRUE)][1:10]\n",
    "  top_sentences <- sentences[order(nchar(sentences), decreasing = TRUE)][1:10]\n",
    "  \n",
    "  # Return as a list\n",
    "  return(list(words = top_words, sentences = top_sentences))\n",
    "}\n",
    "\n",
    "# Apply the function to each document in the corpus\n",
    "results <- lapply(corpus, analyze_text)\n",
    "\n",
    "# Create a data frame for easy viewing and analysis\n",
    "results_df <- do.call(rbind, lapply(1:length(results), function(i) {\n",
    "  data.frame(doc_id = i,\n",
    "             longest_words = I(list(results[[i]]$words)),\n",
    "             longest_sentences = I(list(results[[i]]$sentences)))\n",
    "}))\n",
    "\n",
    "# Print the results\n",
    "head(results_df)\n"
   ]
  },
  {
   "cell_type": "code",
   "execution_count": 7,
   "id": "55e40ffb",
   "metadata": {
    "execution": {
     "iopub.execute_input": "2024-05-05T20:16:34.586700Z",
     "iopub.status.busy": "2024-05-05T20:16:34.585051Z",
     "iopub.status.idle": "2024-05-05T20:16:34.606377Z",
     "shell.execute_reply": "2024-05-05T20:16:34.604459Z"
    },
    "papermill": {
     "duration": 0.051661,
     "end_time": "2024-05-05T20:16:34.608781",
     "exception": false,
     "start_time": "2024-05-05T20:16:34.557120",
     "status": "completed"
    },
    "tags": []
   },
   "outputs": [
    {
     "name": "stdout",
     "output_type": "stream",
     "text": [
      " [1] \"öyrənilməsiProqramlaşdırma\" \"platformalarıİnteraktiv\"   \n",
      " [3] \"tələbləriProqramçılıqda\"    \"inkişafıProqramçılıqda\"    \n",
      " [5] \"seçimiProqramlaşdırma\"      \"istifadəProqramçılığı\"     \n",
      " [7] \"mentorluqProqramçılıq\"      \"yollarıProqramçılığı\"      \n",
      " [9] \"izləməkProqramçılıq\"        \"seminarlarTexnoloji\"       \n",
      " [1] \"Özünüinkişaf və onlayn resurslardan istifadəProqramçılığı öyrənmək üçün onlayn resurslardan istifadə etmək, xüsusilə müstəqil öyrənməni sevənlər üçün əla bir yol ola bilər.\"\n",
      " [2] \"Texnoloji konfranslar və seminarlarTexnoloji konfranslar və seminarlar yeni trendlər və texnologiyalar haqqında bilik əldə etmək üçün əla imkanlar yaradır.\"                 \n",
      " [3] \" Codecademy, FreeCodeCamp və Khan Academy kimi saytlar müxtəlif proqramlaşdırma dillərini və texnologiyalarını öyrənmək üçün geniş imkanlar təqdim edir.\"                    \n",
      " [4] \"Proqramlaşdırma dillərinin öyrənilməsiProqramlaşdırma dillərini öyrənmək üçün onlayn resurslardan, kitablardan və kurslardan istifadə edə bilərsiniz.\"                       \n",
      " [5] \" GitHub, Stack Overflow və Reddit kimi platformalarda mövcud layihələr və müzakirələr vasitəsilə dəyərli biliklər və təcrübələr əldə etmək mümkündür.\"                       \n",
      " [6] \" Kompüter elmləri alqoritmlər, verilənlər strukturları və proqramlaşdırma prinsipləri ilə tanışlıq proqramçı kimi inkişafınızda əsas təşkil edəcək.\"                         \n",
      " [7] \" Məsələn, veb inkişaf üçün JavaScript, mobil tətbiqetmələr üçün Swift və ya Kotlin, məlumat elmləri üçün Python kimi dilləri öyrənmək faydalıdır.\"                           \n",
      " [8] \" Bu tədbirlərdə iştirak etməklə sahədəki yeniliklərdən xəbərdar olmaq, peşəkarlarla şəbəkə qurmaq və müxtəlif mövzularda təlimlər ala bilərsiniz.\"                           \n",
      " [9] \"Proqramçılıqda təhsil və öyrənmə yollarıProqramçılığı öyrənmək üçün bir çox yol mövcuddur: təhsil, onlayn kurslar, özünüinkişaf və iş təcrübəsi.\"                            \n",
      "[10] \" Bu proqramlar vasitəsilə real layihələr üzərində işləmək, peşəkar bir mühitdə təcrübə qazanmaq və sahə standartları ilə tanış olmaq mümkündür.\"                             \n"
     ]
    }
   ],
   "source": [
    "# Print 10 the longest words and sentences of the first document\n",
    "print(results_df$longest_words[[1]])\n",
    "print(results_df$longest_sentences[[1]])\n"
   ]
  },
  {
   "cell_type": "markdown",
   "id": "62fc2f7d",
   "metadata": {
    "papermill": {
     "duration": 0.025953,
     "end_time": "2024-05-05T20:16:34.661579",
     "exception": false,
     "start_time": "2024-05-05T20:16:34.635626",
     "status": "completed"
    },
    "tags": []
   },
   "source": [
    " Analyzing longest 10 words from first document reveals that they are combination of words rather than one word. As expected, the spelling mistaked are one of the challanging parts of text analytics."
   ]
  },
  {
   "cell_type": "markdown",
   "id": "135c7a4c",
   "metadata": {
    "papermill": {
     "duration": 0.027133,
     "end_time": "2024-05-05T20:16:34.714598",
     "exception": false,
     "start_time": "2024-05-05T20:16:34.687465",
     "status": "completed"
    },
    "tags": []
   },
   "source": [
    "Fortunately, this does not happen in all of the documents"
   ]
  },
  {
   "cell_type": "code",
   "execution_count": 8,
   "id": "d6ba5102",
   "metadata": {
    "execution": {
     "iopub.execute_input": "2024-05-05T20:16:34.770760Z",
     "iopub.status.busy": "2024-05-05T20:16:34.768882Z",
     "iopub.status.idle": "2024-05-05T20:16:34.792371Z",
     "shell.execute_reply": "2024-05-05T20:16:34.790323Z"
    },
    "papermill": {
     "duration": 0.054206,
     "end_time": "2024-05-05T20:16:34.795311",
     "exception": false,
     "start_time": "2024-05-05T20:16:34.741105",
     "status": "completed"
    },
    "tags": []
   },
   "outputs": [
    {
     "name": "stdout",
     "output_type": "stream",
     "text": [
      " [1] \"minnətdarsınız\" \"Həyatınızdakı\"  \"nailiyyətiniz\"  \"Uşaqlığınızda\" \n",
      " [5] \"xarakterinin\"   \"öyrəndiyiniz\"   \"istərdinizmi\"   \"dəyişərdiniz\"  \n",
      " [9] \"qabiliyyətlə\"   \"dəyişərdiniz\"  \n",
      " [1] \" Psixoloji suallar ilə insanın həyatdakı dəyərləri, sevdiyi və sevmədiyi şeylər, xarakterinin gizli və qaranlıq tərəfləri barədə ətraflı məlumat toplamış olacaqsız.\"\n",
      " [2] \" Bir kristal kürə sizə həyatınız, gələcəyiniz və ya başqa bir şey haqqında həqiqəti söyləyə bilsəydi, nəyi bilmək istərdiniz?\"                                       \n",
      " [3] \" 90 yaşına qədər yaşaya bilsəydiniz, son 60 ilini 30 yaşlı ağlınızla keçirməyi üstün tutursunuz, yoxsa 30 yaşlı bədəninizlə?\"                                        \n",
      " [4] \" Sevdiyiniz insanları və heyvanları xilas etdikdən sonra bir şeyi götürə bilsəniz, bu nə olardı?\"                                                                    \n",
      " [5] \" Dünyadakı istədiyin hər hansı bir insanı şam yeməyinə dəvət etmə şansınız olsa, bu kim olardı?\"                                                                     \n",
      " [6] \" Bu suallar açıq suallar olduğu üçün uzun və maraqlı bir söhbətin başlanğıcı olacaqdır.\"                                                                             \n",
      " [7] \"” Əgər biz dost olsaydıq, sənin haqqında bilməyimiz üçün sənin üçün nə vacib olardı?\"                                                                                \n",
      " [8] \"\\nİnsanı daha yaxşı tanımağın əsas yollarından biri məhz ona verəcəyiniz suallardır.\"                                                                                \n",
      " [9] \" Sabah yeni bir istedad və ya qabiliyyətlə oyansanız, bunun nə olmasını istərdiniz?\"                                                                                 \n",
      "[10] \" Sualları verərkən, qarşı tərəfin bədən dilini analiz etməkdə də fayda var.\"                                                                                         \n"
     ]
    }
   ],
   "source": [
    "# Print 10 the longest words and sentences of the third document\n",
    "print(results_df$longest_words[[3]])\n",
    "print(results_df$longest_sentences[[3]])"
   ]
  },
  {
   "cell_type": "markdown",
   "id": "155e0418",
   "metadata": {
    "papermill": {
     "duration": 0.025974,
     "end_time": "2024-05-05T20:16:34.847126",
     "exception": false,
     "start_time": "2024-05-05T20:16:34.821152",
     "status": "completed"
    },
    "tags": []
   },
   "source": [
    "# B. Dataset's ready, we can apply all steps in Text_Analytics tutorial"
   ]
  },
  {
   "cell_type": "code",
   "execution_count": 9,
   "id": "63d0b31a",
   "metadata": {
    "execution": {
     "iopub.execute_input": "2024-05-05T20:16:34.935772Z",
     "iopub.status.busy": "2024-05-05T20:16:34.934022Z",
     "iopub.status.idle": "2024-05-05T20:16:34.964805Z",
     "shell.execute_reply": "2024-05-05T20:16:34.962652Z"
    },
    "papermill": {
     "duration": 0.062521,
     "end_time": "2024-05-05T20:16:34.967706",
     "exception": false,
     "start_time": "2024-05-05T20:16:34.905185",
     "status": "completed"
    },
    "tags": []
   },
   "outputs": [
    {
     "name": "stdout",
     "output_type": "stream",
     "text": [
      "List of 1\n",
      " $ 49:List of 2\n",
      "  ..$ content: chr \"\\nBir mədəniyyəti yox etmək üçün kitabları yandırmağa gərək yoxdur. Oxumağın qarşısını alın, yetər (R.Bredberi)\"| __truncated__\n",
      "  ..$ meta   :List of 7\n",
      "  .. ..$ author       : chr(0) \n",
      "  .. ..$ datetimestamp: POSIXlt[1:1], format: \"2024-05-05 20:16:34\"\n",
      "  .. ..$ description  : chr(0) \n",
      "  .. ..$ heading      : chr(0) \n",
      "  .. ..$ id           : chr \"49\"\n",
      "  .. ..$ language     : chr \"en\"\n",
      "  .. ..$ origin       : chr(0) \n",
      "  .. ..- attr(*, \"class\")= chr \"TextDocumentMeta\"\n",
      "  ..- attr(*, \"class\")= chr [1:2] \"PlainTextDocument\" \"TextDocument\"\n",
      " - attr(*, \"class\")= chr [1:2] \"VCorpus\" \"Corpus\"\n"
     ]
    }
   ],
   "source": [
    "# Displaying the 49th document from corpus\n",
    "str(corpus[49])\n"
   ]
  },
  {
   "cell_type": "code",
   "execution_count": 10,
   "id": "7ab89de1",
   "metadata": {
    "execution": {
     "iopub.execute_input": "2024-05-05T20:16:35.024378Z",
     "iopub.status.busy": "2024-05-05T20:16:35.022681Z",
     "iopub.status.idle": "2024-05-05T20:16:35.042937Z",
     "shell.execute_reply": "2024-05-05T20:16:35.040650Z"
    },
    "papermill": {
     "duration": 0.05236,
     "end_time": "2024-05-05T20:16:35.045956",
     "exception": false,
     "start_time": "2024-05-05T20:16:34.993596",
     "status": "completed"
    },
    "tags": []
   },
   "outputs": [
    {
     "data": {
      "text/plain": [
       "<<VCorpus>>\n",
       "Metadata:  corpus specific: 0, document level (indexed): 0\n",
       "Content:  documents: 50"
      ]
     },
     "metadata": {},
     "output_type": "display_data"
    }
   ],
   "source": [
    "# If we print it, we get following information about our corpus:\n",
    "corpus"
   ]
  },
  {
   "cell_type": "code",
   "execution_count": 11,
   "id": "03397c43",
   "metadata": {
    "execution": {
     "iopub.execute_input": "2024-05-05T20:16:35.103895Z",
     "iopub.status.busy": "2024-05-05T20:16:35.102008Z",
     "iopub.status.idle": "2024-05-05T20:16:35.124745Z",
     "shell.execute_reply": "2024-05-05T20:16:35.122458Z"
    },
    "papermill": {
     "duration": 0.055234,
     "end_time": "2024-05-05T20:16:35.127817",
     "exception": false,
     "start_time": "2024-05-05T20:16:35.072583",
     "status": "completed"
    },
    "tags": []
   },
   "outputs": [
    {
     "data": {
      "text/plain": [
       "<<PlainTextDocument>>\n",
       "Metadata:  7\n",
       "Content:  chars: 5196"
      ]
     },
     "metadata": {},
     "output_type": "display_data"
    }
   ],
   "source": [
    "# extracting text\n",
    "ctext <- corpus[[1]]\n",
    "ctext"
   ]
  },
  {
   "cell_type": "markdown",
   "id": "a0bf1f65",
   "metadata": {
    "papermill": {
     "duration": 0.027152,
     "end_time": "2024-05-05T20:16:35.182200",
     "exception": false,
     "start_time": "2024-05-05T20:16:35.155048",
     "status": "completed"
    },
    "tags": []
   },
   "source": [
    "Text contains 5196 chars, to see the content:"
   ]
  },
  {
   "cell_type": "code",
   "execution_count": 12,
   "id": "ed100d42",
   "metadata": {
    "execution": {
     "iopub.execute_input": "2024-05-05T20:16:35.241446Z",
     "iopub.status.busy": "2024-05-05T20:16:35.239637Z",
     "iopub.status.idle": "2024-05-05T20:16:35.268981Z",
     "shell.execute_reply": "2024-05-05T20:16:35.265945Z"
    },
    "papermill": {
     "duration": 0.070067,
     "end_time": "2024-05-05T20:16:35.280294",
     "exception": false,
     "start_time": "2024-05-05T20:16:35.210227",
     "status": "completed"
    },
    "tags": []
   },
   "outputs": [
    {
     "data": {
      "text/html": [
       "<strong>$content</strong> = '\\nProqramçılığa başlamaq üçün ilk addım bu sahənin əsasları ilə tanış olmaqdır. Kompüter elmləri alqoritmlər, verilənlər strukturları və proqramlaşdırma prinsipləri ilə tanışlıq proqramçı kimi inkişafınızda əsas təşkil edəcək. Bu mərhələdə Python, JavaScript və Java kimi başlanğıc səviyyəli proqramlaşdırma dillərini öyrənmək lazımdır. \\n\\n\\n\\n\\n\\nProqramlaşdırma dillərinin seçimiProqramlaşdırma dilləri kompüterlərlə işləmək üçün istifadə olunan dillərdir. Hər bir proqramlaşdırma dili xüsusi tətbiqlər və sahələr üçün yaradılmışdır. Məsələn, veb inkişaf üçün JavaScript, mobil tətbiqetmələr üçün Swift və ya Kotlin, məlumat elmləri üçün Python kimi dilləri öyrənmək faydalıdır. Bu dillər arasında seçim etmək üçün maraqlandığınız sahə və layihələrə əsaslanaraq qərar verə bilərsiniz.Proqramlaşdırma dillərinin öyrənilməsiProqramlaşdırma dillərini öyrənmək üçün onlayn resurslardan, kitablardan və kurslardan istifadə edə bilərsiniz. Öyrənmə prosesində praktiki məşqlərə xüsusi diqqət yetirmək lazımdır. Məsələn, Python ilə başlayarkən sadə skriptlər yazmaq və kiçik layihələr üzərində işləmək dilin əsaslarını anlamağa kömək edəcək.İlk layihələriniz sadə və kiçik olmalıdır. Məsələn, bir hesab maşını, sadə bir oyun və ya istifadəçi girişi ilə işləyən bir veb tətbiqi hazırlaya bilərsiniz. Bu layihələr vasitəsilə proqramlaşdırma dillərinin sintaksisi və funksiyaları ilə daha yaxından tanış olacaqsınız.Proqramçılıqda təhsil və öyrənmə yollarıProqramçılığı öyrənmək üçün bir çox yol mövcuddur: təhsil, onlayn kurslar, özünüinkişaf və iş təcrübəsi. Rəsmi təhsil universitetlərdə kompüter elmləri və ya proqramlaşdırma ilə əlaqədar ixtisaslar alaraq həyata keçirilə bilər. Onlayn kurslar isə evdən rahat bir şəkildə proqramlaşdırma öyrənməyə imkan verir. Udemy, Coursera və Code academy kimi platformalar müxtəlif proqramlaşdırma dilləri üzrə kurslar təklif edir.Özünüinkişaf və onlayn resurslardan istifadəProqramçılığı öyrənmək üçün onlayn resurslardan istifadə etmək, xüsusilə müstəqil öyrənməni sevənlər üçün əla bir yol ola bilər. GitHub, Stack Overflow və Reddit kimi platformalarda mövcud layihələr və müzakirələr vasitəsilə dəyərli biliklər və təcrübələr əldə etmək mümkündür. Özünüinkişaf prosesində müxtəlif qaynaqlardan istifadə edərək öyrəndiklərinizi praktikada tətbiq etmək vacibdir.İnteraktiv öyrənmə platformalarıİnteraktiv öyrənmə platformaları proqramlaşdırma bacarıqlarınızı inkişaf etdirmək üçün yaxşı bir seçimdir. Bu platformalar, təlimatlar və məşqlər vasitəsilə öyrənmə prosesini daha maraqlı və interaktiv edir. Codecademy, FreeCodeCamp və Khan Academy kimi saytlar müxtəlif proqramlaşdırma dillərini və texnologiyalarını öyrənmək üçün geniş imkanlar təqdim edir.İş təcrübəsi və stajReal iş təcrübəsi əldə etmək, öyrəndiklərinizi tətbiq etmək və peşəkar aləmdə öz yerinizi tapmaq üçün əvəzsizdir. Staj və təcrübə proqramları yeni başlayan proqramçılar üçün əla imkanlar yarada bilər. Bu proqramlar vasitəsilə real layihələr üzərində işləmək, peşəkar bir mühitdə təcrübə qazanmaq və sahə standartları ilə tanış olmaq mümkündür.Proqramçılığın əsas tələbləriProqramçılıqda uğur qazanmaq üçün yalnız texniki biliklər kifayət deyil. Problem həll etmə, loqik düşüncə, daimi öyrənmə və yeniliklərə adaptasiya olmaq kimi bacarıqlar da çox vacibdir.Texniki yenilikləri izləməkProqramçılıq dünyasında texnologiyalar daim yenilənir və inkişaf edir. Yeni proqramlaşdırma dilləri, kitabxanalar və alətlər tez-tez yenilənir. Bu yenilikləri izləyərək və öyrənərək cari texnologiya trendlərinə uyğunlaşmaq mühümdür. Məsələn, bulud texnologiyaları, süni zəka və maşın öyrənməsi kimi sahələrdə inkişaf etmək proqramçı kimi karyeranızı genişləndirə bilər.Texnoloji konfranslar və seminarlarTexnoloji konfranslar və seminarlar yeni trendlər və texnologiyalar haqqında bilik əldə etmək üçün əla imkanlar yaradır. Bu tədbirlərdə iştirak etməklə sahədəki yeniliklərdən xəbərdar olmaq, peşəkarlarla şəbəkə qurmaq və müxtəlif mövzularda təlimlər ala bilərsiniz. Tədbirlər həmçinin, yeni texnologiyalar öyrənmək və layihələrinizdə tətbiq etmək üçün ilham verə bilər.İş axtarışı və karyera inkişafıProqramçılıqda təcrübə qazandıqdan sonra iş axtarışına başlaya bilərsiniz. İş elanlarını diqqətlə oxuyun və öz bacarıqlarınıza uyğun işlərə müraciət edin. İş görüşmələrində proqramlaşdırma biliklərinizi və layihələrinizi nümayiş etdirin. Karyeranızı inkişaf etdirmək üçün şirkətdaxili təlimlərdən və konfranslarda iştirakdan çəkinməyin.Şəbəkə qurma və mentorluqProqramçılıq sahəsində şəbəkə qurmaq karyeranızı inkişaf etdirməkdə əhəmiyyətli bir rola malikdir. Sosial media platformaları, texniki konfranslar və seminarlar bu şəbəkəni qurmaq üçün əla sahələrdir. Həmçinin, təcrübəli proqramçılardan mentorluq almaq, sürətli inkişafınız üçün köməkçi ola bilər. Mentorlar karyera yolu və texniki məsələlərdə dəyərli məsləhətlər verə bilər və sahədəki mürəkkəb məsələlər üzrə yol göstərə bilər.NəticəProqramçı olmaq həm çətin, həm də mükəmməl bir karyera yoludur. Davamlı öyrənmə, praktiki təcrübə və texnoloji yeniliklərə adaptasiya olmaq bu sahədə uğurun əsas komponentləridir. Öz bacarıqlarınızı inkişaf etdirərək və proqramçılıq sahəsini seçərək həm fərdi, həm də peşəkar olaraq inkişaf edə bilərsiniz. \\n'"
      ],
      "text/latex": [
       "\\textbf{\\$content} = '\\textbackslash{}nProqramçılığa başlamaq üçün ilk addım bu sahənin əsasları ilə tanış olmaqdır. Kompüter elmləri alqoritmlər, verilənlər strukturları və proqramlaşdırma prinsipləri ilə tanışlıq proqramçı kimi inkişafınızda əsas təşkil edəcək. Bu mərhələdə Python, JavaScript və Java kimi başlanğıc səviyyəli proqramlaşdırma dillərini öyrənmək lazımdır. \\textbackslash{}n\\textbackslash{}n\\textbackslash{}n\\textbackslash{}n\\textbackslash{}n\\textbackslash{}nProqramlaşdırma dillərinin seçimiProqramlaşdırma dilləri kompüterlərlə işləmək üçün istifadə olunan dillərdir. Hər bir proqramlaşdırma dili xüsusi tətbiqlər və sahələr üçün yaradılmışdır. Məsələn, veb inkişaf üçün JavaScript, mobil tətbiqetmələr üçün Swift və ya Kotlin, məlumat elmləri üçün Python kimi dilləri öyrənmək faydalıdır. Bu dillər arasında seçim etmək üçün maraqlandığınız sahə və layihələrə əsaslanaraq qərar verə bilərsiniz.Proqramlaşdırma dillərinin öyrənilməsiProqramlaşdırma dillərini öyrənmək üçün onlayn resurslardan, kitablardan və kurslardan istifadə edə bilərsiniz. Öyrənmə prosesində praktiki məşqlərə xüsusi diqqət yetirmək lazımdır. Məsələn, Python ilə başlayarkən sadə skriptlər yazmaq və kiçik layihələr üzərində işləmək dilin əsaslarını anlamağa kömək edəcək.İlk layihələriniz sadə və kiçik olmalıdır. Məsələn, bir hesab maşını, sadə bir oyun və ya istifadəçi girişi ilə işləyən bir veb tətbiqi hazırlaya bilərsiniz. Bu layihələr vasitəsilə proqramlaşdırma dillərinin sintaksisi və funksiyaları ilə daha yaxından tanış olacaqsınız.Proqramçılıqda təhsil və öyrənmə yollarıProqramçılığı öyrənmək üçün bir çox yol mövcuddur: təhsil, onlayn kurslar, özünüinkişaf və iş təcrübəsi. Rəsmi təhsil universitetlərdə kompüter elmləri və ya proqramlaşdırma ilə əlaqədar ixtisaslar alaraq həyata keçirilə bilər. Onlayn kurslar isə evdən rahat bir şəkildə proqramlaşdırma öyrənməyə imkan verir. Udemy, Coursera və Code academy kimi platformalar müxtəlif proqramlaşdırma dilləri üzrə kurslar təklif edir.Özünüinkişaf və onlayn resurslardan istifadəProqramçılığı öyrənmək üçün onlayn resurslardan istifadə etmək, xüsusilə müstəqil öyrənməni sevənlər üçün əla bir yol ola bilər. GitHub, Stack Overflow və Reddit kimi platformalarda mövcud layihələr və müzakirələr vasitəsilə dəyərli biliklər və təcrübələr əldə etmək mümkündür. Özünüinkişaf prosesində müxtəlif qaynaqlardan istifadə edərək öyrəndiklərinizi praktikada tətbiq etmək vacibdir.İnteraktiv öyrənmə platformalarıİnteraktiv öyrənmə platformaları proqramlaşdırma bacarıqlarınızı inkişaf etdirmək üçün yaxşı bir seçimdir. Bu platformalar, təlimatlar və məşqlər vasitəsilə öyrənmə prosesini daha maraqlı və interaktiv edir. Codecademy, FreeCodeCamp və Khan Academy kimi saytlar müxtəlif proqramlaşdırma dillərini və texnologiyalarını öyrənmək üçün geniş imkanlar təqdim edir.İş təcrübəsi və stajReal iş təcrübəsi əldə etmək, öyrəndiklərinizi tətbiq etmək və peşəkar aləmdə öz yerinizi tapmaq üçün əvəzsizdir. Staj və təcrübə proqramları yeni başlayan proqramçılar üçün əla imkanlar yarada bilər. Bu proqramlar vasitəsilə real layihələr üzərində işləmək, peşəkar bir mühitdə təcrübə qazanmaq və sahə standartları ilə tanış olmaq mümkündür.Proqramçılığın əsas tələbləriProqramçılıqda uğur qazanmaq üçün yalnız texniki biliklər kifayət deyil. Problem həll etmə, loqik düşüncə, daimi öyrənmə və yeniliklərə adaptasiya olmaq kimi bacarıqlar da çox vacibdir.Texniki yenilikləri izləməkProqramçılıq dünyasında texnologiyalar daim yenilənir və inkişaf edir. Yeni proqramlaşdırma dilləri, kitabxanalar və alətlər tez-tez yenilənir. Bu yenilikləri izləyərək və öyrənərək cari texnologiya trendlərinə uyğunlaşmaq mühümdür. Məsələn, bulud texnologiyaları, süni zəka və maşın öyrənməsi kimi sahələrdə inkişaf etmək proqramçı kimi karyeranızı genişləndirə bilər.Texnoloji konfranslar və seminarlarTexnoloji konfranslar və seminarlar yeni trendlər və texnologiyalar haqqında bilik əldə etmək üçün əla imkanlar yaradır. Bu tədbirlərdə iştirak etməklə sahədəki yeniliklərdən xəbərdar olmaq, peşəkarlarla şəbəkə qurmaq və müxtəlif mövzularda təlimlər ala bilərsiniz. Tədbirlər həmçinin, yeni texnologiyalar öyrənmək və layihələrinizdə tətbiq etmək üçün ilham verə bilər.İş axtarışı və karyera inkişafıProqramçılıqda təcrübə qazandıqdan sonra iş axtarışına başlaya bilərsiniz. İş elanlarını diqqətlə oxuyun və öz bacarıqlarınıza uyğun işlərə müraciət edin. İş görüşmələrində proqramlaşdırma biliklərinizi və layihələrinizi nümayiş etdirin. Karyeranızı inkişaf etdirmək üçün şirkətdaxili təlimlərdən və konfranslarda iştirakdan çəkinməyin.Şəbəkə qurma və mentorluqProqramçılıq sahəsində şəbəkə qurmaq karyeranızı inkişaf etdirməkdə əhəmiyyətli bir rola malikdir. Sosial media platformaları, texniki konfranslar və seminarlar bu şəbəkəni qurmaq üçün əla sahələrdir. Həmçinin, təcrübəli proqramçılardan mentorluq almaq, sürətli inkişafınız üçün köməkçi ola bilər. Mentorlar karyera yolu və texniki məsələlərdə dəyərli məsləhətlər verə bilər və sahədəki mürəkkəb məsələlər üzrə yol göstərə bilər.NəticəProqramçı olmaq həm çətin, həm də mükəmməl bir karyera yoludur. Davamlı öyrənmə, praktiki təcrübə və texnoloji yeniliklərə adaptasiya olmaq bu sahədə uğurun əsas komponentləridir. Öz bacarıqlarınızı inkişaf etdirərək və proqramçılıq sahəsini seçərək həm fərdi, həm də peşəkar olaraq inkişaf edə bilərsiniz. \\textbackslash{}n'"
      ],
      "text/markdown": [
       "**$content** = '\\nProqramçılığa başlamaq üçün ilk addım bu sahənin əsasları ilə tanış olmaqdır. Kompüter elmləri alqoritmlər, verilənlər strukturları və proqramlaşdırma prinsipləri ilə tanışlıq proqramçı kimi inkişafınızda əsas təşkil edəcək. Bu mərhələdə Python, JavaScript və Java kimi başlanğıc səviyyəli proqramlaşdırma dillərini öyrənmək lazımdır. \\n\\n\\n\\n\\n\\nProqramlaşdırma dillərinin seçimiProqramlaşdırma dilləri kompüterlərlə işləmək üçün istifadə olunan dillərdir. Hər bir proqramlaşdırma dili xüsusi tətbiqlər və sahələr üçün yaradılmışdır. Məsələn, veb inkişaf üçün JavaScript, mobil tətbiqetmələr üçün Swift və ya Kotlin, məlumat elmləri üçün Python kimi dilləri öyrənmək faydalıdır. Bu dillər arasında seçim etmək üçün maraqlandığınız sahə və layihələrə əsaslanaraq qərar verə bilərsiniz.Proqramlaşdırma dillərinin öyrənilməsiProqramlaşdırma dillərini öyrənmək üçün onlayn resurslardan, kitablardan və kurslardan istifadə edə bilərsiniz. Öyrənmə prosesində praktiki məşqlərə xüsusi diqqət yetirmək lazımdır. Məsələn, Python ilə başlayarkən sadə skriptlər yazmaq və kiçik layihələr üzərində işləmək dilin əsaslarını anlamağa kömək edəcək.İlk layihələriniz sadə və kiçik olmalıdır. Məsələn, bir hesab maşını, sadə bir oyun və ya istifadəçi girişi ilə işləyən bir veb tətbiqi hazırlaya bilərsiniz. Bu layihələr vasitəsilə proqramlaşdırma dillərinin sintaksisi və funksiyaları ilə daha yaxından tanış olacaqsınız.Proqramçılıqda təhsil və öyrənmə yollarıProqramçılığı öyrənmək üçün bir çox yol mövcuddur: təhsil, onlayn kurslar, özünüinkişaf və iş təcrübəsi. Rəsmi təhsil universitetlərdə kompüter elmləri və ya proqramlaşdırma ilə əlaqədar ixtisaslar alaraq həyata keçirilə bilər. Onlayn kurslar isə evdən rahat bir şəkildə proqramlaşdırma öyrənməyə imkan verir. Udemy, Coursera və Code academy kimi platformalar müxtəlif proqramlaşdırma dilləri üzrə kurslar təklif edir.Özünüinkişaf və onlayn resurslardan istifadəProqramçılığı öyrənmək üçün onlayn resurslardan istifadə etmək, xüsusilə müstəqil öyrənməni sevənlər üçün əla bir yol ola bilər. GitHub, Stack Overflow və Reddit kimi platformalarda mövcud layihələr və müzakirələr vasitəsilə dəyərli biliklər və təcrübələr əldə etmək mümkündür. Özünüinkişaf prosesində müxtəlif qaynaqlardan istifadə edərək öyrəndiklərinizi praktikada tətbiq etmək vacibdir.İnteraktiv öyrənmə platformalarıİnteraktiv öyrənmə platformaları proqramlaşdırma bacarıqlarınızı inkişaf etdirmək üçün yaxşı bir seçimdir. Bu platformalar, təlimatlar və məşqlər vasitəsilə öyrənmə prosesini daha maraqlı və interaktiv edir. Codecademy, FreeCodeCamp və Khan Academy kimi saytlar müxtəlif proqramlaşdırma dillərini və texnologiyalarını öyrənmək üçün geniş imkanlar təqdim edir.İş təcrübəsi və stajReal iş təcrübəsi əldə etmək, öyrəndiklərinizi tətbiq etmək və peşəkar aləmdə öz yerinizi tapmaq üçün əvəzsizdir. Staj və təcrübə proqramları yeni başlayan proqramçılar üçün əla imkanlar yarada bilər. Bu proqramlar vasitəsilə real layihələr üzərində işləmək, peşəkar bir mühitdə təcrübə qazanmaq və sahə standartları ilə tanış olmaq mümkündür.Proqramçılığın əsas tələbləriProqramçılıqda uğur qazanmaq üçün yalnız texniki biliklər kifayət deyil. Problem həll etmə, loqik düşüncə, daimi öyrənmə və yeniliklərə adaptasiya olmaq kimi bacarıqlar da çox vacibdir.Texniki yenilikləri izləməkProqramçılıq dünyasında texnologiyalar daim yenilənir və inkişaf edir. Yeni proqramlaşdırma dilləri, kitabxanalar və alətlər tez-tez yenilənir. Bu yenilikləri izləyərək və öyrənərək cari texnologiya trendlərinə uyğunlaşmaq mühümdür. Məsələn, bulud texnologiyaları, süni zəka və maşın öyrənməsi kimi sahələrdə inkişaf etmək proqramçı kimi karyeranızı genişləndirə bilər.Texnoloji konfranslar və seminarlarTexnoloji konfranslar və seminarlar yeni trendlər və texnologiyalar haqqında bilik əldə etmək üçün əla imkanlar yaradır. Bu tədbirlərdə iştirak etməklə sahədəki yeniliklərdən xəbərdar olmaq, peşəkarlarla şəbəkə qurmaq və müxtəlif mövzularda təlimlər ala bilərsiniz. Tədbirlər həmçinin, yeni texnologiyalar öyrənmək və layihələrinizdə tətbiq etmək üçün ilham verə bilər.İş axtarışı və karyera inkişafıProqramçılıqda təcrübə qazandıqdan sonra iş axtarışına başlaya bilərsiniz. İş elanlarını diqqətlə oxuyun və öz bacarıqlarınıza uyğun işlərə müraciət edin. İş görüşmələrində proqramlaşdırma biliklərinizi və layihələrinizi nümayiş etdirin. Karyeranızı inkişaf etdirmək üçün şirkətdaxili təlimlərdən və konfranslarda iştirakdan çəkinməyin.Şəbəkə qurma və mentorluqProqramçılıq sahəsində şəbəkə qurmaq karyeranızı inkişaf etdirməkdə əhəmiyyətli bir rola malikdir. Sosial media platformaları, texniki konfranslar və seminarlar bu şəbəkəni qurmaq üçün əla sahələrdir. Həmçinin, təcrübəli proqramçılardan mentorluq almaq, sürətli inkişafınız üçün köməkçi ola bilər. Mentorlar karyera yolu və texniki məsələlərdə dəyərli məsləhətlər verə bilər və sahədəki mürəkkəb məsələlər üzrə yol göstərə bilər.NəticəProqramçı olmaq həm çətin, həm də mükəmməl bir karyera yoludur. Davamlı öyrənmə, praktiki təcrübə və texnoloji yeniliklərə adaptasiya olmaq bu sahədə uğurun əsas komponentləridir. Öz bacarıqlarınızı inkişaf etdirərək və proqramçılıq sahəsini seçərək həm fərdi, həm də peşəkar olaraq inkişaf edə bilərsiniz. \\n'"
      ],
      "text/plain": [
       "$content\n",
       "[1] \"\\nProqramçılığa başlamaq üçün ilk addım bu sahənin əsasları ilə tanış olmaqdır. Kompüter elmləri alqoritmlər, verilənlər strukturları və proqramlaşdırma prinsipləri ilə tanışlıq proqramçı kimi inkişafınızda əsas təşkil edəcək. Bu mərhələdə Python, JavaScript və Java kimi başlanğıc səviyyəli proqramlaşdırma dillərini öyrənmək lazımdır. \\n\\n\\n\\n\\n\\nProqramlaşdırma dillərinin seçimiProqramlaşdırma dilləri kompüterlərlə işləmək üçün istifadə olunan dillərdir. Hər bir proqramlaşdırma dili xüsusi tətbiqlər və sahələr üçün yaradılmışdır. Məsələn, veb inkişaf üçün JavaScript, mobil tətbiqetmələr üçün Swift və ya Kotlin, məlumat elmləri üçün Python kimi dilləri öyrənmək faydalıdır. Bu dillər arasında seçim etmək üçün maraqlandığınız sahə və layihələrə əsaslanaraq qərar verə bilərsiniz.Proqramlaşdırma dillərinin öyrənilməsiProqramlaşdırma dillərini öyrənmək üçün onlayn resurslardan, kitablardan və kurslardan istifadə edə bilərsiniz. Öyrənmə prosesində praktiki məşqlərə xüsusi diqqət yetirmək lazımdır. Məsələn, Python ilə başlayarkən sadə skriptlər yazmaq və kiçik layihələr üzərində işləmək dilin əsaslarını anlamağa kömək edəcək.İlk layihələriniz sadə və kiçik olmalıdır. Məsələn, bir hesab maşını, sadə bir oyun və ya istifadəçi girişi ilə işləyən bir veb tətbiqi hazırlaya bilərsiniz. Bu layihələr vasitəsilə proqramlaşdırma dillərinin sintaksisi və funksiyaları ilə daha yaxından tanış olacaqsınız.Proqramçılıqda təhsil və öyrənmə yollarıProqramçılığı öyrənmək üçün bir çox yol mövcuddur: təhsil, onlayn kurslar, özünüinkişaf və iş təcrübəsi. Rəsmi təhsil universitetlərdə kompüter elmləri və ya proqramlaşdırma ilə əlaqədar ixtisaslar alaraq həyata keçirilə bilər. Onlayn kurslar isə evdən rahat bir şəkildə proqramlaşdırma öyrənməyə imkan verir. Udemy, Coursera və Code academy kimi platformalar müxtəlif proqramlaşdırma dilləri üzrə kurslar təklif edir.Özünüinkişaf və onlayn resurslardan istifadəProqramçılığı öyrənmək üçün onlayn resurslardan istifadə etmək, xüsusilə müstəqil öyrənməni sevənlər üçün əla bir yol ola bilər. GitHub, Stack Overflow və Reddit kimi platformalarda mövcud layihələr və müzakirələr vasitəsilə dəyərli biliklər və təcrübələr əldə etmək mümkündür. Özünüinkişaf prosesində müxtəlif qaynaqlardan istifadə edərək öyrəndiklərinizi praktikada tətbiq etmək vacibdir.İnteraktiv öyrənmə platformalarıİnteraktiv öyrənmə platformaları proqramlaşdırma bacarıqlarınızı inkişaf etdirmək üçün yaxşı bir seçimdir. Bu platformalar, təlimatlar və məşqlər vasitəsilə öyrənmə prosesini daha maraqlı və interaktiv edir. Codecademy, FreeCodeCamp və Khan Academy kimi saytlar müxtəlif proqramlaşdırma dillərini və texnologiyalarını öyrənmək üçün geniş imkanlar təqdim edir.İş təcrübəsi və stajReal iş təcrübəsi əldə etmək, öyrəndiklərinizi tətbiq etmək və peşəkar aləmdə öz yerinizi tapmaq üçün əvəzsizdir. Staj və təcrübə proqramları yeni başlayan proqramçılar üçün əla imkanlar yarada bilər. Bu proqramlar vasitəsilə real layihələr üzərində işləmək, peşəkar bir mühitdə təcrübə qazanmaq və sahə standartları ilə tanış olmaq mümkündür.Proqramçılığın əsas tələbləriProqramçılıqda uğur qazanmaq üçün yalnız texniki biliklər kifayət deyil. Problem həll etmə, loqik düşüncə, daimi öyrənmə və yeniliklərə adaptasiya olmaq kimi bacarıqlar da çox vacibdir.Texniki yenilikləri izləməkProqramçılıq dünyasında texnologiyalar daim yenilənir və inkişaf edir. Yeni proqramlaşdırma dilləri, kitabxanalar və alətlər tez-tez yenilənir. Bu yenilikləri izləyərək və öyrənərək cari texnologiya trendlərinə uyğunlaşmaq mühümdür. Məsələn, bulud texnologiyaları, süni zəka və maşın öyrənməsi kimi sahələrdə inkişaf etmək proqramçı kimi karyeranızı genişləndirə bilər.Texnoloji konfranslar və seminarlarTexnoloji konfranslar və seminarlar yeni trendlər və texnologiyalar haqqında bilik əldə etmək üçün əla imkanlar yaradır. Bu tədbirlərdə iştirak etməklə sahədəki yeniliklərdən xəbərdar olmaq, peşəkarlarla şəbəkə qurmaq və müxtəlif mövzularda təlimlər ala bilərsiniz. Tədbirlər həmçinin, yeni texnologiyalar öyrənmək və layihələrinizdə tətbiq etmək üçün ilham verə bilər.İş axtarışı və karyera inkişafıProqramçılıqda təcrübə qazandıqdan sonra iş axtarışına başlaya bilərsiniz. İş elanlarını diqqətlə oxuyun və öz bacarıqlarınıza uyğun işlərə müraciət edin. İş görüşmələrində proqramlaşdırma biliklərinizi və layihələrinizi nümayiş etdirin. Karyeranızı inkişaf etdirmək üçün şirkətdaxili təlimlərdən və konfranslarda iştirakdan çəkinməyin.Şəbəkə qurma və mentorluqProqramçılıq sahəsində şəbəkə qurmaq karyeranızı inkişaf etdirməkdə əhəmiyyətli bir rola malikdir. Sosial media platformaları, texniki konfranslar və seminarlar bu şəbəkəni qurmaq üçün əla sahələrdir. Həmçinin, təcrübəli proqramçılardan mentorluq almaq, sürətli inkişafınız üçün köməkçi ola bilər. Mentorlar karyera yolu və texniki məsələlərdə dəyərli məsləhətlər verə bilər və sahədəki mürəkkəb məsələlər üzrə yol göstərə bilər.NəticəProqramçı olmaq həm çətin, həm də mükəmməl bir karyera yoludur. Davamlı öyrənmə, praktiki təcrübə və texnoloji yeniliklərə adaptasiya olmaq bu sahədə uğurun əsas komponentləridir. Öz bacarıqlarınızı inkişaf etdirərək və proqramçılıq sahəsini seçərək həm fərdi, həm də peşəkar olaraq inkişaf edə bilərsiniz. \\n\"\n"
      ]
     },
     "metadata": {},
     "output_type": "display_data"
    }
   ],
   "source": [
    "ctext[1]"
   ]
  },
  {
   "cell_type": "code",
   "execution_count": 13,
   "id": "6ba08bc6",
   "metadata": {
    "execution": {
     "iopub.execute_input": "2024-05-05T20:16:35.339083Z",
     "iopub.status.busy": "2024-05-05T20:16:35.337453Z",
     "iopub.status.idle": "2024-05-05T20:16:35.826015Z",
     "shell.execute_reply": "2024-05-05T20:16:35.823809Z"
    },
    "papermill": {
     "duration": 0.528962,
     "end_time": "2024-05-05T20:16:35.836812",
     "exception": false,
     "start_time": "2024-05-05T20:16:35.307850",
     "status": "completed"
    },
    "tags": []
   },
   "outputs": [
    {
     "data": {
      "text/plain": [
       "<<DocumentTermMatrix (documents: 50, terms: 19652)>>\n",
       "Non-/sparse entries: 31614/950986\n",
       "Sparsity           : 97%\n",
       "Maximal term length: 74\n",
       "Weighting          : term frequency (tf)"
      ]
     },
     "metadata": {},
     "output_type": "display_data"
    }
   ],
   "source": [
    "# creating DTM\n",
    "\n",
    "corpusDTM <- DocumentTermMatrix(corpus)\n",
    "corpusDTM"
   ]
  },
  {
   "cell_type": "code",
   "execution_count": 14,
   "id": "3075c768",
   "metadata": {
    "execution": {
     "iopub.execute_input": "2024-05-05T20:16:35.898061Z",
     "iopub.status.busy": "2024-05-05T20:16:35.896401Z",
     "iopub.status.idle": "2024-05-05T20:16:36.036518Z",
     "shell.execute_reply": "2024-05-05T20:16:36.034075Z"
    },
    "papermill": {
     "duration": 0.174775,
     "end_time": "2024-05-05T20:16:36.039474",
     "exception": false,
     "start_time": "2024-05-05T20:16:35.864699",
     "status": "completed"
    },
    "tags": []
   },
   "outputs": [
    {
     "name": "stdout",
     "output_type": "stream",
     "text": [
      "<<DocumentTermMatrix (documents: 50, terms: 19652)>>\n",
      "Non-/sparse entries: 31614/950986\n",
      "Sparsity           : 97%\n",
      "Maximal term length: 74\n",
      "Weighting          : term frequency (tf)\n",
      "Sample             :\n",
      "    Terms\n",
      "Docs bir çox daha hər ilə isə ki, kimi olan üçün\n",
      "  13  32  21   31   4  30   8  14   13   12   10\n",
      "  17   6   8    2   9  15   7   9    8   21   27\n",
      "  24  14  11   11   7   3   3  11    2    6    8\n",
      "  25  16  14   10   4   2  24  10    3    4    5\n",
      "  26  38  15    8  15  17  12  30    6   11   16\n",
      "  35  99  28   19   8  46  22  46   25   46   61\n",
      "  40  55  22   18  29  25  18  14   23   45   20\n",
      "  47  27  17    3   2   8   3  13   14    8   14\n",
      "  48  26   9    6   6  17   7   8    6   14    7\n",
      "  50  16   8    5   3  26   9  16   20   18    9\n"
     ]
    }
   ],
   "source": [
    "inspect(corpusDTM)"
   ]
  },
  {
   "cell_type": "markdown",
   "id": "16b9535e",
   "metadata": {
    "papermill": {
     "duration": 0.027453,
     "end_time": "2024-05-05T20:16:36.094496",
     "exception": false,
     "start_time": "2024-05-05T20:16:36.067043",
     "status": "completed"
    },
    "tags": []
   },
   "source": [
    "This table summarizes our DTM. It shows that 50 documents and 19,652 terms shows a high sparsity of 97%, indicating that the vast majority of possible term-document combinations are zero, which is common in text data where many terms occur in only a few documents."
   ]
  },
  {
   "cell_type": "code",
   "execution_count": 15,
   "id": "085ee3d3",
   "metadata": {
    "execution": {
     "iopub.execute_input": "2024-05-05T20:16:36.155421Z",
     "iopub.status.busy": "2024-05-05T20:16:36.153569Z",
     "iopub.status.idle": "2024-05-05T20:16:36.188499Z",
     "shell.execute_reply": "2024-05-05T20:16:36.185467Z"
    },
    "papermill": {
     "duration": 0.068897,
     "end_time": "2024-05-05T20:16:36.191568",
     "exception": false,
     "start_time": "2024-05-05T20:16:36.122671",
     "status": "completed"
    },
    "tags": []
   },
   "outputs": [
    {
     "name": "stdout",
     "output_type": "stream",
     "text": [
      "List of 6\n",
      " $ i       : int [1:31614] 1 1 1 1 1 1 1 1 1 1 ...\n",
      " $ j       : int [1:31614] 1108 1178 1183 1436 1447 1474 1481 1562 1586 1701 ...\n",
      " $ v       : num [1:31614] 2 2 1 1 1 1 1 1 1 1 ...\n",
      " $ nrow    : int 50\n",
      " $ ncol    : int 19652\n",
      " $ dimnames:List of 2\n",
      "  ..$ Docs : chr [1:50] \"1\" \"2\" \"3\" \"4\" ...\n",
      "  ..$ Terms: chr [1:19652] \"  müəllif:\" \" 1998-ci\" \" araşdırdıqca\" \" dünyanın\" ...\n",
      " - attr(*, \"class\")= chr [1:2] \"DocumentTermMatrix\" \"simple_triplet_matrix\"\n",
      " - attr(*, \"weighting\")= chr [1:2] \"term frequency\" \"tf\"\n"
     ]
    }
   ],
   "source": [
    "# Let's check structure\n",
    "str(corpusDTM)"
   ]
  },
  {
   "cell_type": "code",
   "execution_count": 16,
   "id": "b13b99a5",
   "metadata": {
    "execution": {
     "iopub.execute_input": "2024-05-05T20:16:36.259444Z",
     "iopub.status.busy": "2024-05-05T20:16:36.257659Z",
     "iopub.status.idle": "2024-05-05T20:16:36.296967Z",
     "shell.execute_reply": "2024-05-05T20:16:36.295101Z"
    },
    "papermill": {
     "duration": 0.071522,
     "end_time": "2024-05-05T20:16:36.299290",
     "exception": false,
     "start_time": "2024-05-05T20:16:36.227768",
     "status": "completed"
    },
    "tags": []
   },
   "outputs": [
    {
     "data": {
      "text/html": [
       "<table class=\"dataframe\">\n",
       "<caption>A data.frame: 1 × 1</caption>\n",
       "<thead>\n",
       "\t<tr><th scope=col>content</th></tr>\n",
       "\t<tr><th scope=col>&lt;chr&gt;</th></tr>\n",
       "</thead>\n",
       "<tbody>\n",
       "\t<tr><td>\n",
       "Proqramçılığa başlamaq üçün ilk addım bu sahənin əsasları ilə tanış olmaqdır. Kompüter elmləri alqoritmlər, verilənlər strukturları və proqramlaşdırma prinsipləri ilə tanışlıq proqramçı kimi inkişafınızda əsas təşkil edəcək. Bu mərhələdə Python, JavaScript və Java kimi başlanğıc səviyyəli proqramlaşdırma dillərini öyrənmək lazımdır. \n",
       "\n",
       "\n",
       "\n",
       "\n",
       "\n",
       "Proqramlaşdırma dillərinin seçimiProqramlaşdırma dilləri kompüterlərlə işləmək üçün istifadə olunan dillərdir. Hər bir proqramlaşdırma dili xüsusi tətbiqlər və sahələr üçün yaradılmışdır. Məsələn, veb inkişaf üçün JavaScript, mobil tətbiqetmələr üçün Swift və ya Kotlin, məlumat elmləri üçün Python kimi dilləri öyrənmək faydalıdır. Bu dillər arasında seçim etmək üçün maraqlandığınız sahə və layihələrə əsaslanaraq qərar verə bilərsiniz.Proqramlaşdırma dillərinin öyrənilməsiProqramlaşdırma dillərini öyrənmək üçün onlayn resurslardan, kitablardan və kurslardan istifadə edə bilərsiniz. Öyrənmə prosesində praktiki məşqlərə xüsusi diqqət yetirmək lazımdır. Məsələn, Python ilə başlayarkən sadə skriptlər yazmaq və kiçik layihələr üzərində işləmək dilin əsaslarını anlamağa kömək edəcək.İlk layihələriniz sadə və kiçik olmalıdır. Məsələn, bir hesab maşını, sadə bir oyun və ya istifadəçi girişi ilə işləyən bir veb tətbiqi hazırlaya bilərsiniz. Bu layihələr vasitəsilə proqramlaşdırma dillərinin sintaksisi və funksiyaları ilə daha yaxından tanış olacaqsınız.Proqramçılıqda təhsil və öyrənmə yollarıProqramçılığı öyrənmək üçün bir çox yol mövcuddur: təhsil, onlayn kurslar, özünüinkişaf və iş təcrübəsi. Rəsmi təhsil universitetlərdə kompüter elmləri və ya proqramlaşdırma ilə əlaqədar ixtisaslar alaraq həyata keçirilə bilər. Onlayn kurslar isə evdən rahat bir şəkildə proqramlaşdırma öyrənməyə imkan verir. Udemy, Coursera və Code academy kimi platformalar müxtəlif proqramlaşdırma dilləri üzrə kurslar təklif edir.Özünüinkişaf və onlayn resurslardan istifadəProqramçılığı öyrənmək üçün onlayn resurslardan istifadə etmək, xüsusilə müstəqil öyrənməni sevənlər üçün əla bir yol ola bilər. GitHub, Stack Overflow və Reddit kimi platformalarda mövcud layihələr və müzakirələr vasitəsilə dəyərli biliklər və təcrübələr əldə etmək mümkündür. Özünüinkişaf prosesində müxtəlif qaynaqlardan istifadə edərək öyrəndiklərinizi praktikada tətbiq etmək vacibdir.İnteraktiv öyrənmə platformalarıİnteraktiv öyrənmə platformaları proqramlaşdırma bacarıqlarınızı inkişaf etdirmək üçün yaxşı bir seçimdir. Bu platformalar, təlimatlar və məşqlər vasitəsilə öyrənmə prosesini daha maraqlı və interaktiv edir. Codecademy, FreeCodeCamp və Khan Academy kimi saytlar müxtəlif proqramlaşdırma dillərini və texnologiyalarını öyrənmək üçün geniş imkanlar təqdim edir.İş təcrübəsi və stajReal iş təcrübəsi əldə etmək, öyrəndiklərinizi tətbiq etmək və peşəkar aləmdə öz yerinizi tapmaq üçün əvəzsizdir. Staj və təcrübə proqramları yeni başlayan proqramçılar üçün əla imkanlar yarada bilər. Bu proqramlar vasitəsilə real layihələr üzərində işləmək, peşəkar bir mühitdə təcrübə qazanmaq və sahə standartları ilə tanış olmaq mümkündür.Proqramçılığın əsas tələbləriProqramçılıqda uğur qazanmaq üçün yalnız texniki biliklər kifayət deyil. Problem həll etmə, loqik düşüncə, daimi öyrənmə və yeniliklərə adaptasiya olmaq kimi bacarıqlar da çox vacibdir.Texniki yenilikləri izləməkProqramçılıq dünyasında texnologiyalar daim yenilənir və inkişaf edir. Yeni proqramlaşdırma dilləri, kitabxanalar və alətlər tez-tez yenilənir. Bu yenilikləri izləyərək və öyrənərək cari texnologiya trendlərinə uyğunlaşmaq mühümdür. Məsələn, bulud texnologiyaları, süni zəka və maşın öyrənməsi kimi sahələrdə inkişaf etmək proqramçı kimi karyeranızı genişləndirə bilər.Texnoloji konfranslar və seminarlarTexnoloji konfranslar və seminarlar yeni trendlər və texnologiyalar haqqında bilik əldə etmək üçün əla imkanlar yaradır. Bu tədbirlərdə iştirak etməklə sahədəki yeniliklərdən xəbərdar olmaq, peşəkarlarla şəbəkə qurmaq və müxtəlif mövzularda təlimlər ala bilərsiniz. Tədbirlər həmçinin, yeni texnologiyalar öyrənmək və layihələrinizdə tətbiq etmək üçün ilham verə bilər.İş axtarışı və karyera inkişafıProqramçılıqda təcrübə qazandıqdan sonra iş axtarışına başlaya bilərsiniz. İş elanlarını diqqətlə oxuyun və öz bacarıqlarınıza uyğun işlərə müraciət edin. İş görüşmələrində proqramlaşdırma biliklərinizi və layihələrinizi nümayiş etdirin. Karyeranızı inkişaf etdirmək üçün şirkətdaxili təlimlərdən və konfranslarda iştirakdan çəkinməyin.Şəbəkə qurma və mentorluqProqramçılıq sahəsində şəbəkə qurmaq karyeranızı inkişaf etdirməkdə əhəmiyyətli bir rola malikdir. Sosial media platformaları, texniki konfranslar və seminarlar bu şəbəkəni qurmaq üçün əla sahələrdir. Həmçinin, təcrübəli proqramçılardan mentorluq almaq, sürətli inkişafınız üçün köməkçi ola bilər. Mentorlar karyera yolu və texniki məsələlərdə dəyərli məsləhətlər verə bilər və sahədəki mürəkkəb məsələlər üzrə yol göstərə bilər.NəticəProqramçı olmaq həm çətin, həm də mükəmməl bir karyera yoludur. Davamlı öyrənmə, praktiki təcrübə və texnoloji yeniliklərə adaptasiya olmaq bu sahədə uğurun əsas komponentləridir. Öz bacarıqlarınızı inkişaf etdirərək və proqramçılıq sahəsini seçərək həm fərdi, həm də peşəkar olaraq inkişaf edə bilərsiniz. \n",
       "</td></tr>\n",
       "</tbody>\n",
       "</table>\n"
      ],
      "text/latex": [
       "A data.frame: 1 × 1\n",
       "\\begin{tabular}{l}\n",
       " content\\\\\n",
       " <chr>\\\\\n",
       "\\hline\n",
       "\t \n",
       "Proqramçılığa başlamaq üçün ilk addım bu sahənin əsasları ilə tanış olmaqdır. Kompüter elmləri alqoritmlər, verilənlər strukturları və proqramlaşdırma prinsipləri ilə tanışlıq proqramçı kimi inkişafınızda əsas təşkil edəcək. Bu mərhələdə Python, JavaScript və Java kimi başlanğıc səviyyəli proqramlaşdırma dillərini öyrənmək lazımdır. \n",
       "\n",
       "\n",
       "\n",
       "\n",
       "\n",
       "Proqramlaşdırma dillərinin seçimiProqramlaşdırma dilləri kompüterlərlə işləmək üçün istifadə olunan dillərdir. Hər bir proqramlaşdırma dili xüsusi tətbiqlər və sahələr üçün yaradılmışdır. Məsələn, veb inkişaf üçün JavaScript, mobil tətbiqetmələr üçün Swift və ya Kotlin, məlumat elmləri üçün Python kimi dilləri öyrənmək faydalıdır. Bu dillər arasında seçim etmək üçün maraqlandığınız sahə və layihələrə əsaslanaraq qərar verə bilərsiniz.Proqramlaşdırma dillərinin öyrənilməsiProqramlaşdırma dillərini öyrənmək üçün onlayn resurslardan, kitablardan və kurslardan istifadə edə bilərsiniz. Öyrənmə prosesində praktiki məşqlərə xüsusi diqqət yetirmək lazımdır. Məsələn, Python ilə başlayarkən sadə skriptlər yazmaq və kiçik layihələr üzərində işləmək dilin əsaslarını anlamağa kömək edəcək.İlk layihələriniz sadə və kiçik olmalıdır. Məsələn, bir hesab maşını, sadə bir oyun və ya istifadəçi girişi ilə işləyən bir veb tətbiqi hazırlaya bilərsiniz. Bu layihələr vasitəsilə proqramlaşdırma dillərinin sintaksisi və funksiyaları ilə daha yaxından tanış olacaqsınız.Proqramçılıqda təhsil və öyrənmə yollarıProqramçılığı öyrənmək üçün bir çox yol mövcuddur: təhsil, onlayn kurslar, özünüinkişaf və iş təcrübəsi. Rəsmi təhsil universitetlərdə kompüter elmləri və ya proqramlaşdırma ilə əlaqədar ixtisaslar alaraq həyata keçirilə bilər. Onlayn kurslar isə evdən rahat bir şəkildə proqramlaşdırma öyrənməyə imkan verir. Udemy, Coursera və Code academy kimi platformalar müxtəlif proqramlaşdırma dilləri üzrə kurslar təklif edir.Özünüinkişaf və onlayn resurslardan istifadəProqramçılığı öyrənmək üçün onlayn resurslardan istifadə etmək, xüsusilə müstəqil öyrənməni sevənlər üçün əla bir yol ola bilər. GitHub, Stack Overflow və Reddit kimi platformalarda mövcud layihələr və müzakirələr vasitəsilə dəyərli biliklər və təcrübələr əldə etmək mümkündür. Özünüinkişaf prosesində müxtəlif qaynaqlardan istifadə edərək öyrəndiklərinizi praktikada tətbiq etmək vacibdir.İnteraktiv öyrənmə platformalarıİnteraktiv öyrənmə platformaları proqramlaşdırma bacarıqlarınızı inkişaf etdirmək üçün yaxşı bir seçimdir. Bu platformalar, təlimatlar və məşqlər vasitəsilə öyrənmə prosesini daha maraqlı və interaktiv edir. Codecademy, FreeCodeCamp və Khan Academy kimi saytlar müxtəlif proqramlaşdırma dillərini və texnologiyalarını öyrənmək üçün geniş imkanlar təqdim edir.İş təcrübəsi və stajReal iş təcrübəsi əldə etmək, öyrəndiklərinizi tətbiq etmək və peşəkar aləmdə öz yerinizi tapmaq üçün əvəzsizdir. Staj və təcrübə proqramları yeni başlayan proqramçılar üçün əla imkanlar yarada bilər. Bu proqramlar vasitəsilə real layihələr üzərində işləmək, peşəkar bir mühitdə təcrübə qazanmaq və sahə standartları ilə tanış olmaq mümkündür.Proqramçılığın əsas tələbləriProqramçılıqda uğur qazanmaq üçün yalnız texniki biliklər kifayət deyil. Problem həll etmə, loqik düşüncə, daimi öyrənmə və yeniliklərə adaptasiya olmaq kimi bacarıqlar da çox vacibdir.Texniki yenilikləri izləməkProqramçılıq dünyasında texnologiyalar daim yenilənir və inkişaf edir. Yeni proqramlaşdırma dilləri, kitabxanalar və alətlər tez-tez yenilənir. Bu yenilikləri izləyərək və öyrənərək cari texnologiya trendlərinə uyğunlaşmaq mühümdür. Məsələn, bulud texnologiyaları, süni zəka və maşın öyrənməsi kimi sahələrdə inkişaf etmək proqramçı kimi karyeranızı genişləndirə bilər.Texnoloji konfranslar və seminarlarTexnoloji konfranslar və seminarlar yeni trendlər və texnologiyalar haqqında bilik əldə etmək üçün əla imkanlar yaradır. Bu tədbirlərdə iştirak etməklə sahədəki yeniliklərdən xəbərdar olmaq, peşəkarlarla şəbəkə qurmaq və müxtəlif mövzularda təlimlər ala bilərsiniz. Tədbirlər həmçinin, yeni texnologiyalar öyrənmək və layihələrinizdə tətbiq etmək üçün ilham verə bilər.İş axtarışı və karyera inkişafıProqramçılıqda təcrübə qazandıqdan sonra iş axtarışına başlaya bilərsiniz. İş elanlarını diqqətlə oxuyun və öz bacarıqlarınıza uyğun işlərə müraciət edin. İş görüşmələrində proqramlaşdırma biliklərinizi və layihələrinizi nümayiş etdirin. Karyeranızı inkişaf etdirmək üçün şirkətdaxili təlimlərdən və konfranslarda iştirakdan çəkinməyin.Şəbəkə qurma və mentorluqProqramçılıq sahəsində şəbəkə qurmaq karyeranızı inkişaf etdirməkdə əhəmiyyətli bir rola malikdir. Sosial media platformaları, texniki konfranslar və seminarlar bu şəbəkəni qurmaq üçün əla sahələrdir. Həmçinin, təcrübəli proqramçılardan mentorluq almaq, sürətli inkişafınız üçün köməkçi ola bilər. Mentorlar karyera yolu və texniki məsələlərdə dəyərli məsləhətlər verə bilər və sahədəki mürəkkəb məsələlər üzrə yol göstərə bilər.NəticəProqramçı olmaq həm çətin, həm də mükəmməl bir karyera yoludur. Davamlı öyrənmə, praktiki təcrübə və texnoloji yeniliklərə adaptasiya olmaq bu sahədə uğurun əsas komponentləridir. Öz bacarıqlarınızı inkişaf etdirərək və proqramçılıq sahəsini seçərək həm fərdi, həm də peşəkar olaraq inkişaf edə bilərsiniz. \n",
       "\\\\\n",
       "\\end{tabular}\n"
      ],
      "text/markdown": [
       "\n",
       "A data.frame: 1 × 1\n",
       "\n",
       "| content &lt;chr&gt; |\n",
       "|---|\n",
       "| \n",
       "Proqramçılığa başlamaq üçün ilk addım bu sahənin əsasları ilə tanış olmaqdır. Kompüter elmləri alqoritmlər, verilənlər strukturları və proqramlaşdırma prinsipləri ilə tanışlıq proqramçı kimi inkişafınızda əsas təşkil edəcək. Bu mərhələdə Python, JavaScript və Java kimi başlanğıc səviyyəli proqramlaşdırma dillərini öyrənmək lazımdır. \n",
       "\n",
       "\n",
       "\n",
       "\n",
       "\n",
       "Proqramlaşdırma dillərinin seçimiProqramlaşdırma dilləri kompüterlərlə işləmək üçün istifadə olunan dillərdir. Hər bir proqramlaşdırma dili xüsusi tətbiqlər və sahələr üçün yaradılmışdır. Məsələn, veb inkişaf üçün JavaScript, mobil tətbiqetmələr üçün Swift və ya Kotlin, məlumat elmləri üçün Python kimi dilləri öyrənmək faydalıdır. Bu dillər arasında seçim etmək üçün maraqlandığınız sahə və layihələrə əsaslanaraq qərar verə bilərsiniz.Proqramlaşdırma dillərinin öyrənilməsiProqramlaşdırma dillərini öyrənmək üçün onlayn resurslardan, kitablardan və kurslardan istifadə edə bilərsiniz. Öyrənmə prosesində praktiki məşqlərə xüsusi diqqət yetirmək lazımdır. Məsələn, Python ilə başlayarkən sadə skriptlər yazmaq və kiçik layihələr üzərində işləmək dilin əsaslarını anlamağa kömək edəcək.İlk layihələriniz sadə və kiçik olmalıdır. Məsələn, bir hesab maşını, sadə bir oyun və ya istifadəçi girişi ilə işləyən bir veb tətbiqi hazırlaya bilərsiniz. Bu layihələr vasitəsilə proqramlaşdırma dillərinin sintaksisi və funksiyaları ilə daha yaxından tanış olacaqsınız.Proqramçılıqda təhsil və öyrənmə yollarıProqramçılığı öyrənmək üçün bir çox yol mövcuddur: təhsil, onlayn kurslar, özünüinkişaf və iş təcrübəsi. Rəsmi təhsil universitetlərdə kompüter elmləri və ya proqramlaşdırma ilə əlaqədar ixtisaslar alaraq həyata keçirilə bilər. Onlayn kurslar isə evdən rahat bir şəkildə proqramlaşdırma öyrənməyə imkan verir. Udemy, Coursera və Code academy kimi platformalar müxtəlif proqramlaşdırma dilləri üzrə kurslar təklif edir.Özünüinkişaf və onlayn resurslardan istifadəProqramçılığı öyrənmək üçün onlayn resurslardan istifadə etmək, xüsusilə müstəqil öyrənməni sevənlər üçün əla bir yol ola bilər. GitHub, Stack Overflow və Reddit kimi platformalarda mövcud layihələr və müzakirələr vasitəsilə dəyərli biliklər və təcrübələr əldə etmək mümkündür. Özünüinkişaf prosesində müxtəlif qaynaqlardan istifadə edərək öyrəndiklərinizi praktikada tətbiq etmək vacibdir.İnteraktiv öyrənmə platformalarıİnteraktiv öyrənmə platformaları proqramlaşdırma bacarıqlarınızı inkişaf etdirmək üçün yaxşı bir seçimdir. Bu platformalar, təlimatlar və məşqlər vasitəsilə öyrənmə prosesini daha maraqlı və interaktiv edir. Codecademy, FreeCodeCamp və Khan Academy kimi saytlar müxtəlif proqramlaşdırma dillərini və texnologiyalarını öyrənmək üçün geniş imkanlar təqdim edir.İş təcrübəsi və stajReal iş təcrübəsi əldə etmək, öyrəndiklərinizi tətbiq etmək və peşəkar aləmdə öz yerinizi tapmaq üçün əvəzsizdir. Staj və təcrübə proqramları yeni başlayan proqramçılar üçün əla imkanlar yarada bilər. Bu proqramlar vasitəsilə real layihələr üzərində işləmək, peşəkar bir mühitdə təcrübə qazanmaq və sahə standartları ilə tanış olmaq mümkündür.Proqramçılığın əsas tələbləriProqramçılıqda uğur qazanmaq üçün yalnız texniki biliklər kifayət deyil. Problem həll etmə, loqik düşüncə, daimi öyrənmə və yeniliklərə adaptasiya olmaq kimi bacarıqlar da çox vacibdir.Texniki yenilikləri izləməkProqramçılıq dünyasında texnologiyalar daim yenilənir və inkişaf edir. Yeni proqramlaşdırma dilləri, kitabxanalar və alətlər tez-tez yenilənir. Bu yenilikləri izləyərək və öyrənərək cari texnologiya trendlərinə uyğunlaşmaq mühümdür. Məsələn, bulud texnologiyaları, süni zəka və maşın öyrənməsi kimi sahələrdə inkişaf etmək proqramçı kimi karyeranızı genişləndirə bilər.Texnoloji konfranslar və seminarlarTexnoloji konfranslar və seminarlar yeni trendlər və texnologiyalar haqqında bilik əldə etmək üçün əla imkanlar yaradır. Bu tədbirlərdə iştirak etməklə sahədəki yeniliklərdən xəbərdar olmaq, peşəkarlarla şəbəkə qurmaq və müxtəlif mövzularda təlimlər ala bilərsiniz. Tədbirlər həmçinin, yeni texnologiyalar öyrənmək və layihələrinizdə tətbiq etmək üçün ilham verə bilər.İş axtarışı və karyera inkişafıProqramçılıqda təcrübə qazandıqdan sonra iş axtarışına başlaya bilərsiniz. İş elanlarını diqqətlə oxuyun və öz bacarıqlarınıza uyğun işlərə müraciət edin. İş görüşmələrində proqramlaşdırma biliklərinizi və layihələrinizi nümayiş etdirin. Karyeranızı inkişaf etdirmək üçün şirkətdaxili təlimlərdən və konfranslarda iştirakdan çəkinməyin.Şəbəkə qurma və mentorluqProqramçılıq sahəsində şəbəkə qurmaq karyeranızı inkişaf etdirməkdə əhəmiyyətli bir rola malikdir. Sosial media platformaları, texniki konfranslar və seminarlar bu şəbəkəni qurmaq üçün əla sahələrdir. Həmçinin, təcrübəli proqramçılardan mentorluq almaq, sürətli inkişafınız üçün köməkçi ola bilər. Mentorlar karyera yolu və texniki məsələlərdə dəyərli məsləhətlər verə bilər və sahədəki mürəkkəb məsələlər üzrə yol göstərə bilər.NəticəProqramçı olmaq həm çətin, həm də mükəmməl bir karyera yoludur. Davamlı öyrənmə, praktiki təcrübə və texnoloji yeniliklərə adaptasiya olmaq bu sahədə uğurun əsas komponentləridir. Öz bacarıqlarınızı inkişaf etdirərək və proqramçılıq sahəsini seçərək həm fərdi, həm də peşəkar olaraq inkişaf edə bilərsiniz. \n",
       " |\n",
       "\n"
      ],
      "text/plain": [
       "  content                                                                                                                                                                                                                                                                                                                                                                                                                                                                                                                                                                                                                                                                                                                                                                                                                                                                                                                                                                                                                                                                                                                                                                                                                                                                                                                                                                                                                                                                                                                                                                                                                                                                                                                                                                                                                                                                                                                                                                                                                                                                                                                                                                                                                                                                                                                                                                                                                                                                                                                                                                                                                                                                                                                                                                                                                                                                                                                                                                                                                                                                                                                                                                                                                                                                                                                                                                                                                                                                                                                                                                                                                                                                                                                                                                                                                                                                                                                                                                                                                                                                                                                                                                                                                                                                                                                                                                                                                                                                                                                                                                                                                                                                                                                                                                                                                                                                                                                                                                                                                                                                                                                                                                                                                                                                                                                                                                                                             \n",
       "1 \\nProqramçılığa başlamaq üçün ilk addım bu sahənin əsasları ilə tanış olmaqdır. Kompüter elmləri alqoritmlər, verilənlər strukturları və proqramlaşdırma prinsipləri ilə tanışlıq proqramçı kimi inkişafınızda əsas təşkil edəcək. Bu mərhələdə Python, JavaScript və Java kimi başlanğıc səviyyəli proqramlaşdırma dillərini öyrənmək lazımdır. \\n\\n\\n\\n\\n\\nProqramlaşdırma dillərinin seçimiProqramlaşdırma dilləri kompüterlərlə işləmək üçün istifadə olunan dillərdir. Hər bir proqramlaşdırma dili xüsusi tətbiqlər və sahələr üçün yaradılmışdır. Məsələn, veb inkişaf üçün JavaScript, mobil tətbiqetmələr üçün Swift və ya Kotlin, məlumat elmləri üçün Python kimi dilləri öyrənmək faydalıdır. Bu dillər arasında seçim etmək üçün maraqlandığınız sahə və layihələrə əsaslanaraq qərar verə bilərsiniz.Proqramlaşdırma dillərinin öyrənilməsiProqramlaşdırma dillərini öyrənmək üçün onlayn resurslardan, kitablardan və kurslardan istifadə edə bilərsiniz. Öyrənmə prosesində praktiki məşqlərə xüsusi diqqət yetirmək lazımdır. Məsələn, Python ilə başlayarkən sadə skriptlər yazmaq və kiçik layihələr üzərində işləmək dilin əsaslarını anlamağa kömək edəcək.İlk layihələriniz sadə və kiçik olmalıdır. Məsələn, bir hesab maşını, sadə bir oyun və ya istifadəçi girişi ilə işləyən bir veb tətbiqi hazırlaya bilərsiniz. Bu layihələr vasitəsilə proqramlaşdırma dillərinin sintaksisi və funksiyaları ilə daha yaxından tanış olacaqsınız.Proqramçılıqda təhsil və öyrənmə yollarıProqramçılığı öyrənmək üçün bir çox yol mövcuddur: təhsil, onlayn kurslar, özünüinkişaf və iş təcrübəsi. Rəsmi təhsil universitetlərdə kompüter elmləri və ya proqramlaşdırma ilə əlaqədar ixtisaslar alaraq həyata keçirilə bilər. Onlayn kurslar isə evdən rahat bir şəkildə proqramlaşdırma öyrənməyə imkan verir. Udemy, Coursera və Code academy kimi platformalar müxtəlif proqramlaşdırma dilləri üzrə kurslar təklif edir.Özünüinkişaf və onlayn resurslardan istifadəProqramçılığı öyrənmək üçün onlayn resurslardan istifadə etmək, xüsusilə müstəqil öyrənməni sevənlər üçün əla bir yol ola bilər. GitHub, Stack Overflow və Reddit kimi platformalarda mövcud layihələr və müzakirələr vasitəsilə dəyərli biliklər və təcrübələr əldə etmək mümkündür. Özünüinkişaf prosesində müxtəlif qaynaqlardan istifadə edərək öyrəndiklərinizi praktikada tətbiq etmək vacibdir.İnteraktiv öyrənmə platformalarıİnteraktiv öyrənmə platformaları proqramlaşdırma bacarıqlarınızı inkişaf etdirmək üçün yaxşı bir seçimdir. Bu platformalar, təlimatlar və məşqlər vasitəsilə öyrənmə prosesini daha maraqlı və interaktiv edir. Codecademy, FreeCodeCamp və Khan Academy kimi saytlar müxtəlif proqramlaşdırma dillərini və texnologiyalarını öyrənmək üçün geniş imkanlar təqdim edir.İş təcrübəsi və stajReal iş təcrübəsi əldə etmək, öyrəndiklərinizi tətbiq etmək və peşəkar aləmdə öz yerinizi tapmaq üçün əvəzsizdir. Staj və təcrübə proqramları yeni başlayan proqramçılar üçün əla imkanlar yarada bilər. Bu proqramlar vasitəsilə real layihələr üzərində işləmək, peşəkar bir mühitdə təcrübə qazanmaq və sahə standartları ilə tanış olmaq mümkündür.Proqramçılığın əsas tələbləriProqramçılıqda uğur qazanmaq üçün yalnız texniki biliklər kifayət deyil. Problem həll etmə, loqik düşüncə, daimi öyrənmə və yeniliklərə adaptasiya olmaq kimi bacarıqlar da çox vacibdir.Texniki yenilikləri izləməkProqramçılıq dünyasında texnologiyalar daim yenilənir və inkişaf edir. Yeni proqramlaşdırma dilləri, kitabxanalar və alətlər tez-tez yenilənir. Bu yenilikləri izləyərək və öyrənərək cari texnologiya trendlərinə uyğunlaşmaq mühümdür. Məsələn, bulud texnologiyaları, süni zəka və maşın öyrənməsi kimi sahələrdə inkişaf etmək proqramçı kimi karyeranızı genişləndirə bilər.Texnoloji konfranslar və seminarlarTexnoloji konfranslar və seminarlar yeni trendlər və texnologiyalar haqqında bilik əldə etmək üçün əla imkanlar yaradır. Bu tədbirlərdə iştirak etməklə sahədəki yeniliklərdən xəbərdar olmaq, peşəkarlarla şəbəkə qurmaq və müxtəlif mövzularda təlimlər ala bilərsiniz. Tədbirlər həmçinin, yeni texnologiyalar öyrənmək və layihələrinizdə tətbiq etmək üçün ilham verə bilər.İş axtarışı və karyera inkişafıProqramçılıqda təcrübə qazandıqdan sonra iş axtarışına başlaya bilərsiniz. İş elanlarını diqqətlə oxuyun və öz bacarıqlarınıza uyğun işlərə müraciət edin. İş görüşmələrində proqramlaşdırma biliklərinizi və layihələrinizi nümayiş etdirin. Karyeranızı inkişaf etdirmək üçün şirkətdaxili təlimlərdən və konfranslarda iştirakdan çəkinməyin.Şəbəkə qurma və mentorluqProqramçılıq sahəsində şəbəkə qurmaq karyeranızı inkişaf etdirməkdə əhəmiyyətli bir rola malikdir. Sosial media platformaları, texniki konfranslar və seminarlar bu şəbəkəni qurmaq üçün əla sahələrdir. Həmçinin, təcrübəli proqramçılardan mentorluq almaq, sürətli inkişafınız üçün köməkçi ola bilər. Mentorlar karyera yolu və texniki məsələlərdə dəyərli məsləhətlər verə bilər və sahədəki mürəkkəb məsələlər üzrə yol göstərə bilər.NəticəProqramçı olmaq həm çətin, həm də mükəmməl bir karyera yoludur. Davamlı öyrənmə, praktiki təcrübə və texnoloji yeniliklərə adaptasiya olmaq bu sahədə uğurun əsas komponentləridir. Öz bacarıqlarınızı inkişaf etdirərək və proqramçılıq sahəsini seçərək həm fərdi, həm də peşəkar olaraq inkişaf edə bilərsiniz. \\n"
      ]
     },
     "metadata": {},
     "output_type": "display_data"
    }
   ],
   "source": [
    "corpusdf <- data.frame(ctext[1])\n",
    "corpusdf[1]"
   ]
  },
  {
   "cell_type": "markdown",
   "id": "0a6557b2",
   "metadata": {
    "papermill": {
     "duration": 0.037319,
     "end_time": "2024-05-05T20:16:36.371496",
     "exception": false,
     "start_time": "2024-05-05T20:16:36.334177",
     "status": "completed"
    },
    "tags": []
   },
   "source": [
    "*As you can see now we have a dataframe with the column of content which is different from initial ctext[1] structure*"
   ]
  },
  {
   "cell_type": "code",
   "execution_count": 17,
   "id": "d049297d",
   "metadata": {
    "execution": {
     "iopub.execute_input": "2024-05-05T20:16:36.446560Z",
     "iopub.status.busy": "2024-05-05T20:16:36.444897Z",
     "iopub.status.idle": "2024-05-05T20:16:36.502468Z",
     "shell.execute_reply": "2024-05-05T20:16:36.499212Z"
    },
    "papermill": {
     "duration": 0.0941,
     "end_time": "2024-05-05T20:16:36.505749",
     "exception": false,
     "start_time": "2024-05-05T20:16:36.411649",
     "status": "completed"
    },
    "tags": []
   },
   "outputs": [],
   "source": [
    "# Let's first make sure all text is in lower case\n",
    "\n",
    "corpus <- tm_map(corpus, content_transformer(tolower))"
   ]
  },
  {
   "cell_type": "code",
   "execution_count": 18,
   "id": "557fddef",
   "metadata": {
    "execution": {
     "iopub.execute_input": "2024-05-05T20:16:36.577883Z",
     "iopub.status.busy": "2024-05-05T20:16:36.576185Z",
     "iopub.status.idle": "2024-05-05T20:16:36.591623Z",
     "shell.execute_reply": "2024-05-05T20:16:36.589778Z"
    },
    "papermill": {
     "duration": 0.049106,
     "end_time": "2024-05-05T20:16:36.594149",
     "exception": false,
     "start_time": "2024-05-05T20:16:36.545043",
     "status": "completed"
    },
    "tags": []
   },
   "outputs": [],
   "source": [
    "# Function to remove all characters from the input text x that are not alphabetic characters (both upper and lower case) or whitespace. \n",
    "removeNumPunct <- function(x) gsub(\"[^[:alpha:][:space:]]\", \"\", x)\n"
   ]
  },
  {
   "cell_type": "code",
   "execution_count": 19,
   "id": "cd93b380",
   "metadata": {
    "execution": {
     "iopub.execute_input": "2024-05-05T20:16:36.655413Z",
     "iopub.status.busy": "2024-05-05T20:16:36.653638Z",
     "iopub.status.idle": "2024-05-05T20:16:36.703085Z",
     "shell.execute_reply": "2024-05-05T20:16:36.701051Z"
    },
    "papermill": {
     "duration": 0.082602,
     "end_time": "2024-05-05T20:16:36.705791",
     "exception": false,
     "start_time": "2024-05-05T20:16:36.623189",
     "status": "completed"
    },
    "tags": []
   },
   "outputs": [],
   "source": [
    "clcorpus <- tm_map(corpus, content_transformer(removeNumPunct))"
   ]
  },
  {
   "cell_type": "code",
   "execution_count": 20,
   "id": "a8cc14bd",
   "metadata": {
    "execution": {
     "iopub.execute_input": "2024-05-05T20:16:36.767660Z",
     "iopub.status.busy": "2024-05-05T20:16:36.766067Z",
     "iopub.status.idle": "2024-05-05T20:16:36.785529Z",
     "shell.execute_reply": "2024-05-05T20:16:36.783291Z"
    },
    "papermill": {
     "duration": 0.053708,
     "end_time": "2024-05-05T20:16:36.788409",
     "exception": false,
     "start_time": "2024-05-05T20:16:36.734701",
     "status": "completed"
    },
    "tags": []
   },
   "outputs": [
    {
     "data": {
      "text/plain": [
       "<<PlainTextDocument>>\n",
       "Metadata:  7\n",
       "Content:  chars: 5116"
      ]
     },
     "metadata": {},
     "output_type": "display_data"
    }
   ],
   "source": [
    "clcorpus[[1]]"
   ]
  },
  {
   "cell_type": "markdown",
   "id": "08d6c136",
   "metadata": {
    "papermill": {
     "duration": 0.028882,
     "end_time": "2024-05-05T20:16:36.846229",
     "exception": false,
     "start_time": "2024-05-05T20:16:36.817347",
     "status": "completed"
    },
    "tags": []
   },
   "source": [
    "We had 5196 characters and after transormation 5116 of them are remained."
   ]
  },
  {
   "cell_type": "code",
   "execution_count": 21,
   "id": "957e271d",
   "metadata": {
    "execution": {
     "iopub.execute_input": "2024-05-05T20:16:36.908510Z",
     "iopub.status.busy": "2024-05-05T20:16:36.906669Z",
     "iopub.status.idle": "2024-05-05T20:16:36.928058Z",
     "shell.execute_reply": "2024-05-05T20:16:36.923795Z"
    },
    "papermill": {
     "duration": 0.055616,
     "end_time": "2024-05-05T20:16:36.930955",
     "exception": false,
     "start_time": "2024-05-05T20:16:36.875339",
     "status": "completed"
    },
    "tags": []
   },
   "outputs": [
    {
     "name": "stdout",
     "output_type": "stream",
     "text": [
      "\n",
      "dünyanın  möcüzəsindən biri olantac mahalhindistanın şimalında aqra şəhərində yerləşir hindistan deyildikdə bir çox insanın ağlına ilk gələn simvolik tikilidir tac sarayı mənasını verən abidə  metr hündürlüyü ilə dünya memarlığının görkəmli nümunələrindən hesab olunur dünyanın ən çox ziyarət edilən tarixi binalarından biri olan tac mahal eşqin və əzəmətin simvoludurdünyada insanlar ikiyə bölünür tac mahalı görənlər və görməyənləredvard lir ingilis lordu  bu doğrudan da o qədər gözəl poetik bir binadır ki onu görənləri öz bənzərsizliyi ilə heyran edir o cü ildən hindistanda müsəlman incəsənətinin incisi və dünya irsinin universal şah əsərlərindən biri kimi yuneskonun ümumdünya mədəni irs siyahısındadırtac mahalın tarixi və hekayəsicü illər arasında uttar pradeş bölgəsində inşa edilib böyük moğol imperiyasının hökmdarı şah cahanın həyat yoldaşı mümtaz mahalın xatirəsini yaşatmaq üçün inşa etdirdiyi bu şah əsər dünyada sevgini simvolizə edən ən mühüm tikililərdən biridir şah cahanın cü övladının anası mümtaz mahal sonuncu övladının doğulması zamanı dünyasını dəyişib əsl adı ərcümənd banu begüm olan mümtaz mahalın mənası sarayınn seçilmiş deməkdirci ildə dünya üzrə  milyon səslə dünyanın yeddi möcüzəsindən biri seçilən tac mahalın memarları memar sinanın tələbələri mehmet isa əfəndi və mehmet ismail əfəndidir ağ mərmərdən hazırlanmış dörd minarəsi var və zümrüd yaqut mirvari və almaz kimi bir çox qiymətli daşlarla bəzədilibikonik soğan formalı günbəz osmanlı imperiyasından gələnismayıl əfəndi tərəfindən hazırlanmışdırtac mahalın tikintisində ümumilikdə  min insan və mindən çox fil çalışıb bu tikinti o dövr üçün  milyard dollara bərabər olan  milyon hindistan rupisinə başa gəlibtac mahal haqqında geniş məlumat\n",
      "\n",
      "\n",
      "\n",
      "\n",
      "\n",
      "tikintisi  il davam edən tac mahal böyük bağ məscid hovuz və məqbərədən ibarətdir dörd tərəfinin birbirini mükəmməl şəkildə tamamladığı bina güzgüdəki görüntü kimi birbirini əks etdirən simmetrik xüsusiyyətə malikdir bağı və bütün tikililəri ilə birlikdə  hektar ərazini əhatə edirtac mahalı əhatə edən bağ öz gözəlliyi ilə göz oxşayır peyzaj işləri hərtərəfli düşünülmüş və bütövlükdə dizayn edilmişdir tac mahalın dörd minarəsi d effekti verir ki bu da moğol memarlığında bir ilk iditac mahalın dizaynı günün müxtəlif vaxtlarında müxtəlif rəngləri əks etdirir ağ mərmərlər səhərlər çəhrayı gündüzlər ağ gecələr qızılı rəngə boyanırcü ildə yuneskonun dünya irs siyahısınadaxil edilən bina ildə  milyon ziyarətçiyə ev sahibliyi edirşah cahanın həyat yoldaşı mümtaz mahalın məqbərəsinin yerləşdiyi bölmədə mümtaz mahalı tərifləyən yazılar və onun üçün deyilmiş xoş arzular var dövrün əhəmiyyətli xəttatlarının imzası olan yasin surəsi türbənin ən diqqət çəkən hissəsidir türbə hissəsinin interyerində ənənəvi dekorativ elementlərdən istifadə edilmişdir mümtaz mahal və onun əri şah cahanın sarkofaqları dəfn kamerasının əsas hissəsində yuxarı mərtəbədə faktiki sarkofaqlar isə aşağı mərtəbədə yerləşirqəbir otağının cənub girişindən aşağı türbəyə aparan pilləkən uclu çəllək ilə əhatə olunub ziyarətçilər üçün əlçatmaz olan bu bölmənin düzbucaqlı tavanı tamamilə mərmərlə örtülmüşdür otağın mərkəzində yerləşən oxşar dizaynlı iki türbə müxtəlif motivlərlə bəzədilibşah cahanın öz məzarının qara mərmərdən olmasını istədiyi barədə müxtəlif iddialar olsa da bununla bağlı heç bir sənəd tapılmayıb çox güman ki bu əfsanələrin əsasını avropalı səyyah janbatist tavernyenin cəfəng yazıları təşkil edirtac mahalın mərmər quruluşunda a yaxın qiymətli daşdan istifadə edilmişdir bu daşlar arasında firuzə tibetdən nefrit çindən binanın əsas materialı olan mərmər isə racastandan gətirilib təəssüf ki ci ildə hindistan üsyanı zamanı bir çox qiymətli daşlar ingilislər tərəfindən yerindən çıxarıldıcu əsrin sonlarında hindistanın keçmiş qubernatoru lord kerzon məqbərənin bərpasına təşəbbüs göstərdi və bərpa işləri ci ildə başa çatdıeşqdən ilhamlanarak tikilən bu bənərsiz sevgi abidəsi bu gün də aşiqlərin ən çox ziyarət etdiyi yerlərdən biridir\n",
      "\n"
     ]
    }
   ],
   "source": [
    "writeLines(as.character(clcorpus[[5]]))"
   ]
  },
  {
   "cell_type": "markdown",
   "id": "86690043",
   "metadata": {
    "papermill": {
     "duration": 0.030059,
     "end_time": "2024-05-05T20:16:36.990461",
     "exception": false,
     "start_time": "2024-05-05T20:16:36.960402",
     "status": "completed"
    },
    "tags": []
   },
   "source": [
    "All the numbers have removed and text is converted to the lowercase."
   ]
  },
  {
   "cell_type": "markdown",
   "id": "cccf6cf9",
   "metadata": {
    "papermill": {
     "duration": 0.03003,
     "end_time": "2024-05-05T20:16:37.050175",
     "exception": false,
     "start_time": "2024-05-05T20:16:37.020145",
     "status": "completed"
    },
    "tags": []
   },
   "source": [
    "Let's directly pull our stop words txt from ADA website:"
   ]
  },
  {
   "cell_type": "code",
   "execution_count": 22,
   "id": "ecd0f40b",
   "metadata": {
    "execution": {
     "iopub.execute_input": "2024-05-05T20:16:37.113499Z",
     "iopub.status.busy": "2024-05-05T20:16:37.111579Z",
     "iopub.status.idle": "2024-05-05T20:16:38.529060Z",
     "shell.execute_reply": "2024-05-05T20:16:38.527076Z"
    },
    "papermill": {
     "duration": 1.451781,
     "end_time": "2024-05-05T20:16:38.531528",
     "exception": false,
     "start_time": "2024-05-05T20:16:37.079747",
     "status": "completed"
    },
    "tags": []
   },
   "outputs": [
    {
     "name": "stderr",
     "output_type": "stream",
     "text": [
      "Warning message in readLines(url(file_url)):\n",
      "“incomplete final line found on 'https://site.ada.edu.az/~aadamov/sources/data/nlp/stopwords/stopwords-az.txt'”\n"
     ]
    },
    {
     "name": "stdout",
     "output_type": "stream",
     "text": [
      "[1] \"a\"      \"afərin\" \"ah\"     \"aid\"    \"aləm\"   \"aman\"  \n"
     ]
    }
   ],
   "source": [
    "# URL of the text file\n",
    "file_url <- \"https://site.ada.edu.az/~aadamov/sources/data/nlp/stopwords/stopwords-az.txt\"\n",
    "\n",
    "# Reading the text file\n",
    "stop_words <- readLines(url(file_url))\n",
    "\n",
    "# Optionally, print the first few lines to check\n",
    "print(head(stop_words))\n"
   ]
  },
  {
   "cell_type": "code",
   "execution_count": 23,
   "id": "c7478322",
   "metadata": {
    "execution": {
     "iopub.execute_input": "2024-05-05T20:16:38.603536Z",
     "iopub.status.busy": "2024-05-05T20:16:38.593356Z",
     "iopub.status.idle": "2024-05-05T20:16:39.393358Z",
     "shell.execute_reply": "2024-05-05T20:16:39.391415Z"
    },
    "papermill": {
     "duration": 0.835351,
     "end_time": "2024-05-05T20:16:39.396618",
     "exception": false,
     "start_time": "2024-05-05T20:16:38.561267",
     "status": "completed"
    },
    "tags": []
   },
   "outputs": [
    {
     "name": "stdout",
     "output_type": "stream",
     "text": [
      "dünyanın möcüzəsindən olantac mahalhindistanın şimalında aqra şəhərində yerləşir hindistan deyildikdə insanın ağlına gələn simvolik tikilidir tac sarayı mənasını verən abidə metr hündürlüyü dünya memarlığının görkəmli nümunələrindən hesab olunur dünyanın ziyarət edilən tarixi\n",
      "binalarından tac mahal eşqin əzəmətin simvoludurdünyada insanlar ikiyə bölünür tac mahalı görənlər görməyənləredvard lir ingilis lordu doğrudan gözəl poetik binadır görənləri bənzərsizliyi heyran ildən hindistanda müsəlman incəsənətinin incisi dünya irsinin universal şah\n",
      "əsərlərindən yuneskonun ümumdünya mədəni irs siyahısındadırtac mahalın tarixi hekayəsicü illər uttar pradeş bölgəsində inşa edilib böyük moğol imperiyasının hökmdarı şah cahanın həyat yoldaşı mümtaz mahalın xatirəsini yaşatmaq inşa etdirdiyi şah əsər dünyada sevgini simvolizə\n",
      "mühüm tikililərdən biridir şah cahanın övladının anası mümtaz mahal sonuncu övladının doğulması zamanı dünyasını dəyişib adı ərcümənd banu begüm mümtaz mahalın mənası sarayınn seçilmiş deməkdirci dünya üzrə milyon səslə dünyanın yeddi möcüzəsindən seçilən tac mahalın memarları\n",
      "memar sinanın tələbələri mehmet isa əfəndi mehmet ismail əfəndidir ağ mərmərdən hazırlanmış dörd minarəsi zümrüd yaqut mirvari almaz qiymətli daşlarla bəzədilibikonik soğan formalı günbəz osmanlı imperiyasından gələnismayıl əfəndi hazırlanmışdırtac mahalın tikintisində\n",
      "ümumilikdə min insan mindən fil çalışıb tikinti dövr milyard dollara bərabər milyon hindistan rupisinə başa gəlibtac mahal geniş məlumat\n",
      "\n",
      "tikintisi davam tac mahal böyük bağ məscid hovuz məqbərədən ibarətdir dörd tərəfinin birbirini mükəmməl şəkildə tamamladığı bina güzgüdəki görüntü birbirini əks etdirən simmetrik xüsusiyyətə malikdir bağı tikililəri birlikdə hektar ərazini əhatə edirtac mahalı əhatə bağ\n",
      "gözəlliyi göz oxşayır peyzaj işləri hərtərəfli düşünülmüş bütövlükdə dizayn edilmişdir tac mahalın dörd minarəsi d effekti verir moğol memarlığında iditac mahalın dizaynı günün müxtəlif vaxtlarında müxtəlif rəngləri əks etdirir ağ mərmərlər səhərlər çəhrayı gündüzlər ağ gecələr\n",
      "qızılı rəngə boyanırcü yuneskonun dünya irs siyahısınadaxil edilən bina milyon ziyarətçiyə ev sahibliyi edirşah cahanın həyat yoldaşı mümtaz mahalın məqbərəsinin yerləşdiyi bölmədə mümtaz mahalı tərifləyən yazılar deyilmiş xoş arzular dövrün əhəmiyyətli xəttatlarının imzası\n",
      "yasin surəsi türbənin diqqət çəkən hissəsidir türbə hissəsinin interyerində ənənəvi dekorativ elementlərdən edilmişdir mümtaz mahal əri şah cahanın sarkofaqları dəfn kamerasının əsas hissəsində yuxarı mərtəbədə faktiki sarkofaqlar aşağı mərtəbədə yerləşirqəbir otağının cənub\n",
      "girişindən aşağı türbəyə aparan pilləkən uclu çəllək əhatə olunub ziyarətçilər əlçatmaz bölmənin düzbucaqlı tavanı tamamilə mərmərlə örtülmüşdür otağın mərkəzində yerləşən oxşar dizaynlı iki türbə müxtəlif motivlərlə bəzədilibşah cahanın məzarının qara mərmərdən olmasını\n",
      "istədiyi barədə müxtəlif iddialar olsa bununla bağlı sənəd tapılmayıb əfsanələrin əsasını avropalı səyyah janbatist tavernyenin cəfəng yazıları təşkil edirtac mahalın mərmər quruluşunda yaxın qiymətli daşdan edilmişdir daşlar firuzə tibetdən nefrit çindən binanın əsas materialı\n",
      "mərmər racastandan gətirilib təəssüf hindistan üsyanı zamanı qiymətli daşlar ingilislər yerindən çıxarıldıcu əsrin sonlarında hindistanın keçmiş qubernatoru lord kerzon məqbərənin bərpasına təşəbbüs göstərdi bərpa işləri başa çatdıeşqdən ilhamlanarak tikilən bənərsiz sevgi\n",
      "abidəsi gün aşiqlərin ziyarət etdiyi yerlərdən biridir\n"
     ]
    }
   ],
   "source": [
    "# Remove stopwords from the corpus\n",
    "stopcorpus <- tm_map(clcorpus, removeWords, stop_words)\n",
    "\n",
    "# Optionally, check the result on a small part of the corpus\n",
    "writeLines(strwrap(as.character(stopcorpus[[5]]), width=280))\n"
   ]
  },
  {
   "cell_type": "markdown",
   "id": "cd57313c",
   "metadata": {
    "papermill": {
     "duration": 0.029824,
     "end_time": "2024-05-05T20:16:39.456407",
     "exception": false,
     "start_time": "2024-05-05T20:16:39.426583",
     "status": "completed"
    },
    "tags": []
   },
   "source": [
    "**As you can see, in th first sentence, \"biri\" - which is a stopword have been removed from text.**"
   ]
  },
  {
   "cell_type": "code",
   "execution_count": 24,
   "id": "872865aa",
   "metadata": {
    "execution": {
     "iopub.execute_input": "2024-05-05T20:16:39.521153Z",
     "iopub.status.busy": "2024-05-05T20:16:39.519487Z",
     "iopub.status.idle": "2024-05-05T20:16:39.958679Z",
     "shell.execute_reply": "2024-05-05T20:16:39.956657Z"
    },
    "papermill": {
     "duration": 0.474149,
     "end_time": "2024-05-05T20:16:39.961169",
     "exception": false,
     "start_time": "2024-05-05T20:16:39.487020",
     "status": "completed"
    },
    "tags": []
   },
   "outputs": [
    {
     "data": {
      "text/plain": [
       "<<DocumentTermMatrix (documents: 50, terms: 17042)>>\n",
       "Non-/sparse entries: 27813/824287\n",
       "Sparsity           : 97%\n",
       "Maximal term length: 73\n",
       "Weighting          : term frequency (tf)"
      ]
     },
     "metadata": {},
     "output_type": "display_data"
    }
   ],
   "source": [
    "stopcorpusDTM <- DocumentTermMatrix(stopcorpus)\n",
    "stopcorpusDTM"
   ]
  },
  {
   "cell_type": "code",
   "execution_count": 25,
   "id": "ff25ecbc",
   "metadata": {
    "execution": {
     "iopub.execute_input": "2024-05-05T20:16:40.025976Z",
     "iopub.status.busy": "2024-05-05T20:16:40.024204Z",
     "iopub.status.idle": "2024-05-05T20:16:40.158029Z",
     "shell.execute_reply": "2024-05-05T20:16:40.155186Z"
    },
    "papermill": {
     "duration": 0.170986,
     "end_time": "2024-05-05T20:16:40.162209",
     "exception": false,
     "start_time": "2024-05-05T20:16:39.991223",
     "status": "completed"
    },
    "tags": []
   },
   "outputs": [
    {
     "data": {
      "text/html": [
       "<style>\n",
       ".list-inline {list-style: none; margin:0; padding: 0}\n",
       ".list-inline>li {display: inline-block}\n",
       ".list-inline>li:not(:last-child)::after {content: \"\\00b7\"; padding: 0 .5ex}\n",
       "</style>\n",
       "<ol class=list-inline><li>'azərbaycan'</li><li>'baş'</li><li>'bilər'</li><li>'böyük'</li><li>'cavab'</li><li>'deyil'</li><li>'digər'</li><li>'eyni'</li><li>'hansı'</li><li>'insan'</li><li>'müxtəlif'</li><li>'onların'</li><li>'qalanın'</li><li>'qədim'</li><li>'yeni'</li></ol>\n"
      ],
      "text/latex": [
       "\\begin{enumerate*}\n",
       "\\item 'azərbaycan'\n",
       "\\item 'baş'\n",
       "\\item 'bilər'\n",
       "\\item 'böyük'\n",
       "\\item 'cavab'\n",
       "\\item 'deyil'\n",
       "\\item 'digər'\n",
       "\\item 'eyni'\n",
       "\\item 'hansı'\n",
       "\\item 'insan'\n",
       "\\item 'müxtəlif'\n",
       "\\item 'onların'\n",
       "\\item 'qalanın'\n",
       "\\item 'qədim'\n",
       "\\item 'yeni'\n",
       "\\end{enumerate*}\n"
      ],
      "text/markdown": [
       "1. 'azərbaycan'\n",
       "2. 'baş'\n",
       "3. 'bilər'\n",
       "4. 'böyük'\n",
       "5. 'cavab'\n",
       "6. 'deyil'\n",
       "7. 'digər'\n",
       "8. 'eyni'\n",
       "9. 'hansı'\n",
       "10. 'insan'\n",
       "11. 'müxtəlif'\n",
       "12. 'onların'\n",
       "13. 'qalanın'\n",
       "14. 'qədim'\n",
       "15. 'yeni'\n",
       "\n",
       "\n"
      ],
      "text/plain": [
       " [1] \"azərbaycan\" \"baş\"        \"bilər\"      \"böyük\"      \"cavab\"     \n",
       " [6] \"deyil\"      \"digər\"      \"eyni\"       \"hansı\"      \"insan\"     \n",
       "[11] \"müxtəlif\"   \"onların\"    \"qalanın\"    \"qədim\"      \"yeni\"      "
      ]
     },
     "metadata": {},
     "output_type": "display_data"
    }
   ],
   "source": [
    "freqTerms <- tm::findFreqTerms(stopcorpusDTM, lowfreq=70)\n",
    "freqTerms\n"
   ]
  },
  {
   "cell_type": "markdown",
   "id": "ed34eb62",
   "metadata": {
    "papermill": {
     "duration": 0.033067,
     "end_time": "2024-05-05T20:16:40.225932",
     "exception": false,
     "start_time": "2024-05-05T20:16:40.192865",
     "status": "completed"
    },
    "tags": []
   },
   "source": [
    "This are the words that have been utilized more than 70 times through 50 documents, interesting!"
   ]
  },
  {
   "cell_type": "code",
   "execution_count": 26,
   "id": "ada685a2",
   "metadata": {
    "execution": {
     "iopub.execute_input": "2024-05-05T20:16:40.303277Z",
     "iopub.status.busy": "2024-05-05T20:16:40.300689Z",
     "iopub.status.idle": "2024-05-05T20:16:40.332817Z",
     "shell.execute_reply": "2024-05-05T20:16:40.330941Z"
    },
    "papermill": {
     "duration": 0.070068,
     "end_time": "2024-05-05T20:16:40.336361",
     "exception": false,
     "start_time": "2024-05-05T20:16:40.266293",
     "status": "completed"
    },
    "tags": []
   },
   "outputs": [
    {
     "data": {
      "text/html": [
       "<style>\n",
       ".dl-inline {width: auto; margin:0; padding: 0}\n",
       ".dl-inline>dt, .dl-inline>dd {float: none; width: auto; display: inline-block}\n",
       ".dl-inline>dt::after {content: \":\\0020\"; padding-right: .5ex}\n",
       ".dl-inline>dt:not(:first-of-type) {padding-left: .5ex}\n",
       "</style><dl class=dl-inline><dt>cahanın</dt><dd>5</dd><dt>dünya</dt><dd>4</dd><dt>mahal</dt><dd>5</dd><dt>mahalın</dt><dd>9</dd><dt>mümtaz</dt><dd>6</dd><dt>müxtəlif</dt><dd>4</dd><dt>şah</dt><dd>5</dd><dt>tac</dt><dd>6</dd></dl>\n"
      ],
      "text/latex": [
       "\\begin{description*}\n",
       "\\item[cahanın] 5\n",
       "\\item[dünya] 4\n",
       "\\item[mahal] 5\n",
       "\\item[mahalın] 9\n",
       "\\item[mümtaz] 6\n",
       "\\item[müxtəlif] 4\n",
       "\\item[şah] 5\n",
       "\\item[tac] 6\n",
       "\\end{description*}\n"
      ],
      "text/markdown": [
       "cahanın\n",
       ":   5dünya\n",
       ":   4mahal\n",
       ":   5mahalın\n",
       ":   9mümtaz\n",
       ":   6müxtəlif\n",
       ":   4şah\n",
       ":   5tac\n",
       ":   6\n",
       "\n"
      ],
      "text/plain": [
       " cahanın    dünya    mahal  mahalın   mümtaz müxtəlif      şah      tac \n",
       "       5        4        5        9        6        4        5        6 "
      ]
     },
     "metadata": {},
     "output_type": "display_data"
    }
   ],
   "source": [
    "# termFreq helps to see frequencies individually\n",
    "stopcorpustf <- tm::termFreq(stopcorpus[[5]])\n",
    "\n",
    "# Filter and display terms with frequencies greater than 3\n",
    "stopcorpustf <- stopcorpustf[stopcorpustf > 3]\n",
    "stopcorpustf"
   ]
  },
  {
   "cell_type": "code",
   "execution_count": 27,
   "id": "0f55ab60",
   "metadata": {
    "execution": {
     "iopub.execute_input": "2024-05-05T20:16:40.421895Z",
     "iopub.status.busy": "2024-05-05T20:16:40.420099Z",
     "iopub.status.idle": "2024-05-05T20:16:40.556302Z",
     "shell.execute_reply": "2024-05-05T20:16:40.554103Z"
    },
    "papermill": {
     "duration": 0.178981,
     "end_time": "2024-05-05T20:16:40.558979",
     "exception": false,
     "start_time": "2024-05-05T20:16:40.379998",
     "status": "completed"
    },
    "tags": []
   },
   "outputs": [
    {
     "name": "stdout",
     "output_type": "stream",
     "text": [
      "<<DocumentTermMatrix (documents: 50, terms: 17042)>>\n",
      "Non-/sparse entries: 27813/824287\n",
      "Sparsity           : 97%\n",
      "Maximal term length: 73\n",
      "Weighting          : term frequency (tf)\n",
      "Sample             :\n",
      "    Terms\n",
      "Docs azərbaycan baş bilər böyük cavab digər eyni insan müxtəlif onların\n",
      "  13          4   6     7     2     0     5    2     1        5       7\n",
      "  17          2   0     8     1     1     5    3     0        3       0\n",
      "  24          0   2     6     1     0     2    1     1        2       4\n",
      "  25          0   5     9     7     2     1    6     9        1       1\n",
      "  26          0   0     9     8     1     4    3     4        3       3\n",
      "  35         49  15     0    13    54    26   17     4        9      27\n",
      "  40          3   4     6     3     1    12    7    16       12       6\n",
      "  47          0   9     0    13     0     0    1     1        2       2\n",
      "  48          3   3     1    20     1     3    0     0        0       0\n",
      "  50          0  11     0     5     2     1    5     3        2       8\n"
     ]
    }
   ],
   "source": [
    "inspect(stopcorpusDTM)"
   ]
  },
  {
   "cell_type": "markdown",
   "id": "030dd684",
   "metadata": {
    "papermill": {
     "duration": 0.036963,
     "end_time": "2024-05-05T20:16:40.634865",
     "exception": false,
     "start_time": "2024-05-05T20:16:40.597902",
     "status": "completed"
    },
    "tags": []
   },
   "source": [
    "# C. Dendograms and visualization"
   ]
  },
  {
   "cell_type": "code",
   "execution_count": 28,
   "id": "2e4aeea9",
   "metadata": {
    "execution": {
     "iopub.execute_input": "2024-05-05T20:16:40.702108Z",
     "iopub.status.busy": "2024-05-05T20:16:40.699405Z",
     "iopub.status.idle": "2024-05-05T20:17:22.230956Z",
     "shell.execute_reply": "2024-05-05T20:17:22.229136Z"
    },
    "papermill": {
     "duration": 41.602595,
     "end_time": "2024-05-05T20:17:22.268152",
     "exception": false,
     "start_time": "2024-05-05T20:16:40.665557",
     "status": "completed"
    },
    "tags": []
   },
   "outputs": [
    {
     "data": {
      "image/png": "[encoded data removed]"
     },
     "metadata": {
      "image/png": {
       "height": 420,
       "width": 420
      }
     },
     "output_type": "display_data"
    }
   ],
   "source": [
    "# Step 1: Convert the term-document matrix to a data frame\n",
    "stopcorpusDF <- as.data.frame((stopcorpusDTM[[1]]))\n",
    "\n",
    "# Step 2: Compute the Euclidean distance matrix\n",
    "stopcorpusDist <- dist(stopcorpusDF)\n",
    "\n",
    "# Step 3: Perform hierarchical clustering using the Ward.D2 method\n",
    "stopcorpusHC <- hclust(stopcorpusDist, method=\"ward.D2\")\n",
    "\n",
    "# Step 4: Plot the hierarchical clustering dendrogram\n",
    "plot(stopcorpusHC)\n"
   ]
  },
  {
   "cell_type": "markdown",
   "id": "84c2c2f1",
   "metadata": {
    "papermill": {
     "duration": 0.032457,
     "end_time": "2024-05-05T20:17:22.333422",
     "exception": false,
     "start_time": "2024-05-05T20:17:22.300965",
     "status": "completed"
    },
    "tags": []
   },
   "source": [
    "Let's filter the words and make dendogram more readable:"
   ]
  },
  {
   "cell_type": "code",
   "execution_count": 29,
   "id": "23f5a428",
   "metadata": {
    "execution": {
     "iopub.execute_input": "2024-05-05T20:17:22.403060Z",
     "iopub.status.busy": "2024-05-05T20:17:22.401188Z",
     "iopub.status.idle": "2024-05-05T20:17:22.457910Z",
     "shell.execute_reply": "2024-05-05T20:17:22.455833Z"
    },
    "papermill": {
     "duration": 0.095335,
     "end_time": "2024-05-05T20:17:22.460513",
     "exception": false,
     "start_time": "2024-05-05T20:17:22.365178",
     "status": "completed"
    },
    "tags": []
   },
   "outputs": [],
   "source": [
    "\n",
    "# Find terms that are longer than 3 characters\n",
    "keepTerms <- Filter(function(x) nchar(x) > 30, Terms(stopcorpusDTM))\n",
    "\n",
    "# Subset the DTM to keep only longer terms\n",
    "filteredDTM <- stopcorpusDTM[, keepTerms]\n"
   ]
  },
  {
   "cell_type": "code",
   "execution_count": 30,
   "id": "6e8c33bc",
   "metadata": {
    "execution": {
     "iopub.execute_input": "2024-05-05T20:17:22.528243Z",
     "iopub.status.busy": "2024-05-05T20:17:22.526391Z",
     "iopub.status.idle": "2024-05-05T20:17:22.644388Z",
     "shell.execute_reply": "2024-05-05T20:17:22.642298Z"
    },
    "papermill": {
     "duration": 0.154529,
     "end_time": "2024-05-05T20:17:22.646871",
     "exception": false,
     "start_time": "2024-05-05T20:17:22.492342",
     "status": "completed"
    },
    "tags": []
   },
   "outputs": [
    {
     "data": {
      "image/png": "[encoded data removed]"
     },
     "metadata": {
      "image/png": {
       "height": 420,
       "width": 420
      }
     },
     "output_type": "display_data"
    }
   ],
   "source": [
    "# Step 1: Convert the term-document matrix to a data frame\n",
    "filteredDF <- as.data.frame((filteredDTM[[1]]))\n",
    "\n",
    "# Step 2: Compute the Euclidean distance matrix\n",
    "filteredDist <- dist(filteredDF)\n",
    "\n",
    "# Step 3: Perform hierarchical clustering using the Ward.D2 method\n",
    "filteredHC <- hclust(filteredDist, method=\"ward.D2\")\n",
    "\n",
    "# Step 4: Plot the hierarchical clustering dendrogram\n",
    "plot(filteredHC)\n"
   ]
  },
  {
   "cell_type": "code",
   "execution_count": 31,
   "id": "6f1a29cf",
   "metadata": {
    "execution": {
     "iopub.execute_input": "2024-05-05T20:17:22.717142Z",
     "iopub.status.busy": "2024-05-05T20:17:22.715404Z",
     "iopub.status.idle": "2024-05-05T20:17:22.750169Z",
     "shell.execute_reply": "2024-05-05T20:17:22.747685Z"
    },
    "papermill": {
     "duration": 0.072378,
     "end_time": "2024-05-05T20:17:22.752578",
     "exception": false,
     "start_time": "2024-05-05T20:17:22.680200",
     "status": "completed"
    },
    "tags": []
   },
   "outputs": [
    {
     "data": {
      "text/html": [
       "<style>\n",
       ".dl-inline {width: auto; margin:0; padding: 0}\n",
       ".dl-inline>dt, .dl-inline>dd {float: none; width: auto; display: inline-block}\n",
       ".dl-inline>dt::after {content: \":\\0020\"; padding-right: .5ex}\n",
       ".dl-inline>dt:not(:first-of-type) {padding-left: .5ex}\n",
       "</style><dl class=dl-inline><dt>academy</dt><dd>2</dd><dt>adaptasiya</dt><dd>2</dd><dt>addım</dt><dd>1</dd><dt>ala</dt><dd>1</dd><dt>alaraq</dt><dd>1</dd><dt>aləmdə</dt><dd>1</dd><dt>alətlər</dt><dd>1</dd><dt>almaq</dt><dd>1</dd><dt>alqoritmlər</dt><dd>1</dd><dt>anlamağa</dt><dd>1</dd><dt>axtarışı</dt><dd>1</dd><dt>axtarışına</dt><dd>1</dd><dt>bacarıqlar</dt><dd>1</dd><dt>bacarıqlarınıza</dt><dd>1</dd><dt>bacarıqlarınızı</dt><dd>2</dd><dt>başlamaq</dt><dd>1</dd><dt>başlanğıc</dt><dd>1</dd><dt>başlaya</dt><dd>1</dd><dt>başlayan</dt><dd>1</dd><dt>başlayarkən</dt><dd>1</dd><dt>bilər</dt><dd>5</dd><dt>biləriş</dt><dd>1</dd><dt>bilərnəticəproqramçı</dt><dd>1</dd><dt>bilərsiniz</dt><dd>5</dd><dt>bilərsinizproqramlaşdırma</dt><dd>1</dd><dt>bilərtexnoloji</dt><dd>1</dd><dt>bilik</dt><dd>1</dd><dt>biliklər</dt><dd>2</dd><dt>biliklərinizi</dt><dd>1</dd><dt>bulud</dt><dd>1</dd><dt>cari</dt><dd>1</dd><dt>çəkinməyinşəbəkə</dt><dd>1</dd><dt>çətin</dt><dd>1</dd><dt>code</dt><dd>1</dd><dt>codecademy</dt><dd>1</dd><dt>coursera</dt><dd>1</dd><dt>daim</dt><dd>1</dd><dt>daimi</dt><dd>1</dd><dt>davamlı</dt><dd>1</dd><dt>deyil</dt><dd>1</dd><dt>dəyərli</dt><dd>2</dd><dt>dili</dt><dd>1</dd><dt>dilin</dt><dd>1</dd><dt>dillər</dt><dd>1</dd><dt>dillərdir</dt><dd>1</dd><dt>dilləri</dt><dd>4</dd><dt>dillərini</dt><dd>3</dd><dt>dillərinin</dt><dd>3</dd><dt>diqqət</dt><dd>1</dd><dt>diqqətlə</dt><dd>1</dd><dt>dünyasında</dt><dd>1</dd><dt>düşüncə</dt><dd>1</dd><dt>edə</dt><dd>2</dd><dt>edəcək</dt><dd>1</dd><dt>edəcəkilk</dt><dd>1</dd><dt>edərək</dt><dd>1</dd><dt>edin</dt><dd>1</dd><dt>ediriş</dt><dd>1</dd><dt>edirözünüinkişaf</dt><dd>1</dd><dt>elanlarını</dt><dd>1</dd><dt>elmləri</dt><dd>3</dd><dt>etdirərək</dt><dd>1</dd><dt>etdirin</dt><dd>1</dd><dt>etdirmək</dt><dd>2</dd><dt>etdirməkdə</dt><dd>1</dd><dt>etmə</dt><dd>1</dd><dt>etməklə</dt><dd>1</dd><dt>evdən</dt><dd>1</dd><dt>əhəmiyyətli</dt><dd>1</dd><dt>əla</dt><dd>4</dd><dt>əlaqədar</dt><dd>1</dd><dt>əldə</dt><dd>3</dd><dt>əsas</dt><dd>3</dd><dt>əsaslanaraq</dt><dd>1</dd><dt>əsasları</dt><dd>1</dd><dt>əsaslarını</dt><dd>1</dd><dt>əvəzsizdir</dt><dd>1</dd><dt>faydalıdır</dt><dd>1</dd><dt>fərdi</dt><dd>1</dd><dt>freecodecamp</dt><dd>1</dd><dt>funksiyaları</dt><dd>1</dd><dt>geniş</dt><dd>1</dd><dt>genişləndirə</dt><dd>1</dd><dt>girişi</dt><dd>1</dd><dt>github</dt><dd>1</dd><dt>görüşmələrində</dt><dd>1</dd><dt>göstərə</dt><dd>1</dd><dt>hazırlaya</dt><dd>1</dd><dt>hesab</dt><dd>1</dd><dt>həll</dt><dd>1</dd><dt>həmçinin</dt><dd>2</dd><dt>həyata</dt><dd>1</dd><dt>ilham</dt><dd>1</dd><dt>imkan</dt><dd>1</dd><dt>imkanlar</dt><dd>3</dd><dt>inkişaf</dt><dd>8</dd><dt>inkişafınız</dt><dd>1</dd><dt>inkişafınızda</dt><dd>1</dd><dt>inkişafıproqramçılıqda</dt><dd>1</dd><dt>interaktiv</dt><dd>1</dd><dt>işləmək</dt><dd>3</dd><dt>işlərə</dt><dd>1</dd><dt>işləyən</dt><dd>1</dd><dt>istifadəçi</dt><dd>1</dd><dt>istifadəproqramçılığı</dt><dd>1</dd><dt>iştirak</dt><dd>1</dd><dt>iştirakdan</dt><dd>1</dd><dt>ixtisaslar</dt><dd>1</dd><dt>izləməkproqramçılıq</dt><dd>1</dd><dt>izləyərək</dt><dd>1</dd><dt>java</dt><dd>1</dd><dt>javascript</dt><dd>2</dd><dt>karyera</dt><dd>3</dd><dt>karyeranızı</dt><dd>3</dd><dt>keçirilə</dt><dd>1</dd><dt>khan</dt><dd>1</dd><dt>kiçik</dt><dd>2</dd><dt>kifayət</dt><dd>1</dd><dt>kitablardan</dt><dd>1</dd><dt>kitabxanalar</dt><dd>1</dd><dt>kömək</dt><dd>1</dd><dt>köməkçi</dt><dd>1</dd><dt>komponentləridir</dt><dd>1</dd><dt>kompüter</dt><dd>2</dd><dt>kompüterlərlə</dt><dd>1</dd><dt>konfranslar</dt><dd>3</dd><dt>konfranslarda</dt><dd>1</dd><dt>kotlin</dt><dd>1</dd><dt>kurslar</dt><dd>3</dd><dt>kurslardan</dt><dd>1</dd><dt>layihələr</dt><dd>4</dd><dt>layihələrə</dt><dd>1</dd><dt>layihələriniz</dt><dd>1</dd><dt>layihələrinizdə</dt><dd>1</dd><dt>layihələrinizi</dt><dd>1</dd><dt>lazımdır</dt><dd>2</dd><dt>loqik</dt><dd>1</dd><dt>malikdir</dt><dd>1</dd><dt>maraqlandığınız</dt><dd>1</dd><dt>maraqlı</dt><dd>1</dd><dt>maşın</dt><dd>1</dd><dt>maşını</dt><dd>1</dd><dt>media</dt><dd>1</dd><dt>mentorlar</dt><dd>1</dd><dt>mentorluq</dt><dd>1</dd><dt>mentorluqproqramçılıq</dt><dd>1</dd><dt>məlumat</dt><dd>1</dd><dt>mərhələdə</dt><dd>1</dd><dt>məsələlər</dt><dd>1</dd><dt>məsələlərdə</dt><dd>1</dd><dt>məsləhətlər</dt><dd>1</dd><dt>məşqlər</dt><dd>1</dd><dt>məşqlərə</dt><dd>1</dd><dt>mobil</dt><dd>1</dd><dt>mövcud</dt><dd>1</dd><dt>mövcuddur</dt><dd>1</dd><dt>mövzularda</dt><dd>1</dd><dt>mühitdə</dt><dd>1</dd><dt>mühümdür</dt><dd>1</dd><dt>mükəmməl</dt><dd>1</dd><dt>mümkündür</dt><dd>1</dd><dt>mümkündürproqramçılığın</dt><dd>1</dd><dt>müraciət</dt><dd>1</dd><dt>mürəkkəb</dt><dd>1</dd><dt>müstəqil</dt><dd>1</dd><dt>müxtəlif</dt><dd>4</dd><dt>müzakirələr</dt><dd>1</dd><dt>nümayiş</dt><dd>1</dd><dt>ola</dt><dd>2</dd><dt>olacaqsınızproqramçılıqda</dt><dd>1</dd><dt>olmalıdır</dt><dd>1</dd><dt>olmaqdır</dt><dd>1</dd><dt>olunan</dt><dd>1</dd><dt>onlayn</dt><dd>5</dd><dt>overflow</dt><dd>1</dd><dt>oxuyun</dt><dd>1</dd><dt>öyrəndiklərinizi</dt><dd>2</dd><dt>öyrənərək</dt><dd>1</dd><dt>öyrənilməsiproqramlaşdırma</dt><dd>1</dd><dt>öyrənmə</dt><dd>7</dd><dt>öyrənmək</dt><dd>7</dd><dt>öyrənməni</dt><dd>1</dd><dt>öyrənməsi</dt><dd>1</dd><dt>öyrənməyə</dt><dd>1</dd><dt>oyun</dt><dd>1</dd><dt>özünüinkişaf</dt><dd>2</dd><dt>peşəkar</dt><dd>3</dd><dt>peşəkarlarla</dt><dd>1</dd><dt>platformalar</dt><dd>2</dd><dt>platformalarda</dt><dd>1</dd><dt>platformaları</dt><dd>2</dd><dt>platformalarıinteraktiv</dt><dd>1</dd><dt>praktikada</dt><dd>1</dd><dt>praktiki</dt><dd>2</dd><dt>prinsipləri</dt><dd>1</dd><dt>problem</dt><dd>1</dd><dt>proqramçı</dt><dd>2</dd><dt>proqramçılar</dt><dd>1</dd><dt>proqramçılardan</dt><dd>1</dd><dt>proqramçılığa</dt><dd>1</dd><dt>proqramçılıq</dt><dd>1</dd><dt>proqramlar</dt><dd>1</dd><dt>proqramları</dt><dd>1</dd><dt>proqramlaşdırma</dt><dd>12</dd><dt>prosesində</dt><dd>2</dd><dt>prosesini</dt><dd>1</dd><dt>python</dt><dd>3</dd><dt>qaynaqlardan</dt><dd>1</dd><dt>qazandıqdan</dt><dd>1</dd><dt>qazanmaq</dt><dd>2</dd><dt>qərar</dt><dd>1</dd><dt>qurma</dt><dd>1</dd><dt>qurmaq</dt><dd>3</dd><dt>rahat</dt><dd>1</dd><dt>real</dt><dd>1</dd><dt>reddit</dt><dd>1</dd><dt>resurslardan</dt><dd>3</dd><dt>rəsmi</dt><dd>1</dd><dt>rola</dt><dd>1</dd><dt>sadə</dt><dd>3</dd><dt>sahə</dt><dd>2</dd><dt>sahədə</dt><dd>1</dd><dt>sahədəki</dt><dd>2</dd><dt>sahələr</dt><dd>1</dd><dt>sahələrdə</dt><dd>1</dd><dt>sahələrdir</dt><dd>1</dd><dt>sahənin</dt><dd>1</dd><dt>sahəsində</dt><dd>1</dd><dt>sahəsini</dt><dd>1</dd><dt>saytlar</dt><dd>1</dd><dt>seçərək</dt><dd>1</dd><dt>seçim</dt><dd>1</dd><dt>seçimdir</dt><dd>1</dd><dt>seçimiproqramlaşdırma</dt><dd>1</dd><dt>seminarlar</dt><dd>2</dd><dt>seminarlartexnoloji</dt><dd>1</dd><dt>sevənlər</dt><dd>1</dd><dt>şəbəkə</dt><dd>2</dd><dt>şəbəkəni</dt><dd>1</dd><dt>şəkildə</dt><dd>1</dd><dt>səviyyəli</dt><dd>1</dd><dt>sintaksisi</dt><dd>1</dd><dt>şirkətdaxili</dt><dd>1</dd><dt>skriptlər</dt><dd>1</dd><dt>sosial</dt><dd>1</dd><dt>stack</dt><dd>1</dd><dt>staj</dt><dd>1</dd><dt>stajreal</dt><dd>1</dd><dt>standartları</dt><dd>1</dd><dt>strukturları</dt><dd>1</dd><dt>süni</dt><dd>1</dd><dt>sürətli</dt><dd>1</dd><dt>swift</dt><dd>1</dd><dt>tanış</dt><dd>3</dd><dt>tanışlıq</dt><dd>1</dd><dt>tapmaq</dt><dd>1</dd><dt>texniki</dt><dd>3</dd><dt>texnologiya</dt><dd>1</dd><dt>texnologiyalar</dt><dd>3</dd><dt>texnologiyaları</dt><dd>1</dd><dt>texnologiyalarını</dt><dd>1</dd><dt>texnoloji</dt><dd>1</dd><dt>teztez</dt><dd>1</dd><dt>təcrübə</dt><dd>4</dd><dt>təcrübələr</dt><dd>1</dd><dt>təcrübəli</dt><dd>1</dd><dt>təcrübəsi</dt><dd>3</dd><dt>tədbirlər</dt><dd>1</dd><dt>tədbirlərdə</dt><dd>1</dd><dt>təhsil</dt><dd>3</dd><dt>təklif</dt><dd>1</dd><dt>tələbləriproqramçılıqda</dt><dd>1</dd><dt>təlimatlar</dt><dd>1</dd><dt>təlimlər</dt><dd>1</dd><dt>təlimlərdən</dt><dd>1</dd><dt>təqdim</dt><dd>1</dd><dt>təşkil</dt><dd>1</dd><dt>tətbiq</dt><dd>3</dd><dt>tətbiqetmələr</dt><dd>1</dd><dt>tətbiqi</dt><dd>1</dd><dt>tətbiqlər</dt><dd>1</dd><dt>trendlər</dt><dd>1</dd><dt>trendlərinə</dt><dd>1</dd><dt>udemy</dt><dd>1</dd><dt>uğur</dt><dd>1</dd><dt>uğurun</dt><dd>1</dd><dt>universitetlərdə</dt><dd>1</dd><dt>uyğun</dt><dd>1</dd><dt>uyğunlaşmaq</dt><dd>1</dd><dt>üzərində</dt><dd>2</dd><dt>üzrə</dt><dd>2</dd><dt>vacibdirinteraktiv</dt><dd>1</dd><dt>vacibdirtexniki</dt><dd>1</dd><dt>vasitəsilə</dt><dd>4</dd><dt>veb</dt><dd>2</dd><dt>verə</dt><dd>3</dd><dt>verilənlər</dt><dd>1</dd><dt>verir</dt><dd>1</dd><dt>xəbərdar</dt><dd>1</dd><dt>xüsusi</dt><dd>2</dd><dt>xüsusilə</dt><dd>1</dd><dt>yarada</dt><dd>1</dd><dt>yaradılmışdır</dt><dd>1</dd><dt>yaradır</dt><dd>1</dd><dt>yaxından</dt><dd>1</dd><dt>yazmaq</dt><dd>1</dd><dt>yeni</dt><dd>4</dd><dt>yenilənir</dt><dd>2</dd><dt>yeniliklərdən</dt><dd>1</dd><dt>yeniliklərə</dt><dd>2</dd><dt>yenilikləri</dt><dd>2</dd><dt>yerinizi</dt><dd>1</dd><dt>yetirmək</dt><dd>1</dd><dt>yol</dt><dd>3</dd><dt>yollarıproqramçılığı</dt><dd>1</dd><dt>yolu</dt><dd>1</dd><dt>yoludur</dt><dd>1</dd><dt>zəka</dt><dd>1</dd></dl>\n"
      ],
      "text/latex": [
       "\\begin{description*}\n",
       "\\item[academy] 2\n",
       "\\item[adaptasiya] 2\n",
       "\\item[addım] 1\n",
       "\\item[ala] 1\n",
       "\\item[alaraq] 1\n",
       "\\item[aləmdə] 1\n",
       "\\item[alətlər] 1\n",
       "\\item[almaq] 1\n",
       "\\item[alqoritmlər] 1\n",
       "\\item[anlamağa] 1\n",
       "\\item[axtarışı] 1\n",
       "\\item[axtarışına] 1\n",
       "\\item[bacarıqlar] 1\n",
       "\\item[bacarıqlarınıza] 1\n",
       "\\item[bacarıqlarınızı] 2\n",
       "\\item[başlamaq] 1\n",
       "\\item[başlanğıc] 1\n",
       "\\item[başlaya] 1\n",
       "\\item[başlayan] 1\n",
       "\\item[başlayarkən] 1\n",
       "\\item[bilər] 5\n",
       "\\item[biləriş] 1\n",
       "\\item[bilərnəticəproqramçı] 1\n",
       "\\item[bilərsiniz] 5\n",
       "\\item[bilərsinizproqramlaşdırma] 1\n",
       "\\item[bilərtexnoloji] 1\n",
       "\\item[bilik] 1\n",
       "\\item[biliklər] 2\n",
       "\\item[biliklərinizi] 1\n",
       "\\item[bulud] 1\n",
       "\\item[cari] 1\n",
       "\\item[çəkinməyinşəbəkə] 1\n",
       "\\item[çətin] 1\n",
       "\\item[code] 1\n",
       "\\item[codecademy] 1\n",
       "\\item[coursera] 1\n",
       "\\item[daim] 1\n",
       "\\item[daimi] 1\n",
       "\\item[davamlı] 1\n",
       "\\item[deyil] 1\n",
       "\\item[dəyərli] 2\n",
       "\\item[dili] 1\n",
       "\\item[dilin] 1\n",
       "\\item[dillər] 1\n",
       "\\item[dillərdir] 1\n",
       "\\item[dilləri] 4\n",
       "\\item[dillərini] 3\n",
       "\\item[dillərinin] 3\n",
       "\\item[diqqət] 1\n",
       "\\item[diqqətlə] 1\n",
       "\\item[dünyasında] 1\n",
       "\\item[düşüncə] 1\n",
       "\\item[edə] 2\n",
       "\\item[edəcək] 1\n",
       "\\item[edəcəkilk] 1\n",
       "\\item[edərək] 1\n",
       "\\item[edin] 1\n",
       "\\item[ediriş] 1\n",
       "\\item[edirözünüinkişaf] 1\n",
       "\\item[elanlarını] 1\n",
       "\\item[elmləri] 3\n",
       "\\item[etdirərək] 1\n",
       "\\item[etdirin] 1\n",
       "\\item[etdirmək] 2\n",
       "\\item[etdirməkdə] 1\n",
       "\\item[etmə] 1\n",
       "\\item[etməklə] 1\n",
       "\\item[evdən] 1\n",
       "\\item[əhəmiyyətli] 1\n",
       "\\item[əla] 4\n",
       "\\item[əlaqədar] 1\n",
       "\\item[əldə] 3\n",
       "\\item[əsas] 3\n",
       "\\item[əsaslanaraq] 1\n",
       "\\item[əsasları] 1\n",
       "\\item[əsaslarını] 1\n",
       "\\item[əvəzsizdir] 1\n",
       "\\item[faydalıdır] 1\n",
       "\\item[fərdi] 1\n",
       "\\item[freecodecamp] 1\n",
       "\\item[funksiyaları] 1\n",
       "\\item[geniş] 1\n",
       "\\item[genişləndirə] 1\n",
       "\\item[girişi] 1\n",
       "\\item[github] 1\n",
       "\\item[görüşmələrində] 1\n",
       "\\item[göstərə] 1\n",
       "\\item[hazırlaya] 1\n",
       "\\item[hesab] 1\n",
       "\\item[həll] 1\n",
       "\\item[həmçinin] 2\n",
       "\\item[həyata] 1\n",
       "\\item[ilham] 1\n",
       "\\item[imkan] 1\n",
       "\\item[imkanlar] 3\n",
       "\\item[inkişaf] 8\n",
       "\\item[inkişafınız] 1\n",
       "\\item[inkişafınızda] 1\n",
       "\\item[inkişafıproqramçılıqda] 1\n",
       "\\item[interaktiv] 1\n",
       "\\item[işləmək] 3\n",
       "\\item[işlərə] 1\n",
       "\\item[işləyən] 1\n",
       "\\item[istifadəçi] 1\n",
       "\\item[istifadəproqramçılığı] 1\n",
       "\\item[iştirak] 1\n",
       "\\item[iştirakdan] 1\n",
       "\\item[ixtisaslar] 1\n",
       "\\item[izləməkproqramçılıq] 1\n",
       "\\item[izləyərək] 1\n",
       "\\item[java] 1\n",
       "\\item[javascript] 2\n",
       "\\item[karyera] 3\n",
       "\\item[karyeranızı] 3\n",
       "\\item[keçirilə] 1\n",
       "\\item[khan] 1\n",
       "\\item[kiçik] 2\n",
       "\\item[kifayət] 1\n",
       "\\item[kitablardan] 1\n",
       "\\item[kitabxanalar] 1\n",
       "\\item[kömək] 1\n",
       "\\item[köməkçi] 1\n",
       "\\item[komponentləridir] 1\n",
       "\\item[kompüter] 2\n",
       "\\item[kompüterlərlə] 1\n",
       "\\item[konfranslar] 3\n",
       "\\item[konfranslarda] 1\n",
       "\\item[kotlin] 1\n",
       "\\item[kurslar] 3\n",
       "\\item[kurslardan] 1\n",
       "\\item[layihələr] 4\n",
       "\\item[layihələrə] 1\n",
       "\\item[layihələriniz] 1\n",
       "\\item[layihələrinizdə] 1\n",
       "\\item[layihələrinizi] 1\n",
       "\\item[lazımdır] 2\n",
       "\\item[loqik] 1\n",
       "\\item[malikdir] 1\n",
       "\\item[maraqlandığınız] 1\n",
       "\\item[maraqlı] 1\n",
       "\\item[maşın] 1\n",
       "\\item[maşını] 1\n",
       "\\item[media] 1\n",
       "\\item[mentorlar] 1\n",
       "\\item[mentorluq] 1\n",
       "\\item[mentorluqproqramçılıq] 1\n",
       "\\item[məlumat] 1\n",
       "\\item[mərhələdə] 1\n",
       "\\item[məsələlər] 1\n",
       "\\item[məsələlərdə] 1\n",
       "\\item[məsləhətlər] 1\n",
       "\\item[məşqlər] 1\n",
       "\\item[məşqlərə] 1\n",
       "\\item[mobil] 1\n",
       "\\item[mövcud] 1\n",
       "\\item[mövcuddur] 1\n",
       "\\item[mövzularda] 1\n",
       "\\item[mühitdə] 1\n",
       "\\item[mühümdür] 1\n",
       "\\item[mükəmməl] 1\n",
       "\\item[mümkündür] 1\n",
       "\\item[mümkündürproqramçılığın] 1\n",
       "\\item[müraciət] 1\n",
       "\\item[mürəkkəb] 1\n",
       "\\item[müstəqil] 1\n",
       "\\item[müxtəlif] 4\n",
       "\\item[müzakirələr] 1\n",
       "\\item[nümayiş] 1\n",
       "\\item[ola] 2\n",
       "\\item[olacaqsınızproqramçılıqda] 1\n",
       "\\item[olmalıdır] 1\n",
       "\\item[olmaqdır] 1\n",
       "\\item[olunan] 1\n",
       "\\item[onlayn] 5\n",
       "\\item[overflow] 1\n",
       "\\item[oxuyun] 1\n",
       "\\item[öyrəndiklərinizi] 2\n",
       "\\item[öyrənərək] 1\n",
       "\\item[öyrənilməsiproqramlaşdırma] 1\n",
       "\\item[öyrənmə] 7\n",
       "\\item[öyrənmək] 7\n",
       "\\item[öyrənməni] 1\n",
       "\\item[öyrənməsi] 1\n",
       "\\item[öyrənməyə] 1\n",
       "\\item[oyun] 1\n",
       "\\item[özünüinkişaf] 2\n",
       "\\item[peşəkar] 3\n",
       "\\item[peşəkarlarla] 1\n",
       "\\item[platformalar] 2\n",
       "\\item[platformalarda] 1\n",
       "\\item[platformaları] 2\n",
       "\\item[platformalarıinteraktiv] 1\n",
       "\\item[praktikada] 1\n",
       "\\item[praktiki] 2\n",
       "\\item[prinsipləri] 1\n",
       "\\item[problem] 1\n",
       "\\item[proqramçı] 2\n",
       "\\item[proqramçılar] 1\n",
       "\\item[proqramçılardan] 1\n",
       "\\item[proqramçılığa] 1\n",
       "\\item[proqramçılıq] 1\n",
       "\\item[proqramlar] 1\n",
       "\\item[proqramları] 1\n",
       "\\item[proqramlaşdırma] 12\n",
       "\\item[prosesində] 2\n",
       "\\item[prosesini] 1\n",
       "\\item[python] 3\n",
       "\\item[qaynaqlardan] 1\n",
       "\\item[qazandıqdan] 1\n",
       "\\item[qazanmaq] 2\n",
       "\\item[qərar] 1\n",
       "\\item[qurma] 1\n",
       "\\item[qurmaq] 3\n",
       "\\item[rahat] 1\n",
       "\\item[real] 1\n",
       "\\item[reddit] 1\n",
       "\\item[resurslardan] 3\n",
       "\\item[rəsmi] 1\n",
       "\\item[rola] 1\n",
       "\\item[sadə] 3\n",
       "\\item[sahə] 2\n",
       "\\item[sahədə] 1\n",
       "\\item[sahədəki] 2\n",
       "\\item[sahələr] 1\n",
       "\\item[sahələrdə] 1\n",
       "\\item[sahələrdir] 1\n",
       "\\item[sahənin] 1\n",
       "\\item[sahəsində] 1\n",
       "\\item[sahəsini] 1\n",
       "\\item[saytlar] 1\n",
       "\\item[seçərək] 1\n",
       "\\item[seçim] 1\n",
       "\\item[seçimdir] 1\n",
       "\\item[seçimiproqramlaşdırma] 1\n",
       "\\item[seminarlar] 2\n",
       "\\item[seminarlartexnoloji] 1\n",
       "\\item[sevənlər] 1\n",
       "\\item[şəbəkə] 2\n",
       "\\item[şəbəkəni] 1\n",
       "\\item[şəkildə] 1\n",
       "\\item[səviyyəli] 1\n",
       "\\item[sintaksisi] 1\n",
       "\\item[şirkətdaxili] 1\n",
       "\\item[skriptlər] 1\n",
       "\\item[sosial] 1\n",
       "\\item[stack] 1\n",
       "\\item[staj] 1\n",
       "\\item[stajreal] 1\n",
       "\\item[standartları] 1\n",
       "\\item[strukturları] 1\n",
       "\\item[süni] 1\n",
       "\\item[sürətli] 1\n",
       "\\item[swift] 1\n",
       "\\item[tanış] 3\n",
       "\\item[tanışlıq] 1\n",
       "\\item[tapmaq] 1\n",
       "\\item[texniki] 3\n",
       "\\item[texnologiya] 1\n",
       "\\item[texnologiyalar] 3\n",
       "\\item[texnologiyaları] 1\n",
       "\\item[texnologiyalarını] 1\n",
       "\\item[texnoloji] 1\n",
       "\\item[teztez] 1\n",
       "\\item[təcrübə] 4\n",
       "\\item[təcrübələr] 1\n",
       "\\item[təcrübəli] 1\n",
       "\\item[təcrübəsi] 3\n",
       "\\item[tədbirlər] 1\n",
       "\\item[tədbirlərdə] 1\n",
       "\\item[təhsil] 3\n",
       "\\item[təklif] 1\n",
       "\\item[tələbləriproqramçılıqda] 1\n",
       "\\item[təlimatlar] 1\n",
       "\\item[təlimlər] 1\n",
       "\\item[təlimlərdən] 1\n",
       "\\item[təqdim] 1\n",
       "\\item[təşkil] 1\n",
       "\\item[tətbiq] 3\n",
       "\\item[tətbiqetmələr] 1\n",
       "\\item[tətbiqi] 1\n",
       "\\item[tətbiqlər] 1\n",
       "\\item[trendlər] 1\n",
       "\\item[trendlərinə] 1\n",
       "\\item[udemy] 1\n",
       "\\item[uğur] 1\n",
       "\\item[uğurun] 1\n",
       "\\item[universitetlərdə] 1\n",
       "\\item[uyğun] 1\n",
       "\\item[uyğunlaşmaq] 1\n",
       "\\item[üzərində] 2\n",
       "\\item[üzrə] 2\n",
       "\\item[vacibdirinteraktiv] 1\n",
       "\\item[vacibdirtexniki] 1\n",
       "\\item[vasitəsilə] 4\n",
       "\\item[veb] 2\n",
       "\\item[verə] 3\n",
       "\\item[verilənlər] 1\n",
       "\\item[verir] 1\n",
       "\\item[xəbərdar] 1\n",
       "\\item[xüsusi] 2\n",
       "\\item[xüsusilə] 1\n",
       "\\item[yarada] 1\n",
       "\\item[yaradılmışdır] 1\n",
       "\\item[yaradır] 1\n",
       "\\item[yaxından] 1\n",
       "\\item[yazmaq] 1\n",
       "\\item[yeni] 4\n",
       "\\item[yenilənir] 2\n",
       "\\item[yeniliklərdən] 1\n",
       "\\item[yeniliklərə] 2\n",
       "\\item[yenilikləri] 2\n",
       "\\item[yerinizi] 1\n",
       "\\item[yetirmək] 1\n",
       "\\item[yol] 3\n",
       "\\item[yollarıproqramçılığı] 1\n",
       "\\item[yolu] 1\n",
       "\\item[yoludur] 1\n",
       "\\item[zəka] 1\n",
       "\\end{description*}\n"
      ],
      "text/markdown": [
       "academy\n",
       ":   2adaptasiya\n",
       ":   2addım\n",
       ":   1ala\n",
       ":   1alaraq\n",
       ":   1aləmdə\n",
       ":   1alətlər\n",
       ":   1almaq\n",
       ":   1alqoritmlər\n",
       ":   1anlamağa\n",
       ":   1axtarışı\n",
       ":   1axtarışına\n",
       ":   1bacarıqlar\n",
       ":   1bacarıqlarınıza\n",
       ":   1bacarıqlarınızı\n",
       ":   2başlamaq\n",
       ":   1başlanğıc\n",
       ":   1başlaya\n",
       ":   1başlayan\n",
       ":   1başlayarkən\n",
       ":   1bilər\n",
       ":   5biləriş\n",
       ":   1bilərnəticəproqramçı\n",
       ":   1bilərsiniz\n",
       ":   5bilərsinizproqramlaşdırma\n",
       ":   1bilərtexnoloji\n",
       ":   1bilik\n",
       ":   1biliklər\n",
       ":   2biliklərinizi\n",
       ":   1bulud\n",
       ":   1cari\n",
       ":   1çəkinməyinşəbəkə\n",
       ":   1çətin\n",
       ":   1code\n",
       ":   1codecademy\n",
       ":   1coursera\n",
       ":   1daim\n",
       ":   1daimi\n",
       ":   1davamlı\n",
       ":   1deyil\n",
       ":   1dəyərli\n",
       ":   2dili\n",
       ":   1dilin\n",
       ":   1dillər\n",
       ":   1dillərdir\n",
       ":   1dilləri\n",
       ":   4dillərini\n",
       ":   3dillərinin\n",
       ":   3diqqət\n",
       ":   1diqqətlə\n",
       ":   1dünyasında\n",
       ":   1düşüncə\n",
       ":   1edə\n",
       ":   2edəcək\n",
       ":   1edəcəkilk\n",
       ":   1edərək\n",
       ":   1edin\n",
       ":   1ediriş\n",
       ":   1edirözünüinkişaf\n",
       ":   1elanlarını\n",
       ":   1elmləri\n",
       ":   3etdirərək\n",
       ":   1etdirin\n",
       ":   1etdirmək\n",
       ":   2etdirməkdə\n",
       ":   1etmə\n",
       ":   1etməklə\n",
       ":   1evdən\n",
       ":   1əhəmiyyətli\n",
       ":   1əla\n",
       ":   4əlaqədar\n",
       ":   1əldə\n",
       ":   3əsas\n",
       ":   3əsaslanaraq\n",
       ":   1əsasları\n",
       ":   1əsaslarını\n",
       ":   1əvəzsizdir\n",
       ":   1faydalıdır\n",
       ":   1fərdi\n",
       ":   1freecodecamp\n",
       ":   1funksiyaları\n",
       ":   1geniş\n",
       ":   1genişləndirə\n",
       ":   1girişi\n",
       ":   1github\n",
       ":   1görüşmələrində\n",
       ":   1göstərə\n",
       ":   1hazırlaya\n",
       ":   1hesab\n",
       ":   1həll\n",
       ":   1həmçinin\n",
       ":   2həyata\n",
       ":   1ilham\n",
       ":   1imkan\n",
       ":   1imkanlar\n",
       ":   3inkişaf\n",
       ":   8inkişafınız\n",
       ":   1inkişafınızda\n",
       ":   1inkişafıproqramçılıqda\n",
       ":   1interaktiv\n",
       ":   1işləmək\n",
       ":   3işlərə\n",
       ":   1işləyən\n",
       ":   1istifadəçi\n",
       ":   1istifadəproqramçılığı\n",
       ":   1iştirak\n",
       ":   1iştirakdan\n",
       ":   1ixtisaslar\n",
       ":   1izləməkproqramçılıq\n",
       ":   1izləyərək\n",
       ":   1java\n",
       ":   1javascript\n",
       ":   2karyera\n",
       ":   3karyeranızı\n",
       ":   3keçirilə\n",
       ":   1khan\n",
       ":   1kiçik\n",
       ":   2kifayət\n",
       ":   1kitablardan\n",
       ":   1kitabxanalar\n",
       ":   1kömək\n",
       ":   1köməkçi\n",
       ":   1komponentləridir\n",
       ":   1kompüter\n",
       ":   2kompüterlərlə\n",
       ":   1konfranslar\n",
       ":   3konfranslarda\n",
       ":   1kotlin\n",
       ":   1kurslar\n",
       ":   3kurslardan\n",
       ":   1layihələr\n",
       ":   4layihələrə\n",
       ":   1layihələriniz\n",
       ":   1layihələrinizdə\n",
       ":   1layihələrinizi\n",
       ":   1lazımdır\n",
       ":   2loqik\n",
       ":   1malikdir\n",
       ":   1maraqlandığınız\n",
       ":   1maraqlı\n",
       ":   1maşın\n",
       ":   1maşını\n",
       ":   1media\n",
       ":   1mentorlar\n",
       ":   1mentorluq\n",
       ":   1mentorluqproqramçılıq\n",
       ":   1məlumat\n",
       ":   1mərhələdə\n",
       ":   1məsələlər\n",
       ":   1məsələlərdə\n",
       ":   1məsləhətlər\n",
       ":   1məşqlər\n",
       ":   1məşqlərə\n",
       ":   1mobil\n",
       ":   1mövcud\n",
       ":   1mövcuddur\n",
       ":   1mövzularda\n",
       ":   1mühitdə\n",
       ":   1mühümdür\n",
       ":   1mükəmməl\n",
       ":   1mümkündür\n",
       ":   1mümkündürproqramçılığın\n",
       ":   1müraciət\n",
       ":   1mürəkkəb\n",
       ":   1müstəqil\n",
       ":   1müxtəlif\n",
       ":   4müzakirələr\n",
       ":   1nümayiş\n",
       ":   1ola\n",
       ":   2olacaqsınızproqramçılıqda\n",
       ":   1olmalıdır\n",
       ":   1olmaqdır\n",
       ":   1olunan\n",
       ":   1onlayn\n",
       ":   5overflow\n",
       ":   1oxuyun\n",
       ":   1öyrəndiklərinizi\n",
       ":   2öyrənərək\n",
       ":   1öyrənilməsiproqramlaşdırma\n",
       ":   1öyrənmə\n",
       ":   7öyrənmək\n",
       ":   7öyrənməni\n",
       ":   1öyrənməsi\n",
       ":   1öyrənməyə\n",
       ":   1oyun\n",
       ":   1özünüinkişaf\n",
       ":   2peşəkar\n",
       ":   3peşəkarlarla\n",
       ":   1platformalar\n",
       ":   2platformalarda\n",
       ":   1platformaları\n",
       ":   2platformalarıinteraktiv\n",
       ":   1praktikada\n",
       ":   1praktiki\n",
       ":   2prinsipləri\n",
       ":   1problem\n",
       ":   1proqramçı\n",
       ":   2proqramçılar\n",
       ":   1proqramçılardan\n",
       ":   1proqramçılığa\n",
       ":   1proqramçılıq\n",
       ":   1proqramlar\n",
       ":   1proqramları\n",
       ":   1proqramlaşdırma\n",
       ":   12prosesində\n",
       ":   2prosesini\n",
       ":   1python\n",
       ":   3qaynaqlardan\n",
       ":   1qazandıqdan\n",
       ":   1qazanmaq\n",
       ":   2qərar\n",
       ":   1qurma\n",
       ":   1qurmaq\n",
       ":   3rahat\n",
       ":   1real\n",
       ":   1reddit\n",
       ":   1resurslardan\n",
       ":   3rəsmi\n",
       ":   1rola\n",
       ":   1sadə\n",
       ":   3sahə\n",
       ":   2sahədə\n",
       ":   1sahədəki\n",
       ":   2sahələr\n",
       ":   1sahələrdə\n",
       ":   1sahələrdir\n",
       ":   1sahənin\n",
       ":   1sahəsində\n",
       ":   1sahəsini\n",
       ":   1saytlar\n",
       ":   1seçərək\n",
       ":   1seçim\n",
       ":   1seçimdir\n",
       ":   1seçimiproqramlaşdırma\n",
       ":   1seminarlar\n",
       ":   2seminarlartexnoloji\n",
       ":   1sevənlər\n",
       ":   1şəbəkə\n",
       ":   2şəbəkəni\n",
       ":   1şəkildə\n",
       ":   1səviyyəli\n",
       ":   1sintaksisi\n",
       ":   1şirkətdaxili\n",
       ":   1skriptlər\n",
       ":   1sosial\n",
       ":   1stack\n",
       ":   1staj\n",
       ":   1stajreal\n",
       ":   1standartları\n",
       ":   1strukturları\n",
       ":   1süni\n",
       ":   1sürətli\n",
       ":   1swift\n",
       ":   1tanış\n",
       ":   3tanışlıq\n",
       ":   1tapmaq\n",
       ":   1texniki\n",
       ":   3texnologiya\n",
       ":   1texnologiyalar\n",
       ":   3texnologiyaları\n",
       ":   1texnologiyalarını\n",
       ":   1texnoloji\n",
       ":   1teztez\n",
       ":   1təcrübə\n",
       ":   4təcrübələr\n",
       ":   1təcrübəli\n",
       ":   1təcrübəsi\n",
       ":   3tədbirlər\n",
       ":   1tədbirlərdə\n",
       ":   1təhsil\n",
       ":   3təklif\n",
       ":   1tələbləriproqramçılıqda\n",
       ":   1təlimatlar\n",
       ":   1təlimlər\n",
       ":   1təlimlərdən\n",
       ":   1təqdim\n",
       ":   1təşkil\n",
       ":   1tətbiq\n",
       ":   3tətbiqetmələr\n",
       ":   1tətbiqi\n",
       ":   1tətbiqlər\n",
       ":   1trendlər\n",
       ":   1trendlərinə\n",
       ":   1udemy\n",
       ":   1uğur\n",
       ":   1uğurun\n",
       ":   1universitetlərdə\n",
       ":   1uyğun\n",
       ":   1uyğunlaşmaq\n",
       ":   1üzərində\n",
       ":   2üzrə\n",
       ":   2vacibdirinteraktiv\n",
       ":   1vacibdirtexniki\n",
       ":   1vasitəsilə\n",
       ":   4veb\n",
       ":   2verə\n",
       ":   3verilənlər\n",
       ":   1verir\n",
       ":   1xəbərdar\n",
       ":   1xüsusi\n",
       ":   2xüsusilə\n",
       ":   1yarada\n",
       ":   1yaradılmışdır\n",
       ":   1yaradır\n",
       ":   1yaxından\n",
       ":   1yazmaq\n",
       ":   1yeni\n",
       ":   4yenilənir\n",
       ":   2yeniliklərdən\n",
       ":   1yeniliklərə\n",
       ":   2yenilikləri\n",
       ":   2yerinizi\n",
       ":   1yetirmək\n",
       ":   1yol\n",
       ":   3yollarıproqramçılığı\n",
       ":   1yolu\n",
       ":   1yoludur\n",
       ":   1zəka\n",
       ":   1\n",
       "\n"
      ],
      "text/plain": [
       "                   academy                 adaptasiya \n",
       "                         2                          2 \n",
       "                     addım                        ala \n",
       "                         1                          1 \n",
       "                    alaraq                     aləmdə \n",
       "                         1                          1 \n",
       "                   alətlər                      almaq \n",
       "                         1                          1 \n",
       "               alqoritmlər                   anlamağa \n",
       "                         1                          1 \n",
       "                  axtarışı                 axtarışına \n",
       "                         1                          1 \n",
       "                bacarıqlar            bacarıqlarınıza \n",
       "                         1                          1 \n",
       "           bacarıqlarınızı                   başlamaq \n",
       "                         2                          1 \n",
       "                 başlanğıc                    başlaya \n",
       "                         1                          1 \n",
       "                  başlayan                başlayarkən \n",
       "                         1                          1 \n",
       "                     bilər                    biləriş \n",
       "                         5                          1 \n",
       "      bilərnəticəproqramçı                 bilərsiniz \n",
       "                         1                          5 \n",
       " bilərsinizproqramlaşdırma             bilərtexnoloji \n",
       "                         1                          1 \n",
       "                     bilik                   biliklər \n",
       "                         1                          2 \n",
       "             biliklərinizi                      bulud \n",
       "                         1                          1 \n",
       "                      cari           çəkinməyinşəbəkə \n",
       "                         1                          1 \n",
       "                     çətin                       code \n",
       "                         1                          1 \n",
       "                codecademy                   coursera \n",
       "                         1                          1 \n",
       "                      daim                      daimi \n",
       "                         1                          1 \n",
       "                   davamlı                      deyil \n",
       "                         1                          1 \n",
       "                   dəyərli                       dili \n",
       "                         2                          1 \n",
       "                     dilin                     dillər \n",
       "                         1                          1 \n",
       "                 dillərdir                    dilləri \n",
       "                         1                          4 \n",
       "                 dillərini                 dillərinin \n",
       "                         3                          3 \n",
       "                    diqqət                   diqqətlə \n",
       "                         1                          1 \n",
       "                dünyasında                    düşüncə \n",
       "                         1                          1 \n",
       "                       edə                     edəcək \n",
       "                         2                          1 \n",
       "                 edəcəkilk                     edərək \n",
       "                         1                          1 \n",
       "                      edin                     ediriş \n",
       "                         1                          1 \n",
       "          edirözünüinkişaf                 elanlarını \n",
       "                         1                          1 \n",
       "                   elmləri                  etdirərək \n",
       "                         3                          1 \n",
       "                   etdirin                   etdirmək \n",
       "                         1                          2 \n",
       "                etdirməkdə                       etmə \n",
       "                         1                          1 \n",
       "                   etməklə                      evdən \n",
       "                         1                          1 \n",
       "               əhəmiyyətli                        əla \n",
       "                         1                          4 \n",
       "                  əlaqədar                       əldə \n",
       "                         1                          3 \n",
       "                      əsas                əsaslanaraq \n",
       "                         3                          1 \n",
       "                  əsasları                 əsaslarını \n",
       "                         1                          1 \n",
       "                əvəzsizdir                 faydalıdır \n",
       "                         1                          1 \n",
       "                     fərdi               freecodecamp \n",
       "                         1                          1 \n",
       "              funksiyaları                      geniş \n",
       "                         1                          1 \n",
       "              genişləndirə                     girişi \n",
       "                         1                          1 \n",
       "                    github             görüşmələrində \n",
       "                         1                          1 \n",
       "                   göstərə                  hazırlaya \n",
       "                         1                          1 \n",
       "                     hesab                       həll \n",
       "                         1                          1 \n",
       "                  həmçinin                     həyata \n",
       "                         2                          1 \n",
       "                     ilham                      imkan \n",
       "                         1                          1 \n",
       "                  imkanlar                    inkişaf \n",
       "                         3                          8 \n",
       "               inkişafınız              inkişafınızda \n",
       "                         1                          1 \n",
       "    inkişafıproqramçılıqda                 interaktiv \n",
       "                         1                          1 \n",
       "                   işləmək                     işlərə \n",
       "                         3                          1 \n",
       "                   işləyən                 istifadəçi \n",
       "                         1                          1 \n",
       "     istifadəproqramçılığı                    iştirak \n",
       "                         1                          1 \n",
       "                iştirakdan                 ixtisaslar \n",
       "                         1                          1 \n",
       "       izləməkproqramçılıq                  izləyərək \n",
       "                         1                          1 \n",
       "                      java                 javascript \n",
       "                         1                          2 \n",
       "                   karyera                karyeranızı \n",
       "                         3                          3 \n",
       "                  keçirilə                       khan \n",
       "                         1                          1 \n",
       "                     kiçik                    kifayət \n",
       "                         2                          1 \n",
       "               kitablardan               kitabxanalar \n",
       "                         1                          1 \n",
       "                     kömək                    köməkçi \n",
       "                         1                          1 \n",
       "          komponentləridir                   kompüter \n",
       "                         1                          2 \n",
       "             kompüterlərlə                konfranslar \n",
       "                         1                          3 \n",
       "             konfranslarda                     kotlin \n",
       "                         1                          1 \n",
       "                   kurslar                 kurslardan \n",
       "                         3                          1 \n",
       "                 layihələr                 layihələrə \n",
       "                         4                          1 \n",
       "             layihələriniz            layihələrinizdə \n",
       "                         1                          1 \n",
       "            layihələrinizi                   lazımdır \n",
       "                         1                          2 \n",
       "                     loqik                   malikdir \n",
       "                         1                          1 \n",
       "           maraqlandığınız                    maraqlı \n",
       "                         1                          1 \n",
       "                     maşın                     maşını \n",
       "                         1                          1 \n",
       "                     media                  mentorlar \n",
       "                         1                          1 \n",
       "                 mentorluq      mentorluqproqramçılıq \n",
       "                         1                          1 \n",
       "                   məlumat                  mərhələdə \n",
       "                         1                          1 \n",
       "                 məsələlər                məsələlərdə \n",
       "                         1                          1 \n",
       "               məsləhətlər                    məşqlər \n",
       "                         1                          1 \n",
       "                  məşqlərə                      mobil \n",
       "                         1                          1 \n",
       "                    mövcud                  mövcuddur \n",
       "                         1                          1 \n",
       "                mövzularda                    mühitdə \n",
       "                         1                          1 \n",
       "                  mühümdür                   mükəmməl \n",
       "                         1                          1 \n",
       "                 mümkündür    mümkündürproqramçılığın \n",
       "                         1                          1 \n",
       "                  müraciət                   mürəkkəb \n",
       "                         1                          1 \n",
       "                  müstəqil                   müxtəlif \n",
       "                         1                          4 \n",
       "               müzakirələr                    nümayiş \n",
       "                         1                          1 \n",
       "                       ola  olacaqsınızproqramçılıqda \n",
       "                         2                          1 \n",
       "                 olmalıdır                   olmaqdır \n",
       "                         1                          1 \n",
       "                    olunan                     onlayn \n",
       "                         1                          5 \n",
       "                  overflow                     oxuyun \n",
       "                         1                          1 \n",
       "          öyrəndiklərinizi                  öyrənərək \n",
       "                         2                          1 \n",
       "öyrənilməsiproqramlaşdırma                    öyrənmə \n",
       "                         1                          7 \n",
       "                  öyrənmək                  öyrənməni \n",
       "                         7                          1 \n",
       "                 öyrənməsi                  öyrənməyə \n",
       "                         1                          1 \n",
       "                      oyun               özünüinkişaf \n",
       "                         1                          2 \n",
       "                   peşəkar               peşəkarlarla \n",
       "                         3                          1 \n",
       "              platformalar             platformalarda \n",
       "                         2                          1 \n",
       "             platformaları    platformalarıinteraktiv \n",
       "                         2                          1 \n",
       "                praktikada                   praktiki \n",
       "                         1                          2 \n",
       "               prinsipləri                    problem \n",
       "                         1                          1 \n",
       "                 proqramçı               proqramçılar \n",
       "                         2                          1 \n",
       "           proqramçılardan              proqramçılığa \n",
       "                         1                          1 \n",
       "              proqramçılıq                 proqramlar \n",
       "                         1                          1 \n",
       "               proqramları            proqramlaşdırma \n",
       "                         1                         12 \n",
       "                prosesində                  prosesini \n",
       "                         2                          1 \n",
       "                    python               qaynaqlardan \n",
       "                         3                          1 \n",
       "               qazandıqdan                   qazanmaq \n",
       "                         1                          2 \n",
       "                     qərar                      qurma \n",
       "                         1                          1 \n",
       "                    qurmaq                      rahat \n",
       "                         3                          1 \n",
       "                      real                     reddit \n",
       "                         1                          1 \n",
       "              resurslardan                      rəsmi \n",
       "                         3                          1 \n",
       "                      rola                       sadə \n",
       "                         1                          3 \n",
       "                      sahə                     sahədə \n",
       "                         2                          1 \n",
       "                  sahədəki                    sahələr \n",
       "                         2                          1 \n",
       "                 sahələrdə                 sahələrdir \n",
       "                         1                          1 \n",
       "                   sahənin                  sahəsində \n",
       "                         1                          1 \n",
       "                  sahəsini                    saytlar \n",
       "                         1                          1 \n",
       "                   seçərək                      seçim \n",
       "                         1                          1 \n",
       "                  seçimdir      seçimiproqramlaşdırma \n",
       "                         1                          1 \n",
       "                seminarlar        seminarlartexnoloji \n",
       "                         2                          1 \n",
       "                  sevənlər                     şəbəkə \n",
       "                         1                          2 \n",
       "                  şəbəkəni                    şəkildə \n",
       "                         1                          1 \n",
       "                 səviyyəli                 sintaksisi \n",
       "                         1                          1 \n",
       "              şirkətdaxili                  skriptlər \n",
       "                         1                          1 \n",
       "                    sosial                      stack \n",
       "                         1                          1 \n",
       "                      staj                   stajreal \n",
       "                         1                          1 \n",
       "              standartları               strukturları \n",
       "                         1                          1 \n",
       "                      süni                    sürətli \n",
       "                         1                          1 \n",
       "                     swift                      tanış \n",
       "                         1                          3 \n",
       "                  tanışlıq                     tapmaq \n",
       "                         1                          1 \n",
       "                   texniki                texnologiya \n",
       "                         3                          1 \n",
       "            texnologiyalar            texnologiyaları \n",
       "                         3                          1 \n",
       "         texnologiyalarını                  texnoloji \n",
       "                         1                          1 \n",
       "                    teztez                    təcrübə \n",
       "                         1                          4 \n",
       "                təcrübələr                  təcrübəli \n",
       "                         1                          1 \n",
       "                 təcrübəsi                  tədbirlər \n",
       "                         3                          1 \n",
       "               tədbirlərdə                     təhsil \n",
       "                         1                          3 \n",
       "                    təklif    tələbləriproqramçılıqda \n",
       "                         1                          1 \n",
       "                təlimatlar                   təlimlər \n",
       "                         1                          1 \n",
       "               təlimlərdən                     təqdim \n",
       "                         1                          1 \n",
       "                    təşkil                     tətbiq \n",
       "                         1                          3 \n",
       "             tətbiqetmələr                    tətbiqi \n",
       "                         1                          1 \n",
       "                 tətbiqlər                   trendlər \n",
       "                         1                          1 \n",
       "               trendlərinə                      udemy \n",
       "                         1                          1 \n",
       "                      uğur                     uğurun \n",
       "                         1                          1 \n",
       "          universitetlərdə                      uyğun \n",
       "                         1                          1 \n",
       "               uyğunlaşmaq                   üzərində \n",
       "                         1                          2 \n",
       "                      üzrə         vacibdirinteraktiv \n",
       "                         2                          1 \n",
       "           vacibdirtexniki                 vasitəsilə \n",
       "                         1                          4 \n",
       "                       veb                       verə \n",
       "                         2                          3 \n",
       "                verilənlər                      verir \n",
       "                         1                          1 \n",
       "                  xəbərdar                     xüsusi \n",
       "                         1                          2 \n",
       "                  xüsusilə                     yarada \n",
       "                         1                          1 \n",
       "             yaradılmışdır                    yaradır \n",
       "                         1                          1 \n",
       "                  yaxından                     yazmaq \n",
       "                         1                          1 \n",
       "                      yeni                  yenilənir \n",
       "                         4                          2 \n",
       "             yeniliklərdən                yeniliklərə \n",
       "                         1                          2 \n",
       "               yenilikləri                   yerinizi \n",
       "                         2                          1 \n",
       "                  yetirmək                        yol \n",
       "                         1                          3 \n",
       "      yollarıproqramçılığı                       yolu \n",
       "                         1                          1 \n",
       "                   yoludur                       zəka \n",
       "                         1                          1 \n",
       "attr(,\"class\")\n",
       "[1] \"term_frequency\" \"integer\"       "
      ]
     },
     "metadata": {},
     "output_type": "display_data"
    }
   ],
   "source": [
    "stopcorpustfnew <- tm::termFreq(stopcorpus[[1]])\n",
    "stopcorpustfnew"
   ]
  },
  {
   "cell_type": "code",
   "execution_count": 32,
   "id": "8be74392",
   "metadata": {
    "execution": {
     "iopub.execute_input": "2024-05-05T20:17:22.826498Z",
     "iopub.status.busy": "2024-05-05T20:17:22.824810Z",
     "iopub.status.idle": "2024-05-05T20:17:22.839492Z",
     "shell.execute_reply": "2024-05-05T20:17:22.837552Z"
    },
    "papermill": {
     "duration": 0.054269,
     "end_time": "2024-05-05T20:17:22.842077",
     "exception": false,
     "start_time": "2024-05-05T20:17:22.787808",
     "status": "completed"
    },
    "tags": []
   },
   "outputs": [],
   "source": [
    "words <- names(stopcorpustfnew)"
   ]
  },
  {
   "cell_type": "markdown",
   "id": "e415e179",
   "metadata": {
    "papermill": {
     "duration": 0.034576,
     "end_time": "2024-05-05T20:17:22.911256",
     "exception": false,
     "start_time": "2024-05-05T20:17:22.876680",
     "status": "completed"
    },
    "tags": []
   },
   "source": [
    "# D."
   ]
  },
  {
   "cell_type": "markdown",
   "id": "41217344",
   "metadata": {
    "papermill": {
     "duration": 0.034767,
     "end_time": "2024-05-05T20:17:22.980590",
     "exception": false,
     "start_time": "2024-05-05T20:17:22.945823",
     "status": "completed"
    },
    "tags": []
   },
   "source": [
    "openNLP does not support the Azerbaijani language. We have tried to translate the text but it did not make sense to us, since it is not analysis of Azerbaijani document text."
   ]
  },
  {
   "cell_type": "markdown",
   "id": "ca13f962",
   "metadata": {
    "papermill": {
     "duration": 0.034564,
     "end_time": "2024-05-05T20:17:23.049874",
     "exception": false,
     "start_time": "2024-05-05T20:17:23.015310",
     "status": "completed"
    },
    "tags": []
   },
   "source": [
    "# E. Word frequency using Zipfr"
   ]
  },
  {
   "cell_type": "code",
   "execution_count": 33,
   "id": "6b7fb5d5",
   "metadata": {
    "execution": {
     "iopub.execute_input": "2024-05-05T20:17:23.123752Z",
     "iopub.status.busy": "2024-05-05T20:17:23.121990Z",
     "iopub.status.idle": "2024-05-05T20:17:23.431867Z",
     "shell.execute_reply": "2024-05-05T20:17:23.429814Z"
    },
    "papermill": {
     "duration": 0.349539,
     "end_time": "2024-05-05T20:17:23.434439",
     "exception": false,
     "start_time": "2024-05-05T20:17:23.084900",
     "status": "completed"
    },
    "tags": []
   },
   "outputs": [],
   "source": [
    "# define all words\n",
    "all_text <- unlist(sapply(clcorpus, `[`, \"content\"))\n",
    "\n",
    "# tokenize the text to extract words\n",
    "words <- unlist(strsplit(all_text, \"\\\\s+\"))\n",
    "words <- words[words != \"\"]\n",
    "\n",
    "# findind unique words\n",
    "terms <- unique(words)\n",
    "\n",
    "# Calculate the frequency \n",
    "word_frequency <- table(words)"
   ]
  },
  {
   "cell_type": "code",
   "execution_count": 34,
   "id": "fdb2d205",
   "metadata": {
    "execution": {
     "iopub.execute_input": "2024-05-05T20:17:23.508492Z",
     "iopub.status.busy": "2024-05-05T20:17:23.506842Z",
     "iopub.status.idle": "2024-05-05T20:17:23.836430Z",
     "shell.execute_reply": "2024-05-05T20:17:23.834349Z"
    },
    "papermill": {
     "duration": 0.369654,
     "end_time": "2024-05-05T20:17:23.838993",
     "exception": false,
     "start_time": "2024-05-05T20:17:23.469339",
     "status": "completed"
    },
    "tags": []
   },
   "outputs": [
    {
     "data": {
      "image/png": "[encoded data removed]"
     },
     "metadata": {
      "image/png": {
       "height": 420,
       "width": 420
      }
     },
     "output_type": "display_data"
    }
   ],
   "source": [
    "# Convert the table class object to a data frame\n",
    "tdf <- as.data.frame(word_frequency)\n",
    "\n",
    "# Plot the frequencies using barplot\n",
    "barplot(tdf$Freq, names.arg = rownames(tdf), las = 2, cex.names = 0.7)"
   ]
  },
  {
   "cell_type": "code",
   "execution_count": 35,
   "id": "6a3ad672",
   "metadata": {
    "execution": {
     "iopub.execute_input": "2024-05-05T20:17:23.913877Z",
     "iopub.status.busy": "2024-05-05T20:17:23.912053Z",
     "iopub.status.idle": "2024-05-05T20:17:23.946350Z",
     "shell.execute_reply": "2024-05-05T20:17:23.944041Z"
    },
    "papermill": {
     "duration": 0.074885,
     "end_time": "2024-05-05T20:17:23.949262",
     "exception": false,
     "start_time": "2024-05-05T20:17:23.874377",
     "status": "completed"
    },
    "tags": []
   },
   "outputs": [
    {
     "data": {
      "text/html": [
       "<table class=\"dataframe\">\n",
       "<caption>A data.frame: 10 × 2</caption>\n",
       "<thead>\n",
       "\t<tr><th></th><th scope=col>words</th><th scope=col>Freq</th></tr>\n",
       "\t<tr><th></th><th scope=col>&lt;fct&gt;</th><th scope=col>&lt;int&gt;</th></tr>\n",
       "</thead>\n",
       "<tbody>\n",
       "\t<tr><th scope=row>17259</th><td>современник</td><td>1</td></tr>\n",
       "\t<tr><th scope=row>17260</th><td>суд        </td><td>1</td></tr>\n",
       "\t<tr><th scope=row>17261</th><td>текущих    </td><td>1</td></tr>\n",
       "\t<tr><th scope=row>17262</th><td>тени       </td><td>1</td></tr>\n",
       "\t<tr><th scope=row>17263</th><td>ты         </td><td>1</td></tr>\n",
       "\t<tr><th scope=row>17264</th><td>хочешь     </td><td>1</td></tr>\n",
       "\t<tr><th scope=row>17265</th><td>храни      </td><td>1</td></tr>\n",
       "\t<tr><th scope=row>17266</th><td>хроника    </td><td>1</td></tr>\n",
       "\t<tr><th scope=row>17267</th><td>царя       </td><td>1</td></tr>\n",
       "\t<tr><th scope=row>17268</th><td>чего       </td><td>1</td></tr>\n",
       "</tbody>\n",
       "</table>\n"
      ],
      "text/latex": [
       "A data.frame: 10 × 2\n",
       "\\begin{tabular}{r|ll}\n",
       "  & words & Freq\\\\\n",
       "  & <fct> & <int>\\\\\n",
       "\\hline\n",
       "\t17259 & современник & 1\\\\\n",
       "\t17260 & суд         & 1\\\\\n",
       "\t17261 & текущих     & 1\\\\\n",
       "\t17262 & тени        & 1\\\\\n",
       "\t17263 & ты          & 1\\\\\n",
       "\t17264 & хочешь      & 1\\\\\n",
       "\t17265 & храни       & 1\\\\\n",
       "\t17266 & хроника     & 1\\\\\n",
       "\t17267 & царя        & 1\\\\\n",
       "\t17268 & чего        & 1\\\\\n",
       "\\end{tabular}\n"
      ],
      "text/markdown": [
       "\n",
       "A data.frame: 10 × 2\n",
       "\n",
       "| <!--/--> | words &lt;fct&gt; | Freq &lt;int&gt; |\n",
       "|---|---|---|\n",
       "| 17259 | современник | 1 |\n",
       "| 17260 | суд         | 1 |\n",
       "| 17261 | текущих     | 1 |\n",
       "| 17262 | тени        | 1 |\n",
       "| 17263 | ты          | 1 |\n",
       "| 17264 | хочешь      | 1 |\n",
       "| 17265 | храни       | 1 |\n",
       "| 17266 | хроника     | 1 |\n",
       "| 17267 | царя        | 1 |\n",
       "| 17268 | чего        | 1 |\n",
       "\n"
      ],
      "text/plain": [
       "      words       Freq\n",
       "17259 современник 1   \n",
       "17260 суд         1   \n",
       "17261 текущих     1   \n",
       "17262 тени        1   \n",
       "17263 ты          1   \n",
       "17264 хочешь      1   \n",
       "17265 храни       1   \n",
       "17266 хроника     1   \n",
       "17267 царя        1   \n",
       "17268 чего        1   "
      ]
     },
     "metadata": {},
     "output_type": "display_data"
    }
   ],
   "source": [
    "tail(tdf,10)"
   ]
  },
  {
   "cell_type": "markdown",
   "id": "5749ddc1",
   "metadata": {
    "papermill": {
     "duration": 0.035728,
     "end_time": "2024-05-05T20:17:24.020383",
     "exception": false,
     "start_time": "2024-05-05T20:17:23.984655",
     "status": "completed"
    },
    "tags": []
   },
   "source": [
    "**As you can see even azerbaijani vlogs contain some Russian phrases. Such cases make the analysis and understanding of the text even harder. This also emphasizes the importance of data cleaning.**"
   ]
  },
  {
   "cell_type": "code",
   "execution_count": 36,
   "id": "dcc69b53",
   "metadata": {
    "execution": {
     "iopub.execute_input": "2024-05-05T20:17:24.096133Z",
     "iopub.status.busy": "2024-05-05T20:17:24.094006Z",
     "iopub.status.idle": "2024-05-05T20:17:24.609796Z",
     "shell.execute_reply": "2024-05-05T20:17:24.607833Z"
    },
    "papermill": {
     "duration": 0.556555,
     "end_time": "2024-05-05T20:17:24.612230",
     "exception": false,
     "start_time": "2024-05-05T20:17:24.055675",
     "status": "completed"
    },
    "tags": []
   },
   "outputs": [
    {
     "data": {
      "image/png": "[encoded data removed]"
     },
     "metadata": {
      "image/png": {
       "height": 420,
       "width": 420
      }
     },
     "output_type": "display_data"
    }
   ],
   "source": [
    "# Filter word frequency for words occurring less than or equal to 50 times\n",
    "filtered_word_frequency <- word_frequency[word_frequency > 100]\n",
    "\n",
    "# Identify the most frequent word\n",
    "most_frequent_word <- names(filtered_word_frequency)[1]\n",
    "\n",
    "# Determine the highest frequency\n",
    "highest_frequency <- filtered_word_frequency[1]\n",
    "\n",
    "# Plot the filtered word frequency in descending order\n",
    "plot(sort(filtered_word_frequency, decreasing = TRUE), \n",
    "     ylab = \"Frequency\", \n",
    "     ylim = c(0, highest_frequency + 840), \n",
    "     main = \"Frequency of Words\")\n"
   ]
  },
  {
   "cell_type": "markdown",
   "id": "99ea0245",
   "metadata": {
    "execution": {
     "iopub.execute_input": "2024-05-05T19:22:12.558875Z",
     "iopub.status.busy": "2024-05-05T19:22:12.556016Z",
     "iopub.status.idle": "2024-05-05T19:22:12.579076Z"
    },
    "papermill": {
     "duration": 0.036858,
     "end_time": "2024-05-05T20:17:24.686038",
     "exception": false,
     "start_time": "2024-05-05T20:17:24.649180",
     "status": "completed"
    },
    "tags": []
   },
   "source": [
    "For this visualization, we have used clean(no numbers and extra characters) but not removed stopwords. This visual clearly indicates why the stopwords has to be removed. As you can see, frequency of stop words such as \"ve\", \"olan\" and \"bele\" is quite high."
   ]
  },
  {
   "cell_type": "markdown",
   "id": "81c2615f",
   "metadata": {
    "papermill": {
     "duration": 0.036522,
     "end_time": "2024-05-05T20:17:24.758894",
     "exception": false,
     "start_time": "2024-05-05T20:17:24.722372",
     "status": "completed"
    },
    "tags": []
   },
   "source": [
    "# F. Word Cloud and Sentiment analysis"
   ]
  },
  {
   "cell_type": "markdown",
   "id": "1e6a3494",
   "metadata": {
    "papermill": {
     "duration": 0.036286,
     "end_time": "2024-05-05T20:17:24.830640",
     "exception": false,
     "start_time": "2024-05-05T20:17:24.794354",
     "status": "completed"
    },
    "tags": []
   },
   "source": [
    "**Let's play with some visualization settings and see if we can make a readable word clous:**"
   ]
  },
  {
   "cell_type": "code",
   "execution_count": 37,
   "id": "960db9e2",
   "metadata": {
    "execution": {
     "iopub.execute_input": "2024-05-05T20:17:24.907622Z",
     "iopub.status.busy": "2024-05-05T20:17:24.905952Z",
     "iopub.status.idle": "2024-05-05T20:17:25.420502Z",
     "shell.execute_reply": "2024-05-05T20:17:25.418358Z"
    },
    "papermill": {
     "duration": 0.557699,
     "end_time": "2024-05-05T20:17:25.425088",
     "exception": false,
     "start_time": "2024-05-05T20:17:24.867389",
     "status": "completed"
    },
    "tags": []
   },
   "outputs": [
    {
     "name": "stderr",
     "output_type": "stream",
     "text": [
      "Warning message in wordcloud(words = words, freq = stopcorpustfnew, scale = c(6, :\n",
      "“öyrənilməsiproqramlaşdırma could not be fit on page. It will not be plotted.”\n"
     ]
    },
    {
     "data": {
      "image/png": "[encoded data removed]"
     },
     "metadata": {
      "image/png": {
       "height": 420,
       "width": 420
      }
     },
     "output_type": "display_data"
    }
   ],
   "source": [
    "library(wordcloud)\n",
    "library(RColorBrewer)\n",
    "\n",
    "# Define color palette\n",
    "pal <- brewer.pal(9, \"Reds\")\n",
    "\n",
    "# Set up the plotting area with desired dimensions\n",
    "par(mar = rep(0, 4))  # Remove margins to maximize space for the word cloud\n",
    "plot.new()  # Create a new plot\n",
    "\n",
    "# Generate the word cloud with larger font sizes and cleaner appearance\n",
    "wordcloud(words = words, \n",
    "          freq = stopcorpustfnew, \n",
    "          scale = c(6, 0.7),  # Increase font sizes for words\n",
    "          min.freq = 2,  # Set minimum frequency threshold for inclusion\n",
    "          max.words = 100,  # Limit the number of words displayed\n",
    "          random.order = FALSE,  # Display words in decreasing frequency\n",
    "          colors = pal[-(1:4)])  # Use defined color palette excluding lightest colors\n"
   ]
  },
  {
   "cell_type": "markdown",
   "id": "5835285c",
   "metadata": {
    "papermill": {
     "duration": 0.040359,
     "end_time": "2024-05-05T20:17:25.505980",
     "exception": false,
     "start_time": "2024-05-05T20:17:25.465621",
     "status": "completed"
    },
    "tags": []
   },
   "source": [
    "## B. Continue to explore tutorial"
   ]
  },
  {
   "cell_type": "markdown",
   "id": "ec70a521",
   "metadata": {
    "papermill": {
     "duration": 0.039222,
     "end_time": "2024-05-05T20:17:25.585039",
     "exception": false,
     "start_time": "2024-05-05T20:17:25.545817",
     "status": "completed"
    },
    "tags": []
   },
   "source": [
    "Let's apply tokenization to clean version of dataset "
   ]
  },
  {
   "cell_type": "code",
   "execution_count": 38,
   "id": "7c6a9cff",
   "metadata": {
    "execution": {
     "iopub.execute_input": "2024-05-05T20:17:25.667619Z",
     "iopub.status.busy": "2024-05-05T20:17:25.665900Z",
     "iopub.status.idle": "2024-05-05T20:17:27.225967Z",
     "shell.execute_reply": "2024-05-05T20:17:27.224106Z"
    },
    "papermill": {
     "duration": 1.604261,
     "end_time": "2024-05-05T20:17:27.228489",
     "exception": false,
     "start_time": "2024-05-05T20:17:25.624228",
     "status": "completed"
    },
    "tags": []
   },
   "outputs": [],
   "source": [
    "corpustext <- stopcorpus[[5]]\n",
    "corpustokens <- quanteda::tokens(corpustext$content)"
   ]
  },
  {
   "cell_type": "code",
   "execution_count": 39,
   "id": "e8121c62",
   "metadata": {
    "execution": {
     "iopub.execute_input": "2024-05-05T20:17:27.311654Z",
     "iopub.status.busy": "2024-05-05T20:17:27.309903Z",
     "iopub.status.idle": "2024-05-05T20:17:27.346615Z",
     "shell.execute_reply": "2024-05-05T20:17:27.343961Z"
    },
    "papermill": {
     "duration": 0.081488,
     "end_time": "2024-05-05T20:17:27.349434",
     "exception": false,
     "start_time": "2024-05-05T20:17:27.267946",
     "status": "completed"
    },
    "tags": []
   },
   "outputs": [
    {
     "name": "stdout",
     "output_type": "stream",
     "text": [
      "List of 1\n",
      " $ text1: chr [1:424] \"dünyanın\" \"möcüzəsindən\" \"olantac\" \"mahalhindistanın\" ...\n",
      " - attr(*, \"types\")= chr [1:339] \"dünyanın\" \"möcüzəsindən\" \"olantac\" \"mahalhindistanın\" ...\n",
      " - attr(*, \"padding\")= logi FALSE\n",
      " - attr(*, \"class\")= chr \"tokens\"\n",
      " - attr(*, \"docvars\")='data.frame':\t1 obs. of  3 variables:\n",
      "  ..$ docname_: chr \"text1\"\n",
      "  ..$ docid_  : Factor w/ 1 level \"text1\": 1\n",
      "  ..$ segid_  : int 1\n",
      " - attr(*, \"meta\")=List of 3\n",
      "  ..$ system:List of 5\n",
      "  .. ..$ package-version:Classes 'package_version', 'numeric_version'  hidden list of 1\n",
      "  .. .. ..$ : int [1:3] 3 3 1\n",
      "  .. ..$ r-version      :Classes 'R_system_version', 'package_version', 'numeric_version'  hidden list of 1\n",
      "  .. .. ..$ : int [1:3] 4 0 5\n",
      "  .. ..$ system         : Named chr [1:3] \"Linux\" \"x86_64\" \"root\"\n",
      "  .. .. ..- attr(*, \"names\")= chr [1:3] \"sysname\" \"machine\" \"user\"\n",
      "  .. ..$ directory      : chr \"/kaggle/working\"\n",
      "  .. ..$ created        : Date[1:1], format: \"2024-05-05\"\n",
      "  ..$ object:List of 6\n",
      "  .. ..$ unit        : chr \"documents\"\n",
      "  .. ..$ what        : chr \"word\"\n",
      "  .. ..$ ngram       : int 1\n",
      "  .. ..$ skip        : int 0\n",
      "  .. ..$ concatenator: chr \"_\"\n",
      "  .. ..$ summary     :List of 2\n",
      "  .. .. ..$ hash: chr(0) \n",
      "  .. .. ..$ data: NULL\n",
      "  ..$ user  : list()\n"
     ]
    }
   ],
   "source": [
    "str(corpustokens)"
   ]
  },
  {
   "cell_type": "markdown",
   "id": "f49932ff",
   "metadata": {
    "papermill": {
     "duration": 0.040489,
     "end_time": "2024-05-05T20:17:27.430381",
     "exception": false,
     "start_time": "2024-05-05T20:17:27.389892",
     "status": "completed"
    },
    "tags": []
   },
   "source": [
    "Let's contruct sparse document-feature matrix:"
   ]
  },
  {
   "cell_type": "code",
   "execution_count": 40,
   "id": "aea34d0e",
   "metadata": {
    "execution": {
     "iopub.execute_input": "2024-05-05T20:17:27.513297Z",
     "iopub.status.busy": "2024-05-05T20:17:27.511473Z",
     "iopub.status.idle": "2024-05-05T20:17:27.621685Z",
     "shell.execute_reply": "2024-05-05T20:17:27.619322Z"
    },
    "papermill": {
     "duration": 0.154216,
     "end_time": "2024-05-05T20:17:27.624288",
     "exception": false,
     "start_time": "2024-05-05T20:17:27.470072",
     "status": "completed"
    },
    "tags": []
   },
   "outputs": [
    {
     "name": "stdout",
     "output_type": "stream",
     "text": [
      "Formal class 'dfm' [package \"quanteda\"] with 8 slots\n",
      "  ..@ docvars :'data.frame':\t1 obs. of  3 variables:\n",
      "  .. ..$ docname_: chr \"text1\"\n",
      "  .. ..$ docid_  : Factor w/ 1 level \"text1\": 1\n",
      "  .. ..$ segid_  : int 1\n",
      "  ..@ meta    :List of 3\n",
      "  .. ..$ system:List of 5\n",
      "  .. .. ..$ package-version:Classes 'package_version', 'numeric_version'  hidden list of 1\n",
      "  .. .. .. ..$ : int [1:3] 3 3 1\n",
      "  .. .. ..$ r-version      :Classes 'R_system_version', 'package_version', 'numeric_version'  hidden list of 1\n",
      "  .. .. .. ..$ : int [1:3] 4 0 5\n",
      "  .. .. ..$ system         : Named chr [1:3] \"Linux\" \"x86_64\" \"root\"\n",
      "  .. .. .. ..- attr(*, \"names\")= chr [1:3] \"sysname\" \"machine\" \"user\"\n",
      "  .. .. ..$ directory      : chr \"/kaggle/working\"\n",
      "  .. .. ..$ created        : Date[1:1], format: \"2024-05-05\"\n",
      "  .. ..$ object:List of 9\n",
      "  .. .. ..$ unit        : chr \"documents\"\n",
      "  .. .. ..$ what        : chr \"word\"\n",
      "  .. .. ..$ ngram       : int 1\n",
      "  .. .. ..$ skip        : int 0\n",
      "  .. .. ..$ concatenator: chr \"_\"\n",
      "  .. .. ..$ weight_tf   :List of 3\n",
      "  .. .. .. ..$ scheme: chr \"count\"\n",
      "  .. .. .. ..$ base  : NULL\n",
      "  .. .. .. ..$ k     : NULL\n",
      "  .. .. ..$ weight_df   :List of 5\n",
      "  .. .. .. ..$ scheme   : chr \"unary\"\n",
      "  .. .. .. ..$ base     : NULL\n",
      "  .. .. .. ..$ c        : NULL\n",
      "  .. .. .. ..$ smoothing: NULL\n",
      "  .. .. .. ..$ threshold: NULL\n",
      "  .. .. ..$ smooth      : num 0\n",
      "  .. .. ..$ summary     :List of 2\n",
      "  .. .. .. ..$ hash: chr(0) \n",
      "  .. .. .. ..$ data: NULL\n",
      "  .. ..$ user  : list()\n",
      "  ..@ i       : int [1:339] 0 0 0 0 0 0 0 0 0 0 ...\n",
      "  ..@ p       : int [1:340] 0 1 2 3 4 5 6 7 8 9 ...\n",
      "  ..@ Dim     : int [1:2] 1 339\n",
      "  ..@ Dimnames:List of 2\n",
      "  .. ..$ docs    : chr \"text1\"\n",
      "  .. ..$ features: chr [1:339] \"dünyanın\" \"möcüzəsindən\" \"olantac\" \"mahalhindistanın\" ...\n",
      "  ..@ x       : num [1:339] 3 2 1 1 1 1 1 1 3 1 ...\n",
      "  ..@ factors : list()\n"
     ]
    }
   ],
   "source": [
    "corpusDFM <- quanteda::dfm(corpustokens)\n",
    "str(corpusDFM)"
   ]
  },
  {
   "cell_type": "markdown",
   "id": "df9551c1",
   "metadata": {
    "papermill": {
     "duration": 0.039895,
     "end_time": "2024-05-05T20:17:27.704226",
     "exception": false,
     "start_time": "2024-05-05T20:17:27.664331",
     "status": "completed"
    },
    "tags": []
   },
   "source": [
    "Let's check frequency of terms:"
   ]
  },
  {
   "cell_type": "code",
   "execution_count": 41,
   "id": "ae97bd4a",
   "metadata": {
    "execution": {
     "iopub.execute_input": "2024-05-05T20:17:27.787377Z",
     "iopub.status.busy": "2024-05-05T20:17:27.785562Z",
     "iopub.status.idle": "2024-05-05T20:17:27.815965Z",
     "shell.execute_reply": "2024-05-05T20:17:27.813801Z"
    },
    "papermill": {
     "duration": 0.074476,
     "end_time": "2024-05-05T20:17:27.818398",
     "exception": false,
     "start_time": "2024-05-05T20:17:27.743922",
     "status": "completed"
    },
    "tags": []
   },
   "outputs": [
    {
     "name": "stdout",
     "output_type": "stream",
     "text": [
      " Named int [1:339] 1 1 1 1 1 1 1 1 1 1 ...\n",
      " - attr(*, \"names\")= chr [1:339] \"dünyanın\" \"möcüzəsindən\" \"olantac\" \"mahalhindistanın\" ...\n"
     ]
    }
   ],
   "source": [
    "corpusDocFreq <-quanteda::docfreq(corpusDFM)\n",
    "str(corpusDocFreq)"
   ]
  },
  {
   "cell_type": "code",
   "execution_count": 42,
   "id": "d741f2ee",
   "metadata": {
    "execution": {
     "iopub.execute_input": "2024-05-05T20:17:27.901739Z",
     "iopub.status.busy": "2024-05-05T20:17:27.900067Z",
     "iopub.status.idle": "2024-05-05T20:17:27.930359Z",
     "shell.execute_reply": "2024-05-05T20:17:27.928506Z"
    },
    "papermill": {
     "duration": 0.074585,
     "end_time": "2024-05-05T20:17:27.932954",
     "exception": false,
     "start_time": "2024-05-05T20:17:27.858369",
     "status": "completed"
    },
    "tags": []
   },
   "outputs": [
    {
     "data": {
      "text/html": [
       "<style>\n",
       ".dl-inline {width: auto; margin:0; padding: 0}\n",
       ".dl-inline>dt, .dl-inline>dd {float: none; width: auto; display: inline-block}\n",
       ".dl-inline>dt::after {content: \":\\0020\"; padding-right: .5ex}\n",
       ".dl-inline>dt:not(:first-of-type) {padding-left: .5ex}\n",
       "</style><dl class=dl-inline><dt>dünyanın</dt><dd>1</dd><dt>möcüzəsindən</dt><dd>1</dd><dt>olantac</dt><dd>1</dd><dt>mahalhindistanın</dt><dd>1</dd><dt>şimalında</dt><dd>1</dd><dt>aqra</dt><dd>1</dd><dt>şəhərində</dt><dd>1</dd><dt>yerləşir</dt><dd>1</dd><dt>hindistan</dt><dd>1</dd><dt>deyildikdə</dt><dd>1</dd><dt>insanın</dt><dd>1</dd><dt>ağlına</dt><dd>1</dd><dt>gələn</dt><dd>1</dd><dt>simvolik</dt><dd>1</dd><dt>tikilidir</dt><dd>1</dd><dt>tac</dt><dd>1</dd><dt>sarayı</dt><dd>1</dd><dt>mənasını</dt><dd>1</dd><dt>verən</dt><dd>1</dd><dt>abidə</dt><dd>1</dd><dt>metr</dt><dd>1</dd><dt>hündürlüyü</dt><dd>1</dd><dt>dünya</dt><dd>1</dd><dt>memarlığının</dt><dd>1</dd><dt>görkəmli</dt><dd>1</dd><dt>nümunələrindən</dt><dd>1</dd><dt>hesab</dt><dd>1</dd><dt>olunur</dt><dd>1</dd><dt>ziyarət</dt><dd>1</dd><dt>edilən</dt><dd>1</dd><dt>tarixi</dt><dd>1</dd><dt>binalarından</dt><dd>1</dd><dt>mahal</dt><dd>1</dd><dt>eşqin</dt><dd>1</dd><dt>əzəmətin</dt><dd>1</dd><dt>simvoludurdünyada</dt><dd>1</dd><dt>insanlar</dt><dd>1</dd><dt>ikiyə</dt><dd>1</dd><dt>bölünür</dt><dd>1</dd><dt>mahalı</dt><dd>1</dd><dt>görənlər</dt><dd>1</dd><dt>görməyənləredvard</dt><dd>1</dd><dt>lir</dt><dd>1</dd><dt>ingilis</dt><dd>1</dd><dt>lordu</dt><dd>1</dd><dt>doğrudan</dt><dd>1</dd><dt>gözəl</dt><dd>1</dd><dt>poetik</dt><dd>1</dd><dt>binadır</dt><dd>1</dd><dt>görənləri</dt><dd>1</dd><dt>bənzərsizliyi</dt><dd>1</dd><dt>heyran</dt><dd>1</dd><dt>ildən</dt><dd>1</dd><dt>hindistanda</dt><dd>1</dd><dt>müsəlman</dt><dd>1</dd><dt>incəsənətinin</dt><dd>1</dd><dt>incisi</dt><dd>1</dd><dt>irsinin</dt><dd>1</dd><dt>universal</dt><dd>1</dd><dt>şah</dt><dd>1</dd><dt>əsərlərindən</dt><dd>1</dd><dt>yuneskonun</dt><dd>1</dd><dt>ümumdünya</dt><dd>1</dd><dt>mədəni</dt><dd>1</dd><dt>irs</dt><dd>1</dd><dt>siyahısındadırtac</dt><dd>1</dd><dt>mahalın</dt><dd>1</dd><dt>hekayəsicü</dt><dd>1</dd><dt>illər</dt><dd>1</dd><dt>uttar</dt><dd>1</dd><dt>pradeş</dt><dd>1</dd><dt>bölgəsində</dt><dd>1</dd><dt>inşa</dt><dd>1</dd><dt>edilib</dt><dd>1</dd><dt>böyük</dt><dd>1</dd><dt>moğol</dt><dd>1</dd><dt>imperiyasının</dt><dd>1</dd><dt>hökmdarı</dt><dd>1</dd><dt>cahanın</dt><dd>1</dd><dt>həyat</dt><dd>1</dd><dt>yoldaşı</dt><dd>1</dd><dt>mümtaz</dt><dd>1</dd><dt>xatirəsini</dt><dd>1</dd><dt>yaşatmaq</dt><dd>1</dd><dt>etdirdiyi</dt><dd>1</dd><dt>əsər</dt><dd>1</dd><dt>dünyada</dt><dd>1</dd><dt>sevgini</dt><dd>1</dd><dt>simvolizə</dt><dd>1</dd><dt>mühüm</dt><dd>1</dd><dt>tikililərdən</dt><dd>1</dd><dt>biridir</dt><dd>1</dd><dt>övladının</dt><dd>1</dd><dt>anası</dt><dd>1</dd><dt>sonuncu</dt><dd>1</dd><dt>doğulması</dt><dd>1</dd><dt>zamanı</dt><dd>1</dd><dt>dünyasını</dt><dd>1</dd><dt>dəyişib</dt><dd>1</dd><dt>adı</dt><dd>1</dd><dt>ərcümənd</dt><dd>1</dd><dt>banu</dt><dd>1</dd><dt>begüm</dt><dd>1</dd><dt>mənası</dt><dd>1</dd><dt>sarayınn</dt><dd>1</dd><dt>seçilmiş</dt><dd>1</dd><dt>deməkdirci</dt><dd>1</dd><dt>üzrə</dt><dd>1</dd><dt>milyon</dt><dd>1</dd><dt>səslə</dt><dd>1</dd><dt>yeddi</dt><dd>1</dd><dt>seçilən</dt><dd>1</dd><dt>memarları</dt><dd>1</dd><dt>memar</dt><dd>1</dd><dt>sinanın</dt><dd>1</dd><dt>tələbələri</dt><dd>1</dd><dt>mehmet</dt><dd>1</dd><dt>isa</dt><dd>1</dd><dt>əfəndi</dt><dd>1</dd><dt>ismail</dt><dd>1</dd><dt>əfəndidir</dt><dd>1</dd><dt>ağ</dt><dd>1</dd><dt>mərmərdən</dt><dd>1</dd><dt>hazırlanmış</dt><dd>1</dd><dt>dörd</dt><dd>1</dd><dt>minarəsi</dt><dd>1</dd><dt>zümrüd</dt><dd>1</dd><dt>yaqut</dt><dd>1</dd><dt>mirvari</dt><dd>1</dd><dt>almaz</dt><dd>1</dd><dt>qiymətli</dt><dd>1</dd><dt>daşlarla</dt><dd>1</dd><dt>bəzədilibikonik</dt><dd>1</dd><dt>soğan</dt><dd>1</dd><dt>formalı</dt><dd>1</dd><dt>günbəz</dt><dd>1</dd><dt>osmanlı</dt><dd>1</dd><dt>imperiyasından</dt><dd>1</dd><dt>gələnismayıl</dt><dd>1</dd><dt>hazırlanmışdırtac</dt><dd>1</dd><dt>tikintisində</dt><dd>1</dd><dt>ümumilikdə</dt><dd>1</dd><dt>min</dt><dd>1</dd><dt>insan</dt><dd>1</dd><dt>mindən</dt><dd>1</dd><dt>fil</dt><dd>1</dd><dt>çalışıb</dt><dd>1</dd><dt>tikinti</dt><dd>1</dd><dt>dövr</dt><dd>1</dd><dt>milyard</dt><dd>1</dd><dt>dollara</dt><dd>1</dd><dt>bərabər</dt><dd>1</dd><dt>rupisinə</dt><dd>1</dd><dt>başa</dt><dd>1</dd><dt>gəlibtac</dt><dd>1</dd><dt>geniş</dt><dd>1</dd><dt>məlumat</dt><dd>1</dd><dt>tikintisi</dt><dd>1</dd><dt>davam</dt><dd>1</dd><dt>bağ</dt><dd>1</dd><dt>məscid</dt><dd>1</dd><dt>hovuz</dt><dd>1</dd><dt>məqbərədən</dt><dd>1</dd><dt>ibarətdir</dt><dd>1</dd><dt>tərəfinin</dt><dd>1</dd><dt>birbirini</dt><dd>1</dd><dt>mükəmməl</dt><dd>1</dd><dt>şəkildə</dt><dd>1</dd><dt>tamamladığı</dt><dd>1</dd><dt>bina</dt><dd>1</dd><dt>güzgüdəki</dt><dd>1</dd><dt>görüntü</dt><dd>1</dd><dt>əks</dt><dd>1</dd><dt>etdirən</dt><dd>1</dd><dt>simmetrik</dt><dd>1</dd><dt>xüsusiyyətə</dt><dd>1</dd><dt>malikdir</dt><dd>1</dd><dt>bağı</dt><dd>1</dd><dt>tikililəri</dt><dd>1</dd><dt>birlikdə</dt><dd>1</dd><dt>hektar</dt><dd>1</dd><dt>ərazini</dt><dd>1</dd><dt>əhatə</dt><dd>1</dd><dt>edirtac</dt><dd>1</dd><dt>gözəlliyi</dt><dd>1</dd><dt>göz</dt><dd>1</dd><dt>oxşayır</dt><dd>1</dd><dt>peyzaj</dt><dd>1</dd><dt>işləri</dt><dd>1</dd><dt>hərtərəfli</dt><dd>1</dd><dt>düşünülmüş</dt><dd>1</dd><dt>bütövlükdə</dt><dd>1</dd><dt>dizayn</dt><dd>1</dd><dt>edilmişdir</dt><dd>1</dd><dt>d</dt><dd>1</dd><dt>effekti</dt><dd>1</dd><dt>verir</dt><dd>1</dd><dt>memarlığında</dt><dd>1</dd><dt>iditac</dt><dd>1</dd><dt>dizaynı</dt><dd>1</dd><dt>günün</dt><dd>1</dd><dt>müxtəlif</dt><dd>1</dd><dt>vaxtlarında</dt><dd>1</dd><dt>rəngləri</dt><dd>1</dd><dt>etdirir</dt><dd>1</dd><dt>mərmərlər</dt><dd>1</dd><dt>səhərlər</dt><dd>1</dd><dt>çəhrayı</dt><dd>1</dd><dt>gündüzlər</dt><dd>1</dd><dt>gecələr</dt><dd>1</dd><dt>qızılı</dt><dd>1</dd><dt>rəngə</dt><dd>1</dd><dt>boyanırcü</dt><dd>1</dd><dt>siyahısınadaxil</dt><dd>1</dd><dt>ziyarətçiyə</dt><dd>1</dd><dt>ev</dt><dd>1</dd><dt>sahibliyi</dt><dd>1</dd><dt>edirşah</dt><dd>1</dd><dt>məqbərəsinin</dt><dd>1</dd><dt>yerləşdiyi</dt><dd>1</dd><dt>bölmədə</dt><dd>1</dd><dt>tərifləyən</dt><dd>1</dd><dt>yazılar</dt><dd>1</dd><dt>deyilmiş</dt><dd>1</dd><dt>xoş</dt><dd>1</dd><dt>arzular</dt><dd>1</dd><dt>dövrün</dt><dd>1</dd><dt>əhəmiyyətli</dt><dd>1</dd><dt>xəttatlarının</dt><dd>1</dd><dt>imzası</dt><dd>1</dd><dt>yasin</dt><dd>1</dd><dt>surəsi</dt><dd>1</dd><dt>türbənin</dt><dd>1</dd><dt>diqqət</dt><dd>1</dd><dt>çəkən</dt><dd>1</dd><dt>hissəsidir</dt><dd>1</dd><dt>türbə</dt><dd>1</dd><dt>hissəsinin</dt><dd>1</dd><dt>interyerində</dt><dd>1</dd><dt>ənənəvi</dt><dd>1</dd><dt>dekorativ</dt><dd>1</dd><dt>elementlərdən</dt><dd>1</dd><dt>əri</dt><dd>1</dd><dt>sarkofaqları</dt><dd>1</dd><dt>dəfn</dt><dd>1</dd><dt>kamerasının</dt><dd>1</dd><dt>əsas</dt><dd>1</dd><dt>hissəsində</dt><dd>1</dd><dt>yuxarı</dt><dd>1</dd><dt>mərtəbədə</dt><dd>1</dd><dt>faktiki</dt><dd>1</dd><dt>sarkofaqlar</dt><dd>1</dd><dt>aşağı</dt><dd>1</dd><dt>yerləşirqəbir</dt><dd>1</dd><dt>otağının</dt><dd>1</dd><dt>cənub</dt><dd>1</dd><dt>girişindən</dt><dd>1</dd><dt>türbəyə</dt><dd>1</dd><dt>aparan</dt><dd>1</dd><dt>pilləkən</dt><dd>1</dd><dt>uclu</dt><dd>1</dd><dt>çəllək</dt><dd>1</dd><dt>olunub</dt><dd>1</dd><dt>ziyarətçilər</dt><dd>1</dd><dt>əlçatmaz</dt><dd>1</dd><dt>bölmənin</dt><dd>1</dd><dt>düzbucaqlı</dt><dd>1</dd><dt>tavanı</dt><dd>1</dd><dt>tamamilə</dt><dd>1</dd><dt>mərmərlə</dt><dd>1</dd><dt>örtülmüşdür</dt><dd>1</dd><dt>otağın</dt><dd>1</dd><dt>mərkəzində</dt><dd>1</dd><dt>yerləşən</dt><dd>1</dd><dt>oxşar</dt><dd>1</dd><dt>dizaynlı</dt><dd>1</dd><dt>iki</dt><dd>1</dd><dt>motivlərlə</dt><dd>1</dd><dt>bəzədilibşah</dt><dd>1</dd><dt>məzarının</dt><dd>1</dd><dt>qara</dt><dd>1</dd><dt>olmasını</dt><dd>1</dd><dt>istədiyi</dt><dd>1</dd><dt>barədə</dt><dd>1</dd><dt>iddialar</dt><dd>1</dd><dt>olsa</dt><dd>1</dd><dt>bununla</dt><dd>1</dd><dt>bağlı</dt><dd>1</dd><dt>sənəd</dt><dd>1</dd><dt>tapılmayıb</dt><dd>1</dd><dt>əfsanələrin</dt><dd>1</dd><dt>əsasını</dt><dd>1</dd><dt>avropalı</dt><dd>1</dd><dt>səyyah</dt><dd>1</dd><dt>janbatist</dt><dd>1</dd><dt>tavernyenin</dt><dd>1</dd><dt>cəfəng</dt><dd>1</dd><dt>yazıları</dt><dd>1</dd><dt>təşkil</dt><dd>1</dd><dt>mərmər</dt><dd>1</dd><dt>quruluşunda</dt><dd>1</dd><dt>yaxın</dt><dd>1</dd><dt>daşdan</dt><dd>1</dd><dt>daşlar</dt><dd>1</dd><dt>firuzə</dt><dd>1</dd><dt>tibetdən</dt><dd>1</dd><dt>nefrit</dt><dd>1</dd><dt>çindən</dt><dd>1</dd><dt>binanın</dt><dd>1</dd><dt>materialı</dt><dd>1</dd><dt>racastandan</dt><dd>1</dd><dt>gətirilib</dt><dd>1</dd><dt>təəssüf</dt><dd>1</dd><dt>üsyanı</dt><dd>1</dd><dt>ingilislər</dt><dd>1</dd><dt>yerindən</dt><dd>1</dd><dt>çıxarıldıcu</dt><dd>1</dd><dt>əsrin</dt><dd>1</dd><dt>sonlarında</dt><dd>1</dd><dt>hindistanın</dt><dd>1</dd><dt>keçmiş</dt><dd>1</dd><dt>qubernatoru</dt><dd>1</dd><dt>lord</dt><dd>1</dd><dt>kerzon</dt><dd>1</dd><dt>məqbərənin</dt><dd>1</dd><dt>bərpasına</dt><dd>1</dd><dt>təşəbbüs</dt><dd>1</dd><dt>göstərdi</dt><dd>1</dd><dt>bərpa</dt><dd>1</dd><dt>çatdıeşqdən</dt><dd>1</dd><dt>ilhamlanarak</dt><dd>1</dd><dt>tikilən</dt><dd>1</dd><dt>bənərsiz</dt><dd>1</dd><dt>sevgi</dt><dd>1</dd><dt>abidəsi</dt><dd>1</dd><dt>gün</dt><dd>1</dd><dt>aşiqlərin</dt><dd>1</dd><dt>etdiyi</dt><dd>1</dd><dt>yerlərdən</dt><dd>1</dd></dl>\n"
      ],
      "text/latex": [
       "\\begin{description*}\n",
       "\\item[dünyanın] 1\n",
       "\\item[möcüzəsindən] 1\n",
       "\\item[olantac] 1\n",
       "\\item[mahalhindistanın] 1\n",
       "\\item[şimalında] 1\n",
       "\\item[aqra] 1\n",
       "\\item[şəhərində] 1\n",
       "\\item[yerləşir] 1\n",
       "\\item[hindistan] 1\n",
       "\\item[deyildikdə] 1\n",
       "\\item[insanın] 1\n",
       "\\item[ağlına] 1\n",
       "\\item[gələn] 1\n",
       "\\item[simvolik] 1\n",
       "\\item[tikilidir] 1\n",
       "\\item[tac] 1\n",
       "\\item[sarayı] 1\n",
       "\\item[mənasını] 1\n",
       "\\item[verən] 1\n",
       "\\item[abidə] 1\n",
       "\\item[metr] 1\n",
       "\\item[hündürlüyü] 1\n",
       "\\item[dünya] 1\n",
       "\\item[memarlığının] 1\n",
       "\\item[görkəmli] 1\n",
       "\\item[nümunələrindən] 1\n",
       "\\item[hesab] 1\n",
       "\\item[olunur] 1\n",
       "\\item[ziyarət] 1\n",
       "\\item[edilən] 1\n",
       "\\item[tarixi] 1\n",
       "\\item[binalarından] 1\n",
       "\\item[mahal] 1\n",
       "\\item[eşqin] 1\n",
       "\\item[əzəmətin] 1\n",
       "\\item[simvoludurdünyada] 1\n",
       "\\item[insanlar] 1\n",
       "\\item[ikiyə] 1\n",
       "\\item[bölünür] 1\n",
       "\\item[mahalı] 1\n",
       "\\item[görənlər] 1\n",
       "\\item[görməyənləredvard] 1\n",
       "\\item[lir] 1\n",
       "\\item[ingilis] 1\n",
       "\\item[lordu] 1\n",
       "\\item[doğrudan] 1\n",
       "\\item[gözəl] 1\n",
       "\\item[poetik] 1\n",
       "\\item[binadır] 1\n",
       "\\item[görənləri] 1\n",
       "\\item[bənzərsizliyi] 1\n",
       "\\item[heyran] 1\n",
       "\\item[ildən] 1\n",
       "\\item[hindistanda] 1\n",
       "\\item[müsəlman] 1\n",
       "\\item[incəsənətinin] 1\n",
       "\\item[incisi] 1\n",
       "\\item[irsinin] 1\n",
       "\\item[universal] 1\n",
       "\\item[şah] 1\n",
       "\\item[əsərlərindən] 1\n",
       "\\item[yuneskonun] 1\n",
       "\\item[ümumdünya] 1\n",
       "\\item[mədəni] 1\n",
       "\\item[irs] 1\n",
       "\\item[siyahısındadırtac] 1\n",
       "\\item[mahalın] 1\n",
       "\\item[hekayəsicü] 1\n",
       "\\item[illər] 1\n",
       "\\item[uttar] 1\n",
       "\\item[pradeş] 1\n",
       "\\item[bölgəsində] 1\n",
       "\\item[inşa] 1\n",
       "\\item[edilib] 1\n",
       "\\item[böyük] 1\n",
       "\\item[moğol] 1\n",
       "\\item[imperiyasının] 1\n",
       "\\item[hökmdarı] 1\n",
       "\\item[cahanın] 1\n",
       "\\item[həyat] 1\n",
       "\\item[yoldaşı] 1\n",
       "\\item[mümtaz] 1\n",
       "\\item[xatirəsini] 1\n",
       "\\item[yaşatmaq] 1\n",
       "\\item[etdirdiyi] 1\n",
       "\\item[əsər] 1\n",
       "\\item[dünyada] 1\n",
       "\\item[sevgini] 1\n",
       "\\item[simvolizə] 1\n",
       "\\item[mühüm] 1\n",
       "\\item[tikililərdən] 1\n",
       "\\item[biridir] 1\n",
       "\\item[övladının] 1\n",
       "\\item[anası] 1\n",
       "\\item[sonuncu] 1\n",
       "\\item[doğulması] 1\n",
       "\\item[zamanı] 1\n",
       "\\item[dünyasını] 1\n",
       "\\item[dəyişib] 1\n",
       "\\item[adı] 1\n",
       "\\item[ərcümənd] 1\n",
       "\\item[banu] 1\n",
       "\\item[begüm] 1\n",
       "\\item[mənası] 1\n",
       "\\item[sarayınn] 1\n",
       "\\item[seçilmiş] 1\n",
       "\\item[deməkdirci] 1\n",
       "\\item[üzrə] 1\n",
       "\\item[milyon] 1\n",
       "\\item[səslə] 1\n",
       "\\item[yeddi] 1\n",
       "\\item[seçilən] 1\n",
       "\\item[memarları] 1\n",
       "\\item[memar] 1\n",
       "\\item[sinanın] 1\n",
       "\\item[tələbələri] 1\n",
       "\\item[mehmet] 1\n",
       "\\item[isa] 1\n",
       "\\item[əfəndi] 1\n",
       "\\item[ismail] 1\n",
       "\\item[əfəndidir] 1\n",
       "\\item[ağ] 1\n",
       "\\item[mərmərdən] 1\n",
       "\\item[hazırlanmış] 1\n",
       "\\item[dörd] 1\n",
       "\\item[minarəsi] 1\n",
       "\\item[zümrüd] 1\n",
       "\\item[yaqut] 1\n",
       "\\item[mirvari] 1\n",
       "\\item[almaz] 1\n",
       "\\item[qiymətli] 1\n",
       "\\item[daşlarla] 1\n",
       "\\item[bəzədilibikonik] 1\n",
       "\\item[soğan] 1\n",
       "\\item[formalı] 1\n",
       "\\item[günbəz] 1\n",
       "\\item[osmanlı] 1\n",
       "\\item[imperiyasından] 1\n",
       "\\item[gələnismayıl] 1\n",
       "\\item[hazırlanmışdırtac] 1\n",
       "\\item[tikintisində] 1\n",
       "\\item[ümumilikdə] 1\n",
       "\\item[min] 1\n",
       "\\item[insan] 1\n",
       "\\item[mindən] 1\n",
       "\\item[fil] 1\n",
       "\\item[çalışıb] 1\n",
       "\\item[tikinti] 1\n",
       "\\item[dövr] 1\n",
       "\\item[milyard] 1\n",
       "\\item[dollara] 1\n",
       "\\item[bərabər] 1\n",
       "\\item[rupisinə] 1\n",
       "\\item[başa] 1\n",
       "\\item[gəlibtac] 1\n",
       "\\item[geniş] 1\n",
       "\\item[məlumat] 1\n",
       "\\item[tikintisi] 1\n",
       "\\item[davam] 1\n",
       "\\item[bağ] 1\n",
       "\\item[məscid] 1\n",
       "\\item[hovuz] 1\n",
       "\\item[məqbərədən] 1\n",
       "\\item[ibarətdir] 1\n",
       "\\item[tərəfinin] 1\n",
       "\\item[birbirini] 1\n",
       "\\item[mükəmməl] 1\n",
       "\\item[şəkildə] 1\n",
       "\\item[tamamladığı] 1\n",
       "\\item[bina] 1\n",
       "\\item[güzgüdəki] 1\n",
       "\\item[görüntü] 1\n",
       "\\item[əks] 1\n",
       "\\item[etdirən] 1\n",
       "\\item[simmetrik] 1\n",
       "\\item[xüsusiyyətə] 1\n",
       "\\item[malikdir] 1\n",
       "\\item[bağı] 1\n",
       "\\item[tikililəri] 1\n",
       "\\item[birlikdə] 1\n",
       "\\item[hektar] 1\n",
       "\\item[ərazini] 1\n",
       "\\item[əhatə] 1\n",
       "\\item[edirtac] 1\n",
       "\\item[gözəlliyi] 1\n",
       "\\item[göz] 1\n",
       "\\item[oxşayır] 1\n",
       "\\item[peyzaj] 1\n",
       "\\item[işləri] 1\n",
       "\\item[hərtərəfli] 1\n",
       "\\item[düşünülmüş] 1\n",
       "\\item[bütövlükdə] 1\n",
       "\\item[dizayn] 1\n",
       "\\item[edilmişdir] 1\n",
       "\\item[d] 1\n",
       "\\item[effekti] 1\n",
       "\\item[verir] 1\n",
       "\\item[memarlığında] 1\n",
       "\\item[iditac] 1\n",
       "\\item[dizaynı] 1\n",
       "\\item[günün] 1\n",
       "\\item[müxtəlif] 1\n",
       "\\item[vaxtlarında] 1\n",
       "\\item[rəngləri] 1\n",
       "\\item[etdirir] 1\n",
       "\\item[mərmərlər] 1\n",
       "\\item[səhərlər] 1\n",
       "\\item[çəhrayı] 1\n",
       "\\item[gündüzlər] 1\n",
       "\\item[gecələr] 1\n",
       "\\item[qızılı] 1\n",
       "\\item[rəngə] 1\n",
       "\\item[boyanırcü] 1\n",
       "\\item[siyahısınadaxil] 1\n",
       "\\item[ziyarətçiyə] 1\n",
       "\\item[ev] 1\n",
       "\\item[sahibliyi] 1\n",
       "\\item[edirşah] 1\n",
       "\\item[məqbərəsinin] 1\n",
       "\\item[yerləşdiyi] 1\n",
       "\\item[bölmədə] 1\n",
       "\\item[tərifləyən] 1\n",
       "\\item[yazılar] 1\n",
       "\\item[deyilmiş] 1\n",
       "\\item[xoş] 1\n",
       "\\item[arzular] 1\n",
       "\\item[dövrün] 1\n",
       "\\item[əhəmiyyətli] 1\n",
       "\\item[xəttatlarının] 1\n",
       "\\item[imzası] 1\n",
       "\\item[yasin] 1\n",
       "\\item[surəsi] 1\n",
       "\\item[türbənin] 1\n",
       "\\item[diqqət] 1\n",
       "\\item[çəkən] 1\n",
       "\\item[hissəsidir] 1\n",
       "\\item[türbə] 1\n",
       "\\item[hissəsinin] 1\n",
       "\\item[interyerində] 1\n",
       "\\item[ənənəvi] 1\n",
       "\\item[dekorativ] 1\n",
       "\\item[elementlərdən] 1\n",
       "\\item[əri] 1\n",
       "\\item[sarkofaqları] 1\n",
       "\\item[dəfn] 1\n",
       "\\item[kamerasının] 1\n",
       "\\item[əsas] 1\n",
       "\\item[hissəsində] 1\n",
       "\\item[yuxarı] 1\n",
       "\\item[mərtəbədə] 1\n",
       "\\item[faktiki] 1\n",
       "\\item[sarkofaqlar] 1\n",
       "\\item[aşağı] 1\n",
       "\\item[yerləşirqəbir] 1\n",
       "\\item[otağının] 1\n",
       "\\item[cənub] 1\n",
       "\\item[girişindən] 1\n",
       "\\item[türbəyə] 1\n",
       "\\item[aparan] 1\n",
       "\\item[pilləkən] 1\n",
       "\\item[uclu] 1\n",
       "\\item[çəllək] 1\n",
       "\\item[olunub] 1\n",
       "\\item[ziyarətçilər] 1\n",
       "\\item[əlçatmaz] 1\n",
       "\\item[bölmənin] 1\n",
       "\\item[düzbucaqlı] 1\n",
       "\\item[tavanı] 1\n",
       "\\item[tamamilə] 1\n",
       "\\item[mərmərlə] 1\n",
       "\\item[örtülmüşdür] 1\n",
       "\\item[otağın] 1\n",
       "\\item[mərkəzində] 1\n",
       "\\item[yerləşən] 1\n",
       "\\item[oxşar] 1\n",
       "\\item[dizaynlı] 1\n",
       "\\item[iki] 1\n",
       "\\item[motivlərlə] 1\n",
       "\\item[bəzədilibşah] 1\n",
       "\\item[məzarının] 1\n",
       "\\item[qara] 1\n",
       "\\item[olmasını] 1\n",
       "\\item[istədiyi] 1\n",
       "\\item[barədə] 1\n",
       "\\item[iddialar] 1\n",
       "\\item[olsa] 1\n",
       "\\item[bununla] 1\n",
       "\\item[bağlı] 1\n",
       "\\item[sənəd] 1\n",
       "\\item[tapılmayıb] 1\n",
       "\\item[əfsanələrin] 1\n",
       "\\item[əsasını] 1\n",
       "\\item[avropalı] 1\n",
       "\\item[səyyah] 1\n",
       "\\item[janbatist] 1\n",
       "\\item[tavernyenin] 1\n",
       "\\item[cəfəng] 1\n",
       "\\item[yazıları] 1\n",
       "\\item[təşkil] 1\n",
       "\\item[mərmər] 1\n",
       "\\item[quruluşunda] 1\n",
       "\\item[yaxın] 1\n",
       "\\item[daşdan] 1\n",
       "\\item[daşlar] 1\n",
       "\\item[firuzə] 1\n",
       "\\item[tibetdən] 1\n",
       "\\item[nefrit] 1\n",
       "\\item[çindən] 1\n",
       "\\item[binanın] 1\n",
       "\\item[materialı] 1\n",
       "\\item[racastandan] 1\n",
       "\\item[gətirilib] 1\n",
       "\\item[təəssüf] 1\n",
       "\\item[üsyanı] 1\n",
       "\\item[ingilislər] 1\n",
       "\\item[yerindən] 1\n",
       "\\item[çıxarıldıcu] 1\n",
       "\\item[əsrin] 1\n",
       "\\item[sonlarında] 1\n",
       "\\item[hindistanın] 1\n",
       "\\item[keçmiş] 1\n",
       "\\item[qubernatoru] 1\n",
       "\\item[lord] 1\n",
       "\\item[kerzon] 1\n",
       "\\item[məqbərənin] 1\n",
       "\\item[bərpasına] 1\n",
       "\\item[təşəbbüs] 1\n",
       "\\item[göstərdi] 1\n",
       "\\item[bərpa] 1\n",
       "\\item[çatdıeşqdən] 1\n",
       "\\item[ilhamlanarak] 1\n",
       "\\item[tikilən] 1\n",
       "\\item[bənərsiz] 1\n",
       "\\item[sevgi] 1\n",
       "\\item[abidəsi] 1\n",
       "\\item[gün] 1\n",
       "\\item[aşiqlərin] 1\n",
       "\\item[etdiyi] 1\n",
       "\\item[yerlərdən] 1\n",
       "\\end{description*}\n"
      ],
      "text/markdown": [
       "dünyanın\n",
       ":   1möcüzəsindən\n",
       ":   1olantac\n",
       ":   1mahalhindistanın\n",
       ":   1şimalında\n",
       ":   1aqra\n",
       ":   1şəhərində\n",
       ":   1yerləşir\n",
       ":   1hindistan\n",
       ":   1deyildikdə\n",
       ":   1insanın\n",
       ":   1ağlına\n",
       ":   1gələn\n",
       ":   1simvolik\n",
       ":   1tikilidir\n",
       ":   1tac\n",
       ":   1sarayı\n",
       ":   1mənasını\n",
       ":   1verən\n",
       ":   1abidə\n",
       ":   1metr\n",
       ":   1hündürlüyü\n",
       ":   1dünya\n",
       ":   1memarlığının\n",
       ":   1görkəmli\n",
       ":   1nümunələrindən\n",
       ":   1hesab\n",
       ":   1olunur\n",
       ":   1ziyarət\n",
       ":   1edilən\n",
       ":   1tarixi\n",
       ":   1binalarından\n",
       ":   1mahal\n",
       ":   1eşqin\n",
       ":   1əzəmətin\n",
       ":   1simvoludurdünyada\n",
       ":   1insanlar\n",
       ":   1ikiyə\n",
       ":   1bölünür\n",
       ":   1mahalı\n",
       ":   1görənlər\n",
       ":   1görməyənləredvard\n",
       ":   1lir\n",
       ":   1ingilis\n",
       ":   1lordu\n",
       ":   1doğrudan\n",
       ":   1gözəl\n",
       ":   1poetik\n",
       ":   1binadır\n",
       ":   1görənləri\n",
       ":   1bənzərsizliyi\n",
       ":   1heyran\n",
       ":   1ildən\n",
       ":   1hindistanda\n",
       ":   1müsəlman\n",
       ":   1incəsənətinin\n",
       ":   1incisi\n",
       ":   1irsinin\n",
       ":   1universal\n",
       ":   1şah\n",
       ":   1əsərlərindən\n",
       ":   1yuneskonun\n",
       ":   1ümumdünya\n",
       ":   1mədəni\n",
       ":   1irs\n",
       ":   1siyahısındadırtac\n",
       ":   1mahalın\n",
       ":   1hekayəsicü\n",
       ":   1illər\n",
       ":   1uttar\n",
       ":   1pradeş\n",
       ":   1bölgəsində\n",
       ":   1inşa\n",
       ":   1edilib\n",
       ":   1böyük\n",
       ":   1moğol\n",
       ":   1imperiyasının\n",
       ":   1hökmdarı\n",
       ":   1cahanın\n",
       ":   1həyat\n",
       ":   1yoldaşı\n",
       ":   1mümtaz\n",
       ":   1xatirəsini\n",
       ":   1yaşatmaq\n",
       ":   1etdirdiyi\n",
       ":   1əsər\n",
       ":   1dünyada\n",
       ":   1sevgini\n",
       ":   1simvolizə\n",
       ":   1mühüm\n",
       ":   1tikililərdən\n",
       ":   1biridir\n",
       ":   1övladının\n",
       ":   1anası\n",
       ":   1sonuncu\n",
       ":   1doğulması\n",
       ":   1zamanı\n",
       ":   1dünyasını\n",
       ":   1dəyişib\n",
       ":   1adı\n",
       ":   1ərcümənd\n",
       ":   1banu\n",
       ":   1begüm\n",
       ":   1mənası\n",
       ":   1sarayınn\n",
       ":   1seçilmiş\n",
       ":   1deməkdirci\n",
       ":   1üzrə\n",
       ":   1milyon\n",
       ":   1səslə\n",
       ":   1yeddi\n",
       ":   1seçilən\n",
       ":   1memarları\n",
       ":   1memar\n",
       ":   1sinanın\n",
       ":   1tələbələri\n",
       ":   1mehmet\n",
       ":   1isa\n",
       ":   1əfəndi\n",
       ":   1ismail\n",
       ":   1əfəndidir\n",
       ":   1ağ\n",
       ":   1mərmərdən\n",
       ":   1hazırlanmış\n",
       ":   1dörd\n",
       ":   1minarəsi\n",
       ":   1zümrüd\n",
       ":   1yaqut\n",
       ":   1mirvari\n",
       ":   1almaz\n",
       ":   1qiymətli\n",
       ":   1daşlarla\n",
       ":   1bəzədilibikonik\n",
       ":   1soğan\n",
       ":   1formalı\n",
       ":   1günbəz\n",
       ":   1osmanlı\n",
       ":   1imperiyasından\n",
       ":   1gələnismayıl\n",
       ":   1hazırlanmışdırtac\n",
       ":   1tikintisində\n",
       ":   1ümumilikdə\n",
       ":   1min\n",
       ":   1insan\n",
       ":   1mindən\n",
       ":   1fil\n",
       ":   1çalışıb\n",
       ":   1tikinti\n",
       ":   1dövr\n",
       ":   1milyard\n",
       ":   1dollara\n",
       ":   1bərabər\n",
       ":   1rupisinə\n",
       ":   1başa\n",
       ":   1gəlibtac\n",
       ":   1geniş\n",
       ":   1məlumat\n",
       ":   1tikintisi\n",
       ":   1davam\n",
       ":   1bağ\n",
       ":   1məscid\n",
       ":   1hovuz\n",
       ":   1məqbərədən\n",
       ":   1ibarətdir\n",
       ":   1tərəfinin\n",
       ":   1birbirini\n",
       ":   1mükəmməl\n",
       ":   1şəkildə\n",
       ":   1tamamladığı\n",
       ":   1bina\n",
       ":   1güzgüdəki\n",
       ":   1görüntü\n",
       ":   1əks\n",
       ":   1etdirən\n",
       ":   1simmetrik\n",
       ":   1xüsusiyyətə\n",
       ":   1malikdir\n",
       ":   1bağı\n",
       ":   1tikililəri\n",
       ":   1birlikdə\n",
       ":   1hektar\n",
       ":   1ərazini\n",
       ":   1əhatə\n",
       ":   1edirtac\n",
       ":   1gözəlliyi\n",
       ":   1göz\n",
       ":   1oxşayır\n",
       ":   1peyzaj\n",
       ":   1işləri\n",
       ":   1hərtərəfli\n",
       ":   1düşünülmüş\n",
       ":   1bütövlükdə\n",
       ":   1dizayn\n",
       ":   1edilmişdir\n",
       ":   1d\n",
       ":   1effekti\n",
       ":   1verir\n",
       ":   1memarlığında\n",
       ":   1iditac\n",
       ":   1dizaynı\n",
       ":   1günün\n",
       ":   1müxtəlif\n",
       ":   1vaxtlarında\n",
       ":   1rəngləri\n",
       ":   1etdirir\n",
       ":   1mərmərlər\n",
       ":   1səhərlər\n",
       ":   1çəhrayı\n",
       ":   1gündüzlər\n",
       ":   1gecələr\n",
       ":   1qızılı\n",
       ":   1rəngə\n",
       ":   1boyanırcü\n",
       ":   1siyahısınadaxil\n",
       ":   1ziyarətçiyə\n",
       ":   1ev\n",
       ":   1sahibliyi\n",
       ":   1edirşah\n",
       ":   1məqbərəsinin\n",
       ":   1yerləşdiyi\n",
       ":   1bölmədə\n",
       ":   1tərifləyən\n",
       ":   1yazılar\n",
       ":   1deyilmiş\n",
       ":   1xoş\n",
       ":   1arzular\n",
       ":   1dövrün\n",
       ":   1əhəmiyyətli\n",
       ":   1xəttatlarının\n",
       ":   1imzası\n",
       ":   1yasin\n",
       ":   1surəsi\n",
       ":   1türbənin\n",
       ":   1diqqət\n",
       ":   1çəkən\n",
       ":   1hissəsidir\n",
       ":   1türbə\n",
       ":   1hissəsinin\n",
       ":   1interyerində\n",
       ":   1ənənəvi\n",
       ":   1dekorativ\n",
       ":   1elementlərdən\n",
       ":   1əri\n",
       ":   1sarkofaqları\n",
       ":   1dəfn\n",
       ":   1kamerasının\n",
       ":   1əsas\n",
       ":   1hissəsində\n",
       ":   1yuxarı\n",
       ":   1mərtəbədə\n",
       ":   1faktiki\n",
       ":   1sarkofaqlar\n",
       ":   1aşağı\n",
       ":   1yerləşirqəbir\n",
       ":   1otağının\n",
       ":   1cənub\n",
       ":   1girişindən\n",
       ":   1türbəyə\n",
       ":   1aparan\n",
       ":   1pilləkən\n",
       ":   1uclu\n",
       ":   1çəllək\n",
       ":   1olunub\n",
       ":   1ziyarətçilər\n",
       ":   1əlçatmaz\n",
       ":   1bölmənin\n",
       ":   1düzbucaqlı\n",
       ":   1tavanı\n",
       ":   1tamamilə\n",
       ":   1mərmərlə\n",
       ":   1örtülmüşdür\n",
       ":   1otağın\n",
       ":   1mərkəzində\n",
       ":   1yerləşən\n",
       ":   1oxşar\n",
       ":   1dizaynlı\n",
       ":   1iki\n",
       ":   1motivlərlə\n",
       ":   1bəzədilibşah\n",
       ":   1məzarının\n",
       ":   1qara\n",
       ":   1olmasını\n",
       ":   1istədiyi\n",
       ":   1barədə\n",
       ":   1iddialar\n",
       ":   1olsa\n",
       ":   1bununla\n",
       ":   1bağlı\n",
       ":   1sənəd\n",
       ":   1tapılmayıb\n",
       ":   1əfsanələrin\n",
       ":   1əsasını\n",
       ":   1avropalı\n",
       ":   1səyyah\n",
       ":   1janbatist\n",
       ":   1tavernyenin\n",
       ":   1cəfəng\n",
       ":   1yazıları\n",
       ":   1təşkil\n",
       ":   1mərmər\n",
       ":   1quruluşunda\n",
       ":   1yaxın\n",
       ":   1daşdan\n",
       ":   1daşlar\n",
       ":   1firuzə\n",
       ":   1tibetdən\n",
       ":   1nefrit\n",
       ":   1çindən\n",
       ":   1binanın\n",
       ":   1materialı\n",
       ":   1racastandan\n",
       ":   1gətirilib\n",
       ":   1təəssüf\n",
       ":   1üsyanı\n",
       ":   1ingilislər\n",
       ":   1yerindən\n",
       ":   1çıxarıldıcu\n",
       ":   1əsrin\n",
       ":   1sonlarında\n",
       ":   1hindistanın\n",
       ":   1keçmiş\n",
       ":   1qubernatoru\n",
       ":   1lord\n",
       ":   1kerzon\n",
       ":   1məqbərənin\n",
       ":   1bərpasına\n",
       ":   1təşəbbüs\n",
       ":   1göstərdi\n",
       ":   1bərpa\n",
       ":   1çatdıeşqdən\n",
       ":   1ilhamlanarak\n",
       ":   1tikilən\n",
       ":   1bənərsiz\n",
       ":   1sevgi\n",
       ":   1abidəsi\n",
       ":   1gün\n",
       ":   1aşiqlərin\n",
       ":   1etdiyi\n",
       ":   1yerlərdən\n",
       ":   1\n",
       "\n"
      ],
      "text/plain": [
       "         dünyanın      möcüzəsindən           olantac  mahalhindistanın \n",
       "                1                 1                 1                 1 \n",
       "        şimalında              aqra         şəhərində          yerləşir \n",
       "                1                 1                 1                 1 \n",
       "        hindistan        deyildikdə           insanın            ağlına \n",
       "                1                 1                 1                 1 \n",
       "            gələn          simvolik         tikilidir               tac \n",
       "                1                 1                 1                 1 \n",
       "           sarayı          mənasını             verən             abidə \n",
       "                1                 1                 1                 1 \n",
       "             metr        hündürlüyü             dünya      memarlığının \n",
       "                1                 1                 1                 1 \n",
       "         görkəmli    nümunələrindən             hesab            olunur \n",
       "                1                 1                 1                 1 \n",
       "          ziyarət            edilən            tarixi      binalarından \n",
       "                1                 1                 1                 1 \n",
       "            mahal             eşqin          əzəmətin simvoludurdünyada \n",
       "                1                 1                 1                 1 \n",
       "         insanlar             ikiyə           bölünür            mahalı \n",
       "                1                 1                 1                 1 \n",
       "         görənlər görməyənləredvard               lir           ingilis \n",
       "                1                 1                 1                 1 \n",
       "            lordu          doğrudan             gözəl            poetik \n",
       "                1                 1                 1                 1 \n",
       "          binadır         görənləri     bənzərsizliyi            heyran \n",
       "                1                 1                 1                 1 \n",
       "            ildən       hindistanda          müsəlman     incəsənətinin \n",
       "                1                 1                 1                 1 \n",
       "           incisi           irsinin         universal               şah \n",
       "                1                 1                 1                 1 \n",
       "     əsərlərindən        yuneskonun         ümumdünya            mədəni \n",
       "                1                 1                 1                 1 \n",
       "              irs siyahısındadırtac           mahalın        hekayəsicü \n",
       "                1                 1                 1                 1 \n",
       "            illər             uttar            pradeş        bölgəsində \n",
       "                1                 1                 1                 1 \n",
       "             inşa            edilib             böyük             moğol \n",
       "                1                 1                 1                 1 \n",
       "    imperiyasının          hökmdarı           cahanın             həyat \n",
       "                1                 1                 1                 1 \n",
       "          yoldaşı            mümtaz        xatirəsini          yaşatmaq \n",
       "                1                 1                 1                 1 \n",
       "        etdirdiyi              əsər           dünyada           sevgini \n",
       "                1                 1                 1                 1 \n",
       "        simvolizə             mühüm      tikililərdən           biridir \n",
       "                1                 1                 1                 1 \n",
       "        övladının             anası           sonuncu         doğulması \n",
       "                1                 1                 1                 1 \n",
       "           zamanı         dünyasını           dəyişib               adı \n",
       "                1                 1                 1                 1 \n",
       "         ərcümənd              banu             begüm            mənası \n",
       "                1                 1                 1                 1 \n",
       "         sarayınn          seçilmiş        deməkdirci              üzrə \n",
       "                1                 1                 1                 1 \n",
       "           milyon             səslə             yeddi           seçilən \n",
       "                1                 1                 1                 1 \n",
       "        memarları             memar           sinanın        tələbələri \n",
       "                1                 1                 1                 1 \n",
       "           mehmet               isa            əfəndi            ismail \n",
       "                1                 1                 1                 1 \n",
       "        əfəndidir                ağ         mərmərdən       hazırlanmış \n",
       "                1                 1                 1                 1 \n",
       "             dörd          minarəsi            zümrüd             yaqut \n",
       "                1                 1                 1                 1 \n",
       "          mirvari             almaz          qiymətli          daşlarla \n",
       "                1                 1                 1                 1 \n",
       "  bəzədilibikonik             soğan           formalı            günbəz \n",
       "                1                 1                 1                 1 \n",
       "          osmanlı    imperiyasından      gələnismayıl hazırlanmışdırtac \n",
       "                1                 1                 1                 1 \n",
       "     tikintisində        ümumilikdə               min             insan \n",
       "                1                 1                 1                 1 \n",
       "           mindən               fil           çalışıb           tikinti \n",
       "                1                 1                 1                 1 \n",
       "             dövr           milyard           dollara           bərabər \n",
       "                1                 1                 1                 1 \n",
       "         rupisinə              başa          gəlibtac             geniş \n",
       "                1                 1                 1                 1 \n",
       "          məlumat         tikintisi             davam               bağ \n",
       "                1                 1                 1                 1 \n",
       "           məscid             hovuz        məqbərədən         ibarətdir \n",
       "                1                 1                 1                 1 \n",
       "        tərəfinin         birbirini          mükəmməl           şəkildə \n",
       "                1                 1                 1                 1 \n",
       "      tamamladığı              bina         güzgüdəki           görüntü \n",
       "                1                 1                 1                 1 \n",
       "              əks           etdirən         simmetrik       xüsusiyyətə \n",
       "                1                 1                 1                 1 \n",
       "         malikdir              bağı        tikililəri          birlikdə \n",
       "                1                 1                 1                 1 \n",
       "           hektar           ərazini             əhatə           edirtac \n",
       "                1                 1                 1                 1 \n",
       "        gözəlliyi               göz           oxşayır            peyzaj \n",
       "                1                 1                 1                 1 \n",
       "           işləri        hərtərəfli        düşünülmüş        bütövlükdə \n",
       "                1                 1                 1                 1 \n",
       "           dizayn        edilmişdir                 d           effekti \n",
       "                1                 1                 1                 1 \n",
       "            verir      memarlığında            iditac           dizaynı \n",
       "                1                 1                 1                 1 \n",
       "            günün          müxtəlif       vaxtlarında          rəngləri \n",
       "                1                 1                 1                 1 \n",
       "          etdirir         mərmərlər          səhərlər           çəhrayı \n",
       "                1                 1                 1                 1 \n",
       "        gündüzlər           gecələr            qızılı             rəngə \n",
       "                1                 1                 1                 1 \n",
       "        boyanırcü   siyahısınadaxil       ziyarətçiyə                ev \n",
       "                1                 1                 1                 1 \n",
       "        sahibliyi           edirşah      məqbərəsinin        yerləşdiyi \n",
       "                1                 1                 1                 1 \n",
       "          bölmədə        tərifləyən           yazılar          deyilmiş \n",
       "                1                 1                 1                 1 \n",
       "              xoş           arzular            dövrün       əhəmiyyətli \n",
       "                1                 1                 1                 1 \n",
       "    xəttatlarının            imzası             yasin            surəsi \n",
       "                1                 1                 1                 1 \n",
       "         türbənin            diqqət             çəkən        hissəsidir \n",
       "                1                 1                 1                 1 \n",
       "            türbə        hissəsinin      interyerində           ənənəvi \n",
       "                1                 1                 1                 1 \n",
       "        dekorativ     elementlərdən               əri      sarkofaqları \n",
       "                1                 1                 1                 1 \n",
       "             dəfn       kamerasının              əsas        hissəsində \n",
       "                1                 1                 1                 1 \n",
       "           yuxarı         mərtəbədə           faktiki       sarkofaqlar \n",
       "                1                 1                 1                 1 \n",
       "            aşağı     yerləşirqəbir          otağının             cənub \n",
       "                1                 1                 1                 1 \n",
       "       girişindən           türbəyə            aparan          pilləkən \n",
       "                1                 1                 1                 1 \n",
       "             uclu            çəllək            olunub      ziyarətçilər \n",
       "                1                 1                 1                 1 \n",
       "         əlçatmaz          bölmənin        düzbucaqlı            tavanı \n",
       "                1                 1                 1                 1 \n",
       "         tamamilə          mərmərlə       örtülmüşdür            otağın \n",
       "                1                 1                 1                 1 \n",
       "       mərkəzində          yerləşən             oxşar          dizaynlı \n",
       "                1                 1                 1                 1 \n",
       "              iki        motivlərlə      bəzədilibşah         məzarının \n",
       "                1                 1                 1                 1 \n",
       "             qara          olmasını          istədiyi            barədə \n",
       "                1                 1                 1                 1 \n",
       "         iddialar              olsa           bununla             bağlı \n",
       "                1                 1                 1                 1 \n",
       "            sənəd        tapılmayıb       əfsanələrin           əsasını \n",
       "                1                 1                 1                 1 \n",
       "         avropalı            səyyah         janbatist       tavernyenin \n",
       "                1                 1                 1                 1 \n",
       "           cəfəng          yazıları            təşkil            mərmər \n",
       "                1                 1                 1                 1 \n",
       "      quruluşunda             yaxın            daşdan            daşlar \n",
       "                1                 1                 1                 1 \n",
       "           firuzə          tibetdən            nefrit            çindən \n",
       "                1                 1                 1                 1 \n",
       "          binanın         materialı       racastandan         gətirilib \n",
       "                1                 1                 1                 1 \n",
       "          təəssüf            üsyanı        ingilislər          yerindən \n",
       "                1                 1                 1                 1 \n",
       "      çıxarıldıcu             əsrin        sonlarında       hindistanın \n",
       "                1                 1                 1                 1 \n",
       "           keçmiş       qubernatoru              lord            kerzon \n",
       "                1                 1                 1                 1 \n",
       "       məqbərənin         bərpasına          təşəbbüs          göstərdi \n",
       "                1                 1                 1                 1 \n",
       "            bərpa       çatdıeşqdən      ilhamlanarak           tikilən \n",
       "                1                 1                 1                 1 \n",
       "         bənərsiz             sevgi           abidəsi               gün \n",
       "                1                 1                 1                 1 \n",
       "        aşiqlərin            etdiyi         yerlərdən \n",
       "                1                 1                 1 "
      ]
     },
     "metadata": {},
     "output_type": "display_data"
    }
   ],
   "source": [
    "corpusDocFreq"
   ]
  },
  {
   "cell_type": "markdown",
   "id": "83c90285",
   "metadata": {
    "papermill": {
     "duration": 0.041234,
     "end_time": "2024-05-05T20:17:28.016189",
     "exception": false,
     "start_time": "2024-05-05T20:17:27.974955",
     "status": "completed"
    },
    "tags": []
   },
   "source": [
    "**Since we have remove numbers and stopwords and the sparsity is high, almost all words have occured only once in the document 5.**"
   ]
  },
  {
   "cell_type": "markdown",
   "id": "52eb6f8d",
   "metadata": {
    "papermill": {
     "duration": 0.041095,
     "end_time": "2024-05-05T20:17:28.098411",
     "exception": false,
     "start_time": "2024-05-05T20:17:28.057316",
     "status": "completed"
    },
    "tags": []
   },
   "source": [
    "Let's assign some weights:"
   ]
  },
  {
   "cell_type": "code",
   "execution_count": 43,
   "id": "7df9e040",
   "metadata": {
    "execution": {
     "iopub.execute_input": "2024-05-05T20:17:28.185791Z",
     "iopub.status.busy": "2024-05-05T20:17:28.183956Z",
     "iopub.status.idle": "2024-05-05T20:17:28.231805Z",
     "shell.execute_reply": "2024-05-05T20:17:28.229150Z"
    },
    "papermill": {
     "duration": 0.09542,
     "end_time": "2024-05-05T20:17:28.234856",
     "exception": false,
     "start_time": "2024-05-05T20:17:28.139436",
     "status": "completed"
    },
    "tags": []
   },
   "outputs": [
    {
     "name": "stdout",
     "output_type": "stream",
     "text": [
      "Formal class 'dfm' [package \"quanteda\"] with 8 slots\n",
      "  ..@ docvars :'data.frame':\t1 obs. of  3 variables:\n",
      "  .. ..$ docname_: chr \"text1\"\n",
      "  .. ..$ docid_  : Factor w/ 1 level \"text1\": 1\n",
      "  .. ..$ segid_  : int 1\n",
      "  ..@ meta    :List of 3\n",
      "  .. ..$ system:List of 5\n",
      "  .. .. ..$ package-version:Classes 'package_version', 'numeric_version'  hidden list of 1\n",
      "  .. .. .. ..$ : int [1:3] 3 3 1\n",
      "  .. .. ..$ r-version      :Classes 'R_system_version', 'package_version', 'numeric_version'  hidden list of 1\n",
      "  .. .. .. ..$ : int [1:3] 4 0 5\n",
      "  .. .. ..$ system         : Named chr [1:3] \"Linux\" \"x86_64\" \"root\"\n",
      "  .. .. .. ..- attr(*, \"names\")= chr [1:3] \"sysname\" \"machine\" \"user\"\n",
      "  .. .. ..$ directory      : chr \"/kaggle/working\"\n",
      "  .. .. ..$ created        : Date[1:1], format: \"2024-05-05\"\n",
      "  .. ..$ object:List of 9\n",
      "  .. .. ..$ unit        : chr \"documents\"\n",
      "  .. .. ..$ what        : chr \"word\"\n",
      "  .. .. ..$ ngram       : int 1\n",
      "  .. .. ..$ skip        : int 0\n",
      "  .. .. ..$ concatenator: chr \"_\"\n",
      "  .. .. ..$ weight_tf   :List of 3\n",
      "  .. .. .. ..$ scheme: chr \"count\"\n",
      "  .. .. .. ..$ base  : NULL\n",
      "  .. .. .. ..$ k     : NULL\n",
      "  .. .. ..$ weight_df   :List of 5\n",
      "  .. .. .. ..$ scheme   : chr \"unary\"\n",
      "  .. .. .. ..$ base     : NULL\n",
      "  .. .. .. ..$ c        : NULL\n",
      "  .. .. .. ..$ smoothing: NULL\n",
      "  .. .. .. ..$ threshold: NULL\n",
      "  .. .. ..$ smooth      : num 0\n",
      "  .. .. ..$ summary     :List of 2\n",
      "  .. .. .. ..$ hash: chr(0) \n",
      "  .. .. .. ..$ data: NULL\n",
      "  .. ..$ user  : list()\n",
      "  ..@ i       : int [1:339] 0 0 0 0 0 0 0 0 0 0 ...\n",
      "  ..@ p       : int [1:340] 0 1 2 3 4 5 6 7 8 9 ...\n",
      "  ..@ Dim     : int [1:2] 1 339\n",
      "  ..@ Dimnames:List of 2\n",
      "  .. ..$ docs    : chr \"text1\"\n",
      "  .. ..$ features: chr [1:339] \"dünyanın\" \"möcüzəsindən\" \"olantac\" \"mahalhindistanın\" ...\n",
      "  ..@ x       : num [1:339] 3 2 1 1 1 1 1 1 3 1 ...\n",
      "  ..@ factors : list()\n"
     ]
    }
   ],
   "source": [
    "corpusWeights <- quanteda::dfm_weight(corpusDFM)\n",
    "str(corpusWeights)"
   ]
  },
  {
   "cell_type": "markdown",
   "id": "9c219f1b",
   "metadata": {
    "papermill": {
     "duration": 0.041387,
     "end_time": "2024-05-05T20:17:28.317243",
     "exception": false,
     "start_time": "2024-05-05T20:17:28.275856",
     "status": "completed"
    },
    "tags": []
   },
   "source": [
    "Weights have been assigned, let's check it:"
   ]
  },
  {
   "cell_type": "markdown",
   "id": "7e296ef5",
   "metadata": {
    "papermill": {
     "duration": 0.042008,
     "end_time": "2024-05-05T20:17:28.400697",
     "exception": false,
     "start_time": "2024-05-05T20:17:28.358689",
     "status": "completed"
    },
    "tags": []
   },
   "source": [
    "Let's estimate TF-IDF score:"
   ]
  },
  {
   "cell_type": "code",
   "execution_count": 44,
   "id": "5beb96a0",
   "metadata": {
    "execution": {
     "iopub.execute_input": "2024-05-05T20:17:28.487775Z",
     "iopub.status.busy": "2024-05-05T20:17:28.486135Z",
     "iopub.status.idle": "2024-05-05T20:17:28.557105Z",
     "shell.execute_reply": "2024-05-05T20:17:28.554510Z"
    },
    "papermill": {
     "duration": 0.117568,
     "end_time": "2024-05-05T20:17:28.560127",
     "exception": false,
     "start_time": "2024-05-05T20:17:28.442559",
     "status": "completed"
    },
    "tags": []
   },
   "outputs": [
    {
     "name": "stdout",
     "output_type": "stream",
     "text": [
      "Formal class 'dfm' [package \"quanteda\"] with 8 slots\n",
      "  ..@ docvars :'data.frame':\t1 obs. of  3 variables:\n",
      "  .. ..$ docname_: chr \"text1\"\n",
      "  .. ..$ docid_  : Factor w/ 1 level \"text1\": 1\n",
      "  .. ..$ segid_  : int 1\n",
      "  ..@ meta    :List of 3\n",
      "  .. ..$ system:List of 5\n",
      "  .. .. ..$ package-version:Classes 'package_version', 'numeric_version'  hidden list of 1\n",
      "  .. .. .. ..$ : int [1:3] 3 3 1\n",
      "  .. .. ..$ r-version      :Classes 'R_system_version', 'package_version', 'numeric_version'  hidden list of 1\n",
      "  .. .. .. ..$ : int [1:3] 4 0 5\n",
      "  .. .. ..$ system         : Named chr [1:3] \"Linux\" \"x86_64\" \"root\"\n",
      "  .. .. .. ..- attr(*, \"names\")= chr [1:3] \"sysname\" \"machine\" \"user\"\n",
      "  .. .. ..$ directory      : chr \"/kaggle/working\"\n",
      "  .. .. ..$ created        : Date[1:1], format: \"2024-05-05\"\n",
      "  .. ..$ object:List of 9\n",
      "  .. .. ..$ unit        : chr \"documents\"\n",
      "  .. .. ..$ what        : chr \"word\"\n",
      "  .. .. ..$ ngram       : int 1\n",
      "  .. .. ..$ skip        : int 0\n",
      "  .. .. ..$ concatenator: chr \"_\"\n",
      "  .. .. ..$ weight_tf   :List of 3\n",
      "  .. .. .. ..$ scheme: chr \"count\"\n",
      "  .. .. .. ..$ base  : NULL\n",
      "  .. .. .. ..$ k     : NULL\n",
      "  .. .. ..$ weight_df   :List of 2\n",
      "  .. .. .. ..$ scheme: chr \"inverse\"\n",
      "  .. .. .. ..$ base  : num 10\n",
      "  .. .. ..$ smooth      : num 0\n",
      "  .. .. ..$ summary     :List of 2\n",
      "  .. .. .. ..$ hash: chr(0) \n",
      "  .. .. .. ..$ data: NULL\n",
      "  .. ..$ user  : list()\n",
      "  ..@ i       : int [1:339] 0 0 0 0 0 0 0 0 0 0 ...\n",
      "  ..@ p       : int [1:340] 0 1 2 3 4 5 6 7 8 9 ...\n",
      "  ..@ Dim     : int [1:2] 1 339\n",
      "  ..@ Dimnames:List of 2\n",
      "  .. ..$ docs    : chr \"text1\"\n",
      "  .. ..$ features: chr [1:339] \"dünyanın\" \"möcüzəsindən\" \"olantac\" \"mahalhindistanın\" ...\n",
      "  ..@ x       : Named num [1:339] 0 0 0 0 0 0 0 0 0 0 ...\n",
      "  .. ..- attr(*, \"names\")= chr [1:339] \"dünyanın\" \"möcüzəsindən\" \"olantac\" \"mahalhindistanın\" ...\n",
      "  ..@ factors : list()\n"
     ]
    }
   ],
   "source": [
    "corpustfidf <- quanteda::dfm_tfidf(corpusDFM, scheme_tf=\"count\", scheme_df=\"inverse\")\n",
    "str(corpustfidf)"
   ]
  },
  {
   "cell_type": "code",
   "execution_count": 45,
   "id": "3e816b52",
   "metadata": {
    "execution": {
     "iopub.execute_input": "2024-05-05T20:17:28.647485Z",
     "iopub.status.busy": "2024-05-05T20:17:28.645876Z",
     "iopub.status.idle": "2024-05-05T20:17:28.695558Z",
     "shell.execute_reply": "2024-05-05T20:17:28.693384Z"
    },
    "papermill": {
     "duration": 0.096595,
     "end_time": "2024-05-05T20:17:28.698612",
     "exception": false,
     "start_time": "2024-05-05T20:17:28.602017",
     "status": "completed"
    },
    "tags": []
   },
   "outputs": [
    {
     "data": {
      "text/plain": [
       "Document-feature matrix of: 1 document, 339 features (0.00% sparse) and 0 docvars.\n",
       "       features\n",
       "docs    dünyanın möcüzəsindən olantac mahalhindistanın şimalında aqra şəhərində\n",
       "  text1        0            0       0                0         0    0         0\n",
       "       features\n",
       "docs    yerləşir hindistan deyildikdə\n",
       "  text1        0         0          0\n",
       "[ reached max_nfeat ... 329 more features ]"
      ]
     },
     "metadata": {},
     "output_type": "display_data"
    }
   ],
   "source": [
    "corpustfidf"
   ]
  },
  {
   "cell_type": "code",
   "execution_count": 46,
   "id": "3d2ef53d",
   "metadata": {
    "execution": {
     "iopub.execute_input": "2024-05-05T20:17:28.786674Z",
     "iopub.status.busy": "2024-05-05T20:17:28.784998Z",
     "iopub.status.idle": "2024-05-05T20:17:28.828500Z",
     "shell.execute_reply": "2024-05-05T20:17:28.826282Z"
    },
    "papermill": {
     "duration": 0.090917,
     "end_time": "2024-05-05T20:17:28.831491",
     "exception": false,
     "start_time": "2024-05-05T20:17:28.740574",
     "status": "completed"
    },
    "tags": []
   },
   "outputs": [
    {
     "data": {
      "text/plain": [
       "Document-feature matrix of: 1 document, 339 features (0.00% sparse) and 0 docvars.\n",
       "       features\n",
       "docs    dünyanın möcüzəsindən olantac mahalhindistanın şimalında aqra şəhərində\n",
       "  text1        3            2       1                1         1    1         1\n",
       "       features\n",
       "docs    yerləşir hindistan deyildikdə\n",
       "  text1        1         3          1\n",
       "[ reached max_nfeat ... 329 more features ]"
      ]
     },
     "metadata": {},
     "output_type": "display_data"
    }
   ],
   "source": [
    "corpusWeights"
   ]
  },
  {
   "cell_type": "code",
   "execution_count": 47,
   "id": "385aed2d",
   "metadata": {
    "execution": {
     "iopub.execute_input": "2024-05-05T20:17:28.919385Z",
     "iopub.status.busy": "2024-05-05T20:17:28.917752Z",
     "iopub.status.idle": "2024-05-05T20:17:29.488437Z",
     "shell.execute_reply": "2024-05-05T20:17:29.486231Z"
    },
    "papermill": {
     "duration": 0.617379,
     "end_time": "2024-05-05T20:17:29.490967",
     "exception": false,
     "start_time": "2024-05-05T20:17:28.873588",
     "status": "completed"
    },
    "tags": []
   },
   "outputs": [
    {
     "name": "stdout",
     "output_type": "stream",
     "text": [
      "Formal class 'dfm' [package \"quanteda\"] with 8 slots\n",
      "  ..@ docvars :'data.frame':\t50 obs. of  3 variables:\n",
      "  .. ..$ docname_: chr [1:50] \"text1\" \"text2\" \"text3\" \"text4\" ...\n",
      "  .. ..$ docid_  : Factor w/ 50 levels \"text1\",\"text2\",..: 1 2 3 4 5 6 7 8 9 10 ...\n",
      "  .. ..$ segid_  : int [1:50] 1 1 1 1 1 1 1 1 1 1 ...\n",
      "  ..@ meta    :List of 3\n",
      "  .. ..$ system:List of 5\n",
      "  .. .. ..$ package-version:Classes 'package_version', 'numeric_version'  hidden list of 1\n",
      "  .. .. .. ..$ : int [1:3] 3 3 1\n",
      "  .. .. ..$ r-version      :Classes 'R_system_version', 'package_version', 'numeric_version'  hidden list of 1\n",
      "  .. .. .. ..$ : int [1:3] 4 0 5\n",
      "  .. .. ..$ system         : Named chr [1:3] \"Linux\" \"x86_64\" \"root\"\n",
      "  .. .. .. ..- attr(*, \"names\")= chr [1:3] \"sysname\" \"machine\" \"user\"\n",
      "  .. .. ..$ directory      : chr \"/kaggle/working\"\n",
      "  .. .. ..$ created        : Date[1:1], format: \"2024-05-05\"\n",
      "  .. ..$ object:List of 9\n",
      "  .. .. ..$ unit        : chr \"documents\"\n",
      "  .. .. ..$ what        : chr \"word\"\n",
      "  .. .. ..$ ngram       : int 1\n",
      "  .. .. ..$ skip        : int 0\n",
      "  .. .. ..$ concatenator: chr \"_\"\n",
      "  .. .. ..$ weight_tf   :List of 3\n",
      "  .. .. .. ..$ scheme: chr \"count\"\n",
      "  .. .. .. ..$ base  : NULL\n",
      "  .. .. .. ..$ k     : NULL\n",
      "  .. .. ..$ weight_df   :List of 2\n",
      "  .. .. .. ..$ scheme: chr \"inverse\"\n",
      "  .. .. .. ..$ base  : num 10\n",
      "  .. .. ..$ smooth      : num 0\n",
      "  .. .. ..$ summary     :List of 2\n",
      "  .. .. .. ..$ hash: chr(0) \n",
      "  .. .. .. ..$ data: NULL\n",
      "  .. ..$ user  : list()\n",
      "  ..@ i       : int [1:10425] 0 1 2 3 4 5 6 7 8 9 ...\n",
      "  ..@ p       : int [1:1519] 0 50 100 150 200 250 300 306 317 319 ...\n",
      "  ..@ Dim     : int [1:2] 50 1518\n",
      "  ..@ Dimnames:List of 2\n",
      "  .. ..$ docs    : chr [1:50] \"text1\" \"text2\" \"text3\" \"text4\" ...\n",
      "  .. ..$ features: chr [1:1518] \"list\" \"(\" \"content\" \"=\" ...\n",
      "  ..@ x       : Named num [1:10425] 0 0 0 0 0 0 0 0 0 0 ...\n",
      "  .. ..- attr(*, \"names\")= chr [1:10425] \"list\" \"list\" \"list\" \"list\" ...\n",
      "  ..@ factors : list()\n"
     ]
    }
   ],
   "source": [
    "# Convert to character vector if not already\n",
    "text_content <- as.character(stopcorpus$content)\n",
    "\n",
    "# Remove newlines and multiple spaces\n",
    "preprocessed_text <- gsub(\"\\n\", \" \", text_content)\n",
    "preprocessed_text <- gsub(\"[ ]{2,}\", \" \", preprocessed_text)\n",
    "\n",
    "\n",
    "wholecorpustokens <- quanteda::tokens(preprocessed_text)\n",
    "\n",
    "# Create a document frequency matrix (DFM)\n",
    "wholecorpusDFM <- quanteda::dfm(wholecorpustokens)\n",
    "\n",
    "# Check if the DFM is correctly created\n",
    "if (!is.matrix(wholecorpusDFM) && !inherits(wholecorpusDFM, \"dfm\")) {\n",
    "  stop(\"DFM creation failed, please check the input data.\")\n",
    "}\n",
    "\n",
    "# Calculate the total count of each term across all documents\n",
    "term_totals <- Matrix::colSums(as.matrix(wholecorpusDFM))\n",
    "\n",
    "# Filter terms that have a total count of more than 5\n",
    "wholecorpusDFM_trimmed <- wholecorpusDFM[, term_totals > 5]\n",
    "\n",
    "# Calculate TF-IDF on the trimmed DFM\n",
    "wholecorpustfidf <- quanteda::dfm_tfidf(wholecorpusDFM_trimmed, scheme_tf = \"count\", scheme_df = \"inverse\")\n",
    "\n",
    "# Examine the structure of the trimmed DFM\n",
    "str(wholecorpustfidf)"
   ]
  },
  {
   "cell_type": "markdown",
   "id": "afca15dc",
   "metadata": {
    "papermill": {
     "duration": 0.043669,
     "end_time": "2024-05-05T20:17:29.576931",
     "exception": false,
     "start_time": "2024-05-05T20:17:29.533262",
     "status": "completed"
    },
    "tags": []
   },
   "source": [
    "**Great! We have created the TF IDF for our text corpus. Initially, tokenization were not able not define and split the words. This tokenization problem created a huge bottleneck since all of the documents were considered as one word and 0 features were able to be extracted. Fixing of tokenization enabled us to create the tf idf successfully:**"
   ]
  },
  {
   "cell_type": "code",
   "execution_count": 48,
   "id": "c16e3116",
   "metadata": {
    "execution": {
     "iopub.execute_input": "2024-05-05T20:17:29.666778Z",
     "iopub.status.busy": "2024-05-05T20:17:29.664983Z",
     "iopub.status.idle": "2024-05-05T20:17:29.696942Z",
     "shell.execute_reply": "2024-05-05T20:17:29.694973Z"
    },
    "papermill": {
     "duration": 0.0795,
     "end_time": "2024-05-05T20:17:29.699257",
     "exception": false,
     "start_time": "2024-05-05T20:17:29.619757",
     "status": "completed"
    },
    "tags": []
   },
   "outputs": [
    {
     "data": {
      "text/plain": [
       "Document-feature matrix of: 50 documents, 1,518 features (86.26% sparse) and 0 docvars.\n",
       "       features\n",
       "docs    list ( content = \" \\\\     addım    tanış proqramlaşdırma      əsas\n",
       "  text1    0 0       0 0 0  0 0.9208188 1.972732        15.37734 0.8028187\n",
       "  text2    0 0       0 0 0  0 0         0                0       0.2676062\n",
       "  text3    0 0       0 0 0  0 0         0                0       0.2676062\n",
       "  text4    0 0       0 0 0  0 0         0                0       0        \n",
       "  text5    0 0       0 0 0  0 0         0                0       0.5352125\n",
       "  text6    0 0       0 0 0  0 0.9208188 0                1.39794 0.2676062\n",
       "[ reached max_ndoc ... 44 more documents, reached max_nfeat ... 1,508 more features ]"
      ]
     },
     "metadata": {},
     "output_type": "display_data"
    }
   ],
   "source": [
    "wholecorpustfidf"
   ]
  },
  {
   "cell_type": "markdown",
   "id": "0add293e",
   "metadata": {
    "papermill": {
     "duration": 0.043668,
     "end_time": "2024-05-05T20:17:29.786597",
     "exception": false,
     "start_time": "2024-05-05T20:17:29.742929",
     "status": "completed"
    },
    "tags": []
   },
   "source": [
    "#### When it comes to the results, non-filtered data showed 97% sparsity where only couple of words had non-zero tfidf scores. Therefore, we have filtered the text corpus to not include the words which appear less than determined threshold. This resulted in the sparsity of 86.3% which is acceptable considering the various topics covered through documents. \n",
    "\n",
    "####  The number of features was 5300 before filtering and have been reduced to 1518. This improvement in sparsity and feature count is beneficial for various analytical tasks as it enhances manageability and computational efficiency. "
   ]
  },
  {
   "cell_type": "code",
   "execution_count": 49,
   "id": "4dcf3f7c",
   "metadata": {
    "execution": {
     "iopub.execute_input": "2024-05-05T20:17:29.877416Z",
     "iopub.status.busy": "2024-05-05T20:17:29.875563Z",
     "iopub.status.idle": "2024-05-05T20:17:50.371487Z",
     "shell.execute_reply": "2024-05-05T20:17:50.369352Z"
    },
    "papermill": {
     "duration": 20.544353,
     "end_time": "2024-05-05T20:17:50.374187",
     "exception": false,
     "start_time": "2024-05-05T20:17:29.829834",
     "status": "completed"
    },
    "tags": []
   },
   "outputs": [
    {
     "name": "stderr",
     "output_type": "stream",
     "text": [
      "Installing package into ‘/usr/local/lib/R/site-library’\n",
      "(as ‘lib’ is unspecified)\n",
      "\n"
     ]
    }
   ],
   "source": [
    "install.packages(\"syuzhet\")"
   ]
  },
  {
   "cell_type": "code",
   "execution_count": 50,
   "id": "d6d54984",
   "metadata": {
    "execution": {
     "iopub.execute_input": "2024-05-05T20:17:50.465065Z",
     "iopub.status.busy": "2024-05-05T20:17:50.462971Z",
     "iopub.status.idle": "2024-05-05T20:17:50.489589Z",
     "shell.execute_reply": "2024-05-05T20:17:50.487679Z"
    },
    "papermill": {
     "duration": 0.074615,
     "end_time": "2024-05-05T20:17:50.492011",
     "exception": false,
     "start_time": "2024-05-05T20:17:50.417396",
     "status": "completed"
    },
    "tags": []
   },
   "outputs": [
    {
     "name": "stderr",
     "output_type": "stream",
     "text": [
      "Warning message in readLines(path_to_file):\n",
      "“incomplete final line found on '../input/azerbaijani-blogs/stopwords-az.txt'”\n"
     ]
    }
   ],
   "source": [
    "library(syuzhet)\n",
    "\n",
    "corpusAsString <- get_text_as_string(\"../input/azerbaijani-blogs/stopwords-az.txt\")\n"
   ]
  },
  {
   "cell_type": "markdown",
   "id": "5af02396",
   "metadata": {
    "papermill": {
     "duration": 0.042613,
     "end_time": "2024-05-05T20:17:50.577659",
     "exception": false,
     "start_time": "2024-05-05T20:17:50.535046",
     "status": "completed"
    },
    "tags": []
   },
   "source": [
    "### Syuzhet is successfully installed and functions such as get_text_as_string have been utilized. However, according to their documentation, all non-latin characted languages (inluding Azerbaijani), is not supported.\n"
   ]
  },
  {
   "cell_type": "markdown",
   "id": "0d64b51a",
   "metadata": {
    "papermill": {
     "duration": 0.042604,
     "end_time": "2024-05-05T20:17:50.663196",
     "exception": false,
     "start_time": "2024-05-05T20:17:50.620592",
     "status": "completed"
    },
    "tags": []
   },
   "source": [
    "# G. Three additional methods in 2 libraries"
   ]
  },
  {
   "cell_type": "markdown",
   "id": "9a2e7f97",
   "metadata": {
    "papermill": {
     "duration": 0.042362,
     "end_time": "2024-05-05T20:17:50.748195",
     "exception": false,
     "start_time": "2024-05-05T20:17:50.705833",
     "status": "completed"
    },
    "tags": []
   },
   "source": [
    "### Stringi"
   ]
  },
  {
   "cell_type": "code",
   "execution_count": 51,
   "id": "31edcb6f",
   "metadata": {
    "execution": {
     "iopub.execute_input": "2024-05-05T20:17:50.837545Z",
     "iopub.status.busy": "2024-05-05T20:17:50.835625Z",
     "iopub.status.idle": "2024-05-05T20:17:50.892537Z",
     "shell.execute_reply": "2024-05-05T20:17:50.890776Z"
    },
    "papermill": {
     "duration": 0.105043,
     "end_time": "2024-05-05T20:17:50.895620",
     "exception": false,
     "start_time": "2024-05-05T20:17:50.790577",
     "status": "completed"
    },
    "tags": []
   },
   "outputs": [
    {
     "name": "stderr",
     "output_type": "stream",
     "text": [
      "Package version: 3.3.1\n",
      "Unicode version: 13.0\n",
      "ICU version: 66.1\n",
      "\n",
      "Parallel computing: 4 of 4 threads used.\n",
      "\n",
      "See https://quanteda.io for tutorials and examples.\n",
      "\n",
      "\n",
      "Attaching package: ‘quanteda’\n",
      "\n",
      "\n",
      "The following object is masked from ‘package:tm’:\n",
      "\n",
      "    stopwords\n",
      "\n",
      "\n",
      "The following objects are masked from ‘package:NLP’:\n",
      "\n",
      "    meta, meta<-\n",
      "\n",
      "\n"
     ]
    }
   ],
   "source": [
    "library(\"quanteda\")\n",
    "library(\"stringi\")"
   ]
  },
  {
   "cell_type": "code",
   "execution_count": 52,
   "id": "7a1cec1a",
   "metadata": {
    "execution": {
     "iopub.execute_input": "2024-05-05T20:17:50.986218Z",
     "iopub.status.busy": "2024-05-05T20:17:50.984542Z",
     "iopub.status.idle": "2024-05-05T20:17:51.004522Z",
     "shell.execute_reply": "2024-05-05T20:17:51.002266Z"
    },
    "papermill": {
     "duration": 0.068539,
     "end_time": "2024-05-05T20:17:51.007503",
     "exception": false,
     "start_time": "2024-05-05T20:17:50.938964",
     "status": "completed"
    },
    "tags": []
   },
   "outputs": [
    {
     "data": {
      "text/html": [
       "&lt;NA&gt;"
      ],
      "text/latex": [
       "<NA>"
      ],
      "text/markdown": [
       "&lt;NA&gt;"
      ],
      "text/plain": [
       "[1] NA"
      ]
     },
     "metadata": {},
     "output_type": "display_data"
    }
   ],
   "source": [
    "stri_enc_isascii(corpusdf$content[5])"
   ]
  },
  {
   "cell_type": "code",
   "execution_count": 53,
   "id": "b590e1d4",
   "metadata": {
    "execution": {
     "iopub.execute_input": "2024-05-05T20:17:51.101051Z",
     "iopub.status.busy": "2024-05-05T20:17:51.099353Z",
     "iopub.status.idle": "2024-05-05T20:17:51.529492Z",
     "shell.execute_reply": "2024-05-05T20:17:51.527624Z"
    },
    "papermill": {
     "duration": 0.479797,
     "end_time": "2024-05-05T20:17:51.532068",
     "exception": false,
     "start_time": "2024-05-05T20:17:51.052271",
     "status": "completed"
    },
    "tags": []
   },
   "outputs": [
    {
     "name": "stderr",
     "output_type": "stream",
     "text": [
      "\n",
      "Attaching package: ‘readtext’\n",
      "\n",
      "\n",
      "The following object is masked from ‘package:quanteda’:\n",
      "\n",
      "    texts\n",
      "\n",
      "\n"
     ]
    },
    {
     "data": {
      "text/html": [
       "FALSE"
      ],
      "text/latex": [
       "FALSE"
      ],
      "text/markdown": [
       "FALSE"
      ],
      "text/plain": [
       "[1] FALSE"
      ]
     },
     "metadata": {},
     "output_type": "display_data"
    }
   ],
   "source": [
    "library(\"readtext\")\n",
    "\n",
    "data <- readtext(\n",
    " \"/kaggle/input/azerbaijani-blogs/azerbaijani_blogs.csv\"\n",
    ")\n",
    "\n",
    "#Check if a string contains only ASCII characters.\n",
    "stri_enc_isascii(data$content[1])"
   ]
  },
  {
   "cell_type": "markdown",
   "id": "7afc27e0",
   "metadata": {
    "papermill": {
     "duration": 0.044154,
     "end_time": "2024-05-05T20:17:51.619434",
     "exception": false,
     "start_time": "2024-05-05T20:17:51.575280",
     "status": "completed"
    },
    "tags": []
   },
   "source": [
    "**As expected,our text does not only contain ASCII characters**"
   ]
  },
  {
   "cell_type": "code",
   "execution_count": 54,
   "id": "44afb1a2",
   "metadata": {
    "execution": {
     "iopub.execute_input": "2024-05-05T20:17:51.710844Z",
     "iopub.status.busy": "2024-05-05T20:17:51.709160Z",
     "iopub.status.idle": "2024-05-05T20:17:51.745380Z",
     "shell.execute_reply": "2024-05-05T20:17:51.742985Z"
    },
    "papermill": {
     "duration": 0.085191,
     "end_time": "2024-05-05T20:17:51.748275",
     "exception": false,
     "start_time": "2024-05-05T20:17:51.663084",
     "status": "completed"
    },
    "tags": []
   },
   "outputs": [
    {
     "data": {
      "text/html": [
       "<ol>\n",
       "\t<li><table class=\"dataframe\">\n",
       "<caption>A data.frame: 9 × 3</caption>\n",
       "<thead>\n",
       "\t<tr><th scope=col>Encoding</th><th scope=col>Language</th><th scope=col>Confidence</th></tr>\n",
       "\t<tr><th scope=col>&lt;chr&gt;</th><th scope=col>&lt;chr&gt;</th><th scope=col>&lt;dbl&gt;</th></tr>\n",
       "</thead>\n",
       "<tbody>\n",
       "\t<tr><td>UTF-8       </td><td>  </td><td>1.00</td></tr>\n",
       "\t<tr><td>windows-1254</td><td>tr</td><td>0.23</td></tr>\n",
       "\t<tr><td>windows-1252</td><td>it</td><td>0.11</td></tr>\n",
       "\t<tr><td>UTF-16BE    </td><td>  </td><td>0.10</td></tr>\n",
       "\t<tr><td>UTF-16LE    </td><td>  </td><td>0.10</td></tr>\n",
       "\t<tr><td>GB18030     </td><td>zh</td><td>0.10</td></tr>\n",
       "\t<tr><td>Big5        </td><td>zh</td><td>0.10</td></tr>\n",
       "\t<tr><td>windows-1250</td><td>ro</td><td>0.08</td></tr>\n",
       "\t<tr><td>KOI8-R      </td><td>ru</td><td>0.01</td></tr>\n",
       "</tbody>\n",
       "</table>\n",
       "</li>\n",
       "</ol>\n"
      ],
      "text/latex": [
       "\\begin{enumerate}\n",
       "\\item A data.frame: 9 × 3\n",
       "\\begin{tabular}{lll}\n",
       " Encoding & Language & Confidence\\\\\n",
       " <chr> & <chr> & <dbl>\\\\\n",
       "\\hline\n",
       "\t UTF-8        &    & 1.00\\\\\n",
       "\t windows-1254 & tr & 0.23\\\\\n",
       "\t windows-1252 & it & 0.11\\\\\n",
       "\t UTF-16BE     &    & 0.10\\\\\n",
       "\t UTF-16LE     &    & 0.10\\\\\n",
       "\t GB18030      & zh & 0.10\\\\\n",
       "\t Big5         & zh & 0.10\\\\\n",
       "\t windows-1250 & ro & 0.08\\\\\n",
       "\t KOI8-R       & ru & 0.01\\\\\n",
       "\\end{tabular}\n",
       "\n",
       "\\end{enumerate}\n"
      ],
      "text/markdown": [
       "1. \n",
       "A data.frame: 9 × 3\n",
       "\n",
       "| Encoding &lt;chr&gt; | Language &lt;chr&gt; | Confidence &lt;dbl&gt; |\n",
       "|---|---|---|\n",
       "| UTF-8        | <!----> | 1.00 |\n",
       "| windows-1254 | tr | 0.23 |\n",
       "| windows-1252 | it | 0.11 |\n",
       "| UTF-16BE     | <!----> | 0.10 |\n",
       "| UTF-16LE     | <!----> | 0.10 |\n",
       "| GB18030      | zh | 0.10 |\n",
       "| Big5         | zh | 0.10 |\n",
       "| windows-1250 | ro | 0.08 |\n",
       "| KOI8-R       | ru | 0.01 |\n",
       "\n",
       "\n",
       "\n",
       "\n"
      ],
      "text/plain": [
       "[[1]]\n",
       "      Encoding Language Confidence\n",
       "1        UTF-8                1.00\n",
       "2 windows-1254       tr       0.23\n",
       "3 windows-1252       it       0.11\n",
       "4     UTF-16BE                0.10\n",
       "5     UTF-16LE                0.10\n",
       "6      GB18030       zh       0.10\n",
       "7         Big5       zh       0.10\n",
       "8 windows-1250       ro       0.08\n",
       "9       KOI8-R       ru       0.01\n"
      ]
     },
     "metadata": {},
     "output_type": "display_data"
    }
   ],
   "source": [
    "#Detect Character Set and Encoding (+ Language)\n",
    "encoding <- stri_enc_detect(data$content[1], filter_angle_brackets = TRUE)\n",
    "encoding"
   ]
  },
  {
   "cell_type": "markdown",
   "id": "cf8bcd39",
   "metadata": {
    "papermill": {
     "duration": 0.044372,
     "end_time": "2024-05-05T20:17:51.837052",
     "exception": false,
     "start_time": "2024-05-05T20:17:51.792680",
     "status": "completed"
    },
    "tags": []
   },
   "source": [
    "**The stri_enc_detect function analyzed the character set and encoding of the input text and provided a ranked list of potential encodings along with their associated languages and confidence levels. The detected encoding is UTF-8 with a confidence level of 1.00, indicating high certainty that the text is encoded in UTF-8. Other potential encodings include windows-1254 (Turkish) with a confidence level of 0.23 and windows-1252 (Italian) with a confidence level of 0.11,**"
   ]
  },
  {
   "cell_type": "code",
   "execution_count": 55,
   "id": "755bd70a",
   "metadata": {
    "execution": {
     "iopub.execute_input": "2024-05-05T20:17:51.928330Z",
     "iopub.status.busy": "2024-05-05T20:17:51.926728Z",
     "iopub.status.idle": "2024-05-05T20:17:51.947429Z",
     "shell.execute_reply": "2024-05-05T20:17:51.945262Z"
    },
    "papermill": {
     "duration": 0.069504,
     "end_time": "2024-05-05T20:17:51.950295",
     "exception": false,
     "start_time": "2024-05-05T20:17:51.880791",
     "status": "completed"
    },
    "tags": []
   },
   "outputs": [
    {
     "data": {
      "text/html": [
       "6048"
      ],
      "text/latex": [
       "6048"
      ],
      "text/markdown": [
       "6048"
      ],
      "text/plain": [
       "[1] 6048"
      ]
     },
     "metadata": {},
     "output_type": "display_data"
    }
   ],
   "source": [
    "#Function to estimate number of bytes\n",
    "\n",
    "stri_numbytes(data$content[1])\n"
   ]
  },
  {
   "cell_type": "markdown",
   "id": "05415682",
   "metadata": {
    "papermill": {
     "duration": 0.043668,
     "end_time": "2024-05-05T20:17:52.037887",
     "exception": false,
     "start_time": "2024-05-05T20:17:51.994219",
     "status": "completed"
    },
    "tags": []
   },
   "source": [
    "**Functions straightforwardly returns us the number of bytes in a provided text.**"
   ]
  },
  {
   "cell_type": "markdown",
   "id": "45c54b46",
   "metadata": {
    "papermill": {
     "duration": 0.043488,
     "end_time": "2024-05-05T20:17:52.124378",
     "exception": false,
     "start_time": "2024-05-05T20:17:52.080890",
     "status": "completed"
    },
    "tags": []
   },
   "source": [
    "### Quanteda"
   ]
  },
  {
   "cell_type": "markdown",
   "id": "f6326291",
   "metadata": {
    "papermill": {
     "duration": 0.045208,
     "end_time": "2024-05-05T20:17:52.213050",
     "exception": false,
     "start_time": "2024-05-05T20:17:52.167842",
     "status": "completed"
    },
    "tags": []
   },
   "source": [
    "**Quanteda provides an easy way to select and seperate the sentences:**"
   ]
  },
  {
   "cell_type": "code",
   "execution_count": 56,
   "id": "86156a91",
   "metadata": {
    "execution": {
     "iopub.execute_input": "2024-05-05T20:17:52.306319Z",
     "iopub.status.busy": "2024-05-05T20:17:52.304523Z",
     "iopub.status.idle": "2024-05-05T20:17:52.369402Z",
     "shell.execute_reply": "2024-05-05T20:17:52.367001Z"
    },
    "papermill": {
     "duration": 0.11431,
     "end_time": "2024-05-05T20:17:52.372352",
     "exception": false,
     "start_time": "2024-05-05T20:17:52.258042",
     "status": "completed"
    },
    "tags": []
   },
   "outputs": [
    {
     "data": {
      "text/html": [
       "<style>\n",
       ".list-inline {list-style: none; margin:0; padding: 0}\n",
       ".list-inline>li {display: inline-block}\n",
       ".list-inline>li:not(:last-child)::after {content: \"\\00b7\"; padding: 0 .5ex}\n",
       "</style>\n",
       "<ol class=list-inline><li>'Proqramçılığa başlamaq üçün ilk addım bu sahənin əsasları ilə tanış olmaqdır.'</li><li>'Kompüter elmləri alqoritmlər, verilənlər strukturları və proqramlaşdırma prinsipləri ilə tanışlıq proqramçı kimi inkişafınızda əsas təşkil edəcək.'</li><li>'Bu mərhələdə Python, JavaScript və Java kimi başlanğıc səviyyəli proqramlaşdırma dillərini öyrənmək lazımdır.'</li><li>'Proqramlaşdırma dillərinin seçimiProqramlaşdırma dilləri kompüterlərlə işləmək üçün istifadə olunan dillərdir.'</li><li>'Hər bir proqramlaşdırma dili xüsusi tətbiqlər və sahələr üçün yaradılmışdır.'</li><li>'Məsələn, veb inkişaf üçün JavaScript, mobil tətbiqetmələr üçün Swift və ya Kotlin, məlumat elmləri üçün Python kimi dilləri öyrənmək faydalıdır.'</li></ol>\n"
      ],
      "text/latex": [
       "\\begin{enumerate*}\n",
       "\\item 'Proqramçılığa başlamaq üçün ilk addım bu sahənin əsasları ilə tanış olmaqdır.'\n",
       "\\item 'Kompüter elmləri alqoritmlər, verilənlər strukturları və proqramlaşdırma prinsipləri ilə tanışlıq proqramçı kimi inkişafınızda əsas təşkil edəcək.'\n",
       "\\item 'Bu mərhələdə Python, JavaScript və Java kimi başlanğıc səviyyəli proqramlaşdırma dillərini öyrənmək lazımdır.'\n",
       "\\item 'Proqramlaşdırma dillərinin seçimiProqramlaşdırma dilləri kompüterlərlə işləmək üçün istifadə olunan dillərdir.'\n",
       "\\item 'Hər bir proqramlaşdırma dili xüsusi tətbiqlər və sahələr üçün yaradılmışdır.'\n",
       "\\item 'Məsələn, veb inkişaf üçün JavaScript, mobil tətbiqetmələr üçün Swift və ya Kotlin, məlumat elmləri üçün Python kimi dilləri öyrənmək faydalıdır.'\n",
       "\\end{enumerate*}\n"
      ],
      "text/markdown": [
       "1. 'Proqramçılığa başlamaq üçün ilk addım bu sahənin əsasları ilə tanış olmaqdır.'\n",
       "2. 'Kompüter elmləri alqoritmlər, verilənlər strukturları və proqramlaşdırma prinsipləri ilə tanışlıq proqramçı kimi inkişafınızda əsas təşkil edəcək.'\n",
       "3. 'Bu mərhələdə Python, JavaScript və Java kimi başlanğıc səviyyəli proqramlaşdırma dillərini öyrənmək lazımdır.'\n",
       "4. 'Proqramlaşdırma dillərinin seçimiProqramlaşdırma dilləri kompüterlərlə işləmək üçün istifadə olunan dillərdir.'\n",
       "5. 'Hər bir proqramlaşdırma dili xüsusi tətbiqlər və sahələr üçün yaradılmışdır.'\n",
       "6. 'Məsələn, veb inkişaf üçün JavaScript, mobil tətbiqetmələr üçün Swift və ya Kotlin, məlumat elmləri üçün Python kimi dilləri öyrənmək faydalıdır.'\n",
       "\n",
       "\n"
      ],
      "text/plain": [
       "[1] \"Proqramçılığa başlamaq üçün ilk addım bu sahənin əsasları ilə tanış olmaqdır.\"                                                                     \n",
       "[2] \"Kompüter elmləri alqoritmlər, verilənlər strukturları və proqramlaşdırma prinsipləri ilə tanışlıq proqramçı kimi inkişafınızda əsas təşkil edəcək.\"\n",
       "[3] \"Bu mərhələdə Python, JavaScript və Java kimi başlanğıc səviyyəli proqramlaşdırma dillərini öyrənmək lazımdır.\"                                     \n",
       "[4] \"Proqramlaşdırma dillərinin seçimiProqramlaşdırma dilləri kompüterlərlə işləmək üçün istifadə olunan dillərdir.\"                                    \n",
       "[5] \"Hər bir proqramlaşdırma dili xüsusi tətbiqlər və sahələr üçün yaradılmışdır.\"                                                                      \n",
       "[6] \"Məsələn, veb inkişaf üçün JavaScript, mobil tətbiqetmələr üçün Swift və ya Kotlin, məlumat elmləri üçün Python kimi dilləri öyrənmək faydalıdır.\"  "
      ]
     },
     "metadata": {},
     "output_type": "display_data"
    }
   ],
   "source": [
    "all_sentences <- get_sentences(data$content[1])\n",
    "head(all_sentences)"
   ]
  },
  {
   "cell_type": "code",
   "execution_count": 57,
   "id": "b4917681",
   "metadata": {
    "execution": {
     "iopub.execute_input": "2024-05-05T20:17:52.838623Z",
     "iopub.status.busy": "2024-05-05T20:17:52.837069Z",
     "iopub.status.idle": "2024-05-05T20:17:52.861370Z",
     "shell.execute_reply": "2024-05-05T20:17:52.859121Z"
    },
    "papermill": {
     "duration": 0.448156,
     "end_time": "2024-05-05T20:17:52.864095",
     "exception": false,
     "start_time": "2024-05-05T20:17:52.415939",
     "status": "completed"
    },
    "tags": []
   },
   "outputs": [
    {
     "data": {
      "text/html": [
       "5196"
      ],
      "text/latex": [
       "5196"
      ],
      "text/markdown": [
       "5196"
      ],
      "text/plain": [
       "[1] 5196"
      ]
     },
     "metadata": {},
     "output_type": "display_data"
    }
   ],
   "source": [
    "# Function to return character length of a document\n",
    "length <- stri_length(data$content[1])\n",
    "\n",
    "#Function to convert text to lower and upper case\n",
    "uppertext <- stri_trans_toupper(data$content[1])\n",
    "#stri_trans_tolower(chapters_text)\n",
    "\n",
    "length"
   ]
  },
  {
   "cell_type": "markdown",
   "id": "a8ae0d1f",
   "metadata": {
    "papermill": {
     "duration": 0.04467,
     "end_time": "2024-05-05T20:17:52.953450",
     "exception": false,
     "start_time": "2024-05-05T20:17:52.908780",
     "status": "completed"
    },
    "tags": []
   },
   "source": [
    "As preprocessing function, quanteda even has a robust text reverser:"
   ]
  },
  {
   "cell_type": "code",
   "execution_count": 58,
   "id": "e95244ad",
   "metadata": {
    "execution": {
     "iopub.execute_input": "2024-05-05T20:17:53.047160Z",
     "iopub.status.busy": "2024-05-05T20:17:53.045516Z",
     "iopub.status.idle": "2024-05-05T20:17:53.067651Z",
     "shell.execute_reply": "2024-05-05T20:17:53.065477Z"
    },
    "papermill": {
     "duration": 0.072555,
     "end_time": "2024-05-05T20:17:53.070687",
     "exception": false,
     "start_time": "2024-05-05T20:17:52.998132",
     "status": "completed"
    },
    "tags": []
   },
   "outputs": [
    {
     "name": "stdout",
     "output_type": "stream",
     "text": [
      "[1] \"\\n  .ridirib nədrəlrey iyidte tərayiz xoç nə nirəlqişa əd nüg ub ,isədiba igves zisrənəb ub nəlikit karanalmahli nədqşE.ıdtaç aşab ədli ic-8091 irəlşi aprəb əv idrətsög sübbəşət anısaprəb ninərəbqəm no\"\n"
     ]
    }
   ],
   "source": [
    "reversed_string <- stri_reverse(data$content[5])\n",
    "partial_reversed_string <- substr(reversed_string, start = 1, stop = 200)  # Print first 20 characters\n",
    "print(partial_reversed_string)\n"
   ]
  }
 ],
 "metadata": {
  "kaggle": {
   "accelerator": "none",
   "dataSources": [
    {
     "datasetId": 4921876,
     "sourceId": 8309531,
     "sourceType": "datasetVersion"
    }
   ],
   "dockerImageVersionId": 30618,
   "isGpuEnabled": false,
   "isInternetEnabled": true,
   "language": "r",
   "sourceType": "notebook"
  },
  "kernelspec": {
   "display_name": "R",
   "language": "R",
   "name": "ir"
  },
  "language_info": {
   "codemirror_mode": "r",
   "file_extension": ".r",
   "mimetype": "text/x-r-source",
   "name": "R",
   "pygments_lexer": "r",
   "version": "4.0.5"
  },
  "papermill": {
   "default_parameters": {},
   "duration": 86.10426,
   "end_time": "2024-05-05T20:17:53.438564",
   "environment_variables": {},
   "exception": null,
   "input_path": "__notebook__.ipynb",
   "output_path": "__notebook__.ipynb",
   "parameters": {},
   "start_time": "2024-05-05T20:16:27.334304",
   "version": "2.5.0"
  }
 },
 "nbformat": 4,
 "nbformat_minor": 5
}
